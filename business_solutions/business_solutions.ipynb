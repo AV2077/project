{
 "cells": [
  {
   "cell_type": "markdown",
   "metadata": {},
   "source": [
    "#  Проект: \"Принятие решений в бизнесе\"\n",
    "\n",
    "\n",
    "### Описание задачи\n",
    "\n",
    "    Совместно с отделом маркетинга крупного интернет-магазина подготовлен список гипотез для увеличения выручки.\n",
    "    Необходимо приоритизировать гипотезы, запустить A/B-тест и проанализировать результаты. \n",
    "\n",
    "### План работы\n",
    "\n",
    "    1. Подготовка данных.\n",
    "    2. Приоритизация гипотез.\n",
    "    3. Анализ A/B-теста\n",
    "    4. Вывод\n",
    "\n",
    "### Описание данных\n",
    "\n",
    "##### Данные для первой части\n",
    "\n",
    "    hypothesis.csv:\n",
    "    \n",
    "    Hypothesis — краткое описание гипотезы;\n",
    "    Reach — охват пользователей по 10-балльной шкале;\n",
    "    Impact — влияние на пользователей по 10-балльной шкале;\n",
    "    Confidence — уверенность в гипотезе по 10-балльной шкале;\n",
    "    Efforts — затраты ресурсов на проверку гипотезы по 10-балльной шкале. Чем больше значение Efforts, тем дороже проверка гипотезы.\n",
    "\n",
    "##### Данные для второй части\n",
    "\n",
    "    orders.csv:\n",
    "    \n",
    "    transactionId — идентификатор заказа;\n",
    "    visitorId — идентификатор пользователя, совершившего заказ;\n",
    "    date — дата, когда был совершён заказ;\n",
    "    revenue — выручка заказа;\n",
    "    group — группа A/B-теста, в которую попал заказ.\n",
    "\n",
    "    visitors.csv:\n",
    "    \n",
    "    date — дата;\n",
    "    group — группа A/B-теста;\n",
    "    visitors — количество пользователей в указанную дату в указанной группе A/B-теста\n"
   ]
  },
  {
   "cell_type": "markdown",
   "metadata": {},
   "source": [
    "## 1. Загрузка и подготовка данных к анализу"
   ]
  },
  {
   "cell_type": "code",
   "execution_count": 1,
   "metadata": {},
   "outputs": [],
   "source": [
    "import pandas as pd\n",
    "import pandas as pd\n",
    "import datetime as dt\n",
    "import numpy as np\n",
    "import matplotlib.pyplot as plt\n",
    "from pandas.plotting import register_matplotlib_converters\n",
    "import warnings\n",
    "from matplotlib.pyplot import figure"
   ]
  },
  {
   "cell_type": "code",
   "execution_count": 2,
   "metadata": {},
   "outputs": [
    {
     "name": "stdout",
     "output_type": "stream",
     "text": [
      "<class 'pandas.core.frame.DataFrame'>\n",
      "RangeIndex: 62 entries, 0 to 61\n",
      "Data columns (total 3 columns):\n",
      " #   Column    Non-Null Count  Dtype \n",
      "---  ------    --------------  ----- \n",
      " 0   date      62 non-null     object\n",
      " 1   group     62 non-null     object\n",
      " 2   visitors  62 non-null     int64 \n",
      "dtypes: int64(1), object(2)\n",
      "memory usage: 1.6+ KB\n",
      "\n",
      "<class 'pandas.core.frame.DataFrame'>\n",
      "RangeIndex: 1197 entries, 0 to 1196\n",
      "Data columns (total 5 columns):\n",
      " #   Column         Non-Null Count  Dtype \n",
      "---  ------         --------------  ----- \n",
      " 0   transactionid  1197 non-null   int64 \n",
      " 1   visitorid      1197 non-null   int64 \n",
      " 2   date           1197 non-null   object\n",
      " 3   revenue        1197 non-null   int64 \n",
      " 4   group          1197 non-null   object\n",
      "dtypes: int64(3), object(2)\n",
      "memory usage: 46.9+ KB\n",
      "\n",
      "Количество дубликатов пользователей в датасете orders:  166\n",
      "\n",
      "Количество групп в тесте:\n",
      "   group\n",
      "A     31\n",
      "B     31\n",
      "\n",
      "Дата начала теста   :  2019-08-01\n",
      "Дата окончания теста:  2019-08-31\n",
      "\n",
      "Распределение количества пользователей по группам:\n",
      "       visitorid\n",
      "group           \n",
      "A            557\n",
      "B            640\n"
     ]
    }
   ],
   "source": [
    "data = pd.read_csv('C:/Users/hypothesis.csv', sep=',')\n",
    "\n",
    "data.columns = data.columns.str.lower() # привожу названия столбцов к нижнему регистру\n",
    "\n",
    "# готовлю данные\n",
    "visitors, orders = (\n",
    "    pd.read_csv('C:/Users/visitors.csv'),  # журнал сессий\n",
    "    pd.read_csv('C:/Users/orders.csv'),  # журнал заказов\n",
    ")\n",
    "\n",
    "orders.columns = orders.columns.str.lower() # привожу названия столбцов к нижнему регистру\n",
    "visitors.info()\n",
    "print()\n",
    "orders.info()\n",
    "print()\n",
    "print('Количество дубликатов пользователей в датасете orders: ',orders['visitorid'].duplicated().sum())\n",
    "print()\n",
    "print('Количество групп в тесте:')\n",
    "print(visitors['group'].value_counts().to_frame())\n",
    "print()\n",
    "print('Дата начала теста   : ', visitors['date'].min())\n",
    "print('Дата окончания теста: ', visitors['date'].max())\n",
    "print()\n",
    "print('Распределение количества пользователей по группам:')\n",
    "print(orders.groupby('group')['visitorid'].count().to_frame())"
   ]
  },
  {
   "cell_type": "markdown",
   "metadata": {},
   "source": [
    "- Количество групп А и В равное\n",
    "- В группе В пользователей было больше и принял решение оставить дублирующихся в группах пользователей, т.к. они делали покупки обеих группах.\n",
    "- Пропусков в датасетах нет"
   ]
  },
  {
   "cell_type": "markdown",
   "metadata": {},
   "source": [
    "##  2. Приоритизация гипотез"
   ]
  },
  {
   "cell_type": "markdown",
   "metadata": {},
   "source": [
    "### Применение фреймворка ICE для приоритизации гипотез.\n",
    "ICE (от англ. impact, confidence, effort / ease «влияние, уверенность, усилия / простота»)"
   ]
  },
  {
   "cell_type": "code",
   "execution_count": 3,
   "metadata": {
    "scrolled": false
   },
   "outputs": [
    {
     "name": "stdout",
     "output_type": "stream",
     "text": [
      "                                                                                                     hypothesis  \\\n",
      "8                                                       Запустить акцию, дающую скидку на товар в день рождения   \n",
      "0            Добавить два новых канала привлечения трафика, что позволит привлекать на 30% больше пользователей   \n",
      "7              Добавить форму подписки на все основные страницы, чтобы собрать базу клиентов для email-рассылок   \n",
      "6          Показать на главной странице баннеры с актуальными акциями и распродажами, чтобы увеличить конверсию   \n",
      "2  Добавить блоки рекомендаций товаров на сайт интернет магазина, чтобы повысить конверсию и средний чек заказа   \n",
      "1                                     Запустить собственную службу доставки, что сократит срок доставки заказов   \n",
      "5                      Добавить страницу отзывов клиентов о магазине, что позволит увеличить количество заказов   \n",
      "3           Изменить структура категорий, что увеличит конверсию, т.к. пользователи быстрее найдут нужный товар   \n",
      "4                              Изменить цвет фона главной страницы, чтобы увеличить вовлеченность пользователей   \n",
      "\n",
      "    ICE  \n",
      "8  16.0  \n",
      "0  13.0  \n",
      "7  11.0  \n",
      "6   8.0  \n",
      "2   7.0  \n",
      "1   2.0  \n",
      "5   1.0  \n",
      "3   1.0  \n",
      "4   1.0  \n"
     ]
    }
   ],
   "source": [
    "data['ICE'] = data['impact'] * data['confidence'] / data['efforts']\n",
    "pd.options.display.max_colwidth = 210\n",
    "print(data[['hypothesis', 'ICE']].sort_values(by='ICE', ascending=False).round())"
   ]
  },
  {
   "cell_type": "markdown",
   "metadata": {},
   "source": [
    "Наиболее перспективные гипотезы: 8, 0, 7, 6"
   ]
  },
  {
   "cell_type": "markdown",
   "metadata": {},
   "source": [
    "### Применение фреймворка RICE для приоритизации гипотез.\n",
    "RICE (от англ. reach, impact, confidence, effort / ease «охват, влияние, уверенность, усилия / простота»)"
   ]
  },
  {
   "cell_type": "code",
   "execution_count": 4,
   "metadata": {
    "scrolled": false
   },
   "outputs": [
    {
     "name": "stdout",
     "output_type": "stream",
     "text": [
      "                                                                                                     hypothesis  \\\n",
      "7              Добавить форму подписки на все основные страницы, чтобы собрать базу клиентов для email-рассылок   \n",
      "2  Добавить блоки рекомендаций товаров на сайт интернет магазина, чтобы повысить конверсию и средний чек заказа   \n",
      "0            Добавить два новых канала привлечения трафика, что позволит привлекать на 30% больше пользователей   \n",
      "6          Показать на главной странице баннеры с актуальными акциями и распродажами, чтобы увеличить конверсию   \n",
      "8                                                       Запустить акцию, дающую скидку на товар в день рождения   \n",
      "3           Изменить структура категорий, что увеличит конверсию, т.к. пользователи быстрее найдут нужный товар   \n",
      "1                                     Запустить собственную службу доставки, что сократит срок доставки заказов   \n",
      "5                      Добавить страницу отзывов клиентов о магазине, что позволит увеличить количество заказов   \n",
      "4                              Изменить цвет фона главной страницы, чтобы увеличить вовлеченность пользователей   \n",
      "\n",
      "    RICE  \n",
      "7  112.0  \n",
      "2   56.0  \n",
      "0   40.0  \n",
      "6   40.0  \n",
      "8   16.2  \n",
      "3    9.0  \n",
      "1    4.0  \n",
      "5    4.0  \n",
      "4    3.0  \n"
     ]
    }
   ],
   "source": [
    "data['RICE'] = data['reach'] * data['impact'] * data['confidence'] / data['efforts']\n",
    "print(data[['hypothesis', 'RICE']].sort_values(by='RICE', ascending=False))"
   ]
  },
  {
   "cell_type": "markdown",
   "metadata": {},
   "source": [
    "Наиболее перспективные гипотезы: 7, 2, 0, 6. В данном случае на первом месте гипотеза №7, так получилось по причине высокого параметра Reach = 10, у других параметров он меньше."
   ]
  },
  {
   "cell_type": "markdown",
   "metadata": {},
   "source": [
    "## 2. Анализ A/B-теста"
   ]
  },
  {
   "cell_type": "markdown",
   "metadata": {},
   "source": [
    "### График кумулятивной выручки по группам"
   ]
  },
  {
   "cell_type": "code",
   "execution_count": 5,
   "metadata": {},
   "outputs": [
    {
     "data": {
      "image/png": "[encoded data removed]",
      "text/plain": [
       "<Figure size 432x288 with 1 Axes>"
      ]
     },
     "metadata": {
      "needs_background": "light"
     },
     "output_type": "display_data"
    }
   ],
   "source": [
    "register_matplotlib_converters()\n",
    "\n",
    "datesGroups = orders[['date', 'group']].drop_duplicates()\n",
    "\n",
    "ordersAggregated = datesGroups.apply(\n",
    "    lambda x: orders[\n",
    "        np.logical_and(\n",
    "            orders['date'] <= x['date'], orders['group'] == x['group']\n",
    "        )\n",
    "    ].agg(\n",
    "        {\n",
    "            'date': 'max',\n",
    "            'group': 'max',\n",
    "            'transactionid': 'nunique',\n",
    "            'visitorid': 'nunique',\n",
    "            'revenue': 'sum',\n",
    "        }\n",
    "    ),\n",
    "    axis=1,\n",
    ").sort_values(by=['date', 'group'])\n",
    "\n",
    "visitorsAggregated = datesGroups.apply(\n",
    "    lambda x: visitors[\n",
    "        np.logical_and(\n",
    "            visitors['date'] <= x['date'], visitors['group'] == x['group']\n",
    "        )\n",
    "    ].agg({'date': 'max', 'group': 'max', 'visitors': 'sum'}),\n",
    "    axis=1,\n",
    ").sort_values(by=['date', 'group'])\n",
    "\n",
    "cumulativeData = ordersAggregated.merge(\n",
    "    visitorsAggregated, left_on=['date', 'group'], right_on=['date', 'group']\n",
    ")\n",
    "cumulativeData.columns = [\n",
    "    'date',\n",
    "    'group',\n",
    "    'orders',\n",
    "    'buyers',\n",
    "    'revenue',\n",
    "    'visitors',\n",
    "]\n",
    "\n",
    "# датафрейм с кумулятивным количеством заказов и кумулятивной выручкой по дням в группе А\n",
    "cumulativeRevenueA = cumulativeData[cumulativeData['group']=='A'][['date','revenue', 'orders']]\n",
    "\n",
    "# датафрейм с кумулятивным количеством заказов и кумулятивной выручкой по дням в группе B\n",
    "cumulativeRevenueB = cumulativeData[cumulativeData['group']=='B'][['date','revenue', 'orders']]\n",
    "\n",
    "# Строим графики выручки групп А и B\n",
    "plt.plot(cumulativeRevenueA['date'], cumulativeRevenueA['revenue'], label='A')\n",
    "plt.plot(cumulativeRevenueB['date'], cumulativeRevenueB['revenue'], label='B')\n",
    "plt.xlabel('Дата заказа', fontsize='large', color='black')\n",
    "plt.xticks(rotation = 75)\n",
    "plt.ylabel('Выручка', fontsize='large', color='black')\n",
    "plt.title('График кумулятивной выручки по группам')\n",
    "plt.legend();"
   ]
  },
  {
   "cell_type": "markdown",
   "metadata": {},
   "source": [
    "Выручка почти равномерно увеличивается в течение всего теста.\n",
    "Однако график выручки группы B в одной точке резко растет. \n",
    "Это может сигнализировать о всплесках числа заказов, либо о появлении очень дорогих заказов в выборке."
   ]
  },
  {
   "cell_type": "markdown",
   "metadata": {},
   "source": [
    "### График кумулятивного среднего чека по группам"
   ]
  },
  {
   "cell_type": "code",
   "execution_count": 6,
   "metadata": {},
   "outputs": [
    {
     "data": {
      "image/png": "[encoded data removed]",
      "text/plain": [
       "<Figure size 432x288 with 1 Axes>"
      ]
     },
     "metadata": {
      "needs_background": "light"
     },
     "output_type": "display_data"
    }
   ],
   "source": [
    "plt.plot(cumulativeRevenueA['date'], cumulativeRevenueA['revenue']/cumulativeRevenueA['orders'], label='A')\n",
    "plt.plot(cumulativeRevenueB['date'], cumulativeRevenueB['revenue']/cumulativeRevenueB['orders'], label='B')\n",
    "plt.xlabel('Дата заказа', fontsize='large', color='black')\n",
    "plt.xticks(rotation = 75)\n",
    "plt.ylabel('Выручка', fontsize='large', color='black')\n",
    "plt.title('График кумулятивного среднего чека по группам')\n",
    "plt.legend();"
   ]
  },
  {
   "cell_type": "markdown",
   "metadata": {},
   "source": [
    "Средний чек тоже становится равномерным в конце теста: для группы B незначительно дороже. Возможно, в группы  попали крупные заказы (резкие всплески на графике)."
   ]
  },
  {
   "cell_type": "markdown",
   "metadata": {},
   "source": [
    "### График относительного изменения кумулятивного среднего чека группы B к группе A"
   ]
  },
  {
   "cell_type": "code",
   "execution_count": 7,
   "metadata": {},
   "outputs": [
    {
     "data": {
      "image/png": "[encoded data removed]",
      "text/plain": [
       "<Figure size 432x288 with 1 Axes>"
      ]
     },
     "metadata": {
      "needs_background": "light"
     },
     "output_type": "display_data"
    }
   ],
   "source": [
    "# собираем данные в одном датафрейме\n",
    "mergedCumulativeRevenue = cumulativeRevenueA.merge(cumulativeRevenueB, left_on='date', right_on='date', how='left', suffixes=['A', 'B'])\n",
    "\n",
    "# cтроим отношение средних чеков\n",
    "plt.plot(mergedCumulativeRevenue['date'], (mergedCumulativeRevenue['revenueB']/mergedCumulativeRevenue['ordersB'])/(mergedCumulativeRevenue['revenueA']/mergedCumulativeRevenue['ordersA'])-1)\n",
    "\n",
    "# добавляем ось X\n",
    "plt.axhline(y=0, color='black', linestyle='--');\n",
    "\n",
    "\n",
    "plt.xlabel('Дата заказа', fontsize='large', color='black')\n",
    "plt.xticks(rotation = 75)\n",
    "plt.ylabel('Отношение', fontsize='large', color='black')\n",
    "plt.title('График относительного изменения кумулятивного среднего чека группы B к группе A');"
   ]
  },
  {
   "cell_type": "markdown",
   "metadata": {},
   "source": [
    "В нескольких точках график различия между сегментами резко скачет, что сигнализирует о крупных заказах и выбросах."
   ]
  },
  {
   "cell_type": "markdown",
   "metadata": {},
   "source": [
    "### График кумулятивной конверсии по группам"
   ]
  },
  {
   "cell_type": "code",
   "execution_count": 8,
   "metadata": {},
   "outputs": [
    {
     "data": {
      "image/png": "[encoded data removed]",
      "text/plain": [
       "<Figure size 432x288 with 1 Axes>"
      ]
     },
     "metadata": {
      "needs_background": "light"
     },
     "output_type": "display_data"
    }
   ],
   "source": [
    "# считаем кумулятивную конверсию\n",
    "cumulativeData['conversion'] = cumulativeData['orders']/cumulativeData['visitors']\n",
    "\n",
    "# отделяем данные по группе A\n",
    "cumulativeDataA = cumulativeData[cumulativeData['group']=='A']\n",
    "\n",
    "# отделяем данные по группе B\n",
    "cumulativeDataB = cumulativeData[cumulativeData['group']=='B']\n",
    "\n",
    "# строим графики\n",
    "plt.plot(cumulativeDataA['date'], cumulativeDataA['conversion'], label='A')\n",
    "plt.plot(cumulativeDataB['date'], cumulativeDataB['conversion'], label='B')\n",
    "plt.legend()\n",
    "\n",
    "# задаем масштаб осей\n",
    "plt.axis(['2019-08-01', '2019-08-31', 0, 0.05])\n",
    "\n",
    "plt.xlabel('Дата заказа', fontsize='large', color='black')\n",
    "plt.xticks(rotation = 75)\n",
    "plt.ylabel('Выручка', fontsize='large', color='black')\n",
    "plt.title('График кумулятивной конверсии по группам');"
   ]
  },
  {
   "cell_type": "markdown",
   "metadata": {},
   "source": [
    "Конверсия группы B вырвалась вперёд и зафиксировалась, а конверсия группы A зафиксировалась в одной точке в первой половине теста."
   ]
  },
  {
   "cell_type": "markdown",
   "metadata": {},
   "source": [
    "### График относительного различия кумулятивных конверсий"
   ]
  },
  {
   "cell_type": "code",
   "execution_count": 9,
   "metadata": {},
   "outputs": [
    {
     "data": {
      "image/png": "[encoded data removed]",
      "text/plain": [
       "<Figure size 432x288 with 1 Axes>"
      ]
     },
     "metadata": {
      "needs_background": "light"
     },
     "output_type": "display_data"
    }
   ],
   "source": [
    "mergedCumulativeConversions = cumulativeDataA[['date','conversion']].merge(cumulativeDataB[['date','conversion']], left_on='date', right_on='date', how='left', suffixes=['A', 'B'])\n",
    "\n",
    "plt.plot(mergedCumulativeConversions['date'], mergedCumulativeConversions['conversionB']/mergedCumulativeConversions['conversionA']-1)\n",
    "\n",
    "\n",
    "plt.axhline(y=0, color='black', linestyle='--')\n",
    "plt.axhline(y=-0.1, color='grey', linestyle='--')\n",
    "plt.axis(['2019-08-01', '2019-08-31', -0.6, 0.6])\n",
    "\n",
    "plt.xlabel('Дата заказа', fontsize='large', color='black')\n",
    "plt.xticks(rotation = 75)\n",
    "plt.ylabel('Отношение', fontsize='large', color='black')\n",
    "plt.title('Относительный прирост конверсии группы B относительно группы A');"
   ]
  },
  {
   "cell_type": "markdown",
   "metadata": {},
   "source": [
    "В начале теста группа B значительно проигрывала группе A, но в первой половине теста вырвалась вперёд. "
   ]
  },
  {
   "cell_type": "markdown",
   "metadata": {},
   "source": [
    "### Точечный график количества заказов по пользователям"
   ]
  },
  {
   "cell_type": "code",
   "execution_count": 10,
   "metadata": {},
   "outputs": [
    {
     "name": "stdout",
     "output_type": "stream",
     "text": [
      "       visitorid  transactionid\n",
      "1023  4256040402             11\n",
      "591   2458001652             11\n",
      "569   2378935119              9\n",
      "487   2038680547              8\n",
      "44     199603092              5\n",
      "744   3062433592              5\n",
      "55     237748145              5\n",
      "917   3803269165              5\n",
      "299   1230306981              5\n",
      "897   3717692402              5\n"
     ]
    },
    {
     "data": {
      "image/png": "[encoded data removed]",
      "text/plain": [
       "<Figure size 432x288 with 1 Axes>"
      ]
     },
     "metadata": {
      "needs_background": "light"
     },
     "output_type": "display_data"
    }
   ],
   "source": [
    "ordersByUsers = (\n",
    "    orders.groupby('visitorid', as_index=False)\n",
    "    .agg({'transactionid': 'nunique'})\n",
    ")\n",
    "\n",
    "ordersByUsers.columns = ['visitorid', 'transactionid']\n",
    "\n",
    "print(ordersByUsers.sort_values(by='transactionid', ascending=False).head(10)) \n",
    "\n",
    "x_values = pd.Series(range(0,len(ordersByUsers)))\n",
    "plt.scatter(x_values, ordersByUsers['transactionid'])\n",
    "plt.xlabel('Пользователи', fontsize='large', color='black')\n",
    "plt.ylabel('Кол-во заказов', fontsize='large', color='black')\n",
    "plt.title('График кол-ва заказов по пользователям');"
   ]
  },
  {
   "cell_type": "markdown",
   "metadata": {},
   "source": [
    "Много пользователей с 2-3 заказами. Их точная доля не ясна — непонятно, считать их аномалиями или нет. "
   ]
  },
  {
   "cell_type": "markdown",
   "metadata": {},
   "source": [
    "### Расчет 95-го и 99-го перцентиля количества заказов на пользователя"
   ]
  },
  {
   "cell_type": "code",
   "execution_count": 11,
   "metadata": {},
   "outputs": [
    {
     "name": "stdout",
     "output_type": "stream",
     "text": [
      "[2. 4.]\n"
     ]
    }
   ],
   "source": [
    "print(np.percentile(ordersByUsers['transactionid'], [95, 99])) "
   ]
  },
  {
   "cell_type": "markdown",
   "metadata": {},
   "source": [
    "Не более 5% пользователей оформляли больше, чем 2 заказа. И 1% пользователей заказывали более четырех раз.\n",
    "Разумно выбрать 4 заказа на одного пользователя за верхнюю границу числа заказов."
   ]
  },
  {
   "cell_type": "markdown",
   "metadata": {},
   "source": [
    "### Точечный график стоимостей заказов"
   ]
  },
  {
   "cell_type": "code",
   "execution_count": 12,
   "metadata": {},
   "outputs": [
    {
     "data": {
      "image/png": "[encoded data removed]",
      "text/plain": [
       "<Figure size 432x288 with 1 Axes>"
      ]
     },
     "metadata": {
      "needs_background": "light"
     },
     "output_type": "display_data"
    }
   ],
   "source": [
    "x_values = pd.Series(range(0,len(orders['revenue'])))\n",
    "plt.scatter(x_values, orders['revenue'])\n",
    "plt.xlabel('Пользователи', fontsize='large', color='black')\n",
    "plt.ylabel('Стоимость заказа', fontsize='large', color='black')\n",
    "plt.title('График стоимостей заказов');"
   ]
  },
  {
   "cell_type": "markdown",
   "metadata": {},
   "source": [
    "Есть немного дорогих заказов"
   ]
  },
  {
   "cell_type": "markdown",
   "metadata": {},
   "source": [
    "### Расчет 95-го и 99-го перцентиля стоимости заказов"
   ]
  },
  {
   "cell_type": "code",
   "execution_count": 13,
   "metadata": {},
   "outputs": [
    {
     "name": "stdout",
     "output_type": "stream",
     "text": [
      "[28000.  58233.2]\n"
     ]
    }
   ],
   "source": [
    "print(np.percentile(orders['revenue'], [95, 99])) "
   ]
  },
  {
   "cell_type": "markdown",
   "metadata": {},
   "source": [
    "Не более 5% заказов дороже 28000 рублей и не более 1% дороже 58233 рублей."
   ]
  },
  {
   "cell_type": "markdown",
   "metadata": {},
   "source": [
    "### Статистическая значимость различий в конверсии между группами по «сырым» данным"
   ]
  },
  {
   "cell_type": "markdown",
   "metadata": {},
   "source": [
    "Сформулируем гипотезы. Нулевая: различий в среднем количестве заказов между группами нет. Альтернативная: есть различия в среднем количестве заказов между группами."
   ]
  },
  {
   "cell_type": "code",
   "execution_count": 14,
   "metadata": {},
   "outputs": [],
   "source": [
    "visitorsADaily = visitors[visitors['group'] == 'A'][['date', 'visitors']]\n",
    "visitorsADaily.columns = ['date', 'visitorsPerDateA']\n",
    "\n",
    "visitorsACummulative = visitorsADaily.apply(\n",
    "    lambda x: visitorsADaily[visitorsADaily['date'] <= x['date']].agg(\n",
    "        {'date': 'max', 'visitorsPerDateA': 'sum'}\n",
    "    ),\n",
    "    axis=1,\n",
    ")\n",
    "visitorsACummulative.columns = ['date', 'visitorsCummulativeA']\n",
    "\n",
    "visitorsBDaily = visitors[visitors['group'] == 'B'][['date', 'visitors']]\n",
    "visitorsBDaily.columns = ['date', 'visitorsPerDateB']\n",
    "\n",
    "visitorsBCummulative = visitorsBDaily.apply(\n",
    "    lambda x: visitorsBDaily[visitorsBDaily['date'] <= x['date']].agg(\n",
    "        {'date': 'max', 'visitorsPerDateB': 'sum'}\n",
    "    ),\n",
    "    axis=1,\n",
    ")\n",
    "visitorsBCummulative.columns = ['date', 'visitorsCummulativeB']\n",
    "\n",
    "ordersADaily = (\n",
    "    orders[orders['group'] == 'A'][['date', 'transactionid', 'visitorid', 'revenue']]\n",
    "    .groupby('date', as_index=False)\n",
    "    .agg({'transactionid': pd.Series.nunique, 'revenue': 'sum'})\n",
    ")\n",
    "ordersADaily.columns = ['date', 'ordersPerDateA', 'revenuePerDateA']\n",
    "\n",
    "ordersACummulative = ordersADaily.apply(\n",
    "    lambda x: ordersADaily[ordersADaily['date'] <= x['date']].agg(\n",
    "        {'date': 'max', 'ordersPerDateA': 'sum', 'revenuePerDateA': 'sum'}\n",
    "    ),\n",
    "    axis=1,\n",
    ").sort_values(by=['date'])\n",
    "ordersACummulative.columns = [\n",
    "    'date',\n",
    "    'ordersCummulativeA',\n",
    "    'revenueCummulativeA',\n",
    "]\n",
    "\n",
    "ordersBDaily = (\n",
    "    orders[orders['group'] == 'B'][['date', 'transactionid', 'visitorid', 'revenue']]\n",
    "    .groupby('date', as_index=False)\n",
    "    .agg({'transactionid': pd.Series.nunique, 'revenue': 'sum'})\n",
    ")\n",
    "ordersBDaily.columns = ['date', 'ordersPerDateB', 'revenuePerDateB']\n",
    "\n",
    "ordersBCummulative = ordersBDaily.apply(\n",
    "    lambda x: ordersBDaily[ordersBDaily['date'] <= x['date']].agg(\n",
    "        {'date': 'max', 'ordersPerDateB': 'sum', 'revenuePerDateB': 'sum'}\n",
    "    ),\n",
    "    axis=1,\n",
    ").sort_values(by=['date'])\n",
    "ordersBCummulative.columns = [\n",
    "    'date',\n",
    "    'ordersCummulativeB',\n",
    "    'revenueCummulativeB',\n",
    "]\n",
    "\n",
    "data = (\n",
    "    ordersADaily.merge(\n",
    "        ordersBDaily, left_on='date', right_on='date', how='left'\n",
    "    )\n",
    "    .merge(ordersACummulative, left_on='date', right_on='date', how='left')\n",
    "    .merge(ordersBCummulative, left_on='date', right_on='date', how='left')\n",
    "    .merge(visitorsADaily, left_on='date', right_on='date', how='left')\n",
    "    .merge(visitorsBDaily, left_on='date', right_on='date', how='left')\n",
    "    .merge(visitorsACummulative, left_on='date', right_on='date', how='left')\n",
    "    .merge(visitorsBCummulative, left_on='date', right_on='date', how='left')\n",
    ")"
   ]
  },
  {
   "cell_type": "code",
   "execution_count": 15,
   "metadata": {},
   "outputs": [],
   "source": [
    "# cоздаю переменные ordersByUsersA и ordersByUsersB\n",
    "ordersByUsersA = (\n",
    "    orders[orders['group'] == 'A']\n",
    "    .groupby('visitorid', as_index=False)\n",
    "    .agg({'transactionid': pd.Series.nunique})\n",
    ")\n",
    "ordersByUsersA.columns = ['visitorid', 'transactionid'] \n",
    "\n",
    "ordersByUsersB = (\n",
    "    orders[orders['group'] == 'B']\n",
    "    .groupby('visitorid', as_index=False)\n",
    "    .agg({'transactionid': pd.Series.nunique})\n",
    ")\n",
    "ordersByUsersB.columns = ['visitorid', 'transactionid'] "
   ]
  },
  {
   "cell_type": "code",
   "execution_count": 16,
   "metadata": {},
   "outputs": [],
   "source": [
    "sampleA = pd.concat([ordersByUsersA['transactionid'],pd.Series(0, index=np.arange(data['visitorsPerDateA'].sum() - len(ordersByUsersA['transactionid'])), name='transactionid')],axis=0)\n",
    "sampleB = pd.concat([ordersByUsersB['transactionid'],pd.Series(0, index=np.arange(data['visitorsPerDateB'].sum() - len(ordersByUsersB['transactionid'])), name='transactionid')],axis=0)"
   ]
  },
  {
   "cell_type": "code",
   "execution_count": 17,
   "metadata": {},
   "outputs": [
    {
     "name": "stdout",
     "output_type": "stream",
     "text": [
      "0.017\n",
      "0.138\n"
     ]
    }
   ],
   "source": [
    "# выведем относительный прирост среднего числа заказов группы B\n",
    "import scipy.stats as stats\n",
    "ordersByUsersA = (\n",
    "    orders[orders['group'] == 'A']\n",
    "    .groupby('visitorid', as_index=False)\n",
    "    .agg({'transactionid': pd.Series.nunique})\n",
    ")\n",
    "ordersByUsersA.columns = ['visitorid', 'transactionid']\n",
    "\n",
    "ordersByUsersB = (\n",
    "    orders[orders['group'] == 'B']\n",
    "    .groupby('visitorid', as_index=False)\n",
    "    .agg({'transactionid': pd.Series.nunique})\n",
    ")\n",
    "ordersByUsersB.columns = ['visitorid', 'transactionid']\n",
    "\n",
    "sampleA = pd.concat(\n",
    "    [\n",
    "        ordersByUsersA['transactionid'],\n",
    "        pd.Series(\n",
    "            0,\n",
    "            index=np.arange(\n",
    "                data['visitorsPerDateA'].sum() - len(ordersByUsersA['transactionid'])\n",
    "            ),\n",
    "            name='orders',\n",
    "        ),\n",
    "    ],\n",
    "    axis=0,\n",
    ")\n",
    "\n",
    "sampleB = pd.concat(\n",
    "    [\n",
    "        ordersByUsersB['transactionid'],\n",
    "        pd.Series(\n",
    "            0,\n",
    "            index=np.arange(\n",
    "                data['visitorsPerDateB'].sum() - len(ordersByUsersB['transactionid'])\n",
    "            ),\n",
    "            name='orders',\n",
    "        ),\n",
    "    ],\n",
    "    axis=0,\n",
    ")\n",
    "\n",
    "print(\"{0:.3f}\".format(stats.mannwhitneyu(sampleA, sampleB)[1]))\n",
    "print(\"{0:.3f}\".format(sampleB.mean() / sampleA.mean() - 1))"
   ]
  },
  {
   "cell_type": "markdown",
   "metadata": {},
   "source": [
    "P-value = 0.017 меньше 0.05. Значит, нулевую гипотезу о том, что статистически значимых различий в среднем числе заказов между группами нет, отвергаем. Относительный выигрыш группы B равен 13.8%"
   ]
  },
  {
   "cell_type": "markdown",
   "metadata": {},
   "source": [
    "### Cтатистическая значимость различий в среднем чеке заказа между группами по «сырым» данным"
   ]
  },
  {
   "cell_type": "markdown",
   "metadata": {},
   "source": [
    "Нулевая гипотеза: различий в среднем чеке между группами нет. Альтернативная гипотеза: различия в среднем чеке между группами есть. "
   ]
  },
  {
   "cell_type": "code",
   "execution_count": 18,
   "metadata": {},
   "outputs": [
    {
     "name": "stdout",
     "output_type": "stream",
     "text": [
      "0.729\n",
      "0.259\n"
     ]
    }
   ],
   "source": [
    "print('{0:.3f}'.format(stats.mannwhitneyu(orders[orders['group']=='A']['revenue'], orders[orders['group']=='B']['revenue'])[1]))\n",
    "print('{0:.3f}'.format(orders[orders['group']=='B']['revenue'].mean()/orders[orders['group']=='A']['revenue'].mean()-1))"
   ]
  },
  {
   "cell_type": "markdown",
   "metadata": {},
   "source": [
    "P-value значительно больше 0.05. Значит, причин отвергать нулевую гипотезу и считать, что в среднем чеке есть различия, нет. Средний чек группы B значительно выше среднего чека группы A."
   ]
  },
  {
   "cell_type": "markdown",
   "metadata": {},
   "source": [
    "### Cтатистическая значимость различий в конверсии между группами по «очищенным» данным"
   ]
  },
  {
   "cell_type": "markdown",
   "metadata": {},
   "source": [
    "Примем за аномальных пользователей тех, кто совершил от 2 заказов или совершил заказ дороже 28 000 рублей. Так мы уберём 5% пользователей с наибольшим числом заказов и от 1% до 5% пользователей с дорогими заказами. Сделаем срезы пользователей с числом заказов больше 2 — usersWithManyOrders и пользователей, совершивших заказы дороже 28 000 — usersWithExpensiveOrders. Объединим их в таблице abnormalUsers. "
   ]
  },
  {
   "cell_type": "code",
   "execution_count": 19,
   "metadata": {},
   "outputs": [
    {
     "name": "stdout",
     "output_type": "stream",
     "text": [
      "1099    148427295\n",
      "18      199603092\n",
      "928     204675465\n",
      "23      237748145\n",
      "37      249864742\n",
      "Name: visitorid, dtype: int64\n",
      "74\n"
     ]
    }
   ],
   "source": [
    "usersWithManyOrders = pd.concat(\n",
    "    [\n",
    "        ordersByUsersA[ordersByUsersA['transactionid'] > 2]['visitorid'],\n",
    "        ordersByUsersB[ordersByUsersB['transactionid'] > 2]['visitorid'],\n",
    "    ],\n",
    "    axis=0,\n",
    ")\n",
    "usersWithExpensiveOrders = orders[orders['revenue'] > 28000]['visitorid']\n",
    "abnormalUsers = (\n",
    "    pd.concat([usersWithManyOrders, usersWithExpensiveOrders], axis=0)\n",
    "    .drop_duplicates()\n",
    "    .sort_values()\n",
    ")\n",
    "print(abnormalUsers.head(5))\n",
    "print(abnormalUsers.shape[0]) "
   ]
  },
  {
   "cell_type": "markdown",
   "metadata": {},
   "source": [
    "Итого: 74 аномальных пользователя."
   ]
  },
  {
   "cell_type": "code",
   "execution_count": 20,
   "metadata": {},
   "outputs": [
    {
     "name": "stdout",
     "output_type": "stream",
     "text": [
      "0.013\n",
      "0.173\n"
     ]
    }
   ],
   "source": [
    "sampleAFiltered = pd.concat(\n",
    "    [\n",
    "        ordersByUsersA[\n",
    "            np.logical_not(ordersByUsersA['visitorid'].isin(abnormalUsers))\n",
    "        ]['transactionid'],\n",
    "        pd.Series(\n",
    "            0,\n",
    "            index=np.arange(\n",
    "                data['visitorsPerDateA'].sum() - len(ordersByUsersA['transactionid'])\n",
    "            ),\n",
    "            name='orders',\n",
    "        ),\n",
    "    ],\n",
    "    axis=0,\n",
    ")\n",
    "\n",
    "sampleBFiltered = pd.concat(\n",
    "    [\n",
    "        ordersByUsersB[\n",
    "            np.logical_not(ordersByUsersB['visitorid'].isin(abnormalUsers))\n",
    "        ]['transactionid'],\n",
    "        pd.Series(\n",
    "            0,\n",
    "            index=np.arange(\n",
    "                data['visitorsPerDateB'].sum() - len(ordersByUsersB['transactionid'])\n",
    "            ),\n",
    "            name='orders',\n",
    "        ),\n",
    "    ],\n",
    "    axis=0,\n",
    ") \n",
    "\n",
    "print('{0:.3f}'.format(stats.mannwhitneyu(sampleAFiltered, sampleBFiltered)[1]))\n",
    "print('{0:.3f}'.format(sampleBFiltered.mean()/sampleAFiltered.mean()-1)) "
   ]
  },
  {
   "cell_type": "markdown",
   "metadata": {},
   "source": [
    "Нулевая гипотеза не подтвердилась. Есть разница в колличестве заказов между группами"
   ]
  },
  {
   "cell_type": "markdown",
   "metadata": {},
   "source": [
    "### Cтатистическая значимость различий в среднем чеке заказа между группами по «очищенным» данным"
   ]
  },
  {
   "cell_type": "code",
   "execution_count": 21,
   "metadata": {},
   "outputs": [
    {
     "name": "stdout",
     "output_type": "stream",
     "text": [
      "0.738\n",
      "-0.020\n"
     ]
    }
   ],
   "source": [
    "print(\n",
    "    '{0:.3f}'.format(\n",
    "        stats.mannwhitneyu(\n",
    "            orders[\n",
    "                np.logical_and(\n",
    "                    orders['group'] == 'A',\n",
    "                    np.logical_not(orders['visitorid'].isin(abnormalUsers)),\n",
    "                )\n",
    "            ]['revenue'],\n",
    "            orders[\n",
    "                np.logical_and(\n",
    "                    orders['group'] == 'B',\n",
    "                    np.logical_not(orders['visitorid'].isin(abnormalUsers)),\n",
    "                )\n",
    "            ]['revenue'],\n",
    "        )[1]\n",
    "    )\n",
    ")\n",
    "\n",
    "print(\n",
    "    \"{0:.3f}\".format(\n",
    "        orders[\n",
    "            np.logical_and(\n",
    "                orders['group'] == 'B',\n",
    "                np.logical_not(orders['visitorid'].isin(abnormalUsers)),\n",
    "            )\n",
    "        ]['revenue'].mean()\n",
    "        / orders[\n",
    "            np.logical_and(\n",
    "                orders['group'] == 'A',\n",
    "                np.logical_not(orders['visitorid'].isin(abnormalUsers)),\n",
    "            )\n",
    "        ]['revenue'].mean()\n",
    "        - 1\n",
    "    )\n",
    ") "
   ]
  },
  {
   "cell_type": "markdown",
   "metadata": {},
   "source": [
    "P-value не изменился, но разница между сегментами сократилась с 26% до 2%."
   ]
  },
  {
   "cell_type": "markdown",
   "metadata": {},
   "source": [
    "## Вывод\n",
    "### Предобработка данных\n",
    "    Количество групп А и В равное\n",
    "    В группе В пользователей было больше и принял решение оставить дублирующихся в группах пользователей, т.к. они делали покупки обеих группах.\n",
    "    Пропусков в датасетах нет\n",
    "### Приоритизация гипотез\n",
    "##### Применение фреймворка ICE:\n",
    "Наиболее перспективные гипотезы: 8, 0, 7, 6\n",
    "##### Применение фреймворка RICE:\n",
    "Наиболее перспективные гипотезы: 7, 2, 0, 6. \n",
    "В данном случае на первом месте гипотеза №7, так получилось по причине высокого параметра Reach = 10, у других параметров он меньше.\n",
    "\n",
    "### Анализ A/B-теста\n",
    "\n",
    "    Нет статистически значимого различия по среднему количеству заказов между группами по «сырым», различия появиловь после фильтрации аномалий;\n",
    "    Нет статистически значимого различия по среднему чеку между группами ни по «сырым», ни по данным после фильтрации аномалий;\n",
    "    График различия конверсии между группами сообщает, что результаты группы A хуже группы B и нет значительной тенденции к улучшению.\n",
    "\n",
    "    Исходя из обнаруженных фактов, тест следует остановить и признать его успешным. Продолжать смысла нет, потому как высока вероятнось, что при имеющихся данных сегмент B на самом деле лучше сегмента A.\n"
   ]
  }
 ],
 "metadata": {
  "ExecuteTimeLog": [
   {
    "duration": 486,
    "start_time": "2022-09-25T08:07:44.994Z"
   },
   {
    "duration": 1028,
    "start_time": "2022-09-25T08:07:46.131Z"
   },
   {
    "duration": 10,
    "start_time": "2022-09-25T08:08:18.431Z"
   },
   {
    "duration": 26,
    "start_time": "2022-09-25T08:10:03.435Z"
   },
   {
    "duration": 10,
    "start_time": "2022-09-25T08:10:34.336Z"
   },
   {
    "duration": 25,
    "start_time": "2022-09-25T09:15:59.524Z"
   },
   {
    "duration": 10,
    "start_time": "2022-09-25T09:16:00.908Z"
   },
   {
    "duration": 2,
    "start_time": "2022-09-25T09:32:41.162Z"
   },
   {
    "duration": 8,
    "start_time": "2022-09-25T09:35:06.722Z"
   },
   {
    "duration": 11,
    "start_time": "2022-09-25T09:53:09.673Z"
   },
   {
    "duration": 145,
    "start_time": "2022-09-25T10:01:28.722Z"
   },
   {
    "duration": 81,
    "start_time": "2022-09-25T10:01:52.822Z"
   },
   {
    "duration": 89,
    "start_time": "2022-09-25T10:02:24.806Z"
   },
   {
    "duration": 99,
    "start_time": "2022-09-25T10:03:02.683Z"
   },
   {
    "duration": 84,
    "start_time": "2022-09-25T10:03:38.422Z"
   },
   {
    "duration": 90,
    "start_time": "2022-09-25T10:04:58.776Z"
   },
   {
    "duration": 1273,
    "start_time": "2022-09-25T10:28:10.603Z"
   },
   {
    "duration": 646,
    "start_time": "2022-09-25T10:29:58.191Z"
   },
   {
    "duration": 64,
    "start_time": "2022-09-25T10:30:07.536Z"
   },
   {
    "duration": 154,
    "start_time": "2022-09-25T10:35:18.083Z"
   },
   {
    "duration": 167,
    "start_time": "2022-09-25T10:37:32.410Z"
   },
   {
    "duration": 318,
    "start_time": "2022-09-25T10:48:35.992Z"
   },
   {
    "duration": 211,
    "start_time": "2022-09-25T10:48:51.944Z"
   },
   {
    "duration": 153,
    "start_time": "2022-09-25T11:03:18.696Z"
   },
   {
    "duration": 142,
    "start_time": "2022-09-25T11:03:24.338Z"
   },
   {
    "duration": 62,
    "start_time": "2022-09-25T11:05:05.677Z"
   },
   {
    "duration": 168,
    "start_time": "2022-09-25T11:06:59.615Z"
   },
   {
    "duration": 162,
    "start_time": "2022-09-25T11:07:53.323Z"
   },
   {
    "duration": 161,
    "start_time": "2022-09-25T11:08:11.645Z"
   },
   {
    "duration": 167,
    "start_time": "2022-09-25T11:08:18.198Z"
   },
   {
    "duration": 222,
    "start_time": "2022-09-25T11:08:24.769Z"
   },
   {
    "duration": 161,
    "start_time": "2022-09-25T11:08:33.039Z"
   },
   {
    "duration": 144,
    "start_time": "2022-09-25T11:08:51.588Z"
   },
   {
    "duration": 141,
    "start_time": "2022-09-25T11:08:58.213Z"
   },
   {
    "duration": 148,
    "start_time": "2022-09-25T11:09:06.930Z"
   },
   {
    "duration": 158,
    "start_time": "2022-09-25T11:09:17.499Z"
   },
   {
    "duration": 153,
    "start_time": "2022-09-25T11:09:25.706Z"
   },
   {
    "duration": 142,
    "start_time": "2022-09-25T11:10:05.223Z"
   },
   {
    "duration": 146,
    "start_time": "2022-09-25T11:10:17.397Z"
   },
   {
    "duration": 149,
    "start_time": "2022-09-25T11:10:34.269Z"
   },
   {
    "duration": 142,
    "start_time": "2022-09-25T11:11:33.089Z"
   },
   {
    "duration": 195,
    "start_time": "2022-09-25T11:16:44.879Z"
   },
   {
    "duration": 271,
    "start_time": "2022-09-25T11:16:47.912Z"
   },
   {
    "duration": 276,
    "start_time": "2022-09-25T11:17:01.488Z"
   },
   {
    "duration": 2,
    "start_time": "2022-09-25T11:21:23.860Z"
   },
   {
    "duration": 404,
    "start_time": "2022-09-25T11:22:54.545Z"
   },
   {
    "duration": 9,
    "start_time": "2022-09-25T11:22:54.951Z"
   },
   {
    "duration": 9,
    "start_time": "2022-09-25T11:22:54.962Z"
   },
   {
    "duration": 56,
    "start_time": "2022-09-25T11:22:54.973Z"
   },
   {
    "duration": 897,
    "start_time": "2022-09-25T11:22:55.030Z"
   },
   {
    "duration": 150,
    "start_time": "2022-09-25T11:22:55.928Z"
   },
   {
    "duration": 269,
    "start_time": "2022-09-25T11:22:56.080Z"
   },
   {
    "duration": 184,
    "start_time": "2022-09-25T11:22:56.351Z"
   },
   {
    "duration": 250,
    "start_time": "2022-09-25T11:22:56.537Z"
   },
   {
    "duration": 783,
    "start_time": "2022-09-25T11:24:55.703Z"
   },
   {
    "duration": 27,
    "start_time": "2022-09-25T11:25:13.241Z"
   },
   {
    "duration": 27,
    "start_time": "2022-09-25T11:25:16.388Z"
   },
   {
    "duration": 32,
    "start_time": "2022-09-25T11:25:21.704Z"
   },
   {
    "duration": 27,
    "start_time": "2022-09-25T11:25:35.795Z"
   },
   {
    "duration": 71,
    "start_time": "2022-09-25T11:26:52.506Z"
   },
   {
    "duration": 122,
    "start_time": "2022-09-25T11:27:24.699Z"
   },
   {
    "duration": 119,
    "start_time": "2022-09-25T11:27:44.027Z"
   },
   {
    "duration": 4,
    "start_time": "2022-09-25T11:33:21.025Z"
   },
   {
    "duration": 3,
    "start_time": "2022-09-25T11:34:21.844Z"
   },
   {
    "duration": 18,
    "start_time": "2022-09-25T12:00:26.125Z"
   },
   {
    "duration": 60,
    "start_time": "2022-09-25T12:01:05.198Z"
   },
   {
    "duration": 66,
    "start_time": "2022-09-25T12:01:37.854Z"
   },
   {
    "duration": 10,
    "start_time": "2022-09-25T12:03:38.782Z"
   },
   {
    "duration": 1478,
    "start_time": "2022-09-25T12:03:51.146Z"
   },
   {
    "duration": 236,
    "start_time": "2022-09-25T12:04:32.350Z"
   },
   {
    "duration": 105,
    "start_time": "2022-09-25T12:05:04.651Z"
   },
   {
    "duration": 4,
    "start_time": "2022-09-25T12:06:57.736Z"
   },
   {
    "duration": 836,
    "start_time": "2022-09-25T12:10:27.478Z"
   },
   {
    "duration": 4,
    "start_time": "2022-09-25T12:11:43.581Z"
   },
   {
    "duration": 113,
    "start_time": "2022-09-25T12:13:10.045Z"
   },
   {
    "duration": 124,
    "start_time": "2022-09-25T12:13:24.857Z"
   },
   {
    "duration": 109,
    "start_time": "2022-09-25T12:14:24.253Z"
   },
   {
    "duration": 122,
    "start_time": "2022-09-25T12:14:25.972Z"
   },
   {
    "duration": 4,
    "start_time": "2022-09-25T12:14:31.244Z"
   },
   {
    "duration": 148,
    "start_time": "2022-09-25T12:21:27.378Z"
   },
   {
    "duration": 93,
    "start_time": "2022-09-25T12:23:19.068Z"
   },
   {
    "duration": 184,
    "start_time": "2022-09-25T12:23:31.391Z"
   },
   {
    "duration": 13,
    "start_time": "2022-09-25T12:30:23.207Z"
   },
   {
    "duration": 143,
    "start_time": "2022-09-25T12:32:35.478Z"
   },
   {
    "duration": 5,
    "start_time": "2022-09-25T12:33:00.612Z"
   },
   {
    "duration": 4,
    "start_time": "2022-09-25T12:33:16.206Z"
   },
   {
    "duration": 183,
    "start_time": "2022-09-25T12:33:40.475Z"
   },
   {
    "duration": 128,
    "start_time": "2022-09-25T12:33:43.063Z"
   },
   {
    "duration": 5,
    "start_time": "2022-09-25T12:33:44.478Z"
   },
   {
    "duration": 903,
    "start_time": "2022-09-25T12:34:28.437Z"
   },
   {
    "duration": 745,
    "start_time": "2022-09-25T12:38:58.954Z"
   },
   {
    "duration": 129,
    "start_time": "2022-09-25T12:41:56.360Z"
   },
   {
    "duration": 130,
    "start_time": "2022-09-25T12:42:18.150Z"
   },
   {
    "duration": 6,
    "start_time": "2022-09-25T12:42:19.035Z"
   },
   {
    "duration": 77,
    "start_time": "2022-09-25T12:44:34.368Z"
   },
   {
    "duration": 143,
    "start_time": "2022-09-25T12:45:38.638Z"
   },
   {
    "duration": 599,
    "start_time": "2022-09-25T12:47:30.272Z"
   },
   {
    "duration": 10,
    "start_time": "2022-09-25T12:59:03.310Z"
   },
   {
    "duration": 10,
    "start_time": "2022-09-25T13:00:30.400Z"
   },
   {
    "duration": 153,
    "start_time": "2022-09-25T13:00:45.096Z"
   },
   {
    "duration": 189,
    "start_time": "2022-09-25T13:05:49.157Z"
   },
   {
    "duration": 136,
    "start_time": "2022-09-25T13:06:03.184Z"
   },
   {
    "duration": 6,
    "start_time": "2022-09-25T13:06:05.883Z"
   },
   {
    "duration": 161,
    "start_time": "2022-09-25T13:06:10.948Z"
   },
   {
    "duration": 147,
    "start_time": "2022-09-25T13:06:31.497Z"
   },
   {
    "duration": 59,
    "start_time": "2022-09-25T13:07:31.039Z"
   },
   {
    "duration": 10,
    "start_time": "2022-09-25T13:07:47.451Z"
   },
   {
    "duration": 809,
    "start_time": "2022-09-25T13:21:43.485Z"
   },
   {
    "duration": 9,
    "start_time": "2022-09-25T13:22:02.910Z"
   },
   {
    "duration": 10,
    "start_time": "2022-09-25T13:25:12.527Z"
   },
   {
    "duration": 27,
    "start_time": "2022-09-25T13:25:42.268Z"
   },
   {
    "duration": 13,
    "start_time": "2022-09-25T13:27:17.308Z"
   },
   {
    "duration": 40,
    "start_time": "2022-09-25T13:31:54.870Z"
   },
   {
    "duration": 12,
    "start_time": "2022-09-25T13:36:15.832Z"
   },
   {
    "duration": 194,
    "start_time": "2022-09-25T13:46:49.461Z"
   },
   {
    "duration": 4,
    "start_time": "2022-09-25T13:47:17.603Z"
   },
   {
    "duration": 450,
    "start_time": "2022-09-25T13:50:58.784Z"
   },
   {
    "duration": 10,
    "start_time": "2022-09-25T13:50:59.236Z"
   },
   {
    "duration": 34,
    "start_time": "2022-09-25T13:50:59.249Z"
   },
   {
    "duration": 82,
    "start_time": "2022-09-25T13:50:59.285Z"
   },
   {
    "duration": 900,
    "start_time": "2022-09-25T13:50:59.369Z"
   },
   {
    "duration": 163,
    "start_time": "2022-09-25T13:51:00.271Z"
   },
   {
    "duration": 232,
    "start_time": "2022-09-25T13:51:00.436Z"
   },
   {
    "duration": 214,
    "start_time": "2022-09-25T13:51:00.669Z"
   },
   {
    "duration": 286,
    "start_time": "2022-09-25T13:51:00.885Z"
   },
   {
    "duration": 100,
    "start_time": "2022-09-25T13:51:01.173Z"
   },
   {
    "duration": 0,
    "start_time": "2022-09-25T13:51:01.274Z"
   },
   {
    "duration": 0,
    "start_time": "2022-09-25T13:51:01.276Z"
   },
   {
    "duration": 0,
    "start_time": "2022-09-25T13:51:01.277Z"
   },
   {
    "duration": 0,
    "start_time": "2022-09-25T13:51:01.278Z"
   },
   {
    "duration": 0,
    "start_time": "2022-09-25T13:51:01.279Z"
   },
   {
    "duration": 0,
    "start_time": "2022-09-25T13:51:01.280Z"
   },
   {
    "duration": 0,
    "start_time": "2022-09-25T13:51:01.281Z"
   },
   {
    "duration": 0,
    "start_time": "2022-09-25T13:51:01.282Z"
   },
   {
    "duration": 0,
    "start_time": "2022-09-25T13:51:01.284Z"
   },
   {
    "duration": 0,
    "start_time": "2022-09-25T13:51:01.285Z"
   },
   {
    "duration": 0,
    "start_time": "2022-09-25T13:51:01.285Z"
   },
   {
    "duration": 467,
    "start_time": "2022-09-25T13:51:50.382Z"
   },
   {
    "duration": 27,
    "start_time": "2022-09-25T13:52:12.305Z"
   },
   {
    "duration": 8,
    "start_time": "2022-09-25T13:52:12.923Z"
   },
   {
    "duration": 11,
    "start_time": "2022-09-25T13:52:13.472Z"
   },
   {
    "duration": 60,
    "start_time": "2022-09-25T13:52:13.977Z"
   },
   {
    "duration": 682,
    "start_time": "2022-09-25T13:52:14.330Z"
   },
   {
    "duration": 149,
    "start_time": "2022-09-25T13:52:15.653Z"
   },
   {
    "duration": 259,
    "start_time": "2022-09-25T13:52:17.915Z"
   },
   {
    "duration": 142,
    "start_time": "2022-09-25T13:52:20.052Z"
   },
   {
    "duration": 250,
    "start_time": "2022-09-25T13:52:22.022Z"
   },
   {
    "duration": 12,
    "start_time": "2022-09-25T13:52:25.411Z"
   },
   {
    "duration": 12,
    "start_time": "2022-09-25T13:53:24.785Z"
   },
   {
    "duration": 420,
    "start_time": "2022-09-25T13:56:26.274Z"
   },
   {
    "duration": 10,
    "start_time": "2022-09-25T13:56:26.696Z"
   },
   {
    "duration": 16,
    "start_time": "2022-09-25T13:56:26.707Z"
   },
   {
    "duration": 54,
    "start_time": "2022-09-25T13:56:26.725Z"
   },
   {
    "duration": 904,
    "start_time": "2022-09-25T13:56:26.780Z"
   },
   {
    "duration": 158,
    "start_time": "2022-09-25T13:56:27.696Z"
   },
   {
    "duration": 224,
    "start_time": "2022-09-25T13:56:27.856Z"
   },
   {
    "duration": 206,
    "start_time": "2022-09-25T13:56:28.082Z"
   },
   {
    "duration": 278,
    "start_time": "2022-09-25T13:56:28.289Z"
   },
   {
    "duration": 95,
    "start_time": "2022-09-25T13:56:28.570Z"
   },
   {
    "duration": 0,
    "start_time": "2022-09-25T13:56:28.666Z"
   },
   {
    "duration": 0,
    "start_time": "2022-09-25T13:56:28.667Z"
   },
   {
    "duration": 0,
    "start_time": "2022-09-25T13:56:28.668Z"
   },
   {
    "duration": 0,
    "start_time": "2022-09-25T13:56:28.669Z"
   },
   {
    "duration": 0,
    "start_time": "2022-09-25T13:56:28.670Z"
   },
   {
    "duration": 0,
    "start_time": "2022-09-25T13:56:28.671Z"
   },
   {
    "duration": 0,
    "start_time": "2022-09-25T13:56:28.672Z"
   },
   {
    "duration": 0,
    "start_time": "2022-09-25T13:56:28.673Z"
   },
   {
    "duration": 0,
    "start_time": "2022-09-25T13:56:28.673Z"
   },
   {
    "duration": 0,
    "start_time": "2022-09-25T13:56:28.674Z"
   },
   {
    "duration": 0,
    "start_time": "2022-09-25T13:56:28.675Z"
   },
   {
    "duration": 9,
    "start_time": "2022-09-25T13:56:35.758Z"
   },
   {
    "duration": 27,
    "start_time": "2022-09-25T13:56:40.586Z"
   },
   {
    "duration": 8,
    "start_time": "2022-09-25T13:56:42.130Z"
   },
   {
    "duration": 11,
    "start_time": "2022-09-25T13:56:46.343Z"
   },
   {
    "duration": 60,
    "start_time": "2022-09-25T13:56:51.249Z"
   },
   {
    "duration": 618,
    "start_time": "2022-09-25T13:56:54.841Z"
   },
   {
    "duration": 148,
    "start_time": "2022-09-25T13:56:59.897Z"
   },
   {
    "duration": 239,
    "start_time": "2022-09-25T13:57:03.772Z"
   },
   {
    "duration": 142,
    "start_time": "2022-09-25T13:57:07.502Z"
   },
   {
    "duration": 255,
    "start_time": "2022-09-25T13:57:10.954Z"
   },
   {
    "duration": 12,
    "start_time": "2022-09-25T13:57:15.036Z"
   },
   {
    "duration": 7,
    "start_time": "2022-09-25T13:57:26.515Z"
   },
   {
    "duration": 10,
    "start_time": "2022-09-25T13:57:47.383Z"
   },
   {
    "duration": 440,
    "start_time": "2022-09-25T13:59:01.830Z"
   },
   {
    "duration": 12,
    "start_time": "2022-09-25T13:59:02.272Z"
   },
   {
    "duration": 22,
    "start_time": "2022-09-25T13:59:02.286Z"
   },
   {
    "duration": 51,
    "start_time": "2022-09-25T13:59:02.310Z"
   },
   {
    "duration": 483,
    "start_time": "2022-09-25T13:59:02.363Z"
   },
   {
    "duration": 0,
    "start_time": "2022-09-25T13:59:02.849Z"
   },
   {
    "duration": 0,
    "start_time": "2022-09-25T13:59:02.850Z"
   },
   {
    "duration": 0,
    "start_time": "2022-09-25T13:59:02.851Z"
   },
   {
    "duration": 0,
    "start_time": "2022-09-25T13:59:02.853Z"
   },
   {
    "duration": 0,
    "start_time": "2022-09-25T13:59:02.854Z"
   },
   {
    "duration": 0,
    "start_time": "2022-09-25T13:59:02.855Z"
   },
   {
    "duration": 0,
    "start_time": "2022-09-25T13:59:02.857Z"
   },
   {
    "duration": 0,
    "start_time": "2022-09-25T13:59:02.859Z"
   },
   {
    "duration": 0,
    "start_time": "2022-09-25T13:59:02.861Z"
   },
   {
    "duration": 0,
    "start_time": "2022-09-25T13:59:02.862Z"
   },
   {
    "duration": 1,
    "start_time": "2022-09-25T13:59:02.863Z"
   },
   {
    "duration": 0,
    "start_time": "2022-09-25T13:59:02.865Z"
   },
   {
    "duration": 0,
    "start_time": "2022-09-25T13:59:02.866Z"
   },
   {
    "duration": 0,
    "start_time": "2022-09-25T13:59:02.867Z"
   },
   {
    "duration": 0,
    "start_time": "2022-09-25T13:59:02.868Z"
   },
   {
    "duration": 0,
    "start_time": "2022-09-25T13:59:02.869Z"
   },
   {
    "duration": 8,
    "start_time": "2022-09-25T14:01:12.241Z"
   },
   {
    "duration": 60,
    "start_time": "2022-09-25T14:01:24.647Z"
   },
   {
    "duration": 111,
    "start_time": "2022-09-25T14:01:25.649Z"
   },
   {
    "duration": 29,
    "start_time": "2022-09-25T14:02:46.467Z"
   },
   {
    "duration": 27,
    "start_time": "2022-09-25T14:02:56.720Z"
   },
   {
    "duration": 8,
    "start_time": "2022-09-25T14:02:57.709Z"
   },
   {
    "duration": 7,
    "start_time": "2022-09-25T14:03:00.880Z"
   },
   {
    "duration": 61,
    "start_time": "2022-09-25T14:03:05.052Z"
   },
   {
    "duration": 500,
    "start_time": "2022-09-25T14:03:06.577Z"
   },
   {
    "duration": 229,
    "start_time": "2022-09-25T14:04:10.397Z"
   },
   {
    "duration": 316,
    "start_time": "2022-09-25T14:05:01.229Z"
   },
   {
    "duration": 193,
    "start_time": "2022-09-25T14:05:31.707Z"
   },
   {
    "duration": 144,
    "start_time": "2022-09-25T14:05:41.275Z"
   },
   {
    "duration": 149,
    "start_time": "2022-09-25T14:05:46.413Z"
   },
   {
    "duration": 141,
    "start_time": "2022-09-25T14:05:50.695Z"
   },
   {
    "duration": 146,
    "start_time": "2022-09-25T14:05:59.147Z"
   },
   {
    "duration": 140,
    "start_time": "2022-09-25T14:06:06.918Z"
   },
   {
    "duration": 128,
    "start_time": "2022-09-25T14:06:11.139Z"
   },
   {
    "duration": 265,
    "start_time": "2022-09-25T14:07:42.827Z"
   },
   {
    "duration": 259,
    "start_time": "2022-09-25T14:07:56.503Z"
   },
   {
    "duration": 268,
    "start_time": "2022-09-25T14:08:21.948Z"
   },
   {
    "duration": 248,
    "start_time": "2022-09-25T14:08:35.623Z"
   },
   {
    "duration": 302,
    "start_time": "2022-09-25T14:08:48.713Z"
   },
   {
    "duration": 209,
    "start_time": "2022-09-25T14:09:06.662Z"
   },
   {
    "duration": 303,
    "start_time": "2022-09-25T14:09:20.455Z"
   },
   {
    "duration": 109,
    "start_time": "2022-09-25T14:09:54.144Z"
   },
   {
    "duration": 4,
    "start_time": "2022-09-25T14:10:03.622Z"
   },
   {
    "duration": 125,
    "start_time": "2022-09-25T14:10:07.091Z"
   },
   {
    "duration": 6,
    "start_time": "2022-09-25T14:10:11.455Z"
   },
   {
    "duration": 194,
    "start_time": "2022-09-25T14:10:16.920Z"
   },
   {
    "duration": 133,
    "start_time": "2022-09-25T14:10:17.878Z"
   },
   {
    "duration": 6,
    "start_time": "2022-09-25T14:10:19.940Z"
   },
   {
    "duration": 559,
    "start_time": "2022-09-25T14:10:20.598Z"
   },
   {
    "duration": 381,
    "start_time": "2022-09-25T14:10:28.968Z"
   },
   {
    "duration": 10,
    "start_time": "2022-09-25T14:10:29.350Z"
   },
   {
    "duration": 8,
    "start_time": "2022-09-25T14:10:29.361Z"
   },
   {
    "duration": 58,
    "start_time": "2022-09-25T14:10:29.370Z"
   },
   {
    "duration": 820,
    "start_time": "2022-09-25T14:10:29.430Z"
   },
   {
    "duration": 236,
    "start_time": "2022-09-25T14:10:30.251Z"
   },
   {
    "duration": 374,
    "start_time": "2022-09-25T14:10:30.489Z"
   },
   {
    "duration": 266,
    "start_time": "2022-09-25T14:10:30.865Z"
   },
   {
    "duration": 416,
    "start_time": "2022-09-25T14:10:31.132Z"
   },
   {
    "duration": 127,
    "start_time": "2022-09-25T14:10:31.552Z"
   },
   {
    "duration": 5,
    "start_time": "2022-09-25T14:10:31.681Z"
   },
   {
    "duration": 195,
    "start_time": "2022-09-25T14:10:31.688Z"
   },
   {
    "duration": 3,
    "start_time": "2022-09-25T14:10:31.885Z"
   },
   {
    "duration": 235,
    "start_time": "2022-09-25T14:10:31.890Z"
   },
   {
    "duration": 155,
    "start_time": "2022-09-25T14:10:32.127Z"
   },
   {
    "duration": 47,
    "start_time": "2022-09-25T14:10:32.284Z"
   },
   {
    "duration": 623,
    "start_time": "2022-09-25T14:10:32.333Z"
   },
   {
    "duration": 9,
    "start_time": "2022-09-25T14:10:32.958Z"
   },
   {
    "duration": 24,
    "start_time": "2022-09-25T14:10:32.969Z"
   },
   {
    "duration": 31,
    "start_time": "2022-09-25T14:10:32.994Z"
   },
   {
    "duration": 12,
    "start_time": "2022-09-25T14:10:33.027Z"
   },
   {
    "duration": 453,
    "start_time": "2022-09-25T14:21:57.386Z"
   },
   {
    "duration": 10,
    "start_time": "2022-09-25T14:21:57.841Z"
   },
   {
    "duration": 7,
    "start_time": "2022-09-25T14:21:57.853Z"
   },
   {
    "duration": 62,
    "start_time": "2022-09-25T14:21:57.862Z"
   },
   {
    "duration": 703,
    "start_time": "2022-09-25T14:21:57.926Z"
   },
   {
    "duration": 265,
    "start_time": "2022-09-25T14:21:58.631Z"
   },
   {
    "duration": 371,
    "start_time": "2022-09-25T14:21:58.897Z"
   },
   {
    "duration": 240,
    "start_time": "2022-09-25T14:21:59.269Z"
   },
   {
    "duration": 375,
    "start_time": "2022-09-25T14:21:59.510Z"
   },
   {
    "duration": 113,
    "start_time": "2022-09-25T14:21:59.888Z"
   },
   {
    "duration": 8,
    "start_time": "2022-09-25T14:22:00.003Z"
   },
   {
    "duration": 160,
    "start_time": "2022-09-25T14:22:00.012Z"
   },
   {
    "duration": 4,
    "start_time": "2022-09-25T14:22:00.174Z"
   },
   {
    "duration": 214,
    "start_time": "2022-09-25T14:22:00.180Z"
   },
   {
    "duration": 144,
    "start_time": "2022-09-25T14:22:00.396Z"
   },
   {
    "duration": 7,
    "start_time": "2022-09-25T14:22:00.542Z"
   },
   {
    "duration": 635,
    "start_time": "2022-09-25T14:22:00.550Z"
   },
   {
    "duration": 11,
    "start_time": "2022-09-25T14:22:01.187Z"
   },
   {
    "duration": 40,
    "start_time": "2022-09-25T14:22:01.208Z"
   },
   {
    "duration": 105,
    "start_time": "2022-09-25T14:22:01.249Z"
   },
   {
    "duration": 50,
    "start_time": "2022-09-25T14:22:01.356Z"
   },
   {
    "duration": 381,
    "start_time": "2022-09-25T16:13:21.367Z"
   },
   {
    "duration": 9,
    "start_time": "2022-09-25T16:13:21.750Z"
   },
   {
    "duration": 7,
    "start_time": "2022-09-25T16:13:21.760Z"
   },
   {
    "duration": 51,
    "start_time": "2022-09-25T16:13:21.770Z"
   },
   {
    "duration": 682,
    "start_time": "2022-09-25T16:13:21.823Z"
   },
   {
    "duration": 261,
    "start_time": "2022-09-25T16:13:22.507Z"
   },
   {
    "duration": 374,
    "start_time": "2022-09-25T16:13:22.769Z"
   },
   {
    "duration": 240,
    "start_time": "2022-09-25T16:13:23.145Z"
   },
   {
    "duration": 419,
    "start_time": "2022-09-25T16:13:23.387Z"
   },
   {
    "duration": 113,
    "start_time": "2022-09-25T16:13:23.809Z"
   },
   {
    "duration": 4,
    "start_time": "2022-09-25T16:13:23.923Z"
   },
   {
    "duration": 128,
    "start_time": "2022-09-25T16:13:23.929Z"
   },
   {
    "duration": 4,
    "start_time": "2022-09-25T16:13:24.059Z"
   },
   {
    "duration": 209,
    "start_time": "2022-09-25T16:13:24.065Z"
   },
   {
    "duration": 127,
    "start_time": "2022-09-25T16:13:24.276Z"
   },
   {
    "duration": 7,
    "start_time": "2022-09-25T16:13:24.404Z"
   },
   {
    "duration": 516,
    "start_time": "2022-09-25T16:13:24.412Z"
   },
   {
    "duration": 10,
    "start_time": "2022-09-25T16:13:24.930Z"
   },
   {
    "duration": 10,
    "start_time": "2022-09-25T16:13:24.941Z"
   },
   {
    "duration": 24,
    "start_time": "2022-09-25T16:13:24.952Z"
   },
   {
    "duration": 13,
    "start_time": "2022-09-25T16:13:24.978Z"
   },
   {
    "duration": 52,
    "start_time": "2022-09-25T18:04:43.395Z"
   },
   {
    "duration": 6,
    "start_time": "2022-09-25T18:04:50.880Z"
   },
   {
    "duration": 412,
    "start_time": "2022-09-25T18:05:51.637Z"
   },
   {
    "duration": 65,
    "start_time": "2022-09-25T18:05:52.051Z"
   },
   {
    "duration": 0,
    "start_time": "2022-09-25T18:05:52.118Z"
   },
   {
    "duration": 0,
    "start_time": "2022-09-25T18:05:52.119Z"
   },
   {
    "duration": 0,
    "start_time": "2022-09-25T18:05:52.120Z"
   },
   {
    "duration": 0,
    "start_time": "2022-09-25T18:05:52.121Z"
   },
   {
    "duration": 0,
    "start_time": "2022-09-25T18:05:52.123Z"
   },
   {
    "duration": 0,
    "start_time": "2022-09-25T18:05:52.124Z"
   },
   {
    "duration": 0,
    "start_time": "2022-09-25T18:05:52.125Z"
   },
   {
    "duration": 0,
    "start_time": "2022-09-25T18:05:52.126Z"
   },
   {
    "duration": 0,
    "start_time": "2022-09-25T18:05:52.126Z"
   },
   {
    "duration": 0,
    "start_time": "2022-09-25T18:05:52.127Z"
   },
   {
    "duration": 0,
    "start_time": "2022-09-25T18:05:52.129Z"
   },
   {
    "duration": 0,
    "start_time": "2022-09-25T18:05:52.130Z"
   },
   {
    "duration": 0,
    "start_time": "2022-09-25T18:05:52.131Z"
   },
   {
    "duration": 0,
    "start_time": "2022-09-25T18:05:52.132Z"
   },
   {
    "duration": 0,
    "start_time": "2022-09-25T18:05:52.132Z"
   },
   {
    "duration": 0,
    "start_time": "2022-09-25T18:05:52.133Z"
   },
   {
    "duration": 0,
    "start_time": "2022-09-25T18:05:52.134Z"
   },
   {
    "duration": 0,
    "start_time": "2022-09-25T18:05:52.135Z"
   },
   {
    "duration": 0,
    "start_time": "2022-09-25T18:05:52.136Z"
   },
   {
    "duration": 60,
    "start_time": "2022-09-25T18:07:05.144Z"
   },
   {
    "duration": 7,
    "start_time": "2022-09-25T18:07:20.148Z"
   },
   {
    "duration": 7,
    "start_time": "2022-09-25T18:08:09.345Z"
   },
   {
    "duration": 75,
    "start_time": "2022-09-25T18:10:01.086Z"
   },
   {
    "duration": 7,
    "start_time": "2022-09-25T18:10:12.618Z"
   },
   {
    "duration": 8,
    "start_time": "2022-09-25T18:13:14.783Z"
   },
   {
    "duration": 46,
    "start_time": "2022-09-25T18:13:58.862Z"
   },
   {
    "duration": 46,
    "start_time": "2022-09-25T18:14:54.588Z"
   },
   {
    "duration": 51,
    "start_time": "2022-09-25T18:15:18.676Z"
   },
   {
    "duration": 42,
    "start_time": "2022-09-25T18:17:38.672Z"
   },
   {
    "duration": 50,
    "start_time": "2022-09-25T18:19:21.192Z"
   },
   {
    "duration": 43,
    "start_time": "2022-09-25T18:23:07.534Z"
   },
   {
    "duration": 9,
    "start_time": "2022-09-25T18:23:21.944Z"
   },
   {
    "duration": 151,
    "start_time": "2022-09-25T18:25:28.236Z"
   },
   {
    "duration": 64,
    "start_time": "2022-09-25T18:25:51.176Z"
   },
   {
    "duration": 65,
    "start_time": "2022-09-25T18:26:02.033Z"
   },
   {
    "duration": 66,
    "start_time": "2022-09-25T18:26:30.706Z"
   },
   {
    "duration": 65,
    "start_time": "2022-09-25T18:27:23.546Z"
   },
   {
    "duration": 65,
    "start_time": "2022-09-25T18:28:51.314Z"
   },
   {
    "duration": 64,
    "start_time": "2022-09-25T18:29:05.795Z"
   },
   {
    "duration": 66,
    "start_time": "2022-09-25T18:29:53.883Z"
   },
   {
    "duration": 65,
    "start_time": "2022-09-25T18:37:43.447Z"
   },
   {
    "duration": 68,
    "start_time": "2022-09-25T18:41:12.991Z"
   },
   {
    "duration": 48,
    "start_time": "2022-09-25T18:41:26.109Z"
   },
   {
    "duration": 61,
    "start_time": "2022-09-25T18:41:36.247Z"
   },
   {
    "duration": 51,
    "start_time": "2022-09-25T18:42:07.824Z"
   },
   {
    "duration": 48,
    "start_time": "2022-09-25T18:42:29.219Z"
   },
   {
    "duration": 76,
    "start_time": "2022-09-25T18:42:52.055Z"
   },
   {
    "duration": 398,
    "start_time": "2022-09-25T18:43:04.023Z"
   },
   {
    "duration": 14,
    "start_time": "2022-09-25T18:43:04.424Z"
   },
   {
    "duration": 16,
    "start_time": "2022-09-25T18:43:04.440Z"
   },
   {
    "duration": 60,
    "start_time": "2022-09-25T18:43:04.458Z"
   },
   {
    "duration": 0,
    "start_time": "2022-09-25T18:43:04.520Z"
   },
   {
    "duration": 0,
    "start_time": "2022-09-25T18:43:04.521Z"
   },
   {
    "duration": 0,
    "start_time": "2022-09-25T18:43:04.523Z"
   },
   {
    "duration": 0,
    "start_time": "2022-09-25T18:43:04.524Z"
   },
   {
    "duration": 0,
    "start_time": "2022-09-25T18:43:04.525Z"
   },
   {
    "duration": 0,
    "start_time": "2022-09-25T18:43:04.526Z"
   },
   {
    "duration": 0,
    "start_time": "2022-09-25T18:43:04.527Z"
   },
   {
    "duration": 0,
    "start_time": "2022-09-25T18:43:04.528Z"
   },
   {
    "duration": 0,
    "start_time": "2022-09-25T18:43:04.529Z"
   },
   {
    "duration": 0,
    "start_time": "2022-09-25T18:43:04.531Z"
   },
   {
    "duration": 0,
    "start_time": "2022-09-25T18:43:04.532Z"
   },
   {
    "duration": 0,
    "start_time": "2022-09-25T18:43:04.533Z"
   },
   {
    "duration": 0,
    "start_time": "2022-09-25T18:43:04.534Z"
   },
   {
    "duration": 0,
    "start_time": "2022-09-25T18:43:04.535Z"
   },
   {
    "duration": 0,
    "start_time": "2022-09-25T18:43:04.536Z"
   },
   {
    "duration": 0,
    "start_time": "2022-09-25T18:43:04.537Z"
   },
   {
    "duration": 101,
    "start_time": "2022-09-25T18:43:04.550Z"
   },
   {
    "duration": 70,
    "start_time": "2022-09-25T18:43:19.317Z"
   },
   {
    "duration": 103,
    "start_time": "2022-09-25T18:44:29.038Z"
   },
   {
    "duration": 58,
    "start_time": "2022-09-25T18:44:41.355Z"
   },
   {
    "duration": 46,
    "start_time": "2022-09-25T18:47:19.243Z"
   },
   {
    "duration": 63,
    "start_time": "2022-09-25T18:47:24.794Z"
   },
   {
    "duration": 55,
    "start_time": "2022-09-25T18:47:51.556Z"
   },
   {
    "duration": 89,
    "start_time": "2022-09-25T18:49:48.361Z"
   },
   {
    "duration": 134,
    "start_time": "2022-09-25T18:49:52.454Z"
   },
   {
    "duration": 54,
    "start_time": "2022-09-25T18:50:05.226Z"
   },
   {
    "duration": 101,
    "start_time": "2022-09-25T19:07:28.267Z"
   },
   {
    "duration": 62,
    "start_time": "2022-09-25T19:07:58.562Z"
   },
   {
    "duration": 5,
    "start_time": "2022-09-25T19:08:19.040Z"
   },
   {
    "duration": 63,
    "start_time": "2022-09-25T19:08:24.604Z"
   },
   {
    "duration": 47,
    "start_time": "2022-09-25T19:08:43.984Z"
   },
   {
    "duration": 912,
    "start_time": "2022-09-25T19:08:50.098Z"
   },
   {
    "duration": 830,
    "start_time": "2022-09-25T19:09:18.757Z"
   },
   {
    "duration": 817,
    "start_time": "2022-09-25T19:09:29.536Z"
   },
   {
    "duration": 67,
    "start_time": "2022-09-25T19:09:48.470Z"
   },
   {
    "duration": 74,
    "start_time": "2022-09-25T19:10:54.206Z"
   },
   {
    "duration": 47,
    "start_time": "2022-09-25T19:11:53.341Z"
   },
   {
    "duration": 71,
    "start_time": "2022-09-25T19:12:13.113Z"
   },
   {
    "duration": 47,
    "start_time": "2022-09-25T19:12:21.465Z"
   },
   {
    "duration": 73,
    "start_time": "2022-09-25T19:16:11.775Z"
   },
   {
    "duration": 819,
    "start_time": "2022-09-25T19:16:55.945Z"
   },
   {
    "duration": 72,
    "start_time": "2022-09-25T19:17:16.163Z"
   },
   {
    "duration": 58,
    "start_time": "2022-09-25T19:18:23.218Z"
   },
   {
    "duration": 43,
    "start_time": "2022-09-25T19:18:34.038Z"
   },
   {
    "duration": 69,
    "start_time": "2022-09-25T19:18:48.050Z"
   },
   {
    "duration": 69,
    "start_time": "2022-09-25T19:18:57.622Z"
   },
   {
    "duration": 67,
    "start_time": "2022-09-25T19:19:04.005Z"
   },
   {
    "duration": 47,
    "start_time": "2022-09-25T19:19:14.223Z"
   },
   {
    "duration": 74,
    "start_time": "2022-09-25T19:19:19.457Z"
   },
   {
    "duration": 60,
    "start_time": "2022-09-25T19:21:15.752Z"
   },
   {
    "duration": 68,
    "start_time": "2022-09-25T19:21:37.533Z"
   },
   {
    "duration": 78,
    "start_time": "2022-09-25T19:22:31.769Z"
   },
   {
    "duration": 78,
    "start_time": "2022-09-25T19:22:49.916Z"
   },
   {
    "duration": 116,
    "start_time": "2022-09-25T19:24:41.020Z"
   },
   {
    "duration": 78,
    "start_time": "2022-09-25T19:24:46.210Z"
   },
   {
    "duration": 76,
    "start_time": "2022-09-25T19:25:37.176Z"
   },
   {
    "duration": 75,
    "start_time": "2022-09-25T19:26:10.860Z"
   },
   {
    "duration": 81,
    "start_time": "2022-09-25T19:31:12.687Z"
   },
   {
    "duration": 5,
    "start_time": "2022-09-25T19:31:42.134Z"
   },
   {
    "duration": 81,
    "start_time": "2022-09-25T19:31:47.810Z"
   },
   {
    "duration": 81,
    "start_time": "2022-09-25T19:31:57.282Z"
   },
   {
    "duration": 78,
    "start_time": "2022-09-25T19:32:15.901Z"
   },
   {
    "duration": 83,
    "start_time": "2022-09-25T19:32:42.451Z"
   },
   {
    "duration": 76,
    "start_time": "2022-09-25T19:33:17.976Z"
   },
   {
    "duration": 76,
    "start_time": "2022-09-25T19:34:33.223Z"
   },
   {
    "duration": 84,
    "start_time": "2022-09-25T19:43:56.410Z"
   },
   {
    "duration": 82,
    "start_time": "2022-09-25T19:44:10.734Z"
   },
   {
    "duration": 82,
    "start_time": "2022-09-25T19:45:13.970Z"
   },
   {
    "duration": 83,
    "start_time": "2022-09-25T19:45:59.036Z"
   },
   {
    "duration": 83,
    "start_time": "2022-09-25T19:46:48.646Z"
   },
   {
    "duration": 88,
    "start_time": "2022-09-25T19:46:59.667Z"
   },
   {
    "duration": 439,
    "start_time": "2022-09-25T19:47:06.889Z"
   },
   {
    "duration": 11,
    "start_time": "2022-09-25T19:47:07.330Z"
   },
   {
    "duration": 8,
    "start_time": "2022-09-25T19:47:07.343Z"
   },
   {
    "duration": 76,
    "start_time": "2022-09-25T19:47:07.353Z"
   },
   {
    "duration": 852,
    "start_time": "2022-09-25T19:47:07.431Z"
   },
   {
    "duration": 238,
    "start_time": "2022-09-25T19:47:08.285Z"
   },
   {
    "duration": 360,
    "start_time": "2022-09-25T19:47:08.524Z"
   },
   {
    "duration": 300,
    "start_time": "2022-09-25T19:47:08.886Z"
   },
   {
    "duration": 371,
    "start_time": "2022-09-25T19:47:09.188Z"
   },
   {
    "duration": 113,
    "start_time": "2022-09-25T19:47:09.561Z"
   },
   {
    "duration": 4,
    "start_time": "2022-09-25T19:47:09.675Z"
   },
   {
    "duration": 122,
    "start_time": "2022-09-25T19:47:09.680Z"
   },
   {
    "duration": 4,
    "start_time": "2022-09-25T19:47:09.804Z"
   },
   {
    "duration": 200,
    "start_time": "2022-09-25T19:47:09.809Z"
   },
   {
    "duration": 119,
    "start_time": "2022-09-25T19:47:10.010Z"
   },
   {
    "duration": 6,
    "start_time": "2022-09-25T19:47:10.131Z"
   },
   {
    "duration": 515,
    "start_time": "2022-09-25T19:47:10.138Z"
   },
   {
    "duration": 8,
    "start_time": "2022-09-25T19:47:10.655Z"
   },
   {
    "duration": 8,
    "start_time": "2022-09-25T19:47:10.664Z"
   },
   {
    "duration": 37,
    "start_time": "2022-09-25T19:47:10.674Z"
   },
   {
    "duration": 13,
    "start_time": "2022-09-25T19:47:10.712Z"
   },
   {
    "duration": 53,
    "start_time": "2022-09-26T15:44:43.041Z"
   },
   {
    "duration": 457,
    "start_time": "2022-09-26T15:44:49.197Z"
   },
   {
    "duration": 12,
    "start_time": "2022-09-26T15:44:49.656Z"
   },
   {
    "duration": 8,
    "start_time": "2022-09-26T15:44:49.670Z"
   },
   {
    "duration": 169,
    "start_time": "2022-09-26T15:44:49.680Z"
   },
   {
    "duration": 971,
    "start_time": "2022-09-26T15:44:49.850Z"
   },
   {
    "duration": 263,
    "start_time": "2022-09-26T15:44:50.824Z"
   },
   {
    "duration": 417,
    "start_time": "2022-09-26T15:44:51.090Z"
   },
   {
    "duration": 368,
    "start_time": "2022-09-26T15:44:51.508Z"
   },
   {
    "duration": 359,
    "start_time": "2022-09-26T15:44:51.878Z"
   },
   {
    "duration": 127,
    "start_time": "2022-09-26T15:44:52.241Z"
   },
   {
    "duration": 5,
    "start_time": "2022-09-26T15:44:52.369Z"
   },
   {
    "duration": 157,
    "start_time": "2022-09-26T15:44:52.375Z"
   },
   {
    "duration": 4,
    "start_time": "2022-09-26T15:44:52.534Z"
   },
   {
    "duration": 214,
    "start_time": "2022-09-26T15:44:52.553Z"
   },
   {
    "duration": 157,
    "start_time": "2022-09-26T15:44:52.769Z"
   },
   {
    "duration": 7,
    "start_time": "2022-09-26T15:44:52.928Z"
   },
   {
    "duration": 602,
    "start_time": "2022-09-26T15:44:52.937Z"
   },
   {
    "duration": 15,
    "start_time": "2022-09-26T15:44:53.541Z"
   },
   {
    "duration": 69,
    "start_time": "2022-09-26T15:44:53.558Z"
   },
   {
    "duration": 36,
    "start_time": "2022-09-26T15:44:53.629Z"
   },
   {
    "duration": 56,
    "start_time": "2022-09-26T15:44:53.667Z"
   },
   {
    "duration": 96,
    "start_time": "2022-09-26T15:50:31.627Z"
   },
   {
    "duration": 91,
    "start_time": "2022-09-26T15:50:54.877Z"
   },
   {
    "duration": 61,
    "start_time": "2022-09-26T16:22:27.194Z"
   },
   {
    "duration": 89,
    "start_time": "2022-09-26T16:23:06.647Z"
   },
   {
    "duration": 219,
    "start_time": "2022-09-26T16:24:21.402Z"
   },
   {
    "duration": 87,
    "start_time": "2022-09-26T16:24:38.252Z"
   },
   {
    "duration": 87,
    "start_time": "2022-09-26T16:27:36.938Z"
   },
   {
    "duration": 89,
    "start_time": "2022-09-26T16:28:47.017Z"
   },
   {
    "duration": 72,
    "start_time": "2022-09-26T16:29:02.537Z"
   },
   {
    "duration": 88,
    "start_time": "2022-09-26T16:29:57.835Z"
   },
   {
    "duration": 94,
    "start_time": "2022-09-26T16:30:30.639Z"
   },
   {
    "duration": 873,
    "start_time": "2022-09-26T16:32:50.345Z"
   },
   {
    "duration": 89,
    "start_time": "2022-09-26T16:34:13.925Z"
   },
   {
    "duration": 101,
    "start_time": "2022-09-26T16:34:54.452Z"
   },
   {
    "duration": 90,
    "start_time": "2022-09-26T16:35:14.143Z"
   },
   {
    "duration": 92,
    "start_time": "2022-09-26T16:35:22.073Z"
   },
   {
    "duration": 90,
    "start_time": "2022-09-26T16:36:33.874Z"
   },
   {
    "duration": 92,
    "start_time": "2022-09-26T16:40:55.973Z"
   },
   {
    "duration": 92,
    "start_time": "2022-09-26T16:41:17.697Z"
   },
   {
    "duration": 92,
    "start_time": "2022-09-26T16:43:18.650Z"
   },
   {
    "duration": 431,
    "start_time": "2022-09-26T16:46:20.582Z"
   },
   {
    "duration": 12,
    "start_time": "2022-09-26T16:46:21.015Z"
   },
   {
    "duration": 9,
    "start_time": "2022-09-26T16:46:21.028Z"
   },
   {
    "duration": 83,
    "start_time": "2022-09-26T16:46:21.039Z"
   },
   {
    "duration": 856,
    "start_time": "2022-09-26T16:46:21.124Z"
   },
   {
    "duration": 255,
    "start_time": "2022-09-26T16:46:21.982Z"
   },
   {
    "duration": 370,
    "start_time": "2022-09-26T16:46:22.239Z"
   },
   {
    "duration": 265,
    "start_time": "2022-09-26T16:46:22.612Z"
   },
   {
    "duration": 448,
    "start_time": "2022-09-26T16:46:22.879Z"
   },
   {
    "duration": 133,
    "start_time": "2022-09-26T16:46:23.330Z"
   },
   {
    "duration": 4,
    "start_time": "2022-09-26T16:46:23.465Z"
   },
   {
    "duration": 155,
    "start_time": "2022-09-26T16:46:23.471Z"
   },
   {
    "duration": 5,
    "start_time": "2022-09-26T16:46:23.627Z"
   },
   {
    "duration": 214,
    "start_time": "2022-09-26T16:46:23.634Z"
   },
   {
    "duration": 149,
    "start_time": "2022-09-26T16:46:23.850Z"
   },
   {
    "duration": 6,
    "start_time": "2022-09-26T16:46:24.001Z"
   },
   {
    "duration": 596,
    "start_time": "2022-09-26T16:46:24.009Z"
   },
   {
    "duration": 10,
    "start_time": "2022-09-26T16:46:24.607Z"
   },
   {
    "duration": 13,
    "start_time": "2022-09-26T16:46:24.618Z"
   },
   {
    "duration": 51,
    "start_time": "2022-09-26T16:46:24.632Z"
   },
   {
    "duration": 15,
    "start_time": "2022-09-26T16:46:24.685Z"
   },
   {
    "duration": 244,
    "start_time": "2022-09-26T16:51:03.012Z"
   },
   {
    "duration": 346,
    "start_time": "2022-09-26T16:51:12.968Z"
   },
   {
    "duration": 640,
    "start_time": "2022-09-26T16:55:18.935Z"
   },
   {
    "duration": 632,
    "start_time": "2022-09-26T16:56:11.484Z"
   },
   {
    "duration": 646,
    "start_time": "2022-09-26T16:58:20.431Z"
   },
   {
    "duration": 528,
    "start_time": "2022-09-26T16:58:43.554Z"
   },
   {
    "duration": 536,
    "start_time": "2022-09-26T16:58:53.368Z"
   },
   {
    "duration": 404,
    "start_time": "2022-09-26T16:59:10.796Z"
   },
   {
    "duration": 538,
    "start_time": "2022-09-26T16:59:33.854Z"
   },
   {
    "duration": 594,
    "start_time": "2022-09-26T17:04:42.423Z"
   },
   {
    "duration": 513,
    "start_time": "2022-09-26T17:04:57.394Z"
   },
   {
    "duration": 535,
    "start_time": "2022-09-26T17:05:15.251Z"
   },
   {
    "duration": 505,
    "start_time": "2022-09-26T17:05:46.030Z"
   },
   {
    "duration": 582,
    "start_time": "2022-09-26T17:08:07.912Z"
   },
   {
    "duration": 518,
    "start_time": "2022-09-26T17:10:55.831Z"
   },
   {
    "duration": 511,
    "start_time": "2022-09-26T17:11:02.868Z"
   },
   {
    "duration": 609,
    "start_time": "2022-09-26T17:11:12.699Z"
   },
   {
    "duration": 530,
    "start_time": "2022-09-26T17:11:20.616Z"
   },
   {
    "duration": 528,
    "start_time": "2022-09-26T17:11:30.227Z"
   },
   {
    "duration": 671,
    "start_time": "2022-09-26T17:13:21.306Z"
   },
   {
    "duration": 686,
    "start_time": "2022-09-26T17:17:29.894Z"
   },
   {
    "duration": 650,
    "start_time": "2022-09-26T17:20:10.364Z"
   },
   {
    "duration": 807,
    "start_time": "2022-09-26T17:20:19.695Z"
   },
   {
    "duration": 555,
    "start_time": "2022-09-26T17:20:35.393Z"
   },
   {
    "duration": 300,
    "start_time": "2022-09-26T17:21:53.781Z"
   },
   {
    "duration": 387,
    "start_time": "2022-09-26T17:22:17.697Z"
   },
   {
    "duration": 429,
    "start_time": "2022-09-26T17:23:05.644Z"
   },
   {
    "duration": 490,
    "start_time": "2022-09-26T17:24:53.844Z"
   },
   {
    "duration": 467,
    "start_time": "2022-09-26T17:25:18.663Z"
   },
   {
    "duration": 613,
    "start_time": "2022-09-26T17:25:35.349Z"
   },
   {
    "duration": 525,
    "start_time": "2022-09-26T17:25:45.337Z"
   },
   {
    "duration": 132,
    "start_time": "2022-09-26T17:26:27.774Z"
   },
   {
    "duration": 414,
    "start_time": "2022-09-26T17:26:59.945Z"
   },
   {
    "duration": 401,
    "start_time": "2022-09-26T17:27:34.127Z"
   },
   {
    "duration": 387,
    "start_time": "2022-09-26T17:27:52.372Z"
   },
   {
    "duration": 392,
    "start_time": "2022-09-26T17:28:17.842Z"
   },
   {
    "duration": 268,
    "start_time": "2022-09-26T17:29:01.892Z"
   },
   {
    "duration": 405,
    "start_time": "2022-09-26T17:29:41.654Z"
   },
   {
    "duration": 462,
    "start_time": "2022-09-26T17:30:22.978Z"
   },
   {
    "duration": 361,
    "start_time": "2022-09-26T17:30:28.406Z"
   },
   {
    "duration": 265,
    "start_time": "2022-09-26T17:31:05.892Z"
   },
   {
    "duration": 379,
    "start_time": "2022-09-26T17:32:28.578Z"
   },
   {
    "duration": 413,
    "start_time": "2022-09-26T17:33:12.953Z"
   },
   {
    "duration": 355,
    "start_time": "2022-09-26T17:33:28.685Z"
   },
   {
    "duration": 366,
    "start_time": "2022-09-26T17:33:40.056Z"
   },
   {
    "duration": 121,
    "start_time": "2022-09-26T17:34:37.341Z"
   },
   {
    "duration": 416,
    "start_time": "2022-09-26T17:35:37.267Z"
   },
   {
    "duration": 13,
    "start_time": "2022-09-26T17:35:37.685Z"
   },
   {
    "duration": 8,
    "start_time": "2022-09-26T17:35:37.699Z"
   },
   {
    "duration": 78,
    "start_time": "2022-09-26T17:35:37.709Z"
   },
   {
    "duration": 753,
    "start_time": "2022-09-26T17:35:37.789Z"
   },
   {
    "duration": 298,
    "start_time": "2022-09-26T17:35:38.544Z"
   },
   {
    "duration": 397,
    "start_time": "2022-09-26T17:35:38.844Z"
   },
   {
    "duration": 270,
    "start_time": "2022-09-26T17:35:39.243Z"
   },
   {
    "duration": 422,
    "start_time": "2022-09-26T17:35:39.514Z"
   },
   {
    "duration": 126,
    "start_time": "2022-09-26T17:35:39.940Z"
   },
   {
    "duration": 4,
    "start_time": "2022-09-26T17:35:40.068Z"
   },
   {
    "duration": 140,
    "start_time": "2022-09-26T17:35:40.073Z"
   },
   {
    "duration": 5,
    "start_time": "2022-09-26T17:35:40.214Z"
   },
   {
    "duration": 206,
    "start_time": "2022-09-26T17:35:40.221Z"
   },
   {
    "duration": 143,
    "start_time": "2022-09-26T17:35:40.429Z"
   },
   {
    "duration": 7,
    "start_time": "2022-09-26T17:35:40.574Z"
   },
   {
    "duration": 580,
    "start_time": "2022-09-26T17:35:40.583Z"
   },
   {
    "duration": 11,
    "start_time": "2022-09-26T17:35:41.165Z"
   },
   {
    "duration": 11,
    "start_time": "2022-09-26T17:35:41.177Z"
   },
   {
    "duration": 29,
    "start_time": "2022-09-26T17:35:41.190Z"
   },
   {
    "duration": 41,
    "start_time": "2022-09-26T17:35:41.221Z"
   },
   {
    "duration": 152,
    "start_time": "2022-09-26T17:44:33.455Z"
   },
   {
    "duration": 127,
    "start_time": "2022-09-26T17:44:44.136Z"
   },
   {
    "duration": 235,
    "start_time": "2022-09-26T17:44:51.420Z"
   },
   {
    "duration": 84,
    "start_time": "2022-09-26T17:47:52.211Z"
   },
   {
    "duration": 452,
    "start_time": "2022-09-26T17:48:02.440Z"
   },
   {
    "duration": 13,
    "start_time": "2022-09-26T17:48:02.894Z"
   },
   {
    "duration": 17,
    "start_time": "2022-09-26T17:48:02.909Z"
   },
   {
    "duration": 75,
    "start_time": "2022-09-26T17:48:02.928Z"
   },
   {
    "duration": 770,
    "start_time": "2022-09-26T17:48:03.006Z"
   },
   {
    "duration": 281,
    "start_time": "2022-09-26T17:48:03.778Z"
   },
   {
    "duration": 382,
    "start_time": "2022-09-26T17:48:04.061Z"
   },
   {
    "duration": 276,
    "start_time": "2022-09-26T17:48:04.445Z"
   },
   {
    "duration": 402,
    "start_time": "2022-09-26T17:48:04.722Z"
   },
   {
    "duration": 119,
    "start_time": "2022-09-26T17:48:05.126Z"
   },
   {
    "duration": 9,
    "start_time": "2022-09-26T17:48:05.246Z"
   },
   {
    "duration": 130,
    "start_time": "2022-09-26T17:48:05.256Z"
   },
   {
    "duration": 4,
    "start_time": "2022-09-26T17:48:05.387Z"
   },
   {
    "duration": 250,
    "start_time": "2022-09-26T17:48:05.394Z"
   },
   {
    "duration": 146,
    "start_time": "2022-09-26T17:48:05.646Z"
   },
   {
    "duration": 6,
    "start_time": "2022-09-26T17:48:05.794Z"
   },
   {
    "duration": 568,
    "start_time": "2022-09-26T17:48:05.801Z"
   },
   {
    "duration": 9,
    "start_time": "2022-09-26T17:48:06.371Z"
   },
   {
    "duration": 15,
    "start_time": "2022-09-26T17:48:06.381Z"
   },
   {
    "duration": 36,
    "start_time": "2022-09-26T17:48:06.397Z"
   },
   {
    "duration": 23,
    "start_time": "2022-09-26T17:48:06.435Z"
   },
   {
    "duration": 128,
    "start_time": "2022-09-26T17:52:38.797Z"
   },
   {
    "duration": 123,
    "start_time": "2022-09-26T17:52:48.722Z"
   },
   {
    "duration": 231,
    "start_time": "2022-09-26T17:53:36.344Z"
   },
   {
    "duration": 139,
    "start_time": "2022-09-26T17:53:46.827Z"
   },
   {
    "duration": 480,
    "start_time": "2022-09-27T05:37:11.403Z"
   },
   {
    "duration": 10,
    "start_time": "2022-09-27T05:37:11.885Z"
   },
   {
    "duration": 18,
    "start_time": "2022-09-27T05:37:11.896Z"
   },
   {
    "duration": 160,
    "start_time": "2022-09-27T05:37:11.916Z"
   },
   {
    "duration": 898,
    "start_time": "2022-09-27T05:37:12.078Z"
   },
   {
    "duration": 255,
    "start_time": "2022-09-27T05:37:12.978Z"
   },
   {
    "duration": 438,
    "start_time": "2022-09-27T05:37:13.235Z"
   },
   {
    "duration": 303,
    "start_time": "2022-09-27T05:37:13.674Z"
   },
   {
    "duration": 363,
    "start_time": "2022-09-27T05:37:13.978Z"
   },
   {
    "duration": 158,
    "start_time": "2022-09-27T05:37:14.343Z"
   },
   {
    "duration": 9,
    "start_time": "2022-09-27T05:37:14.503Z"
   },
   {
    "duration": 140,
    "start_time": "2022-09-27T05:37:14.513Z"
   },
   {
    "duration": 4,
    "start_time": "2022-09-27T05:37:14.655Z"
   },
   {
    "duration": 212,
    "start_time": "2022-09-27T05:37:14.662Z"
   },
   {
    "duration": 156,
    "start_time": "2022-09-27T05:37:14.876Z"
   },
   {
    "duration": 7,
    "start_time": "2022-09-27T05:37:15.034Z"
   },
   {
    "duration": 550,
    "start_time": "2022-09-27T05:37:15.043Z"
   },
   {
    "duration": 16,
    "start_time": "2022-09-27T05:37:15.595Z"
   },
   {
    "duration": 9,
    "start_time": "2022-09-27T05:37:15.613Z"
   },
   {
    "duration": 35,
    "start_time": "2022-09-27T05:37:15.624Z"
   },
   {
    "duration": 12,
    "start_time": "2022-09-27T05:37:15.661Z"
   },
   {
    "duration": 475,
    "start_time": "2022-11-17T14:11:50.689Z"
   },
   {
    "duration": 12,
    "start_time": "2022-11-17T14:11:51.166Z"
   },
   {
    "duration": 9,
    "start_time": "2022-11-17T14:11:51.180Z"
   },
   {
    "duration": 149,
    "start_time": "2022-11-17T14:11:51.191Z"
   },
   {
    "duration": 865,
    "start_time": "2022-11-17T14:11:51.342Z"
   },
   {
    "duration": 374,
    "start_time": "2022-11-17T14:11:52.209Z"
   },
   {
    "duration": 448,
    "start_time": "2022-11-17T14:11:52.585Z"
   },
   {
    "duration": 290,
    "start_time": "2022-11-17T14:11:53.035Z"
   },
   {
    "duration": 461,
    "start_time": "2022-11-17T14:11:53.327Z"
   },
   {
    "duration": 161,
    "start_time": "2022-11-17T14:11:53.791Z"
   },
   {
    "duration": 5,
    "start_time": "2022-11-17T14:11:53.954Z"
   },
   {
    "duration": 199,
    "start_time": "2022-11-17T14:11:53.960Z"
   },
   {
    "duration": 7,
    "start_time": "2022-11-17T14:11:54.162Z"
   },
   {
    "duration": 363,
    "start_time": "2022-11-17T14:11:54.173Z"
   },
   {
    "duration": 311,
    "start_time": "2022-11-17T14:11:54.537Z"
   },
   {
    "duration": 8,
    "start_time": "2022-11-17T14:11:54.850Z"
   },
   {
    "duration": 1064,
    "start_time": "2022-11-17T14:11:54.860Z"
   },
   {
    "duration": 12,
    "start_time": "2022-11-17T14:11:55.925Z"
   },
   {
    "duration": 14,
    "start_time": "2022-11-17T14:11:55.939Z"
   },
   {
    "duration": 77,
    "start_time": "2022-11-17T14:11:55.955Z"
   },
   {
    "duration": 15,
    "start_time": "2022-11-17T14:11:56.033Z"
   },
   {
    "duration": 452,
    "start_time": "2022-12-17T08:21:22.063Z"
   },
   {
    "duration": 11,
    "start_time": "2022-12-17T08:21:22.517Z"
   },
   {
    "duration": 8,
    "start_time": "2022-12-17T08:21:22.529Z"
   },
   {
    "duration": 172,
    "start_time": "2022-12-17T08:21:22.538Z"
   },
   {
    "duration": 716,
    "start_time": "2022-12-17T08:21:22.712Z"
   },
   {
    "duration": 276,
    "start_time": "2022-12-17T08:21:23.429Z"
   },
   {
    "duration": 396,
    "start_time": "2022-12-17T08:21:23.707Z"
   },
   {
    "duration": 269,
    "start_time": "2022-12-17T08:21:24.105Z"
   },
   {
    "duration": 400,
    "start_time": "2022-12-17T08:21:24.376Z"
   },
   {
    "duration": 129,
    "start_time": "2022-12-17T08:21:24.778Z"
   },
   {
    "duration": 5,
    "start_time": "2022-12-17T08:21:24.908Z"
   },
   {
    "duration": 149,
    "start_time": "2022-12-17T08:21:24.914Z"
   },
   {
    "duration": 4,
    "start_time": "2022-12-17T08:21:25.064Z"
   },
   {
    "duration": 207,
    "start_time": "2022-12-17T08:21:25.070Z"
   },
   {
    "duration": 133,
    "start_time": "2022-12-17T08:21:25.279Z"
   },
   {
    "duration": 5,
    "start_time": "2022-12-17T08:21:25.414Z"
   },
   {
    "duration": 533,
    "start_time": "2022-12-17T08:21:25.420Z"
   },
   {
    "duration": 12,
    "start_time": "2022-12-17T08:21:25.956Z"
   },
   {
    "duration": 10,
    "start_time": "2022-12-17T08:21:25.970Z"
   },
   {
    "duration": 45,
    "start_time": "2022-12-17T08:21:25.982Z"
   },
   {
    "duration": 13,
    "start_time": "2022-12-17T08:21:26.029Z"
   },
   {
    "duration": 416,
    "start_time": "2022-12-17T08:23:27.389Z"
   },
   {
    "duration": 12,
    "start_time": "2022-12-17T08:23:27.807Z"
   },
   {
    "duration": 8,
    "start_time": "2022-12-17T08:23:27.820Z"
   },
   {
    "duration": 80,
    "start_time": "2022-12-17T08:23:27.829Z"
   },
   {
    "duration": 747,
    "start_time": "2022-12-17T08:23:27.911Z"
   },
   {
    "duration": 269,
    "start_time": "2022-12-17T08:23:28.660Z"
   },
   {
    "duration": 350,
    "start_time": "2022-12-17T08:23:28.930Z"
   },
   {
    "duration": 249,
    "start_time": "2022-12-17T08:23:29.281Z"
   },
   {
    "duration": 437,
    "start_time": "2022-12-17T08:23:29.531Z"
   },
   {
    "duration": 143,
    "start_time": "2022-12-17T08:23:29.971Z"
   },
   {
    "duration": 5,
    "start_time": "2022-12-17T08:23:30.115Z"
   },
   {
    "duration": 164,
    "start_time": "2022-12-17T08:23:30.121Z"
   },
   {
    "duration": 12,
    "start_time": "2022-12-17T08:23:30.287Z"
   },
   {
    "duration": 247,
    "start_time": "2022-12-17T08:23:30.301Z"
   },
   {
    "duration": 185,
    "start_time": "2022-12-17T08:23:30.549Z"
   },
   {
    "duration": 7,
    "start_time": "2022-12-17T08:23:30.736Z"
   },
   {
    "duration": 608,
    "start_time": "2022-12-17T08:23:30.745Z"
   },
   {
    "duration": 9,
    "start_time": "2022-12-17T08:23:31.355Z"
   },
   {
    "duration": 13,
    "start_time": "2022-12-17T08:23:31.366Z"
   },
   {
    "duration": 44,
    "start_time": "2022-12-17T08:23:31.381Z"
   },
   {
    "duration": 13,
    "start_time": "2022-12-17T08:23:31.427Z"
   },
   {
    "duration": 423,
    "start_time": "2022-12-17T08:24:25.840Z"
   },
   {
    "duration": 11,
    "start_time": "2022-12-17T08:24:26.266Z"
   },
   {
    "duration": 7,
    "start_time": "2022-12-17T08:24:26.278Z"
   },
   {
    "duration": 74,
    "start_time": "2022-12-17T08:24:26.287Z"
   },
   {
    "duration": 725,
    "start_time": "2022-12-17T08:24:26.363Z"
   },
   {
    "duration": 256,
    "start_time": "2022-12-17T08:24:27.090Z"
   },
   {
    "duration": 348,
    "start_time": "2022-12-17T08:24:27.348Z"
   },
   {
    "duration": 270,
    "start_time": "2022-12-17T08:24:27.697Z"
   },
   {
    "duration": 386,
    "start_time": "2022-12-17T08:24:27.969Z"
   },
   {
    "duration": 128,
    "start_time": "2022-12-17T08:24:28.356Z"
   },
   {
    "duration": 3,
    "start_time": "2022-12-17T08:24:28.486Z"
   },
   {
    "duration": 136,
    "start_time": "2022-12-17T08:24:28.491Z"
   },
   {
    "duration": 4,
    "start_time": "2022-12-17T08:24:28.628Z"
   },
   {
    "duration": 209,
    "start_time": "2022-12-17T08:24:28.634Z"
   },
   {
    "duration": 164,
    "start_time": "2022-12-17T08:24:28.845Z"
   },
   {
    "duration": 6,
    "start_time": "2022-12-17T08:24:29.011Z"
   },
   {
    "duration": 501,
    "start_time": "2022-12-17T08:24:29.018Z"
   },
   {
    "duration": 10,
    "start_time": "2022-12-17T08:24:29.520Z"
   },
   {
    "duration": 8,
    "start_time": "2022-12-17T08:24:29.531Z"
   },
   {
    "duration": 24,
    "start_time": "2022-12-17T08:24:29.541Z"
   },
   {
    "duration": 34,
    "start_time": "2022-12-17T08:24:29.566Z"
   }
  ],
  "kernelspec": {
   "display_name": "Python 3 (ipykernel)",
   "language": "python",
   "name": "python3"
  },
  "language_info": {
   "codemirror_mode": {
    "name": "ipython",
    "version": 3
   },
   "file_extension": ".py",
   "mimetype": "text/x-python",
   "name": "python",
   "nbconvert_exporter": "python",
   "pygments_lexer": "ipython3",
   "version": "3.9.12"
  },
  "toc": {
   "base_numbering": 1,
   "nav_menu": {},
   "number_sections": true,
   "sideBar": true,
   "skip_h1_title": true,
   "title_cell": "Table of Contents",
   "title_sidebar": "Contents",
   "toc_cell": false,
   "toc_position": {
    "height": "calc(100% - 180px)",
    "left": "10px",
    "top": "150px",
    "width": "210.729px"
   },
   "toc_section_display": true,
   "toc_window_display": true
  }
 },
 "nbformat": 4,
 "nbformat_minor": 2
}
