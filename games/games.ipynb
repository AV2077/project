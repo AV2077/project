{
 "cells": [
  {
   "cell_type": "markdown",
   "metadata": {},
   "source": [
    "# Прогноз продаж игр интернет-магазина на 2017 год\n",
    "\n",
    "- Дано: исторические данные из открытых источников о продажах игр до 2016 года, оценки пользователей и экспертов, жанры и платформы (например, Xbox или PlayStation). \n",
    "- Цель: выявить определяющие успешность игры закономерности. Это позволит сделать ставку на потенциально популярный продукт и спланировать рекламные кампании."
   ]
  },
  {
   "cell_type": "code",
   "execution_count": 1,
   "metadata": {},
   "outputs": [],
   "source": [
    "import pandas as pd\n",
    "import matplotlib.pyplot as plt\n",
    "import numpy as np\n",
    "import seaborn as sns\n",
    "from scipy import stats as st"
   ]
  },
  {
   "cell_type": "markdown",
   "metadata": {},
   "source": [
    "## Знакомство с общей информацией"
   ]
  },
  {
   "cell_type": "code",
   "execution_count": 2,
   "metadata": {},
   "outputs": [],
   "source": [
    "data = pd.read_csv('/games.csv')"
   ]
  },
  {
   "cell_type": "code",
   "execution_count": 3,
   "metadata": {},
   "outputs": [
    {
     "data": {
      "text/html": [
       "<div>\n",
       "<style scoped>\n",
       "    .dataframe tbody tr th:only-of-type {\n",
       "        vertical-align: middle;\n",
       "    }\n",
       "\n",
       "    .dataframe tbody tr th {\n",
       "        vertical-align: top;\n",
       "    }\n",
       "\n",
       "    .dataframe thead th {\n",
       "        text-align: right;\n",
       "    }\n",
       "</style>\n",
       "<table border=\"1\" class=\"dataframe\">\n",
       "  <thead>\n",
       "    <tr style=\"text-align: right;\">\n",
       "      <th></th>\n",
       "      <th>Name</th>\n",
       "      <th>Platform</th>\n",
       "      <th>Year_of_Release</th>\n",
       "      <th>Genre</th>\n",
       "      <th>NA_sales</th>\n",
       "      <th>EU_sales</th>\n",
       "      <th>JP_sales</th>\n",
       "      <th>Other_sales</th>\n",
       "      <th>Critic_Score</th>\n",
       "      <th>User_Score</th>\n",
       "      <th>Rating</th>\n",
       "    </tr>\n",
       "  </thead>\n",
       "  <tbody>\n",
       "    <tr>\n",
       "      <th>0</th>\n",
       "      <td>Wii Sports</td>\n",
       "      <td>Wii</td>\n",
       "      <td>2006.0</td>\n",
       "      <td>Sports</td>\n",
       "      <td>41.36</td>\n",
       "      <td>28.96</td>\n",
       "      <td>3.77</td>\n",
       "      <td>8.45</td>\n",
       "      <td>76.0</td>\n",
       "      <td>8</td>\n",
       "      <td>E</td>\n",
       "    </tr>\n",
       "    <tr>\n",
       "      <th>1</th>\n",
       "      <td>Super Mario Bros.</td>\n",
       "      <td>NES</td>\n",
       "      <td>1985.0</td>\n",
       "      <td>Platform</td>\n",
       "      <td>29.08</td>\n",
       "      <td>3.58</td>\n",
       "      <td>6.81</td>\n",
       "      <td>0.77</td>\n",
       "      <td>NaN</td>\n",
       "      <td>NaN</td>\n",
       "      <td>NaN</td>\n",
       "    </tr>\n",
       "    <tr>\n",
       "      <th>2</th>\n",
       "      <td>Mario Kart Wii</td>\n",
       "      <td>Wii</td>\n",
       "      <td>2008.0</td>\n",
       "      <td>Racing</td>\n",
       "      <td>15.68</td>\n",
       "      <td>12.76</td>\n",
       "      <td>3.79</td>\n",
       "      <td>3.29</td>\n",
       "      <td>82.0</td>\n",
       "      <td>8.3</td>\n",
       "      <td>E</td>\n",
       "    </tr>\n",
       "    <tr>\n",
       "      <th>3</th>\n",
       "      <td>Wii Sports Resort</td>\n",
       "      <td>Wii</td>\n",
       "      <td>2009.0</td>\n",
       "      <td>Sports</td>\n",
       "      <td>15.61</td>\n",
       "      <td>10.93</td>\n",
       "      <td>3.28</td>\n",
       "      <td>2.95</td>\n",
       "      <td>80.0</td>\n",
       "      <td>8</td>\n",
       "      <td>E</td>\n",
       "    </tr>\n",
       "    <tr>\n",
       "      <th>4</th>\n",
       "      <td>Pokemon Red/Pokemon Blue</td>\n",
       "      <td>GB</td>\n",
       "      <td>1996.0</td>\n",
       "      <td>Role-Playing</td>\n",
       "      <td>11.27</td>\n",
       "      <td>8.89</td>\n",
       "      <td>10.22</td>\n",
       "      <td>1.00</td>\n",
       "      <td>NaN</td>\n",
       "      <td>NaN</td>\n",
       "      <td>NaN</td>\n",
       "    </tr>\n",
       "  </tbody>\n",
       "</table>\n",
       "</div>"
      ],
      "text/plain": [
       "                       Name Platform  Year_of_Release         Genre  NA_sales  \\\n",
       "0                Wii Sports      Wii           2006.0        Sports     41.36   \n",
       "1         Super Mario Bros.      NES           1985.0      Platform     29.08   \n",
       "2            Mario Kart Wii      Wii           2008.0        Racing     15.68   \n",
       "3         Wii Sports Resort      Wii           2009.0        Sports     15.61   \n",
       "4  Pokemon Red/Pokemon Blue       GB           1996.0  Role-Playing     11.27   \n",
       "\n",
       "   EU_sales  JP_sales  Other_sales  Critic_Score User_Score Rating  \n",
       "0     28.96      3.77         8.45          76.0          8      E  \n",
       "1      3.58      6.81         0.77           NaN        NaN    NaN  \n",
       "2     12.76      3.79         3.29          82.0        8.3      E  \n",
       "3     10.93      3.28         2.95          80.0          8      E  \n",
       "4      8.89     10.22         1.00           NaN        NaN    NaN  "
      ]
     },
     "metadata": {},
     "output_type": "display_data"
    }
   ],
   "source": [
    "display(data.head())"
   ]
  },
  {
   "cell_type": "code",
   "execution_count": 4,
   "metadata": {
    "scrolled": false
   },
   "outputs": [
    {
     "name": "stdout",
     "output_type": "stream",
     "text": [
      "<class 'pandas.core.frame.DataFrame'>\n",
      "RangeIndex: 16715 entries, 0 to 16714\n",
      "Data columns (total 11 columns):\n",
      " #   Column           Non-Null Count  Dtype  \n",
      "---  ------           --------------  -----  \n",
      " 0   Name             16713 non-null  object \n",
      " 1   Platform         16715 non-null  object \n",
      " 2   Year_of_Release  16446 non-null  float64\n",
      " 3   Genre            16713 non-null  object \n",
      " 4   NA_sales         16715 non-null  float64\n",
      " 5   EU_sales         16715 non-null  float64\n",
      " 6   JP_sales         16715 non-null  float64\n",
      " 7   Other_sales      16715 non-null  float64\n",
      " 8   Critic_Score     8137 non-null   float64\n",
      " 9   User_Score       10014 non-null  object \n",
      " 10  Rating           9949 non-null   object \n",
      "dtypes: float64(6), object(5)\n",
      "memory usage: 1.4+ MB\n"
     ]
    }
   ],
   "source": [
    "data.info()"
   ]
  },
  {
   "cell_type": "markdown",
   "metadata": {},
   "source": [
    "## Подготовка данных"
   ]
  },
  {
   "cell_type": "markdown",
   "metadata": {},
   "source": [
    "### Приведение названий столбцов к нижнему регистру:"
   ]
  },
  {
   "cell_type": "code",
   "execution_count": 5,
   "metadata": {},
   "outputs": [],
   "source": [
    "data.columns = data.columns.str.lower()"
   ]
  },
  {
   "cell_type": "markdown",
   "metadata": {},
   "source": [
    "### Удаление строк с пропусками данных в столбце `name`."
   ]
  },
  {
   "cell_type": "code",
   "execution_count": 6,
   "metadata": {},
   "outputs": [],
   "source": [
    "# пропусков всего 2 и точное восстановление невозможно:\n",
    "data = data.dropna(subset=['name']).reset_index(drop=True)"
   ]
  },
  {
   "cell_type": "markdown",
   "metadata": {},
   "source": [
    "### Обработка пропусков данных в столбце `year_of_release`"
   ]
  },
  {
   "cell_type": "code",
   "execution_count": 7,
   "metadata": {},
   "outputs": [],
   "source": [
    "# группирую по названию игры и выбираю минимальный год. Оставшиеся удаляю, т.к. восстановить не получится:\n",
    "df_gr = data.groupby('name')['year_of_release'].min()\n",
    "\n",
    "def year(row):\n",
    "    name = row['name']\n",
    "    if name in df_gr.index:\n",
    "        return df_gr[name]\n",
    "    return 0\n",
    "\n",
    "data.loc[data['year_of_release'].isna(), 'year_of_release'] = data.loc[data['year_of_release'].isna()].apply(year, axis = 1)\n",
    "\n",
    "data = data.dropna(subset=['year_of_release']).reset_index(drop=True)"
   ]
  },
  {
   "cell_type": "markdown",
   "metadata": {},
   "source": [
    "### Замена пропусков данных в столбце `critic_score`"
   ]
  },
  {
   "cell_type": "code",
   "execution_count": null,
   "metadata": {},
   "outputs": [],
   "source": [
    "# заменяю на медианные значения, сгруппировав по названию игры:\n",
    "median_cr_sc = data.groupby('name')['critic_score'].median()\n",
    "for nam in data['name'].unique():\n",
    "    data.loc[data['name'] == nam, 'critic_score'] = data.loc[data['name'] == nam, 'critic_score'].fillna(median_cr_sc[nam])\n",
    "    \n",
    "# заменяю на медианные значения, сгруппировав по платформе:\n",
    "median_cr_sc = data.groupby('platform')['critic_score'].median()\n",
    "for plat in data['platform'].unique():\n",
    "    data.loc[data['platform'] == plat, 'critic_score'] = data.loc[data['platform'] == plat, 'critic_score'].fillna(median_cr_sc[plat])"
   ]
  },
  {
   "cell_type": "markdown",
   "metadata": {},
   "source": [
    "### Замена `tbd` в столбце `user_score` "
   ]
  },
  {
   "cell_type": "code",
   "execution_count": null,
   "metadata": {},
   "outputs": [],
   "source": [
    "# 'tbd' - аббр. \"требует уточнения\". Т.к. восстановить не получится - заменю на NaN:\n",
    "data['user_score'] = data['user_score'].replace('tbd', np.NaN)"
   ]
  },
  {
   "cell_type": "markdown",
   "metadata": {},
   "source": [
    "### Преобразование типов данных в столбцах:\n",
    " - с типом данных float64 во float32, для меньшей загрузки оперативной памяти\n",
    " - `user_score` во float32 для вычислений\n",
    " - `year_of_release` в целочисленные значения"
   ]
  },
  {
   "cell_type": "code",
   "execution_count": null,
   "metadata": {
    "scrolled": true
   },
   "outputs": [],
   "source": [
    "for col in ['na_sales', 'eu_sales','jp_sales','other_sales','critic_score', 'user_score']:\n",
    "    data[col] = data[col].astype('float32')\n",
    "\n",
    "data['year_of_release'] = data['year_of_release'].astype('Int32')"
   ]
  },
  {
   "cell_type": "markdown",
   "metadata": {},
   "source": [
    "### Замена пропусков данных в столбце `user_score`"
   ]
  },
  {
   "cell_type": "code",
   "execution_count": null,
   "metadata": {},
   "outputs": [],
   "source": [
    "# заменяю на медианные значения, сгруппировав по названию игры:\n",
    "median_us_sc = data.groupby('name')['user_score'].median()\n",
    "for nam in data['name'].unique():\n",
    "    data.loc[data['name'] == nam, 'user_score'] = data.loc[data['name'] == nam, 'user_score'].fillna(median_us_sc[nam])\n",
    "\n",
    "# заменяю на медианные значения, сгруппировав по платформе:\n",
    "median_us_sc = data.groupby('platform')['user_score'].median()\n",
    "for plat in data['platform'].unique():\n",
    "    data.loc[data['platform'] == plat, 'user_score'] = data.loc[data['platform'] == plat, 'user_score'].fillna(median_us_sc[plat])"
   ]
  },
  {
   "cell_type": "markdown",
   "metadata": {},
   "source": [
    "### Удаление оставшихся пропусков в `user_score` и `critic_score`:"
   ]
  },
  {
   "cell_type": "code",
   "execution_count": null,
   "metadata": {},
   "outputs": [],
   "source": [
    "data = data.dropna(subset=['user_score']).reset_index(drop=True)"
   ]
  },
  {
   "cell_type": "markdown",
   "metadata": {},
   "source": [
    "### Обработка пропусков данных в столбце `year_of_release`"
   ]
  },
  {
   "cell_type": "code",
   "execution_count": null,
   "metadata": {},
   "outputs": [],
   "source": [
    "# группирую по названию игры и выбираю минимальный год.\n",
    "df_gr = data.groupby('name')['rating']\n",
    "\n",
    "def year(row):\n",
    "    name = row['name']\n",
    "    if name in df_gr.index:\n",
    "        return df_gr[name]\n",
    "    return 0\n",
    "\n",
    "data.loc[data['year_of_release'].isna(), 'year_of_release'] = data.loc[data['year_of_release'].isna()].apply(year, axis = 1)\n",
    "\n",
    "#  оставшиеся удаляю, т.к. восстановить не получится:\n",
    "data = data.dropna(subset=['year_of_release']).reset_index(drop=True)"
   ]
  },
  {
   "cell_type": "markdown",
   "metadata": {},
   "source": [
    "### Замена пропусков данных в столбце `rating` "
   ]
  },
  {
   "cell_type": "code",
   "execution_count": null,
   "metadata": {},
   "outputs": [],
   "source": [
    "# заменяю на UNDEF (англ. Undefined - не определено), сгруппировав по названию игры:\n",
    "data['rating'] = data['rating'].fillna('UNDEF')"
   ]
  },
  {
   "cell_type": "markdown",
   "metadata": {},
   "source": [
    "### Подсчет суммарных продаж во всех регионах:"
   ]
  },
  {
   "cell_type": "code",
   "execution_count": null,
   "metadata": {},
   "outputs": [],
   "source": [
    "data['total_sales'] = data['na_sales'] + data['eu_sales'] + data['jp_sales'] + data['other_sales']"
   ]
  },
  {
   "cell_type": "code",
   "execution_count": null,
   "metadata": {},
   "outputs": [],
   "source": [
    "data.info()"
   ]
  },
  {
   "cell_type": "markdown",
   "metadata": {},
   "source": [
    "## Исследовательский анализ данных"
   ]
  },
  {
   "cell_type": "markdown",
   "metadata": {},
   "source": [
    "### Выпуск игр по годам:"
   ]
  },
  {
   "cell_type": "code",
   "execution_count": null,
   "metadata": {},
   "outputs": [],
   "source": [
    "data['year_of_release'].hist(bins=36, range= (1980,2016))\n",
    "plt.plot()\n",
    "plt.xlabel('Год выпуска, г.', fontsize='large', color='black')\n",
    "plt.ylabel('Продано игр, млн. копий.', fontsize='large', color='black')\n",
    "plt.show()"
   ]
  },
  {
   "cell_type": "code",
   "execution_count": null,
   "metadata": {
    "scrolled": false
   },
   "outputs": [],
   "source": [
    "platform_totalsales = data.pivot_table(index='platform', values='total_sales', aggfunc='sum')\\\n",
    "                            .nlargest(10, 'total_sales').index\n",
    "\n",
    "data.query('platform in @platform_totalsales').pivot_table(index = 'year_of_release',\\\n",
    "                            columns = 'platform', values= 'total_sales', aggfunc = 'sum').plot(figsize = (15,7))\n",
    "plt.xlabel('Год выпуска, г.', fontsize='large', color='black')\n",
    "plt.ylabel('Продано игр, млн. копий.', fontsize='large', color='black')\n",
    "plt.show()"
   ]
  },
  {
   "cell_type": "markdown",
   "metadata": {},
   "source": [
    "Рост выпуска игр стартовал в начале 90-х годов, с пиком в 2009-2010 гг. Далее, судя по всему, количество выпускаемых игр переросло в качество, чему поспособствовал прогресс ЭВМ и игровых платформ.\n",
    "Средняя продолжительность жизни платформы ~ 7 лет.\n",
    "Для дальнейшего анализа мне потребуются данные с \"современными\" играми, т.е за последние ~ 5 лет. "
   ]
  },
  {
   "cell_type": "code",
   "execution_count": null,
   "metadata": {},
   "outputs": [],
   "source": [
    "data = data[data['year_of_release'] >= 2013]"
   ]
  },
  {
   "cell_type": "markdown",
   "metadata": {},
   "source": [
    "### График продаж для ТОР-10 платформ начиная с 2013 года:"
   ]
  },
  {
   "cell_type": "code",
   "execution_count": null,
   "metadata": {},
   "outputs": [],
   "source": [
    "platform_totalsales = data.pivot_table(index='platform',\\\n",
    "                                       values='total_sales', aggfunc='sum').nlargest(10, 'total_sales').index\n",
    "\n",
    "data.query('platform in @platform_totalsales').\\\n",
    "pivot_table(index = 'year_of_release', columns = 'platform', \\\n",
    "            values= 'total_sales', aggfunc = 'sum').plot(figsize = (15,7), marker='d')\n",
    "plt.xlabel('Год выпуска, г.', fontsize='large', color='black')\n",
    "plt.ylabel('Продано игр, млн. копий.', fontsize='large', color='black')\n",
    "plt.show()"
   ]
  },
  {
   "cell_type": "markdown",
   "metadata": {},
   "source": [
    "- На графике видно, что в лидерах продаж на начало 2015 года 3 платфомы: Sony PS4, Xbox One, Nintendo 3DS. При этом первые две показывают рост, а Nintendo стагнирует с 2013 года. \n",
    "- В 2014 году тройку лидеров замыкала PS3, но вышедшее в 2013 году обновление платформы от Sony рисует \"крест\" на графике PS3-PS4 (такой же \"крест\" рисует Xbox One со своим предшественником Xbox 360).\n",
    "- Вероятно, что по причине неполных данных за 2016 год все платформы показывают падение относительно 2015 года.\n",
    "- Учитывая эту информацию и среднюю продолжительность жизни платформы могу предположить, что Sony PS4 и Xbox One продолжат рост в 2017 году."
   ]
  },
  {
   "cell_type": "markdown",
   "metadata": {},
   "source": [
    "### Диаграмма размаха:"
   ]
  },
  {
   "cell_type": "code",
   "execution_count": null,
   "metadata": {
    "scrolled": false
   },
   "outputs": [],
   "source": [
    "platform_totalsales = data.pivot_table(index='platform',\\\n",
    "                                       values='total_sales', aggfunc='sum').nlargest(10, 'total_sales').index\n",
    "\n",
    "data.query('platform in @platform_totalsales').\\\n",
    "pivot_table(index = 'year_of_release', columns = 'platform', \\\n",
    "            values= 'total_sales', aggfunc = 'sum').boxplot(figsize = (15,7))\n",
    "plt.xlabel('Платформы', fontsize='large', color='black')\n",
    "plt.ylabel('Продано игр, млн. копий.', fontsize='large', color='black')\n",
    "plt.show()"
   ]
  },
  {
   "cell_type": "markdown",
   "metadata": {},
   "source": [
    "На диаграмме видно, что за период с 2013 года тройка лидером суммарным продажам: Sony PS3, Sony PS4, Xbox 360"
   ]
  },
  {
   "cell_type": "markdown",
   "metadata": {},
   "source": [
    "### Влияние отзывов критиков и пользователей на продажи игр на платформе PS4"
   ]
  },
  {
   "cell_type": "code",
   "execution_count": null,
   "metadata": {},
   "outputs": [],
   "source": [
    "data.query('platform == \"PS4\" and critic_score > 0').plot(x='critic_score', y='total_sales', grid=True,\\\n",
    "                                                figsize=(15,7), kind='scatter', alpha=0.5)\n",
    "plt.plot()\n",
    "plt.xlabel('Отзывы критиков, балл', fontsize='large', color='black')\n",
    "plt.ylabel('Продажи, млн. копий.', fontsize='large', color='black')\n",
    "plt.show()\n",
    "print('Коэффициент корреляции:', data.query('platform == \"PS4\" and critic_score > 0')['critic_score']\\\n",
    "      .corr(data.query('platform == \"PS4\" and critic_score > 0')['total_sales']))"
   ]
  },
  {
   "cell_type": "markdown",
   "metadata": {},
   "source": [
    "Вывод: наблюдается положительная корреляция между отзывами критиков и продажами."
   ]
  },
  {
   "cell_type": "code",
   "execution_count": null,
   "metadata": {},
   "outputs": [],
   "source": [
    "data.query('platform == \"PS4\" and user_score > 0').plot(x='user_score', y='total_sales', grid=True,\\\n",
    "                                                figsize=(15,7), kind='scatter', alpha=0.5)\n",
    "plt.plot()\n",
    "plt.xlabel('Отзывы пользователей, балл', fontsize='large', color='black')\n",
    "plt.ylabel('Продажи, млн. копий.', fontsize='large', color='black')\n",
    "plt.show()\n",
    "print('Коэффициент корреляции:', data.query('platform == \"PS4\" and user_score > 0')['user_score']\\\n",
    "      .corr(data.query('platform == \"PS4\" and user_score > 0')['total_sales']))"
   ]
  },
  {
   "cell_type": "markdown",
   "metadata": {},
   "source": [
    "Вывод: наблюдается отрицательная корреляция между отзывами пользователей и продажами."
   ]
  },
  {
   "cell_type": "markdown",
   "metadata": {},
   "source": [
    "### Влияние отзывов критиков и пользователей на продажи игр на других платфомах"
   ]
  },
  {
   "cell_type": "code",
   "execution_count": null,
   "metadata": {
    "scrolled": false
   },
   "outputs": [],
   "source": [
    "data_other_plat = (data.pivot_table(index='platform', values='total_sales', aggfunc='sum')\n",
    "    .nlargest(6, 'total_sales').index)\n",
    "for pl in data_other_plat:\n",
    "    print(pl)\n",
    "    (data.query('platform != \"PS4\" and critic_score > 0')\n",
    "        .plot(kind='scatter', x='critic_score', y='total_sales', grid=True, alpha=0.5))\n",
    "    plt.plot()\n",
    "    plt.xlabel('Отзывы критиков, балл', fontsize='large', color='black')\n",
    "    plt.ylabel('Продажи, млн. копий.', fontsize='large', color='black')\n",
    "    plt.show()\n",
    "    print('Корреляция равна:', (data.query('platform != \"PS4\" and critic_score > 0')['critic_score']\n",
    "        .corr(data.query('platform != \"PS4\" and critic_score > 0')['total_sales'])))"
   ]
  },
  {
   "cell_type": "code",
   "execution_count": null,
   "metadata": {
    "scrolled": false
   },
   "outputs": [],
   "source": [
    "data_other_plat = (data.pivot_table(index='platform', values='total_sales', aggfunc='sum')\n",
    "    .nlargest(6, 'total_sales').index)\n",
    "for pl in data_other_plat:\n",
    "    print(pl)\n",
    "    (data.query('platform != \"PS4\" and user_score > 0')\n",
    "        .plot(kind='scatter', x='user_score', y='total_sales', grid=True, alpha=0.5))\n",
    "    plt.plot()\n",
    "    plt.xlabel('Отзывы пользователей, балл', fontsize='large', color='black')\n",
    "    plt.ylabel('Продажи, млн. копий.', fontsize='large', color='black')\n",
    "    plt.show()\n",
    "    print('Корреляция равна:', (data.query('platform != \"PS4\" and user_score > 0')['user_score']\n",
    "        .corr(data.query('platform != \"PS4\" and user_score > 0')['total_sales'])))"
   ]
  },
  {
   "cell_type": "markdown",
   "metadata": {},
   "source": [
    "Вывод: на других платформах наблюдается аналогичные корреляции, как и у лидера по количеству продаж."
   ]
  },
  {
   "cell_type": "markdown",
   "metadata": {},
   "source": [
    "### Распределение игр по жанрам"
   ]
  },
  {
   "cell_type": "code",
   "execution_count": null,
   "metadata": {},
   "outputs": [],
   "source": [
    "data_gr = data.groupby('genre')['total_sales'].median().to_frame().nlargest(10, 'total_sales')\n",
    "data_gr = data_gr.sort_values('total_sales', ascending=False).reset_index()\n",
    "plt.figure(figsize=(15,7))\n",
    "sns.barplot(x='genre', y='total_sales', data=data_gr)\n",
    "plt.xlabel('Жанр')\n",
    "plt.ylabel('Медианные продажи по жанру, млн. копий.')\n",
    "plt.show()"
   ]
  },
  {
   "cell_type": "code",
   "execution_count": null,
   "metadata": {},
   "outputs": [],
   "source": [
    "data_gr = data.groupby('genre')['total_sales'].mean().to_frame().nlargest(10, 'total_sales')\n",
    "data_gr = data_gr.sort_values('total_sales', ascending=False).reset_index()\n",
    "plt.figure(figsize=(15,7))\n",
    "sns.barplot(x='genre', y='total_sales', data=data_gr)\n",
    "plt.xlabel('Жанр')\n",
    "plt.ylabel('Средние продажи по жанру, млн. копий.')\n",
    "plt.show()"
   ]
  },
  {
   "cell_type": "code",
   "execution_count": null,
   "metadata": {},
   "outputs": [],
   "source": [
    "genre_totalsales = data.pivot_table(index='genre',\\\n",
    "                                       values='total_sales', aggfunc='sum').nlargest(10, 'total_sales').index\n",
    "\n",
    "data.query('genre in @genre_totalsales').\\\n",
    "pivot_table(index = 'year_of_release', columns = 'genre',\\\n",
    "            values= 'total_sales', aggfunc = 'sum').boxplot(figsize = (15,7))\n",
    "plt.xlabel('Жанры', fontsize='large', color='black')\n",
    "plt.ylabel('Продано игр, млн. копий.', fontsize='large', color='black')\n",
    "plt.show()"
   ]
  },
  {
   "cell_type": "markdown",
   "metadata": {},
   "source": [
    "Тройки лидирующих жанров по продажам:\n",
    "- по медианным  значениям: Shooter, Sports, Platform\n",
    "- по средним значениям: Shooter, Sports, Platform\n",
    "- по диаграмме распределения: Action, Shooter, Sports"
   ]
  },
  {
   "cell_type": "markdown",
   "metadata": {},
   "source": [
    "## Портрет пользователя каждого региона"
   ]
  },
  {
   "cell_type": "markdown",
   "metadata": {},
   "source": [
    "### Самые популярные платформы (топ-5)"
   ]
  },
  {
   "cell_type": "code",
   "execution_count": null,
   "metadata": {
    "scrolled": false
   },
   "outputs": [],
   "source": [
    "regions = [['na_sales', 'eu_sales'],['jp_sales','other_sales']]\n",
    "fig , ax = plt.subplots(nrows = 2, ncols = 2, figsize=(20,20))\n",
    "for i in [0, 1]:\n",
    "    for j in [0, 1]:\n",
    "        a = data.groupby(['platform'])[regions[i][j]].sum().to_frame().sort_values(by = regions[i][j], ascending=False).reset_index().nlargest(5, regions[i][j])\n",
    "        sns.barplot(data = a, x ='platform', y = regions[i][j], ax = ax[i, j])\n",
    "    plt.xlabel('Игровая плаформа')\n",
    "    plt.ylabel('Суммарные продажи, млн. копий.')\n",
    "plt.show()"
   ]
  },
  {
   "cell_type": "markdown",
   "metadata": {},
   "source": [
    "Глобально по продажам лидирует PS4, в Японии Nintendo 3DS"
   ]
  },
  {
   "cell_type": "markdown",
   "metadata": {},
   "source": [
    "### Самые популярные жанры (топ-5)"
   ]
  },
  {
   "cell_type": "code",
   "execution_count": null,
   "metadata": {},
   "outputs": [],
   "source": [
    "regions = [['na_sales', 'eu_sales'],['jp_sales','other_sales']]\n",
    "fig , ax = plt.subplots(nrows = 2, ncols = 2, figsize=(20,20))\n",
    "for i in [0, 1]:\n",
    "    for j in [0, 1]:\n",
    "        a = data.groupby(['genre'])[regions[i][j]].sum().to_frame().sort_values(by = regions[i][j], ascending=False).reset_index().nlargest(5, regions[i][j])\n",
    "        sns.barplot(data = a, x ='genre', y = regions[i][j], ax = ax[i, j])\n",
    "        plt.xlabel('Жанр')\n",
    "        plt.ylabel('Суммарные продажи, млн. копий.')\n",
    "plt.show()"
   ]
  },
  {
   "cell_type": "markdown",
   "metadata": {},
   "source": [
    "- Во всех регионах, кроме Японии, оформилась тройка лидеров из жанров Action, Shooter, Sports. \n",
    "- В Японии лидируют Role-Playing, Action и Misc (сокр. от \"Miscellaneous game\" с англ. разнообразные игры)"
   ]
  },
  {
   "cell_type": "markdown",
   "metadata": {},
   "source": [
    "### Влияние рейтинга ESRB на продажи в отдельном регионе"
   ]
  },
  {
   "cell_type": "code",
   "execution_count": null,
   "metadata": {},
   "outputs": [],
   "source": [
    "regions = [['na_sales', 'eu_sales'],['jp_sales','other_sales']]\n",
    "fig , ax = plt.subplots(nrows = 2, ncols = 2, figsize=(20,20))\n",
    "for i in [0, 1]:\n",
    "    for j in [0, 1]:\n",
    "        a = data.groupby(['rating'])[regions[i][j]].sum().to_frame().sort_values(by = regions[i][j], ascending=False).reset_index().nlargest(5, regions[i][j])\n",
    "        sns.barplot(data = a, x ='rating', y = regions[i][j], ax = ax[i, j])\n",
    "        plt.xlabel('Рейтинг')\n",
    "        plt.ylabel('Суммарные продажи, млн. копий.')\n",
    "plt.show()"
   ]
  },
  {
   "cell_type": "markdown",
   "metadata": {},
   "source": [
    "Во всем мире (кроме Японии с UNDEF) со значительным отрывом лидируют продажи игр с категорией \"M\" (\"Mature\") — \"Для взрослых\""
   ]
  },
  {
   "cell_type": "markdown",
   "metadata": {},
   "source": [
    "## Проверка гипотез"
   ]
  },
  {
   "cell_type": "markdown",
   "metadata": {},
   "source": [
    "### Проверка гипотезы: средние пользовательские рейтинги платформ Xbox One и PC одинаковые"
   ]
  },
  {
   "cell_type": "markdown",
   "metadata": {},
   "source": [
    "- H_0: средние пользовательские рейтинги платформы \"Xbox One\" (user_score) = пользовательские рейтинги платформы \"PC\"\n",
    "- H_a: средние пользовательские платформы \"Xbox One\" (user_score) ≠ пользовательские рейтинги платформы \"PC\"\n",
    "- alpha = 0.05"
   ]
  },
  {
   "cell_type": "code",
   "execution_count": null,
   "metadata": {},
   "outputs": [],
   "source": [
    "xone = data.query('platform == \"XOne\" and user_score != 0')['user_score']\n",
    "pc = data.query('platform == \"PC\" and user_score != 0')['user_score']\n",
    "\n",
    "results = st.ttest_ind(xone, pc, equal_var = False)\n",
    "\n",
    "alpha = .05\n",
    "\n",
    "print(results.pvalue)\n",
    "\n",
    "if results.pvalue < alpha:\n",
    "    print(\"Отвергаем нулевую гипотезу\")\n",
    "else:\n",
    "    print(\"Не получилось отвергнуть нулевую гипотезу\")"
   ]
  },
  {
   "cell_type": "markdown",
   "metadata": {},
   "source": [
    "### Проверка гипотезы: cредние пользовательские рейтинги жанров Action и Sports разные."
   ]
  },
  {
   "cell_type": "markdown",
   "metadata": {},
   "source": [
    "- H_0: средние пользовательские (user_score) рейтинги жанра \"Action\" ≠ пользовательские рейтинги жанра \"Sports\"\n",
    "- H_a: средние пользовательские (user_score) рейтинги жанра \"Action\" = пользовательские рейтинги жанра \"Sports\"\n",
    "- alpha = 0.05"
   ]
  },
  {
   "cell_type": "code",
   "execution_count": null,
   "metadata": {
    "scrolled": true
   },
   "outputs": [],
   "source": [
    "action = data.query('genre == \"Action\" and user_score != 0')['user_score']\n",
    "sports = data.query('genre == \"Sports\" and user_score != 0')['user_score']\n",
    "\n",
    "results = st.ttest_ind(action, sports, equal_var = False)\n",
    "\n",
    "alpha = .05\n",
    "\n",
    "print(results.pvalue)\n",
    "\n",
    "if results.pvalue < alpha:\n",
    "    print(\"Отвергаем нулевую гипотезу\")\n",
    "else:\n",
    "    print(\"Не получилось отвергнуть нулевую гипотезу\")"
   ]
  },
  {
   "cell_type": "markdown",
   "metadata": {},
   "source": [
    "## Вывод"
   ]
  },
  {
   "cell_type": "markdown",
   "metadata": {},
   "source": [
    "- Рост выпуска игр стартовал в начале 90-х годов, с пиком в 2009-2010 гг. Далее, судя по всему, количество выпускаемых игр переросло в качество, чему поспособствовал прогресс ЭВМ и игровых платформ. Средняя продолжительность жизни платформы ~ 7 лет. Для дальнейшего анализа мне потребуются данные с \"современными\" играми, т.е за последние ~ 5 лет.\n",
    "- В лидерах продаж на начало 2015 года 3 платфомы: Sony PS4, Xbox One, Nintendo 3DS. При этом первые две показывают рост, а Nintendo стагнирует с 2013 года. \n",
    "- В 2014 году тройку лидеров замыкала PS3, но вышедшее в 2013 году обновление платформы от Sony рисует \"крест\" на графике PS3-PS4 (такой же \"крест\" рисует Xbox One со своим предшественником Xbox 360).\n",
    "- Вероятно, что по причине неполных данных за 2016 год все платформы показывают падение относительно 2015 года.\n",
    "- Учитывая эту информацию и среднюю продолжительность жизни платформы могу предположить, что Sony PS4 и Xbox One продолжат рост в 2017 году.\n",
    "- За период с 2013 года тройка лидером суммарным продажам: Sony PS3, Sony PS4, Xbox 360\n",
    "- Наблюдается положительная корреляция между отзывами критиков и продажами.\n",
    "- Наблюдается отрицательная корреляция между отзывами пользователей и продажами.\n",
    "- Глобально по продажам лидирует PS4, в Японии Nintendo 3DS\n",
    "- Во всех регионах, кроме Японии, оформилась тройка лидеров из жанров Action, Shooter, Sports. \n",
    "- В Японии лидируют Role-Playing, Action и Misc (сокр. от \"Miscellaneous game\" с англ. разнообразные игры)\n",
    "- Во всем мире (кроме Японии с UNDEF) со значительным отрывом лидируют продажи игр с категорией \"M\" (\"Mature\") — \"Для взрослых\"\n",
    "- Не получилось отвергнуть гипотезу : средние пользовательские рейтинги платформ Xbox One и PC одинаковые \n",
    "- Отвергаем гипотезу: cредние пользовательские рейтинги жанров Action и Sports разные.\n"
   ]
  },
  {
   "cell_type": "markdown",
   "metadata": {},
   "source": []
  }
 ],
 "metadata": {
  "ExecuteTimeLog": [
   {
    "duration": 6,
    "start_time": "2022-07-12T17:02:50.183Z"
   },
   {
    "duration": 777,
    "start_time": "2022-07-12T17:03:18.578Z"
   },
   {
    "duration": 84,
    "start_time": "2022-07-12T17:03:19.357Z"
   },
   {
    "duration": 11,
    "start_time": "2022-07-12T17:03:19.443Z"
   },
   {
    "duration": 41,
    "start_time": "2022-07-12T17:05:47.585Z"
   },
   {
    "duration": 16,
    "start_time": "2022-07-12T17:06:59.467Z"
   },
   {
    "duration": 658,
    "start_time": "2022-07-12T17:07:54.756Z"
   },
   {
    "duration": 41,
    "start_time": "2022-07-12T17:07:55.416Z"
   },
   {
    "duration": 48,
    "start_time": "2022-07-12T17:07:55.459Z"
   },
   {
    "duration": 0,
    "start_time": "2022-07-12T17:07:55.508Z"
   },
   {
    "duration": 0,
    "start_time": "2022-07-12T17:07:55.510Z"
   },
   {
    "duration": 0,
    "start_time": "2022-07-12T17:07:55.511Z"
   },
   {
    "duration": 3,
    "start_time": "2022-07-12T17:13:25.316Z"
   },
   {
    "duration": 3,
    "start_time": "2022-07-12T17:13:29.278Z"
   },
   {
    "duration": 41,
    "start_time": "2022-07-12T17:23:39.562Z"
   },
   {
    "duration": 11,
    "start_time": "2022-07-12T17:23:42.465Z"
   },
   {
    "duration": 14,
    "start_time": "2022-07-12T17:23:53.513Z"
   },
   {
    "duration": 74,
    "start_time": "2022-07-12T17:29:49.353Z"
   },
   {
    "duration": 8,
    "start_time": "2022-07-12T17:30:09.789Z"
   },
   {
    "duration": 8,
    "start_time": "2022-07-12T17:30:33.064Z"
   },
   {
    "duration": 645,
    "start_time": "2022-07-12T17:30:41.561Z"
   },
   {
    "duration": 41,
    "start_time": "2022-07-12T17:30:42.208Z"
   },
   {
    "duration": 10,
    "start_time": "2022-07-12T17:30:42.250Z"
   },
   {
    "duration": 16,
    "start_time": "2022-07-12T17:30:42.261Z"
   },
   {
    "duration": 2,
    "start_time": "2022-07-12T17:30:42.279Z"
   },
   {
    "duration": 16,
    "start_time": "2022-07-12T17:31:07.888Z"
   },
   {
    "duration": 3,
    "start_time": "2022-07-12T17:32:11.603Z"
   },
   {
    "duration": 14,
    "start_time": "2022-07-12T17:32:12.811Z"
   },
   {
    "duration": 73,
    "start_time": "2022-07-12T17:33:52.758Z"
   },
   {
    "duration": 6,
    "start_time": "2022-07-12T17:34:03.453Z"
   },
   {
    "duration": 61,
    "start_time": "2022-07-12T17:41:19.078Z"
   },
   {
    "duration": 14,
    "start_time": "2022-07-12T17:43:07.953Z"
   },
   {
    "duration": 42,
    "start_time": "2022-07-12T17:44:15.423Z"
   },
   {
    "duration": 15,
    "start_time": "2022-07-12T17:44:29.991Z"
   },
   {
    "duration": 3,
    "start_time": "2022-07-12T17:45:12.870Z"
   },
   {
    "duration": 7,
    "start_time": "2022-07-12T17:59:05.424Z"
   },
   {
    "duration": 50,
    "start_time": "2022-07-12T18:05:34.382Z"
   },
   {
    "duration": 16,
    "start_time": "2022-07-12T18:06:27.953Z"
   },
   {
    "duration": 8,
    "start_time": "2022-07-12T18:08:56.275Z"
   },
   {
    "duration": 14,
    "start_time": "2022-07-12T18:08:59.763Z"
   },
   {
    "duration": 23,
    "start_time": "2022-07-12T18:09:17.914Z"
   },
   {
    "duration": 23,
    "start_time": "2022-07-12T18:10:17.997Z"
   },
   {
    "duration": 37,
    "start_time": "2022-07-12T18:10:39.757Z"
   },
   {
    "duration": 17,
    "start_time": "2022-07-12T18:15:26.392Z"
   },
   {
    "duration": 67,
    "start_time": "2022-07-12T18:32:38.997Z"
   },
   {
    "duration": 20,
    "start_time": "2022-07-12T18:36:54.566Z"
   },
   {
    "duration": 671,
    "start_time": "2022-07-12T18:37:09.563Z"
   },
   {
    "duration": 51,
    "start_time": "2022-07-12T18:37:10.236Z"
   },
   {
    "duration": 35,
    "start_time": "2022-07-12T18:37:10.289Z"
   },
   {
    "duration": 15,
    "start_time": "2022-07-12T18:37:10.326Z"
   },
   {
    "duration": 3,
    "start_time": "2022-07-12T18:37:10.342Z"
   },
   {
    "duration": 17,
    "start_time": "2022-07-12T18:37:10.364Z"
   },
   {
    "duration": 6,
    "start_time": "2022-07-12T18:38:51.297Z"
   },
   {
    "duration": 9,
    "start_time": "2022-07-12T18:39:05.209Z"
   },
   {
    "duration": 8,
    "start_time": "2022-07-12T18:40:36.417Z"
   },
   {
    "duration": 3,
    "start_time": "2022-07-12T18:41:30.552Z"
   },
   {
    "duration": 5,
    "start_time": "2022-07-12T18:54:49.190Z"
   },
   {
    "duration": 11,
    "start_time": "2022-07-12T18:55:59.484Z"
   },
   {
    "duration": 688,
    "start_time": "2022-07-12T18:56:10.151Z"
   },
   {
    "duration": 42,
    "start_time": "2022-07-12T18:56:10.841Z"
   },
   {
    "duration": 33,
    "start_time": "2022-07-12T18:56:10.884Z"
   },
   {
    "duration": 14,
    "start_time": "2022-07-12T18:56:10.919Z"
   },
   {
    "duration": 3,
    "start_time": "2022-07-12T18:56:10.935Z"
   },
   {
    "duration": 28,
    "start_time": "2022-07-12T18:56:10.939Z"
   },
   {
    "duration": 13,
    "start_time": "2022-07-12T18:56:10.968Z"
   },
   {
    "duration": 13,
    "start_time": "2022-07-12T18:56:40.745Z"
   },
   {
    "duration": 18,
    "start_time": "2022-07-12T18:56:54.975Z"
   },
   {
    "duration": 5,
    "start_time": "2022-07-12T18:57:25.257Z"
   },
   {
    "duration": 9,
    "start_time": "2022-07-12T18:57:34.996Z"
   },
   {
    "duration": 5,
    "start_time": "2022-07-12T19:00:43.251Z"
   },
   {
    "duration": 92,
    "start_time": "2022-07-12T19:04:25.622Z"
   },
   {
    "duration": 25,
    "start_time": "2022-07-12T19:04:57.356Z"
   },
   {
    "duration": 14,
    "start_time": "2022-07-12T19:05:14.520Z"
   },
   {
    "duration": 610,
    "start_time": "2022-07-12T19:07:06.991Z"
   },
   {
    "duration": 41,
    "start_time": "2022-07-12T19:07:07.603Z"
   },
   {
    "duration": 17,
    "start_time": "2022-07-12T19:07:07.645Z"
   },
   {
    "duration": 13,
    "start_time": "2022-07-12T19:07:07.664Z"
   },
   {
    "duration": 3,
    "start_time": "2022-07-12T19:07:07.679Z"
   },
   {
    "duration": 12,
    "start_time": "2022-07-12T19:07:07.683Z"
   },
   {
    "duration": 16,
    "start_time": "2022-07-12T19:07:07.697Z"
   },
   {
    "duration": 22,
    "start_time": "2022-07-12T19:07:07.715Z"
   },
   {
    "duration": 36,
    "start_time": "2022-07-12T19:07:07.738Z"
   },
   {
    "duration": 25,
    "start_time": "2022-07-12T19:09:10.267Z"
   },
   {
    "duration": 18,
    "start_time": "2022-07-12T19:09:13.063Z"
   },
   {
    "duration": 21,
    "start_time": "2022-07-12T19:09:17.492Z"
   },
   {
    "duration": 20,
    "start_time": "2022-07-12T19:09:19.975Z"
   },
   {
    "duration": 9,
    "start_time": "2022-07-12T19:10:14.351Z"
   },
   {
    "duration": 72,
    "start_time": "2022-07-12T19:17:46.151Z"
   },
   {
    "duration": 7,
    "start_time": "2022-07-12T19:17:57.225Z"
   },
   {
    "duration": 6,
    "start_time": "2022-07-12T19:18:21.802Z"
   },
   {
    "duration": 22,
    "start_time": "2022-07-12T19:30:59.900Z"
   },
   {
    "duration": 581,
    "start_time": "2022-07-12T19:31:54.324Z"
   },
   {
    "duration": 40,
    "start_time": "2022-07-12T19:31:54.908Z"
   },
   {
    "duration": 18,
    "start_time": "2022-07-12T19:31:54.949Z"
   },
   {
    "duration": 27,
    "start_time": "2022-07-12T19:31:54.970Z"
   },
   {
    "duration": 23,
    "start_time": "2022-07-12T19:31:54.999Z"
   },
   {
    "duration": 42,
    "start_time": "2022-07-12T19:31:55.023Z"
   },
   {
    "duration": 32,
    "start_time": "2022-07-12T19:31:55.067Z"
   },
   {
    "duration": 51,
    "start_time": "2022-07-12T19:31:55.101Z"
   },
   {
    "duration": 28587,
    "start_time": "2022-07-12T19:31:55.153Z"
   },
   {
    "duration": 11,
    "start_time": "2022-07-12T19:32:23.763Z"
   },
   {
    "duration": 59,
    "start_time": "2022-07-13T15:48:48.871Z"
   },
   {
    "duration": 849,
    "start_time": "2022-07-13T15:49:00.724Z"
   },
   {
    "duration": 85,
    "start_time": "2022-07-13T15:49:01.577Z"
   },
   {
    "duration": 20,
    "start_time": "2022-07-13T15:49:01.666Z"
   },
   {
    "duration": 14,
    "start_time": "2022-07-13T15:49:01.688Z"
   },
   {
    "duration": 7,
    "start_time": "2022-07-13T15:49:01.703Z"
   },
   {
    "duration": 13,
    "start_time": "2022-07-13T15:49:01.711Z"
   },
   {
    "duration": 34,
    "start_time": "2022-07-13T15:49:01.725Z"
   },
   {
    "duration": 27,
    "start_time": "2022-07-13T15:49:01.761Z"
   },
   {
    "duration": 27093,
    "start_time": "2022-07-13T15:49:01.790Z"
   },
   {
    "duration": 12,
    "start_time": "2022-07-13T15:49:28.885Z"
   },
   {
    "duration": 75,
    "start_time": "2022-07-13T15:49:28.898Z"
   },
   {
    "duration": 8,
    "start_time": "2022-07-13T15:49:39.897Z"
   },
   {
    "duration": 9,
    "start_time": "2022-07-13T15:50:27.357Z"
   },
   {
    "duration": 3,
    "start_time": "2022-07-13T15:54:39.376Z"
   },
   {
    "duration": 5,
    "start_time": "2022-07-13T15:54:43.786Z"
   },
   {
    "duration": 12,
    "start_time": "2022-07-13T15:55:30.013Z"
   },
   {
    "duration": 7,
    "start_time": "2022-07-13T15:55:42.493Z"
   },
   {
    "duration": 14,
    "start_time": "2022-07-13T15:55:56.631Z"
   },
   {
    "duration": 4,
    "start_time": "2022-07-13T15:56:28.740Z"
   },
   {
    "duration": 11,
    "start_time": "2022-07-13T16:09:22.969Z"
   },
   {
    "duration": 9,
    "start_time": "2022-07-13T16:10:08.993Z"
   },
   {
    "duration": 636,
    "start_time": "2022-07-13T16:11:15.640Z"
   },
   {
    "duration": 38,
    "start_time": "2022-07-13T16:11:16.278Z"
   },
   {
    "duration": 17,
    "start_time": "2022-07-13T16:11:16.318Z"
   },
   {
    "duration": 18,
    "start_time": "2022-07-13T16:11:16.337Z"
   },
   {
    "duration": 3,
    "start_time": "2022-07-13T16:11:16.356Z"
   },
   {
    "duration": 14,
    "start_time": "2022-07-13T16:11:16.361Z"
   },
   {
    "duration": 26,
    "start_time": "2022-07-13T16:11:16.376Z"
   },
   {
    "duration": 27107,
    "start_time": "2022-07-13T16:11:16.404Z"
   },
   {
    "duration": 5,
    "start_time": "2022-07-13T16:11:43.512Z"
   },
   {
    "duration": 11,
    "start_time": "2022-07-13T16:11:43.519Z"
   },
   {
    "duration": 27094,
    "start_time": "2022-07-13T16:11:43.532Z"
   },
   {
    "duration": 15,
    "start_time": "2022-07-13T16:12:10.628Z"
   },
   {
    "duration": 16,
    "start_time": "2022-07-13T16:18:23.456Z"
   },
   {
    "duration": 4,
    "start_time": "2022-07-13T16:21:09.481Z"
   },
   {
    "duration": 14,
    "start_time": "2022-07-13T16:21:22.588Z"
   },
   {
    "duration": 30,
    "start_time": "2022-07-13T16:21:41.176Z"
   },
   {
    "duration": 2,
    "start_time": "2022-07-13T17:46:28.028Z"
   },
   {
    "duration": 193,
    "start_time": "2022-07-13T17:57:02.965Z"
   },
   {
    "duration": 4,
    "start_time": "2022-07-13T17:58:14.127Z"
   },
   {
    "duration": 4,
    "start_time": "2022-07-13T17:58:25.012Z"
   },
   {
    "duration": 4,
    "start_time": "2022-07-13T17:58:47.604Z"
   },
   {
    "duration": 285,
    "start_time": "2022-07-13T17:58:57.517Z"
   },
   {
    "duration": 4,
    "start_time": "2022-07-13T18:10:51.197Z"
   },
   {
    "duration": 6,
    "start_time": "2022-07-13T18:11:24.858Z"
   },
   {
    "duration": 27545,
    "start_time": "2022-07-13T18:11:27.693Z"
   },
   {
    "duration": 4,
    "start_time": "2022-07-13T18:11:55.240Z"
   },
   {
    "duration": 966,
    "start_time": "2022-07-13T18:18:47.968Z"
   },
   {
    "duration": 5,
    "start_time": "2022-07-13T18:19:09.194Z"
   },
   {
    "duration": 13,
    "start_time": "2022-07-13T18:19:35.613Z"
   },
   {
    "duration": 3,
    "start_time": "2022-07-13T18:34:30.536Z"
   },
   {
    "duration": 54,
    "start_time": "2022-07-13T18:34:30.541Z"
   },
   {
    "duration": 16,
    "start_time": "2022-07-13T18:34:30.597Z"
   },
   {
    "duration": 30,
    "start_time": "2022-07-13T18:34:30.615Z"
   },
   {
    "duration": 5,
    "start_time": "2022-07-13T18:34:30.648Z"
   },
   {
    "duration": 36,
    "start_time": "2022-07-13T18:34:30.656Z"
   },
   {
    "duration": 44,
    "start_time": "2022-07-13T18:34:30.694Z"
   },
   {
    "duration": 670,
    "start_time": "2022-07-13T18:34:41.130Z"
   },
   {
    "duration": 36,
    "start_time": "2022-07-13T18:34:41.802Z"
   },
   {
    "duration": 17,
    "start_time": "2022-07-13T18:34:41.839Z"
   },
   {
    "duration": 14,
    "start_time": "2022-07-13T18:34:41.858Z"
   },
   {
    "duration": 4,
    "start_time": "2022-07-13T18:34:41.873Z"
   },
   {
    "duration": 16,
    "start_time": "2022-07-13T18:34:41.879Z"
   },
   {
    "duration": 25,
    "start_time": "2022-07-13T18:34:41.897Z"
   },
   {
    "duration": 26603,
    "start_time": "2022-07-13T18:34:41.943Z"
   },
   {
    "duration": 4,
    "start_time": "2022-07-13T18:35:08.547Z"
   },
   {
    "duration": 12,
    "start_time": "2022-07-13T18:35:08.553Z"
   },
   {
    "duration": 26743,
    "start_time": "2022-07-13T18:35:08.567Z"
   },
   {
    "duration": 5,
    "start_time": "2022-07-13T18:35:35.311Z"
   },
   {
    "duration": 209,
    "start_time": "2022-07-13T18:35:35.317Z"
   },
   {
    "duration": 5,
    "start_time": "2022-07-13T18:35:35.527Z"
   },
   {
    "duration": 19,
    "start_time": "2022-07-13T18:35:35.533Z"
   },
   {
    "duration": 51,
    "start_time": "2022-07-13T18:41:20.026Z"
   },
   {
    "duration": 187,
    "start_time": "2022-07-13T18:41:28.824Z"
   },
   {
    "duration": 121,
    "start_time": "2022-07-13T18:42:49.430Z"
   },
   {
    "duration": 138,
    "start_time": "2022-07-13T18:43:51.830Z"
   },
   {
    "duration": 20,
    "start_time": "2022-07-13T18:47:27.473Z"
   },
   {
    "duration": 7,
    "start_time": "2022-07-13T18:47:47.467Z"
   },
   {
    "duration": 144,
    "start_time": "2022-07-13T18:47:54.566Z"
   },
   {
    "duration": 7,
    "start_time": "2022-07-13T18:49:36.455Z"
   },
   {
    "duration": 131,
    "start_time": "2022-07-13T18:49:46.065Z"
   },
   {
    "duration": 629,
    "start_time": "2022-07-13T18:57:17.763Z"
   },
   {
    "duration": 40,
    "start_time": "2022-07-13T18:57:18.393Z"
   },
   {
    "duration": 21,
    "start_time": "2022-07-13T18:57:18.436Z"
   },
   {
    "duration": 15,
    "start_time": "2022-07-13T18:57:18.459Z"
   },
   {
    "duration": 4,
    "start_time": "2022-07-13T18:57:18.475Z"
   },
   {
    "duration": 12,
    "start_time": "2022-07-13T18:57:18.481Z"
   },
   {
    "duration": 59,
    "start_time": "2022-07-13T18:57:18.495Z"
   },
   {
    "duration": 27560,
    "start_time": "2022-07-13T18:57:18.556Z"
   },
   {
    "duration": 4,
    "start_time": "2022-07-13T18:57:46.118Z"
   },
   {
    "duration": 18,
    "start_time": "2022-07-13T18:57:46.124Z"
   },
   {
    "duration": 26872,
    "start_time": "2022-07-13T18:57:46.144Z"
   },
   {
    "duration": 4,
    "start_time": "2022-07-13T18:58:13.018Z"
   },
   {
    "duration": 208,
    "start_time": "2022-07-13T18:58:13.024Z"
   },
   {
    "duration": 486,
    "start_time": "2022-07-13T18:58:13.234Z"
   },
   {
    "duration": 0,
    "start_time": "2022-07-13T18:58:13.722Z"
   },
   {
    "duration": 16529,
    "start_time": "2022-07-13T18:58:43.156Z"
   },
   {
    "duration": 558,
    "start_time": "2022-07-13T18:59:40.363Z"
   },
   {
    "duration": 8,
    "start_time": "2022-07-13T19:02:06.052Z"
   },
   {
    "duration": 977,
    "start_time": "2022-07-13T19:02:16.328Z"
   },
   {
    "duration": 5,
    "start_time": "2022-07-13T19:03:23.917Z"
   },
   {
    "duration": 369,
    "start_time": "2022-07-13T19:03:26.090Z"
   },
   {
    "duration": 5,
    "start_time": "2022-07-13T19:03:41.668Z"
   },
   {
    "duration": 275,
    "start_time": "2022-07-13T19:03:42.729Z"
   },
   {
    "duration": 365,
    "start_time": "2022-07-13T19:06:04.424Z"
   },
   {
    "duration": 295,
    "start_time": "2022-07-13T19:08:23.762Z"
   },
   {
    "duration": 390,
    "start_time": "2022-07-13T19:09:45.818Z"
   },
   {
    "duration": 297,
    "start_time": "2022-07-13T19:19:53.955Z"
   },
   {
    "duration": 323,
    "start_time": "2022-07-13T19:20:06.109Z"
   },
   {
    "duration": 310,
    "start_time": "2022-07-13T19:21:46.218Z"
   },
   {
    "duration": 8,
    "start_time": "2022-07-13T19:26:49.442Z"
   },
   {
    "duration": 290,
    "start_time": "2022-07-13T19:26:55.178Z"
   },
   {
    "duration": 6,
    "start_time": "2022-07-13T19:27:44.750Z"
   },
   {
    "duration": 9,
    "start_time": "2022-07-13T19:29:12.117Z"
   },
   {
    "duration": 9,
    "start_time": "2022-07-13T19:29:25.974Z"
   },
   {
    "duration": 6,
    "start_time": "2022-07-13T19:29:31.207Z"
   },
   {
    "duration": 324,
    "start_time": "2022-07-13T19:29:33.818Z"
   },
   {
    "duration": 5,
    "start_time": "2022-07-13T19:29:47.065Z"
   },
   {
    "duration": 278,
    "start_time": "2022-07-13T19:29:47.498Z"
   },
   {
    "duration": 799,
    "start_time": "2022-07-14T16:39:24.651Z"
   },
   {
    "duration": 96,
    "start_time": "2022-07-14T16:39:25.452Z"
   },
   {
    "duration": 21,
    "start_time": "2022-07-14T16:39:25.549Z"
   },
   {
    "duration": 15,
    "start_time": "2022-07-14T16:39:25.572Z"
   },
   {
    "duration": 7,
    "start_time": "2022-07-14T16:39:25.589Z"
   },
   {
    "duration": 15,
    "start_time": "2022-07-14T16:39:25.597Z"
   },
   {
    "duration": 35,
    "start_time": "2022-07-14T16:39:25.616Z"
   },
   {
    "duration": 30506,
    "start_time": "2022-07-14T16:39:25.653Z"
   },
   {
    "duration": 5,
    "start_time": "2022-07-14T16:39:56.161Z"
   },
   {
    "duration": 13,
    "start_time": "2022-07-14T16:39:56.168Z"
   },
   {
    "duration": 29931,
    "start_time": "2022-07-14T16:39:56.182Z"
   },
   {
    "duration": 11,
    "start_time": "2022-07-14T16:40:26.115Z"
   },
   {
    "duration": 221,
    "start_time": "2022-07-14T16:40:26.128Z"
   },
   {
    "duration": 7,
    "start_time": "2022-07-14T16:40:26.351Z"
   },
   {
    "duration": 358,
    "start_time": "2022-07-14T16:40:26.360Z"
   },
   {
    "duration": 14,
    "start_time": "2022-07-14T16:40:26.720Z"
   },
   {
    "duration": 11,
    "start_time": "2022-07-14T16:48:15.038Z"
   },
   {
    "duration": 652,
    "start_time": "2022-07-14T16:49:04.016Z"
   },
   {
    "duration": 53,
    "start_time": "2022-07-14T16:49:04.670Z"
   },
   {
    "duration": 19,
    "start_time": "2022-07-14T16:49:04.724Z"
   },
   {
    "duration": 17,
    "start_time": "2022-07-14T16:49:04.745Z"
   },
   {
    "duration": 3,
    "start_time": "2022-07-14T16:49:04.764Z"
   },
   {
    "duration": 13,
    "start_time": "2022-07-14T16:49:04.768Z"
   },
   {
    "duration": 51,
    "start_time": "2022-07-14T16:49:04.783Z"
   },
   {
    "duration": 30185,
    "start_time": "2022-07-14T16:49:04.836Z"
   },
   {
    "duration": 5,
    "start_time": "2022-07-14T16:49:35.023Z"
   },
   {
    "duration": 22,
    "start_time": "2022-07-14T16:49:35.030Z"
   },
   {
    "duration": 31473,
    "start_time": "2022-07-14T16:49:35.054Z"
   },
   {
    "duration": 5,
    "start_time": "2022-07-14T16:50:06.528Z"
   },
   {
    "duration": 23,
    "start_time": "2022-07-14T16:50:06.535Z"
   },
   {
    "duration": 223,
    "start_time": "2022-07-14T16:50:06.560Z"
   },
   {
    "duration": 3,
    "start_time": "2022-07-14T16:50:06.784Z"
   },
   {
    "duration": 624,
    "start_time": "2022-07-14T16:50:06.789Z"
   },
   {
    "duration": 14,
    "start_time": "2022-07-14T16:50:07.415Z"
   },
   {
    "duration": 92,
    "start_time": "2022-07-14T16:53:20.434Z"
   },
   {
    "duration": 15,
    "start_time": "2022-07-14T16:54:04.320Z"
   },
   {
    "duration": 20,
    "start_time": "2022-07-14T16:54:09.027Z"
   },
   {
    "duration": 92,
    "start_time": "2022-07-14T16:56:50.156Z"
   },
   {
    "duration": 13,
    "start_time": "2022-07-14T16:56:54.636Z"
   },
   {
    "duration": 8,
    "start_time": "2022-07-14T16:59:24.460Z"
   },
   {
    "duration": 14,
    "start_time": "2022-07-14T16:59:27.718Z"
   },
   {
    "duration": 76,
    "start_time": "2022-07-14T17:00:11.802Z"
   },
   {
    "duration": 5,
    "start_time": "2022-07-14T17:02:05.560Z"
   },
   {
    "duration": 17,
    "start_time": "2022-07-14T17:02:09.106Z"
   },
   {
    "duration": 252,
    "start_time": "2022-07-14T17:02:12.550Z"
   },
   {
    "duration": 3,
    "start_time": "2022-07-14T17:02:22.772Z"
   },
   {
    "duration": 479,
    "start_time": "2022-07-14T17:02:23.515Z"
   },
   {
    "duration": 18,
    "start_time": "2022-07-14T17:03:39.682Z"
   },
   {
    "duration": 85,
    "start_time": "2022-07-14T17:59:04.269Z"
   },
   {
    "duration": 19,
    "start_time": "2022-07-14T17:59:19.531Z"
   },
   {
    "duration": 11,
    "start_time": "2022-07-14T18:01:15.615Z"
   },
   {
    "duration": 9,
    "start_time": "2022-07-14T18:02:44.537Z"
   },
   {
    "duration": 20,
    "start_time": "2022-07-14T18:02:54.561Z"
   },
   {
    "duration": 9,
    "start_time": "2022-07-14T18:22:42.367Z"
   },
   {
    "duration": 23,
    "start_time": "2022-07-14T18:23:43.342Z"
   },
   {
    "duration": 281,
    "start_time": "2022-07-14T18:24:12.705Z"
   },
   {
    "duration": 273,
    "start_time": "2022-07-14T18:24:41.533Z"
   },
   {
    "duration": 4,
    "start_time": "2022-07-14T18:29:13.408Z"
   },
   {
    "duration": 12,
    "start_time": "2022-07-14T18:29:23.401Z"
   },
   {
    "duration": 325,
    "start_time": "2022-07-14T18:36:48.083Z"
   },
   {
    "duration": 426,
    "start_time": "2022-07-14T18:46:10.949Z"
   },
   {
    "duration": 330,
    "start_time": "2022-07-14T18:46:21.998Z"
   },
   {
    "duration": 312,
    "start_time": "2022-07-14T18:46:42.590Z"
   },
   {
    "duration": 382,
    "start_time": "2022-07-14T18:49:48.907Z"
   },
   {
    "duration": 407,
    "start_time": "2022-07-14T19:14:12.924Z"
   },
   {
    "duration": 336,
    "start_time": "2022-07-14T19:43:59.703Z"
   },
   {
    "duration": 334,
    "start_time": "2022-07-14T19:44:41.238Z"
   },
   {
    "duration": 44,
    "start_time": "2022-07-14T19:45:08.378Z"
   },
   {
    "duration": 338,
    "start_time": "2022-07-14T19:45:15.362Z"
   },
   {
    "duration": 421,
    "start_time": "2022-07-14T19:45:59.027Z"
   },
   {
    "duration": 254,
    "start_time": "2022-07-14T19:48:37.386Z"
   },
   {
    "duration": 25,
    "start_time": "2022-07-14T19:51:46.185Z"
   },
   {
    "duration": 270,
    "start_time": "2022-07-14T19:52:08.363Z"
   },
   {
    "duration": 52,
    "start_time": "2022-07-14T20:00:30.275Z"
   },
   {
    "duration": 6,
    "start_time": "2022-07-14T20:03:58.441Z"
   },
   {
    "duration": 806,
    "start_time": "2022-07-16T13:24:20.408Z"
   },
   {
    "duration": 186,
    "start_time": "2022-07-16T13:24:21.216Z"
   },
   {
    "duration": 17,
    "start_time": "2022-07-16T13:24:21.404Z"
   },
   {
    "duration": 14,
    "start_time": "2022-07-16T13:24:21.423Z"
   },
   {
    "duration": 3,
    "start_time": "2022-07-16T13:24:21.439Z"
   },
   {
    "duration": 13,
    "start_time": "2022-07-16T13:24:21.443Z"
   },
   {
    "duration": 50,
    "start_time": "2022-07-16T13:24:21.458Z"
   },
   {
    "duration": 29067,
    "start_time": "2022-07-16T13:24:21.510Z"
   },
   {
    "duration": 102,
    "start_time": "2022-07-16T13:24:50.579Z"
   },
   {
    "duration": 5,
    "start_time": "2022-07-16T13:24:50.684Z"
   },
   {
    "duration": 17,
    "start_time": "2022-07-16T13:24:50.690Z"
   },
   {
    "duration": 29123,
    "start_time": "2022-07-16T13:24:50.709Z"
   },
   {
    "duration": 91,
    "start_time": "2022-07-16T13:25:19.834Z"
   },
   {
    "duration": 7,
    "start_time": "2022-07-16T13:25:19.927Z"
   },
   {
    "duration": 11,
    "start_time": "2022-07-16T13:25:19.936Z"
   },
   {
    "duration": 6,
    "start_time": "2022-07-16T13:25:19.949Z"
   },
   {
    "duration": 241,
    "start_time": "2022-07-16T13:25:19.957Z"
   },
   {
    "duration": 321,
    "start_time": "2022-07-16T13:25:20.200Z"
   },
   {
    "duration": 5,
    "start_time": "2022-07-16T13:25:20.523Z"
   },
   {
    "duration": 329,
    "start_time": "2022-07-16T13:25:20.529Z"
   },
   {
    "duration": 339,
    "start_time": "2022-07-16T13:25:20.860Z"
   },
   {
    "duration": 83,
    "start_time": "2022-07-16T13:30:55.199Z"
   },
   {
    "duration": 5,
    "start_time": "2022-07-16T13:31:06.718Z"
   },
   {
    "duration": 6,
    "start_time": "2022-07-16T13:31:52.380Z"
   },
   {
    "duration": 4,
    "start_time": "2022-07-16T13:32:10.961Z"
   },
   {
    "duration": 5,
    "start_time": "2022-07-16T13:32:30.252Z"
   },
   {
    "duration": 5,
    "start_time": "2022-07-16T13:32:41.933Z"
   },
   {
    "duration": 4,
    "start_time": "2022-07-16T13:33:20.274Z"
   },
   {
    "duration": 15,
    "start_time": "2022-07-16T13:35:30.555Z"
   },
   {
    "duration": 6,
    "start_time": "2022-07-16T13:45:57.790Z"
   },
   {
    "duration": 9,
    "start_time": "2022-07-16T13:48:00.377Z"
   },
   {
    "duration": 1613,
    "start_time": "2022-07-16T13:48:31.885Z"
   },
   {
    "duration": 242,
    "start_time": "2022-07-16T13:49:24.696Z"
   },
   {
    "duration": 261,
    "start_time": "2022-07-16T13:49:46.380Z"
   },
   {
    "duration": 245,
    "start_time": "2022-07-16T13:50:56.731Z"
   },
   {
    "duration": 254,
    "start_time": "2022-07-16T13:51:55.945Z"
   },
   {
    "duration": 228,
    "start_time": "2022-07-16T13:52:38.246Z"
   },
   {
    "duration": 231,
    "start_time": "2022-07-16T14:31:10.063Z"
   },
   {
    "duration": 211,
    "start_time": "2022-07-16T14:32:32.708Z"
   },
   {
    "duration": 345,
    "start_time": "2022-07-16T14:32:55.539Z"
   },
   {
    "duration": 359,
    "start_time": "2022-07-16T14:33:14.238Z"
   },
   {
    "duration": 378,
    "start_time": "2022-07-16T14:33:48.562Z"
   },
   {
    "duration": 342,
    "start_time": "2022-07-16T14:34:01.412Z"
   },
   {
    "duration": 210,
    "start_time": "2022-07-16T14:34:47.251Z"
   },
   {
    "duration": 190,
    "start_time": "2022-07-16T14:34:52.332Z"
   },
   {
    "duration": 2220,
    "start_time": "2022-07-16T14:41:26.739Z"
   },
   {
    "duration": 21,
    "start_time": "2022-07-16T14:48:42.903Z"
   },
   {
    "duration": 5,
    "start_time": "2022-07-16T14:50:04.701Z"
   },
   {
    "duration": 3,
    "start_time": "2022-07-16T15:11:04.099Z"
   },
   {
    "duration": 169,
    "start_time": "2022-07-16T15:11:33.354Z"
   },
   {
    "duration": 2,
    "start_time": "2022-07-16T15:12:04.670Z"
   },
   {
    "duration": 191,
    "start_time": "2022-07-16T15:12:35.240Z"
   },
   {
    "duration": 218,
    "start_time": "2022-07-16T15:13:38.650Z"
   },
   {
    "duration": 97,
    "start_time": "2022-07-16T15:15:14.572Z"
   },
   {
    "duration": 144,
    "start_time": "2022-07-16T15:28:14.619Z"
   },
   {
    "duration": 140,
    "start_time": "2022-07-16T15:28:42.581Z"
   },
   {
    "duration": 146,
    "start_time": "2022-07-16T15:28:53.247Z"
   },
   {
    "duration": 163,
    "start_time": "2022-07-16T15:29:11.789Z"
   },
   {
    "duration": 237,
    "start_time": "2022-07-16T15:29:19.267Z"
   },
   {
    "duration": 5,
    "start_time": "2022-07-16T15:30:51.505Z"
   },
   {
    "duration": 4,
    "start_time": "2022-07-16T15:31:00.586Z"
   },
   {
    "duration": 4,
    "start_time": "2022-07-16T15:32:23.865Z"
   },
   {
    "duration": 351,
    "start_time": "2022-07-16T15:33:28.074Z"
   },
   {
    "duration": 249,
    "start_time": "2022-07-16T15:33:44.279Z"
   },
   {
    "duration": 210,
    "start_time": "2022-07-16T15:34:00.286Z"
   },
   {
    "duration": 233,
    "start_time": "2022-07-16T15:34:32.099Z"
   },
   {
    "duration": 680,
    "start_time": "2022-07-16T15:36:08.761Z"
   },
   {
    "duration": 55,
    "start_time": "2022-07-16T15:36:09.443Z"
   },
   {
    "duration": 21,
    "start_time": "2022-07-16T15:36:09.499Z"
   },
   {
    "duration": 16,
    "start_time": "2022-07-16T15:36:09.522Z"
   },
   {
    "duration": 5,
    "start_time": "2022-07-16T15:36:09.540Z"
   },
   {
    "duration": 15,
    "start_time": "2022-07-16T15:36:09.546Z"
   },
   {
    "duration": 67,
    "start_time": "2022-07-16T15:36:09.562Z"
   },
   {
    "duration": 32864,
    "start_time": "2022-07-16T15:36:09.631Z"
   },
   {
    "duration": 101,
    "start_time": "2022-07-16T15:36:42.497Z"
   },
   {
    "duration": 5,
    "start_time": "2022-07-16T15:36:42.604Z"
   },
   {
    "duration": 25,
    "start_time": "2022-07-16T15:36:42.611Z"
   },
   {
    "duration": 31390,
    "start_time": "2022-07-16T15:36:42.638Z"
   },
   {
    "duration": 104,
    "start_time": "2022-07-16T15:37:14.029Z"
   },
   {
    "duration": 11,
    "start_time": "2022-07-16T15:37:14.137Z"
   },
   {
    "duration": 15,
    "start_time": "2022-07-16T15:37:14.150Z"
   },
   {
    "duration": 6,
    "start_time": "2022-07-16T15:37:14.167Z"
   },
   {
    "duration": 29,
    "start_time": "2022-07-16T15:37:14.175Z"
   },
   {
    "duration": 235,
    "start_time": "2022-07-16T15:37:14.206Z"
   },
   {
    "duration": 320,
    "start_time": "2022-07-16T15:37:14.442Z"
   },
   {
    "duration": 5,
    "start_time": "2022-07-16T15:37:14.764Z"
   },
   {
    "duration": 357,
    "start_time": "2022-07-16T15:37:14.771Z"
   },
   {
    "duration": 372,
    "start_time": "2022-07-16T15:37:15.130Z"
   },
   {
    "duration": 211,
    "start_time": "2022-07-16T15:37:15.505Z"
   },
   {
    "duration": 220,
    "start_time": "2022-07-16T15:37:15.718Z"
   },
   {
    "duration": 97,
    "start_time": "2022-07-16T15:37:15.940Z"
   },
   {
    "duration": 0,
    "start_time": "2022-07-16T15:37:16.039Z"
   },
   {
    "duration": 0,
    "start_time": "2022-07-16T15:37:16.040Z"
   },
   {
    "duration": 0,
    "start_time": "2022-07-16T15:37:16.041Z"
   },
   {
    "duration": 0,
    "start_time": "2022-07-16T15:37:16.042Z"
   },
   {
    "duration": 499,
    "start_time": "2022-07-16T15:40:35.778Z"
   },
   {
    "duration": 167,
    "start_time": "2022-07-16T15:43:22.710Z"
   },
   {
    "duration": 42,
    "start_time": "2022-07-16T15:47:33.987Z"
   },
   {
    "duration": 163,
    "start_time": "2022-07-16T15:50:38.298Z"
   },
   {
    "duration": 719,
    "start_time": "2022-07-16T15:57:15.262Z"
   },
   {
    "duration": 66,
    "start_time": "2022-07-16T15:57:15.983Z"
   },
   {
    "duration": 20,
    "start_time": "2022-07-16T15:57:16.050Z"
   },
   {
    "duration": 17,
    "start_time": "2022-07-16T15:57:16.072Z"
   },
   {
    "duration": 5,
    "start_time": "2022-07-16T15:57:16.091Z"
   },
   {
    "duration": 50,
    "start_time": "2022-07-16T15:57:16.098Z"
   },
   {
    "duration": 52,
    "start_time": "2022-07-16T15:57:16.151Z"
   },
   {
    "duration": 32009,
    "start_time": "2022-07-16T15:57:16.214Z"
   },
   {
    "duration": 103,
    "start_time": "2022-07-16T15:57:48.225Z"
   },
   {
    "duration": 5,
    "start_time": "2022-07-16T15:57:48.331Z"
   },
   {
    "duration": 10,
    "start_time": "2022-07-16T15:57:48.337Z"
   },
   {
    "duration": 31630,
    "start_time": "2022-07-16T15:57:48.348Z"
   },
   {
    "duration": 117,
    "start_time": "2022-07-16T15:58:19.980Z"
   },
   {
    "duration": 22,
    "start_time": "2022-07-16T15:58:20.099Z"
   },
   {
    "duration": 25,
    "start_time": "2022-07-16T15:58:20.124Z"
   },
   {
    "duration": 26,
    "start_time": "2022-07-16T15:58:20.151Z"
   },
   {
    "duration": 14,
    "start_time": "2022-07-16T15:58:20.180Z"
   },
   {
    "duration": 232,
    "start_time": "2022-07-16T15:58:20.196Z"
   },
   {
    "duration": 360,
    "start_time": "2022-07-16T15:58:20.430Z"
   },
   {
    "duration": 7,
    "start_time": "2022-07-16T15:58:20.792Z"
   },
   {
    "duration": 368,
    "start_time": "2022-07-16T15:58:20.801Z"
   },
   {
    "duration": 401,
    "start_time": "2022-07-16T15:58:21.171Z"
   },
   {
    "duration": 221,
    "start_time": "2022-07-16T15:58:21.574Z"
   },
   {
    "duration": 220,
    "start_time": "2022-07-16T15:58:21.797Z"
   },
   {
    "duration": 80,
    "start_time": "2022-07-16T15:58:22.020Z"
   },
   {
    "duration": 0,
    "start_time": "2022-07-16T15:58:22.102Z"
   },
   {
    "duration": 0,
    "start_time": "2022-07-16T15:58:22.103Z"
   },
   {
    "duration": 0,
    "start_time": "2022-07-16T15:58:22.104Z"
   },
   {
    "duration": 0,
    "start_time": "2022-07-16T15:58:22.104Z"
   },
   {
    "duration": 175,
    "start_time": "2022-07-16T16:29:15.098Z"
   },
   {
    "duration": 9416,
    "start_time": "2022-07-16T16:29:44.618Z"
   },
   {
    "duration": 124,
    "start_time": "2022-07-16T16:32:31.782Z"
   },
   {
    "duration": 91,
    "start_time": "2022-07-16T16:32:58.368Z"
   },
   {
    "duration": 12,
    "start_time": "2022-07-16T16:33:26.068Z"
   },
   {
    "duration": 49,
    "start_time": "2022-07-16T16:33:56.779Z"
   },
   {
    "duration": 77,
    "start_time": "2022-07-16T16:34:08.914Z"
   },
   {
    "duration": 54,
    "start_time": "2022-07-16T16:34:20.375Z"
   },
   {
    "duration": 673,
    "start_time": "2022-07-16T16:35:34.593Z"
   },
   {
    "duration": 70,
    "start_time": "2022-07-16T16:36:01.472Z"
   },
   {
    "duration": 707,
    "start_time": "2022-07-16T16:37:24.219Z"
   },
   {
    "duration": 65,
    "start_time": "2022-07-16T16:37:24.928Z"
   },
   {
    "duration": 25,
    "start_time": "2022-07-16T16:37:24.995Z"
   },
   {
    "duration": 18,
    "start_time": "2022-07-16T16:37:25.023Z"
   },
   {
    "duration": 4,
    "start_time": "2022-07-16T16:37:25.043Z"
   },
   {
    "duration": 37,
    "start_time": "2022-07-16T16:37:25.048Z"
   },
   {
    "duration": 45,
    "start_time": "2022-07-16T16:37:25.087Z"
   },
   {
    "duration": 31055,
    "start_time": "2022-07-16T16:37:25.134Z"
   },
   {
    "duration": 118,
    "start_time": "2022-07-16T16:37:56.190Z"
   },
   {
    "duration": 6,
    "start_time": "2022-07-16T16:37:56.312Z"
   },
   {
    "duration": 15,
    "start_time": "2022-07-16T16:37:56.320Z"
   },
   {
    "duration": 31153,
    "start_time": "2022-07-16T16:37:56.337Z"
   },
   {
    "duration": 98,
    "start_time": "2022-07-16T16:38:27.492Z"
   },
   {
    "duration": 19,
    "start_time": "2022-07-16T16:38:27.592Z"
   },
   {
    "duration": 12,
    "start_time": "2022-07-16T16:38:27.613Z"
   },
   {
    "duration": 9,
    "start_time": "2022-07-16T16:38:27.627Z"
   },
   {
    "duration": 6,
    "start_time": "2022-07-16T16:38:27.638Z"
   },
   {
    "duration": 230,
    "start_time": "2022-07-16T16:38:27.646Z"
   },
   {
    "duration": 347,
    "start_time": "2022-07-16T16:38:27.878Z"
   },
   {
    "duration": 6,
    "start_time": "2022-07-16T16:38:28.227Z"
   },
   {
    "duration": 331,
    "start_time": "2022-07-16T16:38:28.235Z"
   },
   {
    "duration": 386,
    "start_time": "2022-07-16T16:38:28.567Z"
   },
   {
    "duration": 224,
    "start_time": "2022-07-16T16:38:28.956Z"
   },
   {
    "duration": 220,
    "start_time": "2022-07-16T16:38:29.182Z"
   },
   {
    "duration": 79,
    "start_time": "2022-07-16T16:38:29.404Z"
   },
   {
    "duration": 0,
    "start_time": "2022-07-16T16:38:29.486Z"
   },
   {
    "duration": 0,
    "start_time": "2022-07-16T16:38:29.487Z"
   },
   {
    "duration": 0,
    "start_time": "2022-07-16T16:38:29.489Z"
   },
   {
    "duration": 0,
    "start_time": "2022-07-16T16:38:29.491Z"
   },
   {
    "duration": 627,
    "start_time": "2022-07-16T16:39:06.419Z"
   },
   {
    "duration": 66,
    "start_time": "2022-07-16T16:39:31.180Z"
   },
   {
    "duration": 44,
    "start_time": "2022-07-16T16:55:15.234Z"
   },
   {
    "duration": 1026,
    "start_time": "2022-07-16T16:55:41.363Z"
   },
   {
    "duration": 211,
    "start_time": "2022-07-16T16:59:58.105Z"
   },
   {
    "duration": 210,
    "start_time": "2022-07-16T17:00:14.218Z"
   },
   {
    "duration": 931,
    "start_time": "2022-07-16T17:01:09.867Z"
   },
   {
    "duration": 941,
    "start_time": "2022-07-16T17:01:34.260Z"
   },
   {
    "duration": 1033,
    "start_time": "2022-07-16T17:02:00.697Z"
   },
   {
    "duration": 1065,
    "start_time": "2022-07-16T17:03:25.848Z"
   },
   {
    "duration": 82,
    "start_time": "2022-07-16T17:05:41.447Z"
   },
   {
    "duration": 182,
    "start_time": "2022-07-16T17:07:04.493Z"
   },
   {
    "duration": 179,
    "start_time": "2022-07-16T17:07:09.916Z"
   },
   {
    "duration": 271,
    "start_time": "2022-07-16T17:08:12.020Z"
   },
   {
    "duration": 214,
    "start_time": "2022-07-16T17:08:27.076Z"
   },
   {
    "duration": 204,
    "start_time": "2022-07-16T17:09:04.845Z"
   },
   {
    "duration": 972,
    "start_time": "2022-07-16T17:10:33.969Z"
   },
   {
    "duration": 1036,
    "start_time": "2022-07-16T17:10:39.018Z"
   },
   {
    "duration": 6,
    "start_time": "2022-07-16T17:11:16.669Z"
   },
   {
    "duration": 24,
    "start_time": "2022-07-16T17:15:12.234Z"
   },
   {
    "duration": 17,
    "start_time": "2022-07-16T17:17:05.770Z"
   },
   {
    "duration": 17,
    "start_time": "2022-07-16T17:17:18.020Z"
   },
   {
    "duration": 16,
    "start_time": "2022-07-16T17:20:23.065Z"
   },
   {
    "duration": 16,
    "start_time": "2022-07-16T17:20:56.356Z"
   },
   {
    "duration": 21,
    "start_time": "2022-07-16T17:22:23.271Z"
   },
   {
    "duration": 15,
    "start_time": "2022-07-16T17:22:25.092Z"
   },
   {
    "duration": 18,
    "start_time": "2022-07-16T17:23:40.453Z"
   },
   {
    "duration": 178,
    "start_time": "2022-07-16T17:27:00.059Z"
   },
   {
    "duration": 1235,
    "start_time": "2022-07-16T17:27:45.535Z"
   },
   {
    "duration": 61,
    "start_time": "2022-07-16T17:27:46.772Z"
   },
   {
    "duration": 20,
    "start_time": "2022-07-16T17:27:46.834Z"
   },
   {
    "duration": 15,
    "start_time": "2022-07-16T17:27:46.857Z"
   },
   {
    "duration": 4,
    "start_time": "2022-07-16T17:27:46.875Z"
   },
   {
    "duration": 15,
    "start_time": "2022-07-16T17:27:46.905Z"
   },
   {
    "duration": 43,
    "start_time": "2022-07-16T17:27:46.922Z"
   },
   {
    "duration": 33829,
    "start_time": "2022-07-16T17:27:46.968Z"
   },
   {
    "duration": 96,
    "start_time": "2022-07-16T17:28:20.799Z"
   },
   {
    "duration": 5,
    "start_time": "2022-07-16T17:28:20.906Z"
   },
   {
    "duration": 13,
    "start_time": "2022-07-16T17:28:20.914Z"
   },
   {
    "duration": 32628,
    "start_time": "2022-07-16T17:28:20.929Z"
   },
   {
    "duration": 101,
    "start_time": "2022-07-16T17:28:53.558Z"
   },
   {
    "duration": 7,
    "start_time": "2022-07-16T17:28:53.661Z"
   },
   {
    "duration": 12,
    "start_time": "2022-07-16T17:28:53.670Z"
   },
   {
    "duration": 22,
    "start_time": "2022-07-16T17:28:53.684Z"
   },
   {
    "duration": 7,
    "start_time": "2022-07-16T17:28:53.708Z"
   },
   {
    "duration": 205,
    "start_time": "2022-07-16T17:28:53.717Z"
   },
   {
    "duration": 330,
    "start_time": "2022-07-16T17:28:53.923Z"
   },
   {
    "duration": 7,
    "start_time": "2022-07-16T17:28:54.256Z"
   },
   {
    "duration": 396,
    "start_time": "2022-07-16T17:28:54.265Z"
   },
   {
    "duration": 300,
    "start_time": "2022-07-16T17:28:54.664Z"
   },
   {
    "duration": 220,
    "start_time": "2022-07-16T17:28:54.966Z"
   },
   {
    "duration": 231,
    "start_time": "2022-07-16T17:28:55.187Z"
   },
   {
    "duration": 1044,
    "start_time": "2022-07-16T17:28:55.421Z"
   },
   {
    "duration": 1022,
    "start_time": "2022-07-16T17:28:56.467Z"
   },
   {
    "duration": 129,
    "start_time": "2022-07-16T17:28:57.492Z"
   },
   {
    "duration": 0,
    "start_time": "2022-07-16T17:28:57.623Z"
   },
   {
    "duration": 1249,
    "start_time": "2022-07-16T17:30:28.990Z"
   },
   {
    "duration": 58,
    "start_time": "2022-07-16T17:30:30.242Z"
   },
   {
    "duration": 26,
    "start_time": "2022-07-16T17:30:30.301Z"
   },
   {
    "duration": 20,
    "start_time": "2022-07-16T17:30:30.329Z"
   },
   {
    "duration": 5,
    "start_time": "2022-07-16T17:30:30.351Z"
   },
   {
    "duration": 20,
    "start_time": "2022-07-16T17:30:30.358Z"
   },
   {
    "duration": 50,
    "start_time": "2022-07-16T17:30:30.380Z"
   },
   {
    "duration": 31764,
    "start_time": "2022-07-16T17:30:30.432Z"
   },
   {
    "duration": 13,
    "start_time": "2022-07-16T17:31:02.198Z"
   },
   {
    "duration": 13,
    "start_time": "2022-07-16T17:31:02.221Z"
   },
   {
    "duration": 31517,
    "start_time": "2022-07-16T17:31:02.236Z"
   },
   {
    "duration": 9,
    "start_time": "2022-07-16T17:31:33.754Z"
   },
   {
    "duration": 81,
    "start_time": "2022-07-16T17:31:33.765Z"
   },
   {
    "duration": 42,
    "start_time": "2022-07-16T17:31:33.849Z"
   },
   {
    "duration": 24,
    "start_time": "2022-07-16T17:31:33.893Z"
   },
   {
    "duration": 232,
    "start_time": "2022-07-16T17:31:33.921Z"
   },
   {
    "duration": 367,
    "start_time": "2022-07-16T17:31:34.155Z"
   },
   {
    "duration": 5,
    "start_time": "2022-07-16T17:31:34.524Z"
   },
   {
    "duration": 350,
    "start_time": "2022-07-16T17:31:34.531Z"
   },
   {
    "duration": 301,
    "start_time": "2022-07-16T17:31:34.883Z"
   },
   {
    "duration": 227,
    "start_time": "2022-07-16T17:31:35.186Z"
   },
   {
    "duration": 227,
    "start_time": "2022-07-16T17:31:35.415Z"
   },
   {
    "duration": 1050,
    "start_time": "2022-07-16T17:31:35.645Z"
   },
   {
    "duration": 977,
    "start_time": "2022-07-16T17:31:36.698Z"
   },
   {
    "duration": 139,
    "start_time": "2022-07-16T17:31:37.677Z"
   },
   {
    "duration": 0,
    "start_time": "2022-07-16T17:31:37.818Z"
   },
   {
    "duration": 17,
    "start_time": "2022-07-16T17:34:41.533Z"
   },
   {
    "duration": 22,
    "start_time": "2022-07-16T17:35:00.718Z"
   },
   {
    "duration": 16,
    "start_time": "2022-07-16T17:38:57.681Z"
   },
   {
    "duration": 19,
    "start_time": "2022-07-16T17:39:09.300Z"
   },
   {
    "duration": 16,
    "start_time": "2022-07-16T17:48:14.559Z"
   },
   {
    "duration": 950,
    "start_time": "2022-07-16T18:00:17.272Z"
   },
   {
    "duration": 1007,
    "start_time": "2022-07-16T18:00:48.946Z"
   },
   {
    "duration": 24,
    "start_time": "2022-07-16T18:01:02.823Z"
   },
   {
    "duration": 209,
    "start_time": "2022-07-16T18:03:18.986Z"
   },
   {
    "duration": 183,
    "start_time": "2022-07-16T18:04:11.394Z"
   },
   {
    "duration": 125,
    "start_time": "2022-07-16T18:04:55.928Z"
   },
   {
    "duration": 210,
    "start_time": "2022-07-16T18:05:36.386Z"
   },
   {
    "duration": 134,
    "start_time": "2022-07-16T18:05:54.848Z"
   },
   {
    "duration": 203,
    "start_time": "2022-07-16T18:06:07.825Z"
   },
   {
    "duration": 201,
    "start_time": "2022-07-16T18:06:29.495Z"
   },
   {
    "duration": 259,
    "start_time": "2022-07-16T18:06:48.860Z"
   },
   {
    "duration": 187,
    "start_time": "2022-07-16T18:06:55.083Z"
   },
   {
    "duration": 193,
    "start_time": "2022-07-16T18:07:51.849Z"
   },
   {
    "duration": 23,
    "start_time": "2022-07-16T18:08:28.161Z"
   },
   {
    "duration": 32,
    "start_time": "2022-07-16T18:08:34.679Z"
   },
   {
    "duration": 1580,
    "start_time": "2022-07-16T18:23:04.416Z"
   },
   {
    "duration": 1567,
    "start_time": "2022-07-16T18:23:20.449Z"
   },
   {
    "duration": 1370,
    "start_time": "2022-07-16T18:23:38.489Z"
   },
   {
    "duration": 39,
    "start_time": "2022-07-16T18:23:47.292Z"
   },
   {
    "duration": 20,
    "start_time": "2022-07-16T18:24:52.750Z"
   },
   {
    "duration": 273,
    "start_time": "2022-07-16T18:26:57.401Z"
   },
   {
    "duration": 209,
    "start_time": "2022-07-16T18:27:51.351Z"
   },
   {
    "duration": 193,
    "start_time": "2022-07-16T18:27:56.254Z"
   },
   {
    "duration": 204,
    "start_time": "2022-07-16T18:28:04.095Z"
   },
   {
    "duration": 207,
    "start_time": "2022-07-16T18:28:19.935Z"
   },
   {
    "duration": 180,
    "start_time": "2022-07-16T18:28:24.556Z"
   },
   {
    "duration": 1588,
    "start_time": "2022-07-16T18:33:46.496Z"
   },
   {
    "duration": 46,
    "start_time": "2022-07-16T18:34:03.898Z"
   },
   {
    "duration": 409,
    "start_time": "2022-07-16T18:37:00.829Z"
   },
   {
    "duration": 664,
    "start_time": "2022-07-16T18:38:06.126Z"
   },
   {
    "duration": 27,
    "start_time": "2022-07-16T18:46:00.928Z"
   },
   {
    "duration": 39,
    "start_time": "2022-07-16T18:49:08.977Z"
   },
   {
    "duration": 26,
    "start_time": "2022-07-16T18:49:15.262Z"
   },
   {
    "duration": 1392,
    "start_time": "2022-07-16T18:49:23.360Z"
   },
   {
    "duration": 1277,
    "start_time": "2022-07-16T18:49:47.761Z"
   },
   {
    "duration": 1411,
    "start_time": "2022-07-16T18:50:05.167Z"
   },
   {
    "duration": 36,
    "start_time": "2022-07-16T18:50:15.498Z"
   },
   {
    "duration": 1326,
    "start_time": "2022-07-16T18:50:30.500Z"
   },
   {
    "duration": 13,
    "start_time": "2022-07-16T18:59:44.336Z"
   },
   {
    "duration": 13,
    "start_time": "2022-07-16T19:00:05.927Z"
   },
   {
    "duration": 23,
    "start_time": "2022-07-16T19:03:45.317Z"
   },
   {
    "duration": 30,
    "start_time": "2022-07-16T19:07:51.393Z"
   },
   {
    "duration": 33,
    "start_time": "2022-07-16T19:11:16.281Z"
   },
   {
    "duration": 28,
    "start_time": "2022-07-16T19:11:22.953Z"
   },
   {
    "duration": 30,
    "start_time": "2022-07-16T19:11:35.328Z"
   },
   {
    "duration": 32,
    "start_time": "2022-07-16T19:12:06.978Z"
   },
   {
    "duration": 33,
    "start_time": "2022-07-16T19:12:14.382Z"
   },
   {
    "duration": 393,
    "start_time": "2022-07-16T19:12:41.477Z"
   },
   {
    "duration": 35,
    "start_time": "2022-07-16T19:12:56.633Z"
   },
   {
    "duration": 401,
    "start_time": "2022-07-16T19:13:09.329Z"
   },
   {
    "duration": 142,
    "start_time": "2022-07-16T19:26:50.039Z"
   },
   {
    "duration": 159,
    "start_time": "2022-07-16T19:27:00.681Z"
   },
   {
    "duration": 125,
    "start_time": "2022-07-16T19:28:57.646Z"
   },
   {
    "duration": 120,
    "start_time": "2022-07-16T19:47:41.226Z"
   },
   {
    "duration": 196,
    "start_time": "2022-07-16T19:50:54.963Z"
   },
   {
    "duration": 20,
    "start_time": "2022-07-16T19:51:43.260Z"
   },
   {
    "duration": 146,
    "start_time": "2022-07-16T19:52:13.204Z"
   },
   {
    "duration": 17,
    "start_time": "2022-07-16T19:52:25.093Z"
   },
   {
    "duration": 16,
    "start_time": "2022-07-16T20:07:21.281Z"
   },
   {
    "duration": 183,
    "start_time": "2022-07-16T20:08:50.178Z"
   },
   {
    "duration": 168,
    "start_time": "2022-07-16T20:09:11.209Z"
   },
   {
    "duration": 163,
    "start_time": "2022-07-16T20:10:02.900Z"
   },
   {
    "duration": 240,
    "start_time": "2022-07-16T20:10:14.435Z"
   },
   {
    "duration": 173,
    "start_time": "2022-07-16T20:10:54.033Z"
   },
   {
    "duration": 175,
    "start_time": "2022-07-16T20:12:21.940Z"
   },
   {
    "duration": 177,
    "start_time": "2022-07-16T20:13:07.149Z"
   },
   {
    "duration": 83,
    "start_time": "2022-07-16T20:13:40.978Z"
   },
   {
    "duration": 74,
    "start_time": "2022-07-16T20:14:21.386Z"
   },
   {
    "duration": 88,
    "start_time": "2022-07-16T20:14:45.029Z"
   },
   {
    "duration": 15,
    "start_time": "2022-07-16T20:15:41.114Z"
   },
   {
    "duration": 14,
    "start_time": "2022-07-16T20:16:03.909Z"
   },
   {
    "duration": 102,
    "start_time": "2022-07-16T20:16:13.970Z"
   },
   {
    "duration": 16,
    "start_time": "2022-07-16T20:16:37.302Z"
   },
   {
    "duration": 80,
    "start_time": "2022-07-16T20:16:45.038Z"
   },
   {
    "duration": 1219,
    "start_time": "2022-07-17T10:44:50.776Z"
   },
   {
    "duration": 97,
    "start_time": "2022-07-17T10:44:51.997Z"
   },
   {
    "duration": 18,
    "start_time": "2022-07-17T10:44:52.095Z"
   },
   {
    "duration": 13,
    "start_time": "2022-07-17T10:44:52.114Z"
   },
   {
    "duration": 5,
    "start_time": "2022-07-17T10:44:52.129Z"
   },
   {
    "duration": 12,
    "start_time": "2022-07-17T10:44:52.135Z"
   },
   {
    "duration": 27,
    "start_time": "2022-07-17T10:44:52.148Z"
   },
   {
    "duration": 27084,
    "start_time": "2022-07-17T10:44:52.177Z"
   },
   {
    "duration": 3,
    "start_time": "2022-07-17T10:45:19.263Z"
   },
   {
    "duration": 13,
    "start_time": "2022-07-17T10:45:19.268Z"
   },
   {
    "duration": 26646,
    "start_time": "2022-07-17T10:45:19.282Z"
   },
   {
    "duration": 7,
    "start_time": "2022-07-17T10:45:45.929Z"
   },
   {
    "duration": 9,
    "start_time": "2022-07-17T10:45:45.938Z"
   },
   {
    "duration": 15,
    "start_time": "2022-07-17T10:45:45.949Z"
   },
   {
    "duration": 7,
    "start_time": "2022-07-17T10:45:45.965Z"
   },
   {
    "duration": 203,
    "start_time": "2022-07-17T10:45:45.974Z"
   },
   {
    "duration": 306,
    "start_time": "2022-07-17T10:45:46.179Z"
   },
   {
    "duration": 5,
    "start_time": "2022-07-17T10:45:46.487Z"
   },
   {
    "duration": 296,
    "start_time": "2022-07-17T10:45:46.494Z"
   },
   {
    "duration": 253,
    "start_time": "2022-07-17T10:45:46.792Z"
   },
   {
    "duration": 202,
    "start_time": "2022-07-17T10:45:47.047Z"
   },
   {
    "duration": 192,
    "start_time": "2022-07-17T10:45:47.251Z"
   },
   {
    "duration": 883,
    "start_time": "2022-07-17T10:45:47.445Z"
   },
   {
    "duration": 882,
    "start_time": "2022-07-17T10:45:48.329Z"
   },
   {
    "duration": 175,
    "start_time": "2022-07-17T10:45:49.213Z"
   },
   {
    "duration": 45,
    "start_time": "2022-07-17T10:45:49.389Z"
   },
   {
    "duration": 48,
    "start_time": "2022-07-17T10:49:06.366Z"
   },
   {
    "duration": 390,
    "start_time": "2022-07-17T10:55:54.604Z"
   },
   {
    "duration": 506,
    "start_time": "2022-07-17T10:59:00.585Z"
   },
   {
    "duration": 127,
    "start_time": "2022-07-17T11:07:36.587Z"
   },
   {
    "duration": 124,
    "start_time": "2022-07-17T11:07:47.902Z"
   },
   {
    "duration": 9,
    "start_time": "2022-07-17T11:33:25.220Z"
   },
   {
    "duration": 1060,
    "start_time": "2022-07-17T11:33:46.155Z"
   },
   {
    "duration": 52,
    "start_time": "2022-07-17T11:33:47.217Z"
   },
   {
    "duration": 17,
    "start_time": "2022-07-17T11:33:47.271Z"
   },
   {
    "duration": 32,
    "start_time": "2022-07-17T11:33:47.290Z"
   },
   {
    "duration": 3,
    "start_time": "2022-07-17T11:33:47.324Z"
   },
   {
    "duration": 25,
    "start_time": "2022-07-17T11:33:47.329Z"
   },
   {
    "duration": 30,
    "start_time": "2022-07-17T11:33:47.356Z"
   },
   {
    "duration": 27854,
    "start_time": "2022-07-17T11:33:47.387Z"
   },
   {
    "duration": 4,
    "start_time": "2022-07-17T11:34:15.243Z"
   },
   {
    "duration": 21,
    "start_time": "2022-07-17T11:34:15.249Z"
   },
   {
    "duration": 27536,
    "start_time": "2022-07-17T11:34:15.272Z"
   },
   {
    "duration": 13,
    "start_time": "2022-07-17T11:34:42.810Z"
   },
   {
    "duration": 10,
    "start_time": "2022-07-17T11:34:42.824Z"
   },
   {
    "duration": 4,
    "start_time": "2022-07-17T11:34:42.837Z"
   },
   {
    "duration": 7,
    "start_time": "2022-07-17T11:34:42.842Z"
   },
   {
    "duration": 211,
    "start_time": "2022-07-17T11:34:42.850Z"
   },
   {
    "duration": 306,
    "start_time": "2022-07-17T11:34:43.063Z"
   },
   {
    "duration": 5,
    "start_time": "2022-07-17T11:34:43.371Z"
   },
   {
    "duration": 310,
    "start_time": "2022-07-17T11:34:43.377Z"
   },
   {
    "duration": 261,
    "start_time": "2022-07-17T11:34:43.689Z"
   },
   {
    "duration": 203,
    "start_time": "2022-07-17T11:34:43.951Z"
   },
   {
    "duration": 200,
    "start_time": "2022-07-17T11:34:44.156Z"
   },
   {
    "duration": 954,
    "start_time": "2022-07-17T11:34:44.358Z"
   },
   {
    "duration": 883,
    "start_time": "2022-07-17T11:34:45.313Z"
   },
   {
    "duration": 196,
    "start_time": "2022-07-17T11:34:46.198Z"
   },
   {
    "duration": 11,
    "start_time": "2022-07-17T11:34:46.396Z"
   },
   {
    "duration": 872,
    "start_time": "2022-07-17T11:34:46.408Z"
   },
   {
    "duration": 884,
    "start_time": "2022-07-17T11:35:56.370Z"
   },
   {
    "duration": 11,
    "start_time": "2022-07-17T11:36:32.718Z"
   },
   {
    "duration": 462,
    "start_time": "2022-07-17T11:39:37.268Z"
   },
   {
    "duration": 1269,
    "start_time": "2022-07-17T11:39:55.886Z"
   },
   {
    "duration": 495,
    "start_time": "2022-07-17T11:40:50.228Z"
   },
   {
    "duration": 429,
    "start_time": "2022-07-17T11:41:50.359Z"
   },
   {
    "duration": 508,
    "start_time": "2022-07-17T11:43:04.598Z"
   },
   {
    "duration": 508,
    "start_time": "2022-07-17T11:43:51.535Z"
   },
   {
    "duration": 622,
    "start_time": "2022-07-17T11:44:00.669Z"
   },
   {
    "duration": 526,
    "start_time": "2022-07-17T11:44:09.660Z"
   },
   {
    "duration": 797,
    "start_time": "2022-07-17T11:44:17.813Z"
   },
   {
    "duration": 684,
    "start_time": "2022-07-17T11:44:24.274Z"
   },
   {
    "duration": 509,
    "start_time": "2022-07-17T11:44:32.965Z"
   },
   {
    "duration": 47,
    "start_time": "2022-07-17T11:44:57.249Z"
   },
   {
    "duration": 499,
    "start_time": "2022-07-17T11:45:05.563Z"
   },
   {
    "duration": 508,
    "start_time": "2022-07-17T11:45:12.692Z"
   },
   {
    "duration": 504,
    "start_time": "2022-07-17T11:45:43.164Z"
   },
   {
    "duration": 694,
    "start_time": "2022-07-17T11:45:47.464Z"
   },
   {
    "duration": 781,
    "start_time": "2022-07-17T11:45:55.029Z"
   },
   {
    "duration": 508,
    "start_time": "2022-07-17T11:46:07.467Z"
   },
   {
    "duration": 530,
    "start_time": "2022-07-17T11:47:01.625Z"
   },
   {
    "duration": 605,
    "start_time": "2022-07-17T11:47:32.821Z"
   },
   {
    "duration": 420,
    "start_time": "2022-07-17T11:52:56.971Z"
   },
   {
    "duration": 427,
    "start_time": "2022-07-17T11:54:43.690Z"
   },
   {
    "duration": 502,
    "start_time": "2022-07-17T11:54:53.514Z"
   },
   {
    "duration": 2,
    "start_time": "2022-07-17T11:55:35.628Z"
   },
   {
    "duration": 503,
    "start_time": "2022-07-17T11:59:25.955Z"
   },
   {
    "duration": 448,
    "start_time": "2022-07-17T11:59:35.458Z"
   },
   {
    "duration": 617,
    "start_time": "2022-07-17T11:59:44.601Z"
   },
   {
    "duration": 492,
    "start_time": "2022-07-17T12:03:32.484Z"
   },
   {
    "duration": 402,
    "start_time": "2022-07-17T12:13:19.201Z"
   },
   {
    "duration": 515,
    "start_time": "2022-07-17T12:13:39.513Z"
   },
   {
    "duration": 557,
    "start_time": "2022-07-17T12:14:15.424Z"
   },
   {
    "duration": 626,
    "start_time": "2022-07-17T12:14:22.514Z"
   },
   {
    "duration": 485,
    "start_time": "2022-07-17T12:15:09.782Z"
   },
   {
    "duration": 487,
    "start_time": "2022-07-17T12:15:40.057Z"
   },
   {
    "duration": 495,
    "start_time": "2022-07-17T12:15:43.654Z"
   },
   {
    "duration": 3,
    "start_time": "2022-07-17T12:18:52.609Z"
   },
   {
    "duration": 4,
    "start_time": "2022-07-17T12:26:24.278Z"
   },
   {
    "duration": 4,
    "start_time": "2022-07-17T12:26:31.111Z"
   },
   {
    "duration": 564,
    "start_time": "2022-07-17T12:28:48.777Z"
   },
   {
    "duration": 46,
    "start_time": "2022-07-17T12:32:58.517Z"
   },
   {
    "duration": 3,
    "start_time": "2022-07-17T12:33:48.747Z"
   },
   {
    "duration": 3,
    "start_time": "2022-07-17T12:34:12.768Z"
   },
   {
    "duration": 3,
    "start_time": "2022-07-17T12:35:45.846Z"
   },
   {
    "duration": 11,
    "start_time": "2022-07-17T12:39:06.739Z"
   },
   {
    "duration": 3,
    "start_time": "2022-07-17T12:48:58.016Z"
   },
   {
    "duration": 40,
    "start_time": "2022-07-17T12:49:52.651Z"
   },
   {
    "duration": 10,
    "start_time": "2022-07-17T12:50:21.042Z"
   },
   {
    "duration": 49,
    "start_time": "2022-07-17T12:51:39.377Z"
   },
   {
    "duration": 74,
    "start_time": "2022-07-17T12:51:49.735Z"
   },
   {
    "duration": 11,
    "start_time": "2022-07-17T12:53:54.747Z"
   },
   {
    "duration": 3,
    "start_time": "2022-07-17T12:57:42.617Z"
   },
   {
    "duration": 11,
    "start_time": "2022-07-17T12:58:57.367Z"
   },
   {
    "duration": 51,
    "start_time": "2022-07-17T13:03:15.541Z"
   },
   {
    "duration": 12,
    "start_time": "2022-07-17T13:03:26.356Z"
   },
   {
    "duration": 13,
    "start_time": "2022-07-17T13:12:07.075Z"
   },
   {
    "duration": 1159,
    "start_time": "2022-07-17T13:17:26.765Z"
   },
   {
    "duration": 54,
    "start_time": "2022-07-17T13:17:27.926Z"
   },
   {
    "duration": 17,
    "start_time": "2022-07-17T13:17:27.982Z"
   },
   {
    "duration": 13,
    "start_time": "2022-07-17T13:17:28.002Z"
   },
   {
    "duration": 3,
    "start_time": "2022-07-17T13:17:28.017Z"
   },
   {
    "duration": 12,
    "start_time": "2022-07-17T13:17:28.021Z"
   },
   {
    "duration": 28,
    "start_time": "2022-07-17T13:17:28.034Z"
   },
   {
    "duration": 28132,
    "start_time": "2022-07-17T13:17:28.063Z"
   },
   {
    "duration": 4,
    "start_time": "2022-07-17T13:17:56.197Z"
   },
   {
    "duration": 10,
    "start_time": "2022-07-17T13:17:56.204Z"
   },
   {
    "duration": 28486,
    "start_time": "2022-07-17T13:17:56.222Z"
   },
   {
    "duration": 7,
    "start_time": "2022-07-17T13:18:24.710Z"
   },
   {
    "duration": 14,
    "start_time": "2022-07-17T13:18:24.718Z"
   },
   {
    "duration": 10,
    "start_time": "2022-07-17T13:18:24.734Z"
   },
   {
    "duration": 7,
    "start_time": "2022-07-17T13:18:24.746Z"
   },
   {
    "duration": 240,
    "start_time": "2022-07-17T13:18:24.755Z"
   },
   {
    "duration": 301,
    "start_time": "2022-07-17T13:18:24.996Z"
   },
   {
    "duration": 5,
    "start_time": "2022-07-17T13:18:25.299Z"
   },
   {
    "duration": 312,
    "start_time": "2022-07-17T13:18:25.305Z"
   },
   {
    "duration": 256,
    "start_time": "2022-07-17T13:18:25.618Z"
   },
   {
    "duration": 217,
    "start_time": "2022-07-17T13:18:25.875Z"
   },
   {
    "duration": 212,
    "start_time": "2022-07-17T13:18:26.095Z"
   },
   {
    "duration": 930,
    "start_time": "2022-07-17T13:18:26.309Z"
   },
   {
    "duration": 833,
    "start_time": "2022-07-17T13:18:27.241Z"
   },
   {
    "duration": 166,
    "start_time": "2022-07-17T13:18:28.086Z"
   },
   {
    "duration": 576,
    "start_time": "2022-07-17T13:18:28.254Z"
   },
   {
    "duration": 0,
    "start_time": "2022-07-17T13:18:28.831Z"
   },
   {
    "duration": 0,
    "start_time": "2022-07-17T13:18:28.833Z"
   },
   {
    "duration": 0,
    "start_time": "2022-07-17T13:18:28.834Z"
   },
   {
    "duration": 0,
    "start_time": "2022-07-17T13:18:28.835Z"
   },
   {
    "duration": 0,
    "start_time": "2022-07-17T13:18:28.836Z"
   },
   {
    "duration": 16,
    "start_time": "2022-07-17T13:19:52.308Z"
   },
   {
    "duration": 1096,
    "start_time": "2022-07-17T13:20:26.122Z"
   },
   {
    "duration": 75,
    "start_time": "2022-07-17T13:20:27.220Z"
   },
   {
    "duration": 19,
    "start_time": "2022-07-17T13:20:27.296Z"
   },
   {
    "duration": 40,
    "start_time": "2022-07-17T13:20:27.317Z"
   },
   {
    "duration": 12,
    "start_time": "2022-07-17T13:20:27.359Z"
   },
   {
    "duration": 38,
    "start_time": "2022-07-17T13:20:27.373Z"
   },
   {
    "duration": 33,
    "start_time": "2022-07-17T13:20:27.413Z"
   },
   {
    "duration": 28779,
    "start_time": "2022-07-17T13:20:27.447Z"
   },
   {
    "duration": 5,
    "start_time": "2022-07-17T13:20:56.228Z"
   },
   {
    "duration": 12,
    "start_time": "2022-07-17T13:20:56.237Z"
   },
   {
    "duration": 28643,
    "start_time": "2022-07-17T13:20:56.251Z"
   },
   {
    "duration": 7,
    "start_time": "2022-07-17T13:21:24.896Z"
   },
   {
    "duration": 19,
    "start_time": "2022-07-17T13:21:24.904Z"
   },
   {
    "duration": 4,
    "start_time": "2022-07-17T13:21:24.925Z"
   },
   {
    "duration": 7,
    "start_time": "2022-07-17T13:21:24.931Z"
   },
   {
    "duration": 248,
    "start_time": "2022-07-17T13:21:24.940Z"
   },
   {
    "duration": 315,
    "start_time": "2022-07-17T13:21:25.190Z"
   },
   {
    "duration": 5,
    "start_time": "2022-07-17T13:21:25.507Z"
   },
   {
    "duration": 308,
    "start_time": "2022-07-17T13:21:25.513Z"
   },
   {
    "duration": 261,
    "start_time": "2022-07-17T13:21:25.823Z"
   },
   {
    "duration": 202,
    "start_time": "2022-07-17T13:21:26.086Z"
   },
   {
    "duration": 196,
    "start_time": "2022-07-17T13:21:26.290Z"
   },
   {
    "duration": 889,
    "start_time": "2022-07-17T13:21:26.488Z"
   },
   {
    "duration": 847,
    "start_time": "2022-07-17T13:21:27.378Z"
   },
   {
    "duration": 186,
    "start_time": "2022-07-17T13:21:28.227Z"
   },
   {
    "duration": 624,
    "start_time": "2022-07-17T13:21:28.415Z"
   },
   {
    "duration": 0,
    "start_time": "2022-07-17T13:21:29.042Z"
   },
   {
    "duration": 0,
    "start_time": "2022-07-17T13:21:29.044Z"
   },
   {
    "duration": 0,
    "start_time": "2022-07-17T13:21:29.046Z"
   },
   {
    "duration": 0,
    "start_time": "2022-07-17T13:21:29.047Z"
   },
   {
    "duration": 0,
    "start_time": "2022-07-17T13:21:29.048Z"
   },
   {
    "duration": 416,
    "start_time": "2022-07-17T13:30:48.161Z"
   },
   {
    "duration": 453,
    "start_time": "2022-07-17T13:31:18.853Z"
   },
   {
    "duration": 501,
    "start_time": "2022-07-17T13:31:30.562Z"
   },
   {
    "duration": 528,
    "start_time": "2022-07-17T13:31:43.350Z"
   },
   {
    "duration": 501,
    "start_time": "2022-07-17T13:31:57.745Z"
   },
   {
    "duration": 3,
    "start_time": "2022-07-17T13:32:02.689Z"
   },
   {
    "duration": 13,
    "start_time": "2022-07-17T13:32:06.225Z"
   },
   {
    "duration": 12,
    "start_time": "2022-07-17T13:32:10.887Z"
   },
   {
    "duration": 1647,
    "start_time": "2022-07-17T18:21:26.677Z"
   },
   {
    "duration": 188,
    "start_time": "2022-07-17T18:21:28.326Z"
   },
   {
    "duration": 32,
    "start_time": "2022-07-17T18:21:28.516Z"
   },
   {
    "duration": 18,
    "start_time": "2022-07-17T18:21:28.551Z"
   },
   {
    "duration": 9,
    "start_time": "2022-07-17T18:21:28.572Z"
   },
   {
    "duration": 31,
    "start_time": "2022-07-17T18:21:28.584Z"
   },
   {
    "duration": 50,
    "start_time": "2022-07-17T18:21:28.618Z"
   },
   {
    "duration": 33460,
    "start_time": "2022-07-17T18:21:28.671Z"
   },
   {
    "duration": 5,
    "start_time": "2022-07-17T18:22:02.133Z"
   },
   {
    "duration": 23,
    "start_time": "2022-07-17T18:22:02.141Z"
   },
   {
    "duration": 31664,
    "start_time": "2022-07-17T18:22:02.167Z"
   },
   {
    "duration": 9,
    "start_time": "2022-07-17T18:22:33.833Z"
   },
   {
    "duration": 15,
    "start_time": "2022-07-17T18:22:33.844Z"
   },
   {
    "duration": 11,
    "start_time": "2022-07-17T18:22:33.861Z"
   },
   {
    "duration": 29,
    "start_time": "2022-07-17T18:22:33.875Z"
   },
   {
    "duration": 212,
    "start_time": "2022-07-17T18:22:33.906Z"
   },
   {
    "duration": 374,
    "start_time": "2022-07-17T18:22:34.120Z"
   },
   {
    "duration": 7,
    "start_time": "2022-07-17T18:22:34.497Z"
   },
   {
    "duration": 352,
    "start_time": "2022-07-17T18:22:34.506Z"
   },
   {
    "duration": 295,
    "start_time": "2022-07-17T18:22:34.860Z"
   },
   {
    "duration": 311,
    "start_time": "2022-07-17T18:22:35.158Z"
   },
   {
    "duration": 220,
    "start_time": "2022-07-17T18:22:35.472Z"
   },
   {
    "duration": 1178,
    "start_time": "2022-07-17T18:22:35.704Z"
   },
   {
    "duration": 922,
    "start_time": "2022-07-17T18:22:36.885Z"
   },
   {
    "duration": 198,
    "start_time": "2022-07-17T18:22:37.809Z"
   },
   {
    "duration": 670,
    "start_time": "2022-07-17T18:22:38.009Z"
   },
   {
    "duration": 703,
    "start_time": "2022-07-17T18:22:38.682Z"
   },
   {
    "duration": 575,
    "start_time": "2022-07-17T18:22:39.388Z"
   },
   {
    "duration": 4,
    "start_time": "2022-07-17T18:22:39.966Z"
   },
   {
    "duration": 32,
    "start_time": "2022-07-17T18:22:39.972Z"
   },
   {
    "duration": 18,
    "start_time": "2022-07-17T18:22:40.006Z"
   },
   {
    "duration": 61,
    "start_time": "2022-07-18T17:00:13.756Z"
   },
   {
    "duration": 47,
    "start_time": "2022-07-18T17:08:26.854Z"
   },
   {
    "duration": 49,
    "start_time": "2022-07-18T17:11:28.390Z"
   },
   {
    "duration": 1302,
    "start_time": "2022-07-18T17:22:19.023Z"
   },
   {
    "duration": 92,
    "start_time": "2022-07-18T17:22:20.326Z"
   },
   {
    "duration": 18,
    "start_time": "2022-07-18T17:22:20.420Z"
   },
   {
    "duration": 51,
    "start_time": "2022-07-18T17:22:20.441Z"
   },
   {
    "duration": 43,
    "start_time": "2022-07-18T17:22:20.495Z"
   },
   {
    "duration": 30,
    "start_time": "2022-07-18T17:22:20.540Z"
   },
   {
    "duration": 79,
    "start_time": "2022-07-18T17:22:20.572Z"
   },
   {
    "duration": 29976,
    "start_time": "2022-07-18T17:22:20.653Z"
   },
   {
    "duration": 4,
    "start_time": "2022-07-18T17:22:50.631Z"
   },
   {
    "duration": 24,
    "start_time": "2022-07-18T17:22:50.638Z"
   },
   {
    "duration": 30166,
    "start_time": "2022-07-18T17:22:50.664Z"
   },
   {
    "duration": 7,
    "start_time": "2022-07-18T17:23:20.832Z"
   },
   {
    "duration": 12,
    "start_time": "2022-07-18T17:23:20.841Z"
   },
   {
    "duration": 10,
    "start_time": "2022-07-18T17:23:20.855Z"
   },
   {
    "duration": 18,
    "start_time": "2022-07-18T17:23:20.867Z"
   },
   {
    "duration": 235,
    "start_time": "2022-07-18T17:23:20.887Z"
   },
   {
    "duration": 317,
    "start_time": "2022-07-18T17:23:21.123Z"
   },
   {
    "duration": 6,
    "start_time": "2022-07-18T17:23:21.442Z"
   },
   {
    "duration": 347,
    "start_time": "2022-07-18T17:23:21.449Z"
   },
   {
    "duration": 298,
    "start_time": "2022-07-18T17:23:21.798Z"
   },
   {
    "duration": 216,
    "start_time": "2022-07-18T17:23:22.097Z"
   },
   {
    "duration": 213,
    "start_time": "2022-07-18T17:23:22.317Z"
   },
   {
    "duration": 1096,
    "start_time": "2022-07-18T17:23:22.531Z"
   },
   {
    "duration": 1030,
    "start_time": "2022-07-18T17:23:23.629Z"
   },
   {
    "duration": 193,
    "start_time": "2022-07-18T17:23:24.661Z"
   },
   {
    "duration": 738,
    "start_time": "2022-07-18T17:23:24.856Z"
   },
   {
    "duration": 533,
    "start_time": "2022-07-18T17:23:25.596Z"
   },
   {
    "duration": 524,
    "start_time": "2022-07-18T17:23:26.132Z"
   },
   {
    "duration": 3,
    "start_time": "2022-07-18T17:23:26.659Z"
   },
   {
    "duration": 31,
    "start_time": "2022-07-18T17:23:26.663Z"
   },
   {
    "duration": 13,
    "start_time": "2022-07-18T17:23:26.696Z"
   },
   {
    "duration": 1219,
    "start_time": "2022-07-18T17:25:27.891Z"
   },
   {
    "duration": 52,
    "start_time": "2022-07-18T17:25:29.112Z"
   },
   {
    "duration": 18,
    "start_time": "2022-07-18T17:25:29.166Z"
   },
   {
    "duration": 18,
    "start_time": "2022-07-18T17:25:29.187Z"
   },
   {
    "duration": 3,
    "start_time": "2022-07-18T17:25:29.208Z"
   },
   {
    "duration": 19,
    "start_time": "2022-07-18T17:25:29.212Z"
   },
   {
    "duration": 29,
    "start_time": "2022-07-18T17:25:29.233Z"
   },
   {
    "duration": 28617,
    "start_time": "2022-07-18T17:25:29.263Z"
   },
   {
    "duration": 4,
    "start_time": "2022-07-18T17:25:57.882Z"
   },
   {
    "duration": 20,
    "start_time": "2022-07-18T17:25:57.889Z"
   },
   {
    "duration": 27964,
    "start_time": "2022-07-18T17:25:57.911Z"
   },
   {
    "duration": 7,
    "start_time": "2022-07-18T17:26:25.876Z"
   },
   {
    "duration": 19,
    "start_time": "2022-07-18T17:26:25.885Z"
   },
   {
    "duration": 4,
    "start_time": "2022-07-18T17:26:25.905Z"
   },
   {
    "duration": 9,
    "start_time": "2022-07-18T17:26:25.910Z"
   },
   {
    "duration": 235,
    "start_time": "2022-07-18T17:26:25.920Z"
   },
   {
    "duration": 292,
    "start_time": "2022-07-18T17:26:26.156Z"
   },
   {
    "duration": 5,
    "start_time": "2022-07-18T17:26:26.450Z"
   },
   {
    "duration": 257,
    "start_time": "2022-07-18T17:26:26.457Z"
   },
   {
    "duration": 242,
    "start_time": "2022-07-18T17:26:26.716Z"
   },
   {
    "duration": 191,
    "start_time": "2022-07-18T17:26:26.959Z"
   },
   {
    "duration": 202,
    "start_time": "2022-07-18T17:26:27.152Z"
   },
   {
    "duration": 994,
    "start_time": "2022-07-18T17:26:27.356Z"
   },
   {
    "duration": 859,
    "start_time": "2022-07-18T17:26:28.352Z"
   },
   {
    "duration": 171,
    "start_time": "2022-07-18T17:26:29.212Z"
   },
   {
    "duration": 596,
    "start_time": "2022-07-18T17:26:29.385Z"
   },
   {
    "duration": 541,
    "start_time": "2022-07-18T17:26:29.983Z"
   },
   {
    "duration": 534,
    "start_time": "2022-07-18T17:26:30.527Z"
   },
   {
    "duration": 3,
    "start_time": "2022-07-18T17:26:31.062Z"
   },
   {
    "duration": 46,
    "start_time": "2022-07-18T17:26:31.067Z"
   },
   {
    "duration": 23,
    "start_time": "2022-07-18T17:26:31.115Z"
   },
   {
    "duration": 1758,
    "start_time": "2022-07-18T17:30:11.352Z"
   },
   {
    "duration": 51,
    "start_time": "2022-07-18T17:30:13.112Z"
   },
   {
    "duration": 17,
    "start_time": "2022-07-18T17:30:13.165Z"
   },
   {
    "duration": 14,
    "start_time": "2022-07-18T17:30:13.184Z"
   },
   {
    "duration": 3,
    "start_time": "2022-07-18T17:30:13.200Z"
   },
   {
    "duration": 12,
    "start_time": "2022-07-18T17:30:13.205Z"
   },
   {
    "duration": 30,
    "start_time": "2022-07-18T17:30:13.218Z"
   },
   {
    "duration": 28635,
    "start_time": "2022-07-18T17:30:13.250Z"
   },
   {
    "duration": 5,
    "start_time": "2022-07-18T17:30:41.887Z"
   },
   {
    "duration": 14,
    "start_time": "2022-07-18T17:30:41.894Z"
   },
   {
    "duration": 28544,
    "start_time": "2022-07-18T17:30:41.910Z"
   },
   {
    "duration": 8,
    "start_time": "2022-07-18T17:31:10.456Z"
   },
   {
    "duration": 10,
    "start_time": "2022-07-18T17:31:10.466Z"
   },
   {
    "duration": 23,
    "start_time": "2022-07-18T17:31:10.477Z"
   },
   {
    "duration": 5,
    "start_time": "2022-07-18T17:31:10.502Z"
   },
   {
    "duration": 207,
    "start_time": "2022-07-18T17:31:10.509Z"
   },
   {
    "duration": 311,
    "start_time": "2022-07-18T17:31:10.718Z"
   },
   {
    "duration": 3,
    "start_time": "2022-07-18T17:31:11.030Z"
   },
   {
    "duration": 292,
    "start_time": "2022-07-18T17:31:11.035Z"
   },
   {
    "duration": 252,
    "start_time": "2022-07-18T17:31:11.328Z"
   },
   {
    "duration": 197,
    "start_time": "2022-07-18T17:31:11.581Z"
   },
   {
    "duration": 207,
    "start_time": "2022-07-18T17:31:11.780Z"
   },
   {
    "duration": 1114,
    "start_time": "2022-07-18T17:31:11.989Z"
   },
   {
    "duration": 1077,
    "start_time": "2022-07-18T17:31:13.105Z"
   },
   {
    "duration": 212,
    "start_time": "2022-07-18T17:31:14.183Z"
   },
   {
    "duration": 622,
    "start_time": "2022-07-18T17:31:14.400Z"
   },
   {
    "duration": 629,
    "start_time": "2022-07-18T17:31:15.023Z"
   },
   {
    "duration": 524,
    "start_time": "2022-07-18T17:31:15.655Z"
   },
   {
    "duration": 2,
    "start_time": "2022-07-18T17:31:16.181Z"
   },
   {
    "duration": 24,
    "start_time": "2022-07-18T17:31:16.184Z"
   },
   {
    "duration": 13,
    "start_time": "2022-07-18T17:31:16.209Z"
   },
   {
    "duration": 1149,
    "start_time": "2022-07-18T18:08:06.593Z"
   },
   {
    "duration": 52,
    "start_time": "2022-07-18T18:08:07.743Z"
   },
   {
    "duration": 22,
    "start_time": "2022-07-18T18:08:07.796Z"
   },
   {
    "duration": 14,
    "start_time": "2022-07-18T18:08:07.822Z"
   },
   {
    "duration": 6,
    "start_time": "2022-07-18T18:08:07.838Z"
   },
   {
    "duration": 13,
    "start_time": "2022-07-18T18:08:07.846Z"
   },
   {
    "duration": 25,
    "start_time": "2022-07-18T18:08:07.860Z"
   },
   {
    "duration": 29141,
    "start_time": "2022-07-18T18:08:07.886Z"
   },
   {
    "duration": 5,
    "start_time": "2022-07-18T18:08:37.029Z"
   },
   {
    "duration": 18,
    "start_time": "2022-07-18T18:08:37.036Z"
   },
   {
    "duration": 30015,
    "start_time": "2022-07-18T18:08:37.056Z"
   },
   {
    "duration": 7,
    "start_time": "2022-07-18T18:09:07.073Z"
   },
   {
    "duration": 9,
    "start_time": "2022-07-18T18:09:07.081Z"
   },
   {
    "duration": 13,
    "start_time": "2022-07-18T18:09:07.103Z"
   },
   {
    "duration": 7,
    "start_time": "2022-07-18T18:09:07.117Z"
   },
   {
    "duration": 219,
    "start_time": "2022-07-18T18:09:07.125Z"
   },
   {
    "duration": 336,
    "start_time": "2022-07-18T18:09:07.345Z"
   },
   {
    "duration": 5,
    "start_time": "2022-07-18T18:09:07.683Z"
   },
   {
    "duration": 325,
    "start_time": "2022-07-18T18:09:07.690Z"
   },
   {
    "duration": 274,
    "start_time": "2022-07-18T18:09:08.017Z"
   },
   {
    "duration": 211,
    "start_time": "2022-07-18T18:09:08.292Z"
   },
   {
    "duration": 204,
    "start_time": "2022-07-18T18:09:08.513Z"
   },
   {
    "duration": 953,
    "start_time": "2022-07-18T18:09:08.720Z"
   },
   {
    "duration": 851,
    "start_time": "2022-07-18T18:09:09.675Z"
   },
   {
    "duration": 177,
    "start_time": "2022-07-18T18:09:10.527Z"
   },
   {
    "duration": 606,
    "start_time": "2022-07-18T18:09:10.709Z"
   },
   {
    "duration": 519,
    "start_time": "2022-07-18T18:09:11.318Z"
   },
   {
    "duration": 537,
    "start_time": "2022-07-18T18:09:11.840Z"
   },
   {
    "duration": 3,
    "start_time": "2022-07-18T18:09:12.379Z"
   },
   {
    "duration": 59,
    "start_time": "2022-07-18T18:09:12.384Z"
   },
   {
    "duration": 18,
    "start_time": "2022-07-18T18:09:12.445Z"
   },
   {
    "duration": 177,
    "start_time": "2022-07-18T18:13:02.542Z"
   },
   {
    "duration": 1026,
    "start_time": "2022-07-18T18:23:46.953Z"
   },
   {
    "duration": 50,
    "start_time": "2022-07-18T18:23:47.981Z"
   },
   {
    "duration": 17,
    "start_time": "2022-07-18T18:23:48.033Z"
   },
   {
    "duration": 12,
    "start_time": "2022-07-18T18:23:48.052Z"
   },
   {
    "duration": 2,
    "start_time": "2022-07-18T18:23:48.066Z"
   },
   {
    "duration": 10,
    "start_time": "2022-07-18T18:23:48.070Z"
   },
   {
    "duration": 37,
    "start_time": "2022-07-18T18:23:48.082Z"
   },
   {
    "duration": 27819,
    "start_time": "2022-07-18T18:23:48.120Z"
   },
   {
    "duration": 4,
    "start_time": "2022-07-18T18:24:15.940Z"
   },
   {
    "duration": 13,
    "start_time": "2022-07-18T18:24:15.946Z"
   },
   {
    "duration": 26980,
    "start_time": "2022-07-18T18:24:15.960Z"
   },
   {
    "duration": 7,
    "start_time": "2022-07-18T18:24:42.942Z"
   },
   {
    "duration": 9,
    "start_time": "2022-07-18T18:24:42.950Z"
   },
   {
    "duration": 8,
    "start_time": "2022-07-18T18:24:42.960Z"
   },
   {
    "duration": 14,
    "start_time": "2022-07-18T18:24:42.969Z"
   },
   {
    "duration": 196,
    "start_time": "2022-07-18T18:24:42.985Z"
   },
   {
    "duration": 278,
    "start_time": "2022-07-18T18:24:43.182Z"
   },
   {
    "duration": 6,
    "start_time": "2022-07-18T18:24:43.462Z"
   },
   {
    "duration": 275,
    "start_time": "2022-07-18T18:24:43.469Z"
   },
   {
    "duration": 271,
    "start_time": "2022-07-18T18:24:43.746Z"
   },
   {
    "duration": 191,
    "start_time": "2022-07-18T18:24:44.019Z"
   },
   {
    "duration": 191,
    "start_time": "2022-07-18T18:24:44.211Z"
   },
   {
    "duration": 1038,
    "start_time": "2022-07-18T18:24:44.404Z"
   },
   {
    "duration": 980,
    "start_time": "2022-07-18T18:24:45.444Z"
   },
   {
    "duration": 161,
    "start_time": "2022-07-18T18:24:46.427Z"
   },
   {
    "duration": 590,
    "start_time": "2022-07-18T18:24:46.590Z"
   },
   {
    "duration": 526,
    "start_time": "2022-07-18T18:24:47.181Z"
   },
   {
    "duration": 596,
    "start_time": "2022-07-18T18:24:47.710Z"
   },
   {
    "duration": 2,
    "start_time": "2022-07-18T18:24:48.308Z"
   },
   {
    "duration": 16,
    "start_time": "2022-07-18T18:24:48.312Z"
   },
   {
    "duration": 10,
    "start_time": "2022-07-18T18:24:48.330Z"
   },
   {
    "duration": 5,
    "start_time": "2022-07-18T18:25:09.702Z"
   },
   {
    "duration": 295,
    "start_time": "2022-07-18T18:25:12.128Z"
   },
   {
    "duration": 1127,
    "start_time": "2022-07-18T18:26:20.896Z"
   },
   {
    "duration": 50,
    "start_time": "2022-07-18T18:26:22.025Z"
   },
   {
    "duration": 18,
    "start_time": "2022-07-18T18:26:22.076Z"
   },
   {
    "duration": 13,
    "start_time": "2022-07-18T18:26:22.096Z"
   },
   {
    "duration": 3,
    "start_time": "2022-07-18T18:26:22.111Z"
   },
   {
    "duration": 17,
    "start_time": "2022-07-18T18:26:22.115Z"
   },
   {
    "duration": 27,
    "start_time": "2022-07-18T18:26:22.134Z"
   },
   {
    "duration": 26781,
    "start_time": "2022-07-18T18:26:22.163Z"
   },
   {
    "duration": 4,
    "start_time": "2022-07-18T18:26:48.946Z"
   },
   {
    "duration": 28,
    "start_time": "2022-07-18T18:26:48.953Z"
   },
   {
    "duration": 27390,
    "start_time": "2022-07-18T18:26:48.983Z"
   },
   {
    "duration": 6,
    "start_time": "2022-07-18T18:27:16.374Z"
   },
   {
    "duration": 11,
    "start_time": "2022-07-18T18:27:16.382Z"
   },
   {
    "duration": 13,
    "start_time": "2022-07-18T18:27:16.403Z"
   },
   {
    "duration": 12,
    "start_time": "2022-07-18T18:27:16.418Z"
   },
   {
    "duration": 202,
    "start_time": "2022-07-18T18:27:16.432Z"
   },
   {
    "duration": 292,
    "start_time": "2022-07-18T18:27:16.636Z"
   },
   {
    "duration": 6,
    "start_time": "2022-07-18T18:27:16.930Z"
   },
   {
    "duration": 276,
    "start_time": "2022-07-18T18:27:16.938Z"
   },
   {
    "duration": 254,
    "start_time": "2022-07-18T18:27:17.216Z"
   },
   {
    "duration": 219,
    "start_time": "2022-07-18T18:27:17.472Z"
   },
   {
    "duration": 189,
    "start_time": "2022-07-18T18:27:17.692Z"
   },
   {
    "duration": 1035,
    "start_time": "2022-07-18T18:27:17.882Z"
   },
   {
    "duration": 1010,
    "start_time": "2022-07-18T18:27:18.919Z"
   },
   {
    "duration": 190,
    "start_time": "2022-07-18T18:27:19.931Z"
   },
   {
    "duration": 569,
    "start_time": "2022-07-18T18:27:20.122Z"
   },
   {
    "duration": 518,
    "start_time": "2022-07-18T18:27:20.693Z"
   },
   {
    "duration": 505,
    "start_time": "2022-07-18T18:27:21.214Z"
   },
   {
    "duration": 3,
    "start_time": "2022-07-18T18:27:21.721Z"
   },
   {
    "duration": 16,
    "start_time": "2022-07-18T18:27:21.725Z"
   },
   {
    "duration": 11,
    "start_time": "2022-07-18T18:27:21.743Z"
   },
   {
    "duration": 383,
    "start_time": "2022-07-18T18:27:59.853Z"
   },
   {
    "duration": 293,
    "start_time": "2022-07-18T18:28:50.166Z"
   },
   {
    "duration": 5,
    "start_time": "2022-07-18T18:29:11.697Z"
   },
   {
    "duration": 298,
    "start_time": "2022-07-18T18:29:16.126Z"
   },
   {
    "duration": 169,
    "start_time": "2022-07-18T18:29:29.575Z"
   },
   {
    "duration": 245,
    "start_time": "2022-07-18T18:29:57.365Z"
   },
   {
    "duration": 158,
    "start_time": "2022-07-18T18:30:59.055Z"
   },
   {
    "duration": 215,
    "start_time": "2022-07-18T18:31:20.771Z"
   },
   {
    "duration": 102,
    "start_time": "2022-07-18T18:31:54.448Z"
   },
   {
    "duration": 160,
    "start_time": "2022-07-18T18:32:02.645Z"
   },
   {
    "duration": 111,
    "start_time": "2022-07-18T18:32:16.721Z"
   },
   {
    "duration": 128,
    "start_time": "2022-07-18T18:32:52.665Z"
   },
   {
    "duration": 179,
    "start_time": "2022-07-18T18:33:04.358Z"
   },
   {
    "duration": 132,
    "start_time": "2022-07-18T18:33:47.926Z"
   },
   {
    "duration": 96,
    "start_time": "2022-07-18T18:35:29.716Z"
   },
   {
    "duration": 134,
    "start_time": "2022-07-18T18:36:49.505Z"
   },
   {
    "duration": 124,
    "start_time": "2022-07-18T18:37:32.282Z"
   },
   {
    "duration": 123,
    "start_time": "2022-07-18T18:38:27.108Z"
   },
   {
    "duration": 208,
    "start_time": "2022-07-18T18:38:47.131Z"
   },
   {
    "duration": 141,
    "start_time": "2022-07-18T18:39:03.206Z"
   },
   {
    "duration": 131,
    "start_time": "2022-07-18T18:39:15.088Z"
   },
   {
    "duration": 128,
    "start_time": "2022-07-18T18:40:10.931Z"
   },
   {
    "duration": 139,
    "start_time": "2022-07-18T18:43:20.214Z"
   },
   {
    "duration": 166,
    "start_time": "2022-07-18T18:43:25.194Z"
   },
   {
    "duration": 130,
    "start_time": "2022-07-18T18:43:57.188Z"
   },
   {
    "duration": 170,
    "start_time": "2022-07-18T18:44:13.012Z"
   },
   {
    "duration": 373,
    "start_time": "2022-07-18T18:45:20.882Z"
   },
   {
    "duration": 135,
    "start_time": "2022-07-18T18:47:01.053Z"
   },
   {
    "duration": 24,
    "start_time": "2022-07-18T18:47:59.798Z"
   },
   {
    "duration": 371,
    "start_time": "2022-07-18T18:48:34.562Z"
   },
   {
    "duration": 123,
    "start_time": "2022-07-18T18:57:06.746Z"
   },
   {
    "duration": 179,
    "start_time": "2022-07-18T18:57:16.758Z"
   },
   {
    "duration": 223,
    "start_time": "2022-07-18T18:59:08.635Z"
   },
   {
    "duration": 153,
    "start_time": "2022-07-18T18:59:38.016Z"
   },
   {
    "duration": 162,
    "start_time": "2022-07-18T18:59:42.701Z"
   },
   {
    "duration": 223,
    "start_time": "2022-07-18T19:00:22.327Z"
   },
   {
    "duration": 267,
    "start_time": "2022-07-18T19:01:07.536Z"
   },
   {
    "duration": 358,
    "start_time": "2022-07-18T19:03:57.055Z"
   },
   {
    "duration": 256,
    "start_time": "2022-07-18T19:04:41.446Z"
   },
   {
    "duration": 133,
    "start_time": "2022-07-18T19:04:59.155Z"
   },
   {
    "duration": 238,
    "start_time": "2022-07-18T19:05:15.953Z"
   },
   {
    "duration": 132,
    "start_time": "2022-07-18T19:07:13.907Z"
   },
   {
    "duration": 279,
    "start_time": "2022-07-18T19:07:22.470Z"
   },
   {
    "duration": 4,
    "start_time": "2022-07-18T19:08:18.263Z"
   },
   {
    "duration": 320,
    "start_time": "2022-07-18T19:08:22.641Z"
   },
   {
    "duration": 315,
    "start_time": "2022-07-18T19:08:42.722Z"
   },
   {
    "duration": 212,
    "start_time": "2022-07-18T19:08:55.246Z"
   },
   {
    "duration": 226,
    "start_time": "2022-07-18T19:09:02.440Z"
   },
   {
    "duration": 1028,
    "start_time": "2022-07-18T19:09:07.373Z"
   },
   {
    "duration": 165,
    "start_time": "2022-07-18T19:09:16.844Z"
   },
   {
    "duration": 179,
    "start_time": "2022-07-18T19:09:23.236Z"
   },
   {
    "duration": 367,
    "start_time": "2022-07-18T19:09:32.004Z"
   },
   {
    "duration": 267,
    "start_time": "2022-07-18T19:09:44.908Z"
   },
   {
    "duration": 492,
    "start_time": "2022-07-18T19:10:02.664Z"
   },
   {
    "duration": 578,
    "start_time": "2022-07-18T19:10:08.920Z"
   },
   {
    "duration": 5,
    "start_time": "2022-07-18T19:11:30.419Z"
   },
   {
    "duration": 338,
    "start_time": "2022-07-18T19:11:35.323Z"
   },
   {
    "duration": 248,
    "start_time": "2022-07-18T19:11:43.418Z"
   },
   {
    "duration": 196,
    "start_time": "2022-07-18T19:11:47.007Z"
   },
   {
    "duration": 1205,
    "start_time": "2022-07-18T19:11:54.359Z"
   },
   {
    "duration": 53,
    "start_time": "2022-07-18T19:11:55.566Z"
   },
   {
    "duration": 18,
    "start_time": "2022-07-18T19:11:55.621Z"
   },
   {
    "duration": 15,
    "start_time": "2022-07-18T19:11:55.642Z"
   },
   {
    "duration": 3,
    "start_time": "2022-07-18T19:11:55.659Z"
   },
   {
    "duration": 14,
    "start_time": "2022-07-18T19:11:55.664Z"
   },
   {
    "duration": 45,
    "start_time": "2022-07-18T19:11:55.679Z"
   },
   {
    "duration": 27911,
    "start_time": "2022-07-18T19:11:55.726Z"
   },
   {
    "duration": 4,
    "start_time": "2022-07-18T19:12:23.639Z"
   },
   {
    "duration": 13,
    "start_time": "2022-07-18T19:12:23.646Z"
   },
   {
    "duration": 27560,
    "start_time": "2022-07-18T19:12:23.661Z"
   },
   {
    "duration": 7,
    "start_time": "2022-07-18T19:12:51.222Z"
   },
   {
    "duration": 9,
    "start_time": "2022-07-18T19:12:51.230Z"
   },
   {
    "duration": 12,
    "start_time": "2022-07-18T19:12:51.241Z"
   },
   {
    "duration": 7,
    "start_time": "2022-07-18T19:12:51.255Z"
   },
   {
    "duration": 197,
    "start_time": "2022-07-18T19:12:51.264Z"
   },
   {
    "duration": 282,
    "start_time": "2022-07-18T19:12:51.462Z"
   },
   {
    "duration": 5,
    "start_time": "2022-07-18T19:12:51.746Z"
   },
   {
    "duration": 294,
    "start_time": "2022-07-18T19:12:51.752Z"
   },
   {
    "duration": 248,
    "start_time": "2022-07-18T19:12:52.048Z"
   },
   {
    "duration": 233,
    "start_time": "2022-07-18T19:12:52.297Z"
   },
   {
    "duration": 201,
    "start_time": "2022-07-18T19:12:52.532Z"
   },
   {
    "duration": 937,
    "start_time": "2022-07-18T19:12:52.735Z"
   },
   {
    "duration": 845,
    "start_time": "2022-07-18T19:12:53.674Z"
   },
   {
    "duration": 168,
    "start_time": "2022-07-18T19:12:54.521Z"
   },
   {
    "duration": 176,
    "start_time": "2022-07-18T19:12:54.691Z"
   },
   {
    "duration": 357,
    "start_time": "2022-07-18T19:12:54.869Z"
   },
   {
    "duration": 560,
    "start_time": "2022-07-18T19:12:55.230Z"
   },
   {
    "duration": 517,
    "start_time": "2022-07-18T19:12:55.791Z"
   },
   {
    "duration": 499,
    "start_time": "2022-07-18T19:12:56.311Z"
   },
   {
    "duration": 3,
    "start_time": "2022-07-18T19:12:56.812Z"
   },
   {
    "duration": 15,
    "start_time": "2022-07-18T19:12:56.817Z"
   },
   {
    "duration": 15,
    "start_time": "2022-07-18T19:12:56.833Z"
   },
   {
    "duration": 4,
    "start_time": "2022-07-18T19:13:54.219Z"
   },
   {
    "duration": 290,
    "start_time": "2022-07-18T19:13:57.607Z"
   },
   {
    "duration": 274,
    "start_time": "2022-07-18T19:14:08.248Z"
   },
   {
    "duration": 278,
    "start_time": "2022-07-18T19:14:22.605Z"
   },
   {
    "duration": 169,
    "start_time": "2022-07-18T19:14:25.573Z"
   },
   {
    "duration": 775,
    "start_time": "2022-07-18T19:14:35.456Z"
   },
   {
    "duration": 146,
    "start_time": "2022-07-18T19:14:51.550Z"
   },
   {
    "duration": 161,
    "start_time": "2022-07-18T19:14:51.698Z"
   },
   {
    "duration": 342,
    "start_time": "2022-07-18T19:15:00.689Z"
   },
   {
    "duration": 4,
    "start_time": "2022-07-18T19:15:49.121Z"
   },
   {
    "duration": 308,
    "start_time": "2022-07-18T19:15:53.339Z"
   },
   {
    "duration": 193,
    "start_time": "2022-07-18T19:16:28.674Z"
   },
   {
    "duration": 174,
    "start_time": "2022-07-18T19:16:36.224Z"
   },
   {
    "duration": 202,
    "start_time": "2022-07-18T19:20:23.271Z"
   },
   {
    "duration": 211,
    "start_time": "2022-07-18T19:20:40.286Z"
   },
   {
    "duration": 279,
    "start_time": "2022-07-18T19:21:03.789Z"
   },
   {
    "duration": 1114,
    "start_time": "2022-07-18T19:22:26.382Z"
   },
   {
    "duration": 65,
    "start_time": "2022-07-18T19:22:27.498Z"
   },
   {
    "duration": 16,
    "start_time": "2022-07-18T19:22:27.567Z"
   },
   {
    "duration": 13,
    "start_time": "2022-07-18T19:22:27.585Z"
   },
   {
    "duration": 3,
    "start_time": "2022-07-18T19:22:27.599Z"
   },
   {
    "duration": 11,
    "start_time": "2022-07-18T19:22:27.603Z"
   },
   {
    "duration": 24,
    "start_time": "2022-07-18T19:22:27.616Z"
   },
   {
    "duration": 26956,
    "start_time": "2022-07-18T19:22:27.641Z"
   },
   {
    "duration": 4,
    "start_time": "2022-07-18T19:22:54.600Z"
   },
   {
    "duration": 14,
    "start_time": "2022-07-18T19:22:54.605Z"
   },
   {
    "duration": 27297,
    "start_time": "2022-07-18T19:22:54.621Z"
   },
   {
    "duration": 7,
    "start_time": "2022-07-18T19:23:21.920Z"
   },
   {
    "duration": 9,
    "start_time": "2022-07-18T19:23:21.929Z"
   },
   {
    "duration": 5,
    "start_time": "2022-07-18T19:23:21.940Z"
   },
   {
    "duration": 7,
    "start_time": "2022-07-18T19:23:21.947Z"
   },
   {
    "duration": 218,
    "start_time": "2022-07-18T19:23:21.956Z"
   },
   {
    "duration": 314,
    "start_time": "2022-07-18T19:23:22.175Z"
   },
   {
    "duration": 5,
    "start_time": "2022-07-18T19:23:22.490Z"
   },
   {
    "duration": 312,
    "start_time": "2022-07-18T19:23:22.497Z"
   },
   {
    "duration": 263,
    "start_time": "2022-07-18T19:23:22.811Z"
   },
   {
    "duration": 199,
    "start_time": "2022-07-18T19:23:23.076Z"
   },
   {
    "duration": 206,
    "start_time": "2022-07-18T19:23:23.277Z"
   },
   {
    "duration": 858,
    "start_time": "2022-07-18T19:23:23.485Z"
   },
   {
    "duration": 795,
    "start_time": "2022-07-18T19:23:24.345Z"
   },
   {
    "duration": 229,
    "start_time": "2022-07-18T19:23:25.142Z"
   },
   {
    "duration": 199,
    "start_time": "2022-07-18T19:23:25.373Z"
   },
   {
    "duration": 318,
    "start_time": "2022-07-18T19:23:25.575Z"
   },
   {
    "duration": 484,
    "start_time": "2022-07-18T19:23:25.895Z"
   },
   {
    "duration": 492,
    "start_time": "2022-07-18T19:23:26.382Z"
   },
   {
    "duration": 470,
    "start_time": "2022-07-18T19:23:26.876Z"
   },
   {
    "duration": 2,
    "start_time": "2022-07-18T19:23:27.348Z"
   },
   {
    "duration": 12,
    "start_time": "2022-07-18T19:23:27.352Z"
   },
   {
    "duration": 10,
    "start_time": "2022-07-18T19:23:27.365Z"
   },
   {
    "duration": 62,
    "start_time": "2022-07-18T19:25:15.501Z"
   },
   {
    "duration": 298,
    "start_time": "2022-07-18T19:30:56.285Z"
   },
   {
    "duration": 1054,
    "start_time": "2022-07-18T19:31:39.238Z"
   },
   {
    "duration": 51,
    "start_time": "2022-07-18T19:31:40.294Z"
   },
   {
    "duration": 18,
    "start_time": "2022-07-18T19:31:40.346Z"
   },
   {
    "duration": 18,
    "start_time": "2022-07-18T19:31:40.366Z"
   },
   {
    "duration": 3,
    "start_time": "2022-07-18T19:31:40.385Z"
   },
   {
    "duration": 12,
    "start_time": "2022-07-18T19:31:40.389Z"
   },
   {
    "duration": 28,
    "start_time": "2022-07-18T19:31:40.403Z"
   },
   {
    "duration": 29146,
    "start_time": "2022-07-18T19:31:40.432Z"
   },
   {
    "duration": 4,
    "start_time": "2022-07-18T19:32:09.580Z"
   },
   {
    "duration": 19,
    "start_time": "2022-07-18T19:32:09.587Z"
   },
   {
    "duration": 28073,
    "start_time": "2022-07-18T19:32:09.608Z"
   },
   {
    "duration": 8,
    "start_time": "2022-07-18T19:32:37.683Z"
   },
   {
    "duration": 10,
    "start_time": "2022-07-18T19:32:37.700Z"
   },
   {
    "duration": 6,
    "start_time": "2022-07-18T19:32:37.712Z"
   },
   {
    "duration": 8,
    "start_time": "2022-07-18T19:32:37.719Z"
   },
   {
    "duration": 220,
    "start_time": "2022-07-18T19:32:37.728Z"
   },
   {
    "duration": 311,
    "start_time": "2022-07-18T19:32:37.950Z"
   },
   {
    "duration": 5,
    "start_time": "2022-07-18T19:32:38.262Z"
   },
   {
    "duration": 55,
    "start_time": "2022-07-18T19:32:38.269Z"
   },
   {
    "duration": 0,
    "start_time": "2022-07-18T19:32:38.325Z"
   },
   {
    "duration": 0,
    "start_time": "2022-07-18T19:32:38.327Z"
   },
   {
    "duration": 0,
    "start_time": "2022-07-18T19:32:38.328Z"
   },
   {
    "duration": 0,
    "start_time": "2022-07-18T19:32:38.329Z"
   },
   {
    "duration": 0,
    "start_time": "2022-07-18T19:32:38.330Z"
   },
   {
    "duration": 0,
    "start_time": "2022-07-18T19:32:38.331Z"
   },
   {
    "duration": 0,
    "start_time": "2022-07-18T19:32:38.331Z"
   },
   {
    "duration": 0,
    "start_time": "2022-07-18T19:32:38.333Z"
   },
   {
    "duration": 0,
    "start_time": "2022-07-18T19:32:38.334Z"
   },
   {
    "duration": 0,
    "start_time": "2022-07-18T19:32:38.335Z"
   },
   {
    "duration": 0,
    "start_time": "2022-07-18T19:32:38.336Z"
   },
   {
    "duration": 0,
    "start_time": "2022-07-18T19:32:38.337Z"
   },
   {
    "duration": 0,
    "start_time": "2022-07-18T19:32:38.338Z"
   },
   {
    "duration": 0,
    "start_time": "2022-07-18T19:32:38.339Z"
   },
   {
    "duration": 275,
    "start_time": "2022-07-18T19:32:53.132Z"
   },
   {
    "duration": 263,
    "start_time": "2022-07-18T19:32:53.868Z"
   },
   {
    "duration": 193,
    "start_time": "2022-07-18T19:32:54.361Z"
   },
   {
    "duration": 173,
    "start_time": "2022-07-18T19:32:54.705Z"
   },
   {
    "duration": 899,
    "start_time": "2022-07-18T19:32:55.251Z"
   },
   {
    "duration": 787,
    "start_time": "2022-07-18T19:32:56.152Z"
   },
   {
    "duration": 195,
    "start_time": "2022-07-18T19:32:56.941Z"
   },
   {
    "duration": 182,
    "start_time": "2022-07-18T19:32:57.138Z"
   },
   {
    "duration": 335,
    "start_time": "2022-07-18T19:32:57.321Z"
   },
   {
    "duration": 467,
    "start_time": "2022-07-18T19:32:57.846Z"
   },
   {
    "duration": 474,
    "start_time": "2022-07-18T19:32:58.409Z"
   },
   {
    "duration": 465,
    "start_time": "2022-07-18T19:32:58.974Z"
   },
   {
    "duration": 3,
    "start_time": "2022-07-18T19:32:59.924Z"
   },
   {
    "duration": 11,
    "start_time": "2022-07-18T19:33:00.554Z"
   },
   {
    "duration": 11,
    "start_time": "2022-07-18T19:33:01.178Z"
   },
   {
    "duration": 5,
    "start_time": "2022-07-18T19:34:20.838Z"
   },
   {
    "duration": 279,
    "start_time": "2022-07-18T19:34:24.834Z"
   },
   {
    "duration": 241,
    "start_time": "2022-07-18T19:35:10.233Z"
   },
   {
    "duration": 359,
    "start_time": "2022-07-18T19:35:50.763Z"
   },
   {
    "duration": 180,
    "start_time": "2022-07-18T19:35:57.637Z"
   },
   {
    "duration": 198,
    "start_time": "2022-07-18T19:36:01.515Z"
   },
   {
    "duration": 908,
    "start_time": "2022-07-18T19:36:05.357Z"
   },
   {
    "duration": 199,
    "start_time": "2022-07-18T19:36:21.845Z"
   },
   {
    "duration": 194,
    "start_time": "2022-07-18T19:36:24.848Z"
   },
   {
    "duration": 337,
    "start_time": "2022-07-18T19:36:26.535Z"
   },
   {
    "duration": 192,
    "start_time": "2022-07-18T19:36:52.526Z"
   },
   {
    "duration": 212,
    "start_time": "2022-07-18T19:36:59.938Z"
   },
   {
    "duration": 272,
    "start_time": "2022-07-18T19:37:09.417Z"
   },
   {
    "duration": 539,
    "start_time": "2022-07-18T19:39:47.088Z"
   },
   {
    "duration": 531,
    "start_time": "2022-07-18T19:40:00.564Z"
   },
   {
    "duration": 652,
    "start_time": "2022-07-18T19:41:10.941Z"
   },
   {
    "duration": 1111,
    "start_time": "2022-07-18T19:41:37.879Z"
   },
   {
    "duration": 71,
    "start_time": "2022-07-18T19:41:38.991Z"
   },
   {
    "duration": 17,
    "start_time": "2022-07-18T19:41:39.064Z"
   },
   {
    "duration": 17,
    "start_time": "2022-07-18T19:41:39.082Z"
   },
   {
    "duration": 5,
    "start_time": "2022-07-18T19:41:39.106Z"
   },
   {
    "duration": 33,
    "start_time": "2022-07-18T19:41:39.112Z"
   },
   {
    "duration": 25,
    "start_time": "2022-07-18T19:41:39.147Z"
   },
   {
    "duration": 30792,
    "start_time": "2022-07-18T19:41:39.174Z"
   },
   {
    "duration": 5,
    "start_time": "2022-07-18T19:42:09.968Z"
   },
   {
    "duration": 14,
    "start_time": "2022-07-18T19:42:09.975Z"
   },
   {
    "duration": 31082,
    "start_time": "2022-07-18T19:42:09.990Z"
   },
   {
    "duration": 7,
    "start_time": "2022-07-18T19:42:41.074Z"
   },
   {
    "duration": 56,
    "start_time": "2022-07-18T19:42:41.082Z"
   },
   {
    "duration": 9,
    "start_time": "2022-07-18T19:42:41.140Z"
   },
   {
    "duration": 10,
    "start_time": "2022-07-18T19:42:41.151Z"
   },
   {
    "duration": 216,
    "start_time": "2022-07-18T19:42:41.162Z"
   },
   {
    "duration": 337,
    "start_time": "2022-07-18T19:42:41.379Z"
   },
   {
    "duration": 9,
    "start_time": "2022-07-18T19:42:41.718Z"
   },
   {
    "duration": 318,
    "start_time": "2022-07-18T19:42:41.731Z"
   },
   {
    "duration": 280,
    "start_time": "2022-07-18T19:42:42.051Z"
   },
   {
    "duration": 203,
    "start_time": "2022-07-18T19:42:42.335Z"
   },
   {
    "duration": 197,
    "start_time": "2022-07-18T19:42:42.539Z"
   },
   {
    "duration": 915,
    "start_time": "2022-07-18T19:42:42.738Z"
   },
   {
    "duration": 885,
    "start_time": "2022-07-18T19:42:43.655Z"
   },
   {
    "duration": 190,
    "start_time": "2022-07-18T19:42:44.542Z"
   },
   {
    "duration": 207,
    "start_time": "2022-07-18T19:42:44.734Z"
   },
   {
    "duration": 390,
    "start_time": "2022-07-18T19:42:44.942Z"
   },
   {
    "duration": 593,
    "start_time": "2022-07-18T19:42:45.339Z"
   },
   {
    "duration": 537,
    "start_time": "2022-07-18T19:42:45.936Z"
   },
   {
    "duration": 520,
    "start_time": "2022-07-18T19:42:46.475Z"
   },
   {
    "duration": 9,
    "start_time": "2022-07-18T19:42:46.997Z"
   },
   {
    "duration": 29,
    "start_time": "2022-07-18T19:42:47.012Z"
   },
   {
    "duration": 13,
    "start_time": "2022-07-18T19:42:47.043Z"
   },
   {
    "duration": 50,
    "start_time": "2022-08-03T07:54:23.080Z"
   },
   {
    "duration": 1044,
    "start_time": "2022-10-22T16:40:02.818Z"
   },
   {
    "duration": 64,
    "start_time": "2022-10-22T16:40:03.864Z"
   },
   {
    "duration": 16,
    "start_time": "2022-10-22T16:40:03.930Z"
   },
   {
    "duration": 16,
    "start_time": "2022-10-22T16:40:03.947Z"
   },
   {
    "duration": 8,
    "start_time": "2022-10-22T16:40:03.964Z"
   },
   {
    "duration": 16,
    "start_time": "2022-10-22T16:40:03.973Z"
   },
   {
    "duration": 40,
    "start_time": "2022-10-22T16:40:03.990Z"
   },
   {
    "duration": 26786,
    "start_time": "2022-10-22T16:40:04.031Z"
   },
   {
    "duration": 4,
    "start_time": "2022-10-22T16:40:30.819Z"
   },
   {
    "duration": 53,
    "start_time": "2022-10-22T16:40:30.825Z"
   },
   {
    "duration": 27075,
    "start_time": "2022-10-22T16:40:30.879Z"
   },
   {
    "duration": 7,
    "start_time": "2022-10-22T16:40:57.956Z"
   },
   {
    "duration": 8,
    "start_time": "2022-10-22T16:40:57.965Z"
   },
   {
    "duration": 5,
    "start_time": "2022-10-22T16:40:57.975Z"
   },
   {
    "duration": 24,
    "start_time": "2022-10-22T16:40:57.982Z"
   },
   {
    "duration": 15,
    "start_time": "2022-10-22T16:40:58.007Z"
   },
   {
    "duration": 189,
    "start_time": "2022-10-22T16:40:58.023Z"
   },
   {
    "duration": 252,
    "start_time": "2022-10-22T16:40:58.213Z"
   },
   {
    "duration": 4,
    "start_time": "2022-10-22T16:40:58.467Z"
   },
   {
    "duration": 273,
    "start_time": "2022-10-22T16:40:58.473Z"
   },
   {
    "duration": 253,
    "start_time": "2022-10-22T16:40:58.747Z"
   },
   {
    "duration": 202,
    "start_time": "2022-10-22T16:40:59.002Z"
   },
   {
    "duration": 179,
    "start_time": "2022-10-22T16:40:59.206Z"
   },
   {
    "duration": 868,
    "start_time": "2022-10-22T16:40:59.387Z"
   },
   {
    "duration": 811,
    "start_time": "2022-10-22T16:41:00.257Z"
   },
   {
    "duration": 193,
    "start_time": "2022-10-22T16:41:01.070Z"
   },
   {
    "duration": 280,
    "start_time": "2022-10-22T16:41:01.264Z"
   },
   {
    "duration": 246,
    "start_time": "2022-10-22T16:41:01.547Z"
   },
   {
    "duration": 482,
    "start_time": "2022-10-22T16:41:01.795Z"
   },
   {
    "duration": 477,
    "start_time": "2022-10-22T16:41:02.279Z"
   },
   {
    "duration": 460,
    "start_time": "2022-10-22T16:41:02.757Z"
   },
   {
    "duration": 3,
    "start_time": "2022-10-22T16:41:03.218Z"
   },
   {
    "duration": 21,
    "start_time": "2022-10-22T16:41:03.222Z"
   },
   {
    "duration": 17,
    "start_time": "2022-10-22T16:41:03.245Z"
   },
   {
    "duration": 1104,
    "start_time": "2022-12-17T08:14:44.584Z"
   },
   {
    "duration": 138,
    "start_time": "2022-12-17T08:14:45.690Z"
   },
   {
    "duration": 17,
    "start_time": "2022-12-17T08:14:45.829Z"
   },
   {
    "duration": 12,
    "start_time": "2022-12-17T08:14:45.848Z"
   },
   {
    "duration": 3,
    "start_time": "2022-12-17T08:14:45.861Z"
   },
   {
    "duration": 10,
    "start_time": "2022-12-17T08:14:45.866Z"
   },
   {
    "duration": 36,
    "start_time": "2022-12-17T08:14:45.877Z"
   },
   {
    "duration": 28489,
    "start_time": "2022-12-17T08:14:45.915Z"
   },
   {
    "duration": 4,
    "start_time": "2022-12-17T08:15:14.406Z"
   },
   {
    "duration": 12,
    "start_time": "2022-12-17T08:15:14.413Z"
   },
   {
    "duration": 27004,
    "start_time": "2022-12-17T08:15:14.426Z"
   },
   {
    "duration": 6,
    "start_time": "2022-12-17T08:15:41.431Z"
   },
   {
    "duration": 8,
    "start_time": "2022-12-17T08:15:41.439Z"
   },
   {
    "duration": 3,
    "start_time": "2022-12-17T08:15:41.449Z"
   },
   {
    "duration": 6,
    "start_time": "2022-12-17T08:15:41.454Z"
   },
   {
    "duration": 42,
    "start_time": "2022-12-17T08:15:41.461Z"
   },
   {
    "duration": 181,
    "start_time": "2022-12-17T08:15:41.505Z"
   },
   {
    "duration": 273,
    "start_time": "2022-12-17T08:15:41.688Z"
   },
   {
    "duration": 5,
    "start_time": "2022-12-17T08:15:41.962Z"
   },
   {
    "duration": 302,
    "start_time": "2022-12-17T08:15:41.969Z"
   },
   {
    "duration": 247,
    "start_time": "2022-12-17T08:15:42.273Z"
   },
   {
    "duration": 184,
    "start_time": "2022-12-17T08:15:42.522Z"
   },
   {
    "duration": 186,
    "start_time": "2022-12-17T08:15:42.707Z"
   },
   {
    "duration": 856,
    "start_time": "2022-12-17T08:15:42.897Z"
   },
   {
    "duration": 809,
    "start_time": "2022-12-17T08:15:43.754Z"
   },
   {
    "duration": 185,
    "start_time": "2022-12-17T08:15:44.565Z"
   },
   {
    "duration": 275,
    "start_time": "2022-12-17T08:15:44.752Z"
   },
   {
    "duration": 274,
    "start_time": "2022-12-17T08:15:45.030Z"
   },
   {
    "duration": 505,
    "start_time": "2022-12-17T08:15:45.305Z"
   },
   {
    "duration": 566,
    "start_time": "2022-12-17T08:15:45.811Z"
   },
   {
    "duration": 499,
    "start_time": "2022-12-17T08:15:46.379Z"
   },
   {
    "duration": 3,
    "start_time": "2022-12-17T08:15:46.879Z"
   },
   {
    "duration": 19,
    "start_time": "2022-12-17T08:15:46.883Z"
   },
   {
    "duration": 12,
    "start_time": "2022-12-17T08:15:46.903Z"
   }
  ],
  "kernelspec": {
   "display_name": "Python 3 (ipykernel)",
   "language": "python",
   "name": "python3"
  },
  "language_info": {
   "codemirror_mode": {
    "name": "ipython",
    "version": 3
   },
   "file_extension": ".py",
   "mimetype": "text/x-python",
   "name": "python",
   "nbconvert_exporter": "python",
   "pygments_lexer": "ipython3",
   "version": "3.9.12"
  },
  "toc": {
   "base_numbering": "1",
   "nav_menu": {
    "height": "577px",
    "width": "330px"
   },
   "number_sections": true,
   "sideBar": true,
   "skip_h1_title": true,
   "title_cell": "Table of Contents",
   "title_sidebar": "Contents",
   "toc_cell": false,
   "toc_position": {
    "height": "calc(100% - 180px)",
    "left": "10px",
    "top": "150px",
    "width": "299.4px"
   },
   "toc_section_display": true,
   "toc_window_display": true
  }
 },
 "nbformat": 4,
 "nbformat_minor": 2
}
