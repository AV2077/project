{
 "cells": [
  {
   "cell_type": "markdown",
   "metadata": {},
   "source": [
    "Привет, меня зовут Гребенюк Артём. Сегодня я буду делать ревью твоего проекта!\\\n",
    "В Практикуме принято общаться на \"ты\", однако если это неудобно - дай знать, и можем перейти на более официальное общение.\n",
    "\n",
    "Ниже ты найдешь мои комментарии - пожалуйста, не перемещай, не изменяй и не удаляй их. Я буду использовать цветовую разметку: \n",
    "\n",
    "<div class=\"alert alert-block alert-success\">\n",
    "<b>✔️ Success:</b> Если все сделано хорошо. </div>\n",
    "\n",
    "<div class=\"alert alert-block alert-warning\">\n",
    "<b>⚠️ Remarks:</b> Некритичное замечание; если таких замечаний меньше трех — проект может быть принят без их отработки.</div>\n",
    "\n",
    "<div class=\"alert alert-block alert-danger\">\n",
    "<b>❌ Needs fixing:</b> Грубая ошибка, необходимо исправить, иначе проект не будет принят.\n",
    "</div>\n",
    "\n",
    "Давай работать над проектом в диалоге: если ты что-то меняешь в проекте или отвечаешь на мои комменатри — пиши об этом. Мне будет легче отследить изменения, если ты выделишь свои комментарии:\n",
    "Например так:\n",
    "\n",
    "<div class=\"alert alert-block alert-info\">\n",
    "<b>💾 Fixed:</b> \n",
    "Hello World! ✔\n",
    "</div>\n",
    "\n",
    "Или можешь использовать эту галочку ✔ в моих комментариях, если писать особо нечего.\n",
    "\n",
    "<div class=\"alert alert-block alert-warning\">\n",
    "<b>Общее впечатление:</b> \n",
    "    \n",
    "- Спасибо за работу :)\n",
    "- У меня есть пара ремарок, которые помогут тебе сделать проект еще лучше.\n",
    "- Пробегись по моим комментариям, исправь недочёты и всё будет отлично :)\n",
    "    \n",
    "</div>\n",
    "\n"
   ]
  },
  {
   "cell_type": "markdown",
   "metadata": {},
   "source": [
    "<div class=\"alert alert-block alert-success\">\n",
    "<b>Привет!</b> Отличная работа над ремарками! Проект принят, поздравляю, желаю удачи в дальнейшем обучении :)"
   ]
  },
  {
   "cell_type": "markdown",
   "metadata": {},
   "source": [
    "# Исследование объявлений о продаже квартир\n",
    "\n",
    "В вашем распоряжении данные сервиса Яндекс.Недвижимость — архив объявлений о продаже квартир в Санкт-Петербурге и соседних населённых пунктов за несколько лет. Нужно научиться определять рыночную стоимость объектов недвижимости. Ваша задача — установить параметры. Это позволит построить автоматизированную систему: она отследит аномалии и мошенническую деятельность. \n",
    "\n",
    "По каждой квартире на продажу доступны два вида данных. Первые вписаны пользователем, вторые — получены автоматически на основе картографических данных. Например, расстояние до центра, аэропорта, ближайшего парка и водоёма. "
   ]
  },
  {
   "cell_type": "markdown",
   "metadata": {},
   "source": [
    "<div class=\"alert alert-block alert-warning\">\n",
    "<b>Remarks:</b>\n",
    "\n",
    "Любому проекту нужно введение. Также стоит задуматься, как еще его можно дополнить, чтобы сделать более ценным для читателя. В студенческом ноушене (если нет доступа, спроси куратора) есть статья о том, как мы оформляем работы.\n",
    "    \n",
    "Также советую тебе взглянуть на <a href=\"https://www.kaggle.com/notebooks/\">работы</a> профессиональных аналитиков, чтобы оценить, как другие люди оформляют и проводят исследования. </div>"
   ]
  },
  {
   "cell_type": "markdown",
   "metadata": {},
   "source": [
    "### Откройте файл с данными и изучите общую информацию. "
   ]
  },
  {
   "cell_type": "code",
   "execution_count": null,
   "metadata": {
    "scrolled": false
   },
   "outputs": [],
   "source": [
    "import pandas as pd\n",
    "import matplotlib.pyplot as plt"
   ]
  },
  {
   "cell_type": "code",
   "execution_count": 2,
   "metadata": {},
   "outputs": [
    {
     "name": "stdout",
     "output_type": "stream",
     "text": [
      "<class 'pandas.core.frame.DataFrame'>\n",
      "RangeIndex: 23699 entries, 0 to 23698\n",
      "Data columns (total 22 columns):\n",
      " #   Column                Non-Null Count  Dtype  \n",
      "---  ------                --------------  -----  \n",
      " 0   total_images          23699 non-null  int64  \n",
      " 1   last_price            23699 non-null  float64\n",
      " 2   total_area            23699 non-null  float64\n",
      " 3   first_day_exposition  23699 non-null  object \n",
      " 4   rooms                 23699 non-null  int64  \n",
      " 5   ceiling_height        14504 non-null  float64\n",
      " 6   floors_total          23613 non-null  float64\n",
      " 7   living_area           21796 non-null  float64\n",
      " 8   floor                 23699 non-null  int64  \n",
      " 9   is_apartment          2775 non-null   object \n",
      " 10  studio                23699 non-null  bool   \n",
      " 11  open_plan             23699 non-null  bool   \n",
      " 12  kitchen_area          21421 non-null  float64\n",
      " 13  balcony               12180 non-null  float64\n",
      " 14  locality_name         23650 non-null  object \n",
      " 15  airports_nearest      18157 non-null  float64\n",
      " 16  cityCenters_nearest   18180 non-null  float64\n",
      " 17  parks_around3000      18181 non-null  float64\n",
      " 18  parks_nearest         8079 non-null   float64\n",
      " 19  ponds_around3000      18181 non-null  float64\n",
      " 20  ponds_nearest         9110 non-null   float64\n",
      " 21  days_exposition       20518 non-null  float64\n",
      "dtypes: bool(2), float64(14), int64(3), object(3)\n",
      "memory usage: 3.7+ MB\n"
     ]
    }
   ],
   "source": [
    "data = pd.read_csv('/datasets/real_estate_data.csv', sep='\\t')\n",
    "data.info()"
   ]
  },
  {
   "cell_type": "markdown",
   "metadata": {},
   "source": [
    "<div class=\"alert alert-block alert-warning\">\n",
    "<b>⚠️ Remarks:</b> ✔\n",
    "    \n",
    "- стоит отделять импорты от открытия датасета. Это делается для того, чтобы иметь возможность в любой момент дописать новые библиотеки, настройки или ключевые константы, перезапустить ячейку с импортами и продолжить работу, не перетирая датасет.\n"
   ]
  },
  {
   "cell_type": "markdown",
   "metadata": {},
   "source": [
    "Переименую столбец с некорректным названием:"
   ]
  },
  {
   "cell_type": "code",
   "execution_count": 3,
   "metadata": {},
   "outputs": [],
   "source": [
    "data = data.rename(columns={'cityCenters_nearest': 'citycenters_nearest'})"
   ]
  },
  {
   "cell_type": "code",
   "execution_count": 4,
   "metadata": {},
   "outputs": [
    {
     "data": {
      "text/html": [
       "<div>\n",
       "<style scoped>\n",
       "    .dataframe tbody tr th:only-of-type {\n",
       "        vertical-align: middle;\n",
       "    }\n",
       "\n",
       "    .dataframe tbody tr th {\n",
       "        vertical-align: top;\n",
       "    }\n",
       "\n",
       "    .dataframe thead th {\n",
       "        text-align: right;\n",
       "    }\n",
       "</style>\n",
       "<table border=\"1\" class=\"dataframe\">\n",
       "  <thead>\n",
       "    <tr style=\"text-align: right;\">\n",
       "      <th></th>\n",
       "      <th>total_images</th>\n",
       "      <th>last_price</th>\n",
       "      <th>total_area</th>\n",
       "      <th>first_day_exposition</th>\n",
       "      <th>rooms</th>\n",
       "      <th>ceiling_height</th>\n",
       "      <th>floors_total</th>\n",
       "      <th>living_area</th>\n",
       "      <th>floor</th>\n",
       "      <th>is_apartment</th>\n",
       "      <th>...</th>\n",
       "      <th>kitchen_area</th>\n",
       "      <th>balcony</th>\n",
       "      <th>locality_name</th>\n",
       "      <th>airports_nearest</th>\n",
       "      <th>citycenters_nearest</th>\n",
       "      <th>parks_around3000</th>\n",
       "      <th>parks_nearest</th>\n",
       "      <th>ponds_around3000</th>\n",
       "      <th>ponds_nearest</th>\n",
       "      <th>days_exposition</th>\n",
       "    </tr>\n",
       "  </thead>\n",
       "  <tbody>\n",
       "    <tr>\n",
       "      <th>0</th>\n",
       "      <td>20</td>\n",
       "      <td>13000000.0</td>\n",
       "      <td>108.00</td>\n",
       "      <td>2019-03-07T00:00:00</td>\n",
       "      <td>3</td>\n",
       "      <td>2.70</td>\n",
       "      <td>16.0</td>\n",
       "      <td>51.0</td>\n",
       "      <td>8</td>\n",
       "      <td>NaN</td>\n",
       "      <td>...</td>\n",
       "      <td>25.00</td>\n",
       "      <td>NaN</td>\n",
       "      <td>Санкт-Петербург</td>\n",
       "      <td>18863.0</td>\n",
       "      <td>16028.0</td>\n",
       "      <td>1.0</td>\n",
       "      <td>482.0</td>\n",
       "      <td>2.0</td>\n",
       "      <td>755.0</td>\n",
       "      <td>NaN</td>\n",
       "    </tr>\n",
       "    <tr>\n",
       "      <th>1</th>\n",
       "      <td>7</td>\n",
       "      <td>3350000.0</td>\n",
       "      <td>40.40</td>\n",
       "      <td>2018-12-04T00:00:00</td>\n",
       "      <td>1</td>\n",
       "      <td>NaN</td>\n",
       "      <td>11.0</td>\n",
       "      <td>18.6</td>\n",
       "      <td>1</td>\n",
       "      <td>NaN</td>\n",
       "      <td>...</td>\n",
       "      <td>11.00</td>\n",
       "      <td>2.0</td>\n",
       "      <td>посёлок Шушары</td>\n",
       "      <td>12817.0</td>\n",
       "      <td>18603.0</td>\n",
       "      <td>0.0</td>\n",
       "      <td>NaN</td>\n",
       "      <td>0.0</td>\n",
       "      <td>NaN</td>\n",
       "      <td>81.0</td>\n",
       "    </tr>\n",
       "    <tr>\n",
       "      <th>2</th>\n",
       "      <td>10</td>\n",
       "      <td>5196000.0</td>\n",
       "      <td>56.00</td>\n",
       "      <td>2015-08-20T00:00:00</td>\n",
       "      <td>2</td>\n",
       "      <td>NaN</td>\n",
       "      <td>5.0</td>\n",
       "      <td>34.3</td>\n",
       "      <td>4</td>\n",
       "      <td>NaN</td>\n",
       "      <td>...</td>\n",
       "      <td>8.30</td>\n",
       "      <td>0.0</td>\n",
       "      <td>Санкт-Петербург</td>\n",
       "      <td>21741.0</td>\n",
       "      <td>13933.0</td>\n",
       "      <td>1.0</td>\n",
       "      <td>90.0</td>\n",
       "      <td>2.0</td>\n",
       "      <td>574.0</td>\n",
       "      <td>558.0</td>\n",
       "    </tr>\n",
       "    <tr>\n",
       "      <th>3</th>\n",
       "      <td>0</td>\n",
       "      <td>64900000.0</td>\n",
       "      <td>159.00</td>\n",
       "      <td>2015-07-24T00:00:00</td>\n",
       "      <td>3</td>\n",
       "      <td>NaN</td>\n",
       "      <td>14.0</td>\n",
       "      <td>NaN</td>\n",
       "      <td>9</td>\n",
       "      <td>NaN</td>\n",
       "      <td>...</td>\n",
       "      <td>NaN</td>\n",
       "      <td>0.0</td>\n",
       "      <td>Санкт-Петербург</td>\n",
       "      <td>28098.0</td>\n",
       "      <td>6800.0</td>\n",
       "      <td>2.0</td>\n",
       "      <td>84.0</td>\n",
       "      <td>3.0</td>\n",
       "      <td>234.0</td>\n",
       "      <td>424.0</td>\n",
       "    </tr>\n",
       "    <tr>\n",
       "      <th>4</th>\n",
       "      <td>2</td>\n",
       "      <td>10000000.0</td>\n",
       "      <td>100.00</td>\n",
       "      <td>2018-06-19T00:00:00</td>\n",
       "      <td>2</td>\n",
       "      <td>3.03</td>\n",
       "      <td>14.0</td>\n",
       "      <td>32.0</td>\n",
       "      <td>13</td>\n",
       "      <td>NaN</td>\n",
       "      <td>...</td>\n",
       "      <td>41.00</td>\n",
       "      <td>NaN</td>\n",
       "      <td>Санкт-Петербург</td>\n",
       "      <td>31856.0</td>\n",
       "      <td>8098.0</td>\n",
       "      <td>2.0</td>\n",
       "      <td>112.0</td>\n",
       "      <td>1.0</td>\n",
       "      <td>48.0</td>\n",
       "      <td>121.0</td>\n",
       "    </tr>\n",
       "    <tr>\n",
       "      <th>...</th>\n",
       "      <td>...</td>\n",
       "      <td>...</td>\n",
       "      <td>...</td>\n",
       "      <td>...</td>\n",
       "      <td>...</td>\n",
       "      <td>...</td>\n",
       "      <td>...</td>\n",
       "      <td>...</td>\n",
       "      <td>...</td>\n",
       "      <td>...</td>\n",
       "      <td>...</td>\n",
       "      <td>...</td>\n",
       "      <td>...</td>\n",
       "      <td>...</td>\n",
       "      <td>...</td>\n",
       "      <td>...</td>\n",
       "      <td>...</td>\n",
       "      <td>...</td>\n",
       "      <td>...</td>\n",
       "      <td>...</td>\n",
       "      <td>...</td>\n",
       "    </tr>\n",
       "    <tr>\n",
       "      <th>23694</th>\n",
       "      <td>9</td>\n",
       "      <td>9700000.0</td>\n",
       "      <td>133.81</td>\n",
       "      <td>2017-03-21T00:00:00</td>\n",
       "      <td>3</td>\n",
       "      <td>3.70</td>\n",
       "      <td>5.0</td>\n",
       "      <td>73.3</td>\n",
       "      <td>3</td>\n",
       "      <td>NaN</td>\n",
       "      <td>...</td>\n",
       "      <td>13.83</td>\n",
       "      <td>NaN</td>\n",
       "      <td>Санкт-Петербург</td>\n",
       "      <td>24665.0</td>\n",
       "      <td>4232.0</td>\n",
       "      <td>1.0</td>\n",
       "      <td>796.0</td>\n",
       "      <td>3.0</td>\n",
       "      <td>381.0</td>\n",
       "      <td>NaN</td>\n",
       "    </tr>\n",
       "    <tr>\n",
       "      <th>23695</th>\n",
       "      <td>14</td>\n",
       "      <td>3100000.0</td>\n",
       "      <td>59.00</td>\n",
       "      <td>2018-01-15T00:00:00</td>\n",
       "      <td>3</td>\n",
       "      <td>NaN</td>\n",
       "      <td>5.0</td>\n",
       "      <td>38.0</td>\n",
       "      <td>4</td>\n",
       "      <td>NaN</td>\n",
       "      <td>...</td>\n",
       "      <td>8.50</td>\n",
       "      <td>NaN</td>\n",
       "      <td>Тосно</td>\n",
       "      <td>NaN</td>\n",
       "      <td>NaN</td>\n",
       "      <td>NaN</td>\n",
       "      <td>NaN</td>\n",
       "      <td>NaN</td>\n",
       "      <td>NaN</td>\n",
       "      <td>45.0</td>\n",
       "    </tr>\n",
       "    <tr>\n",
       "      <th>23696</th>\n",
       "      <td>18</td>\n",
       "      <td>2500000.0</td>\n",
       "      <td>56.70</td>\n",
       "      <td>2018-02-11T00:00:00</td>\n",
       "      <td>2</td>\n",
       "      <td>NaN</td>\n",
       "      <td>3.0</td>\n",
       "      <td>29.7</td>\n",
       "      <td>1</td>\n",
       "      <td>NaN</td>\n",
       "      <td>...</td>\n",
       "      <td>NaN</td>\n",
       "      <td>NaN</td>\n",
       "      <td>село Рождествено</td>\n",
       "      <td>NaN</td>\n",
       "      <td>NaN</td>\n",
       "      <td>NaN</td>\n",
       "      <td>NaN</td>\n",
       "      <td>NaN</td>\n",
       "      <td>NaN</td>\n",
       "      <td>NaN</td>\n",
       "    </tr>\n",
       "    <tr>\n",
       "      <th>23697</th>\n",
       "      <td>13</td>\n",
       "      <td>11475000.0</td>\n",
       "      <td>76.75</td>\n",
       "      <td>2017-03-28T00:00:00</td>\n",
       "      <td>2</td>\n",
       "      <td>3.00</td>\n",
       "      <td>17.0</td>\n",
       "      <td>NaN</td>\n",
       "      <td>12</td>\n",
       "      <td>NaN</td>\n",
       "      <td>...</td>\n",
       "      <td>23.30</td>\n",
       "      <td>2.0</td>\n",
       "      <td>Санкт-Петербург</td>\n",
       "      <td>39140.0</td>\n",
       "      <td>10364.0</td>\n",
       "      <td>2.0</td>\n",
       "      <td>173.0</td>\n",
       "      <td>3.0</td>\n",
       "      <td>196.0</td>\n",
       "      <td>602.0</td>\n",
       "    </tr>\n",
       "    <tr>\n",
       "      <th>23698</th>\n",
       "      <td>4</td>\n",
       "      <td>1350000.0</td>\n",
       "      <td>32.30</td>\n",
       "      <td>2017-07-21T00:00:00</td>\n",
       "      <td>1</td>\n",
       "      <td>2.50</td>\n",
       "      <td>5.0</td>\n",
       "      <td>12.3</td>\n",
       "      <td>1</td>\n",
       "      <td>NaN</td>\n",
       "      <td>...</td>\n",
       "      <td>9.00</td>\n",
       "      <td>NaN</td>\n",
       "      <td>поселок Новый Учхоз</td>\n",
       "      <td>NaN</td>\n",
       "      <td>NaN</td>\n",
       "      <td>NaN</td>\n",
       "      <td>NaN</td>\n",
       "      <td>NaN</td>\n",
       "      <td>NaN</td>\n",
       "      <td>NaN</td>\n",
       "    </tr>\n",
       "  </tbody>\n",
       "</table>\n",
       "<p>23699 rows × 22 columns</p>\n",
       "</div>"
      ],
      "text/plain": [
       "       total_images  last_price  total_area first_day_exposition  rooms  \\\n",
       "0                20  13000000.0      108.00  2019-03-07T00:00:00      3   \n",
       "1                 7   3350000.0       40.40  2018-12-04T00:00:00      1   \n",
       "2                10   5196000.0       56.00  2015-08-20T00:00:00      2   \n",
       "3                 0  64900000.0      159.00  2015-07-24T00:00:00      3   \n",
       "4                 2  10000000.0      100.00  2018-06-19T00:00:00      2   \n",
       "...             ...         ...         ...                  ...    ...   \n",
       "23694             9   9700000.0      133.81  2017-03-21T00:00:00      3   \n",
       "23695            14   3100000.0       59.00  2018-01-15T00:00:00      3   \n",
       "23696            18   2500000.0       56.70  2018-02-11T00:00:00      2   \n",
       "23697            13  11475000.0       76.75  2017-03-28T00:00:00      2   \n",
       "23698             4   1350000.0       32.30  2017-07-21T00:00:00      1   \n",
       "\n",
       "       ceiling_height  floors_total  living_area  floor is_apartment  ...  \\\n",
       "0                2.70          16.0         51.0      8          NaN  ...   \n",
       "1                 NaN          11.0         18.6      1          NaN  ...   \n",
       "2                 NaN           5.0         34.3      4          NaN  ...   \n",
       "3                 NaN          14.0          NaN      9          NaN  ...   \n",
       "4                3.03          14.0         32.0     13          NaN  ...   \n",
       "...               ...           ...          ...    ...          ...  ...   \n",
       "23694            3.70           5.0         73.3      3          NaN  ...   \n",
       "23695             NaN           5.0         38.0      4          NaN  ...   \n",
       "23696             NaN           3.0         29.7      1          NaN  ...   \n",
       "23697            3.00          17.0          NaN     12          NaN  ...   \n",
       "23698            2.50           5.0         12.3      1          NaN  ...   \n",
       "\n",
       "       kitchen_area  balcony        locality_name  airports_nearest  \\\n",
       "0             25.00      NaN      Санкт-Петербург           18863.0   \n",
       "1             11.00      2.0       посёлок Шушары           12817.0   \n",
       "2              8.30      0.0      Санкт-Петербург           21741.0   \n",
       "3               NaN      0.0      Санкт-Петербург           28098.0   \n",
       "4             41.00      NaN      Санкт-Петербург           31856.0   \n",
       "...             ...      ...                  ...               ...   \n",
       "23694         13.83      NaN      Санкт-Петербург           24665.0   \n",
       "23695          8.50      NaN                Тосно               NaN   \n",
       "23696           NaN      NaN     село Рождествено               NaN   \n",
       "23697         23.30      2.0      Санкт-Петербург           39140.0   \n",
       "23698          9.00      NaN  поселок Новый Учхоз               NaN   \n",
       "\n",
       "      citycenters_nearest  parks_around3000  parks_nearest  ponds_around3000  \\\n",
       "0                 16028.0               1.0          482.0               2.0   \n",
       "1                 18603.0               0.0            NaN               0.0   \n",
       "2                 13933.0               1.0           90.0               2.0   \n",
       "3                  6800.0               2.0           84.0               3.0   \n",
       "4                  8098.0               2.0          112.0               1.0   \n",
       "...                   ...               ...            ...               ...   \n",
       "23694              4232.0               1.0          796.0               3.0   \n",
       "23695                 NaN               NaN            NaN               NaN   \n",
       "23696                 NaN               NaN            NaN               NaN   \n",
       "23697             10364.0               2.0          173.0               3.0   \n",
       "23698                 NaN               NaN            NaN               NaN   \n",
       "\n",
       "       ponds_nearest  days_exposition  \n",
       "0              755.0              NaN  \n",
       "1                NaN             81.0  \n",
       "2              574.0            558.0  \n",
       "3              234.0            424.0  \n",
       "4               48.0            121.0  \n",
       "...              ...              ...  \n",
       "23694          381.0              NaN  \n",
       "23695            NaN             45.0  \n",
       "23696            NaN              NaN  \n",
       "23697          196.0            602.0  \n",
       "23698            NaN              NaN  \n",
       "\n",
       "[23699 rows x 22 columns]"
      ]
     },
     "metadata": {},
     "output_type": "display_data"
    },
    {
     "data": {
      "text/html": [
       "<div>\n",
       "<style scoped>\n",
       "    .dataframe tbody tr th:only-of-type {\n",
       "        vertical-align: middle;\n",
       "    }\n",
       "\n",
       "    .dataframe tbody tr th {\n",
       "        vertical-align: top;\n",
       "    }\n",
       "\n",
       "    .dataframe thead th {\n",
       "        text-align: right;\n",
       "    }\n",
       "</style>\n",
       "<table border=\"1\" class=\"dataframe\">\n",
       "  <thead>\n",
       "    <tr style=\"text-align: right;\">\n",
       "      <th></th>\n",
       "      <th>count</th>\n",
       "      <th>mean</th>\n",
       "      <th>std</th>\n",
       "      <th>min</th>\n",
       "      <th>25%</th>\n",
       "      <th>50%</th>\n",
       "      <th>75%</th>\n",
       "      <th>max</th>\n",
       "    </tr>\n",
       "  </thead>\n",
       "  <tbody>\n",
       "    <tr>\n",
       "      <th>total_images</th>\n",
       "      <td>23699.0</td>\n",
       "      <td>9.858475e+00</td>\n",
       "      <td>5.682529e+00</td>\n",
       "      <td>0.0</td>\n",
       "      <td>6.00</td>\n",
       "      <td>9.00</td>\n",
       "      <td>14.0</td>\n",
       "      <td>50.0</td>\n",
       "    </tr>\n",
       "    <tr>\n",
       "      <th>last_price</th>\n",
       "      <td>23699.0</td>\n",
       "      <td>6.541549e+06</td>\n",
       "      <td>1.088701e+07</td>\n",
       "      <td>12190.0</td>\n",
       "      <td>3400000.00</td>\n",
       "      <td>4650000.00</td>\n",
       "      <td>6800000.0</td>\n",
       "      <td>763000000.0</td>\n",
       "    </tr>\n",
       "    <tr>\n",
       "      <th>total_area</th>\n",
       "      <td>23699.0</td>\n",
       "      <td>6.034865e+01</td>\n",
       "      <td>3.565408e+01</td>\n",
       "      <td>12.0</td>\n",
       "      <td>40.00</td>\n",
       "      <td>52.00</td>\n",
       "      <td>69.9</td>\n",
       "      <td>900.0</td>\n",
       "    </tr>\n",
       "    <tr>\n",
       "      <th>rooms</th>\n",
       "      <td>23699.0</td>\n",
       "      <td>2.070636e+00</td>\n",
       "      <td>1.078405e+00</td>\n",
       "      <td>0.0</td>\n",
       "      <td>1.00</td>\n",
       "      <td>2.00</td>\n",
       "      <td>3.0</td>\n",
       "      <td>19.0</td>\n",
       "    </tr>\n",
       "    <tr>\n",
       "      <th>ceiling_height</th>\n",
       "      <td>14504.0</td>\n",
       "      <td>2.771499e+00</td>\n",
       "      <td>1.261056e+00</td>\n",
       "      <td>1.0</td>\n",
       "      <td>2.52</td>\n",
       "      <td>2.65</td>\n",
       "      <td>2.8</td>\n",
       "      <td>100.0</td>\n",
       "    </tr>\n",
       "    <tr>\n",
       "      <th>floors_total</th>\n",
       "      <td>23613.0</td>\n",
       "      <td>1.067382e+01</td>\n",
       "      <td>6.597173e+00</td>\n",
       "      <td>1.0</td>\n",
       "      <td>5.00</td>\n",
       "      <td>9.00</td>\n",
       "      <td>16.0</td>\n",
       "      <td>60.0</td>\n",
       "    </tr>\n",
       "    <tr>\n",
       "      <th>living_area</th>\n",
       "      <td>21796.0</td>\n",
       "      <td>3.445785e+01</td>\n",
       "      <td>2.203045e+01</td>\n",
       "      <td>2.0</td>\n",
       "      <td>18.60</td>\n",
       "      <td>30.00</td>\n",
       "      <td>42.3</td>\n",
       "      <td>409.7</td>\n",
       "    </tr>\n",
       "    <tr>\n",
       "      <th>floor</th>\n",
       "      <td>23699.0</td>\n",
       "      <td>5.892358e+00</td>\n",
       "      <td>4.885249e+00</td>\n",
       "      <td>1.0</td>\n",
       "      <td>2.00</td>\n",
       "      <td>4.00</td>\n",
       "      <td>8.0</td>\n",
       "      <td>33.0</td>\n",
       "    </tr>\n",
       "    <tr>\n",
       "      <th>kitchen_area</th>\n",
       "      <td>21421.0</td>\n",
       "      <td>1.056981e+01</td>\n",
       "      <td>5.905438e+00</td>\n",
       "      <td>1.3</td>\n",
       "      <td>7.00</td>\n",
       "      <td>9.10</td>\n",
       "      <td>12.0</td>\n",
       "      <td>112.0</td>\n",
       "    </tr>\n",
       "    <tr>\n",
       "      <th>balcony</th>\n",
       "      <td>12180.0</td>\n",
       "      <td>1.150082e+00</td>\n",
       "      <td>1.071300e+00</td>\n",
       "      <td>0.0</td>\n",
       "      <td>0.00</td>\n",
       "      <td>1.00</td>\n",
       "      <td>2.0</td>\n",
       "      <td>5.0</td>\n",
       "    </tr>\n",
       "    <tr>\n",
       "      <th>airports_nearest</th>\n",
       "      <td>18157.0</td>\n",
       "      <td>2.879367e+04</td>\n",
       "      <td>1.263088e+04</td>\n",
       "      <td>0.0</td>\n",
       "      <td>18585.00</td>\n",
       "      <td>26726.00</td>\n",
       "      <td>37273.0</td>\n",
       "      <td>84869.0</td>\n",
       "    </tr>\n",
       "    <tr>\n",
       "      <th>citycenters_nearest</th>\n",
       "      <td>18180.0</td>\n",
       "      <td>1.419128e+04</td>\n",
       "      <td>8.608386e+03</td>\n",
       "      <td>181.0</td>\n",
       "      <td>9238.00</td>\n",
       "      <td>13098.50</td>\n",
       "      <td>16293.0</td>\n",
       "      <td>65968.0</td>\n",
       "    </tr>\n",
       "    <tr>\n",
       "      <th>parks_around3000</th>\n",
       "      <td>18181.0</td>\n",
       "      <td>6.114075e-01</td>\n",
       "      <td>8.020736e-01</td>\n",
       "      <td>0.0</td>\n",
       "      <td>0.00</td>\n",
       "      <td>0.00</td>\n",
       "      <td>1.0</td>\n",
       "      <td>3.0</td>\n",
       "    </tr>\n",
       "    <tr>\n",
       "      <th>parks_nearest</th>\n",
       "      <td>8079.0</td>\n",
       "      <td>4.908046e+02</td>\n",
       "      <td>3.423180e+02</td>\n",
       "      <td>1.0</td>\n",
       "      <td>288.00</td>\n",
       "      <td>455.00</td>\n",
       "      <td>612.0</td>\n",
       "      <td>3190.0</td>\n",
       "    </tr>\n",
       "    <tr>\n",
       "      <th>ponds_around3000</th>\n",
       "      <td>18181.0</td>\n",
       "      <td>7.702547e-01</td>\n",
       "      <td>9.383456e-01</td>\n",
       "      <td>0.0</td>\n",
       "      <td>0.00</td>\n",
       "      <td>1.00</td>\n",
       "      <td>1.0</td>\n",
       "      <td>3.0</td>\n",
       "    </tr>\n",
       "    <tr>\n",
       "      <th>ponds_nearest</th>\n",
       "      <td>9110.0</td>\n",
       "      <td>5.179809e+02</td>\n",
       "      <td>2.777206e+02</td>\n",
       "      <td>13.0</td>\n",
       "      <td>294.00</td>\n",
       "      <td>502.00</td>\n",
       "      <td>729.0</td>\n",
       "      <td>1344.0</td>\n",
       "    </tr>\n",
       "    <tr>\n",
       "      <th>days_exposition</th>\n",
       "      <td>20518.0</td>\n",
       "      <td>1.808886e+02</td>\n",
       "      <td>2.197280e+02</td>\n",
       "      <td>1.0</td>\n",
       "      <td>45.00</td>\n",
       "      <td>95.00</td>\n",
       "      <td>232.0</td>\n",
       "      <td>1580.0</td>\n",
       "    </tr>\n",
       "  </tbody>\n",
       "</table>\n",
       "</div>"
      ],
      "text/plain": [
       "                       count          mean           std      min         25%  \\\n",
       "total_images         23699.0  9.858475e+00  5.682529e+00      0.0        6.00   \n",
       "last_price           23699.0  6.541549e+06  1.088701e+07  12190.0  3400000.00   \n",
       "total_area           23699.0  6.034865e+01  3.565408e+01     12.0       40.00   \n",
       "rooms                23699.0  2.070636e+00  1.078405e+00      0.0        1.00   \n",
       "ceiling_height       14504.0  2.771499e+00  1.261056e+00      1.0        2.52   \n",
       "floors_total         23613.0  1.067382e+01  6.597173e+00      1.0        5.00   \n",
       "living_area          21796.0  3.445785e+01  2.203045e+01      2.0       18.60   \n",
       "floor                23699.0  5.892358e+00  4.885249e+00      1.0        2.00   \n",
       "kitchen_area         21421.0  1.056981e+01  5.905438e+00      1.3        7.00   \n",
       "balcony              12180.0  1.150082e+00  1.071300e+00      0.0        0.00   \n",
       "airports_nearest     18157.0  2.879367e+04  1.263088e+04      0.0    18585.00   \n",
       "citycenters_nearest  18180.0  1.419128e+04  8.608386e+03    181.0     9238.00   \n",
       "parks_around3000     18181.0  6.114075e-01  8.020736e-01      0.0        0.00   \n",
       "parks_nearest         8079.0  4.908046e+02  3.423180e+02      1.0      288.00   \n",
       "ponds_around3000     18181.0  7.702547e-01  9.383456e-01      0.0        0.00   \n",
       "ponds_nearest         9110.0  5.179809e+02  2.777206e+02     13.0      294.00   \n",
       "days_exposition      20518.0  1.808886e+02  2.197280e+02      1.0       45.00   \n",
       "\n",
       "                            50%        75%          max  \n",
       "total_images               9.00       14.0         50.0  \n",
       "last_price           4650000.00  6800000.0  763000000.0  \n",
       "total_area                52.00       69.9        900.0  \n",
       "rooms                      2.00        3.0         19.0  \n",
       "ceiling_height             2.65        2.8        100.0  \n",
       "floors_total               9.00       16.0         60.0  \n",
       "living_area               30.00       42.3        409.7  \n",
       "floor                      4.00        8.0         33.0  \n",
       "kitchen_area               9.10       12.0        112.0  \n",
       "balcony                    1.00        2.0          5.0  \n",
       "airports_nearest       26726.00    37273.0      84869.0  \n",
       "citycenters_nearest    13098.50    16293.0      65968.0  \n",
       "parks_around3000           0.00        1.0          3.0  \n",
       "parks_nearest            455.00      612.0       3190.0  \n",
       "ponds_around3000           1.00        1.0          3.0  \n",
       "ponds_nearest            502.00      729.0       1344.0  \n",
       "days_exposition           95.00      232.0       1580.0  "
      ]
     },
     "execution_count": 4,
     "metadata": {},
     "output_type": "execute_result"
    }
   ],
   "source": [
    "display(data)\n",
    "data.describe().T"
   ]
  },
  {
   "cell_type": "markdown",
   "metadata": {},
   "source": [
    "<div class=\"alert alert-block alert-warning\">\n",
    "<b>⚠️ Remarks:</b> ✔\n",
    "    \n",
    "- при выводе табличного аутпута лучше пользоваться `display()` вместо `print()\n",
    "- в случаях, когда в аутпут попадает результат только одной функции, ни `print()`, ни `display()` не нужны - юпитер сам отрисует результат"
   ]
  },
  {
   "cell_type": "markdown",
   "metadata": {},
   "source": [
    "<div class=\"alert alert-block alert-warning\">\n",
    "<b>⚠️ Remarks:</b> ✔\n",
    "    \n",
    "функция `describe()` может быть очень полезна при знакомстве с датасетом, давай её используем. Советую почитать про её аргументы - пригодится в следующих проектах, а также рекомендую рассматривать её в транспонированном виде - никто не любит горизонтальные скроллбары - `df.describe().T` "
   ]
  },
  {
   "cell_type": "code",
   "execution_count": 5,
   "metadata": {},
   "outputs": [
    {
     "data": {
      "image/png": "[encoded data removed]",
      "text/plain": [
       "<Figure size 1080x1440 with 20 Axes>"
      ]
     },
     "metadata": {
      "needs_background": "light"
     },
     "output_type": "display_data"
    }
   ],
   "source": [
    "data.hist(bins=10, figsize=(15, 20))\n",
    "plt.show()"
   ]
  },
  {
   "cell_type": "markdown",
   "metadata": {},
   "source": [
    "Далее необходимо избавиться от пропусков в столбцах, неявных дубликатов в названия населенных пунктов и несоответствующих типов данных в столбцах. "
   ]
  },
  {
   "cell_type": "markdown",
   "metadata": {},
   "source": [
    "<div class=\"alert alert-block alert-warning\">\n",
    "<b>⚠️ Remarks:</b> \n",
    "    \n",
    "- давай избавимся от технического аутпута перед визуализациями ✔\n",
    "- следует написать промежуточный вывод по этому разделу - что удалось увидеть, какой дальнейший план? ✔"
   ]
  },
  {
   "cell_type": "markdown",
   "metadata": {},
   "source": [
    "### Предобработка данных"
   ]
  },
  {
   "cell_type": "markdown",
   "metadata": {},
   "source": [
    "Нахожу количество пропущенных значений в столбцах:"
   ]
  },
  {
   "cell_type": "code",
   "execution_count": 6,
   "metadata": {},
   "outputs": [
    {
     "name": "stdout",
     "output_type": "stream",
     "text": [
      "total_images                0\n",
      "last_price                  0\n",
      "total_area                  0\n",
      "first_day_exposition        0\n",
      "rooms                       0\n",
      "ceiling_height           9195\n",
      "floors_total               86\n",
      "living_area              1903\n",
      "floor                       0\n",
      "is_apartment            20924\n",
      "studio                      0\n",
      "open_plan                   0\n",
      "kitchen_area             2278\n",
      "balcony                 11519\n",
      "locality_name              49\n",
      "airports_nearest         5542\n",
      "citycenters_nearest      5519\n",
      "parks_around3000         5518\n",
      "parks_nearest           15620\n",
      "ponds_around3000         5518\n",
      "ponds_nearest           14589\n",
      "days_exposition          3181\n",
      "dtype: int64\n"
     ]
    }
   ],
   "source": [
    "print(data.isna().sum())"
   ]
  },
  {
   "cell_type": "markdown",
   "metadata": {},
   "source": [
    "Изучаю данные в выборке \"floors_total\" и принял решение удалить строки с пропущенными значениями"
   ]
  },
  {
   "cell_type": "code",
   "execution_count": 7,
   "metadata": {},
   "outputs": [],
   "source": [
    "data['floors_total'] = data['floors_total'].fillna(0)\n",
    "data = data[data['floors_total'] != 0]\n",
    "#print(data['floors_total'].value_counts())\n",
    "#print(data['floors_total'].unique())\n",
    "#floors_total_null = data[data['floors_total'] == 0]\n",
    "#print(floors_total_null.head())\n",
    "#data.info() #проверяю"
   ]
  },
  {
   "cell_type": "markdown",
   "metadata": {},
   "source": [
    "<div class=\"alert alert-block alert-warning\">\n",
    "<b>⚠️ Remarks:</b> ✔ \n",
    "    \n",
    "- старайся пояснения к исследованию всегда писать в маркдаун-ячейках. Через # Обычно пишутся технические комментарии к нетривиальным участкам кода"
   ]
  },
  {
   "cell_type": "markdown",
   "metadata": {},
   "source": [
    "Удаляю строки с пропущенными значениями в столбце locality_name, которые нельзя восстановить(менее 1%):"
   ]
  },
  {
   "cell_type": "code",
   "execution_count": 8,
   "metadata": {},
   "outputs": [],
   "source": [
    "data = data.dropna(subset=['locality_name']).reset_index(drop=True)"
   ]
  },
  {
   "cell_type": "markdown",
   "metadata": {},
   "source": [
    "Работаю с дубликатами в наименованиях населенных пунктов:"
   ]
  },
  {
   "cell_type": "code",
   "execution_count": 9,
   "metadata": {},
   "outputs": [],
   "source": [
    "def func_name(locality_name):\n",
    "    up_name = []\n",
    "    for word in locality_name.split():\n",
    "        for w in word:\n",
    "            if w.isupper():\n",
    "                up_name.append(word)\n",
    "                break\n",
    "    return ' '.join(up_name)\n",
    " \n",
    "data['locality_name'] = data['locality_name'].apply(func_name)\n",
    "\n",
    "#print(data['locality_name'].unique())  # проверяю замены"
   ]
  },
  {
   "cell_type": "markdown",
   "metadata": {},
   "source": [
    "<div class=\"alert alert-block alert-success\">\n",
    "<b>✔️ Success:</b> здорово, что разбираешься с неявными дубликатами! Можно упростить код и сделать его более универсальным, если воспользоваться тем фактом, что названия всегда начинаются с заглавной буквы, а та часть строки, которая записана строчными - это тип населённого пункта. По этому критерию можно отсечь лишнюю часть тсроки ен вдаваясь в подробности, какие именно населенные пункты есть в датасете"
   ]
  },
  {
   "cell_type": "markdown",
   "metadata": {},
   "source": [
    "<div class=\"alert alert-block alert-success\">\n",
    "   Замечательно!"
   ]
  },
  {
   "cell_type": "markdown",
   "metadata": {},
   "source": [
    "Изучил данные в выборке \"data[(data['rooms'] == 0) & (data['studio'] == True)]\", вероятно 0 - это студии и квартиры свободной планировки"
   ]
  },
  {
   "cell_type": "code",
   "execution_count": 10,
   "metadata": {
    "scrolled": false
   },
   "outputs": [],
   "source": [
    "#mb_studio = data[(data['rooms'] == 0) & (data['studio'] == True)]\n",
    "#print(mb_studio['kitchen_area'].unique())\n",
    "#print(mb_studio['living_area'].value_counts())"
   ]
  },
  {
   "cell_type": "markdown",
   "metadata": {},
   "source": [
    "<div class=\"alert alert-block alert-warning\">\n",
    "<b>⚠️ Remarks:</b> давай проверим, не являются ли квартир с нулём комнат студиями или квартирами свободной планировки"
   ]
  },
  {
   "cell_type": "markdown",
   "metadata": {},
   "source": [
    "Аномально большие значения в столбце ceiling_height делю на 10 (вероятная ошибка ввода):"
   ]
  },
  {
   "cell_type": "code",
   "execution_count": 11,
   "metadata": {
    "scrolled": false
   },
   "outputs": [],
   "source": [
    "data.loc[data['ceiling_height'] >= 24, 'ceiling_height'] = data['ceiling_height'] / 10\n",
    "#print(data['ceiling_height'].unique()) #проверка замены"
   ]
  },
  {
   "cell_type": "markdown",
   "metadata": {},
   "source": [
    "<div class=\"alert alert-block alert-warning\">\n",
    "<b>⚠️ Remarks:</b> ✔ тут тоже можно написать более универсальное решение - функцию, которая будет делить на 10 слишком большие значения"
   ]
  },
  {
   "cell_type": "markdown",
   "metadata": {},
   "source": [
    "Заменяем пропущенные значения в столбцах is_apartment и balcony:"
   ]
  },
  {
   "cell_type": "code",
   "execution_count": 12,
   "metadata": {},
   "outputs": [],
   "source": [
    "data['is_apartment'] = data['is_apartment'].fillna(False) #вероятно при заполнении объявления для квартир не отмечали \"нет\" в графе \"апартаменты\"\n",
    "data['balcony'] = data['balcony'].fillna(0) # вероятно в квартире нет балконов и поле не заполнялось"
   ]
  },
  {
   "cell_type": "markdown",
   "metadata": {},
   "source": [
    "Заполняю оставшиеся пропуски в ceiling_height медианным значением столбца ceiling_height:"
   ]
  },
  {
   "cell_type": "code",
   "execution_count": 13,
   "metadata": {},
   "outputs": [],
   "source": [
    "median_ceiling_height = data['ceiling_height'].median() \n",
    "data['ceiling_height'] = data['ceiling_height'].fillna(median_ceiling_height)"
   ]
  },
  {
   "cell_type": "markdown",
   "metadata": {},
   "source": [
    "Создаю переменную для медианного значения жил. площади и заполняю пропуски в living_area в зависимости от количества комнат"
   ]
  },
  {
   "cell_type": "code",
   "execution_count": 14,
   "metadata": {},
   "outputs": [],
   "source": [
    "median_la = data.groupby('rooms')['living_area'].median()\n",
    "for liv_ar in data['rooms'].unique():\n",
    "    data.loc[data['rooms'] == liv_ar, 'living_area'] = data.loc[data['rooms'] == liv_ar, 'living_area'].fillna(median_la[liv_ar])"
   ]
  },
  {
   "cell_type": "markdown",
   "metadata": {},
   "source": [
    "Создаю переменную для медианного значения площади кухни и заполняю пропуски в kitchen_area в зависимости от количества комнат:"
   ]
  },
  {
   "cell_type": "code",
   "execution_count": 15,
   "metadata": {},
   "outputs": [],
   "source": [
    "median_ka = data.groupby('rooms')['kitchen_area'].median()\n",
    "for kit_ar in data['rooms'].unique():\n",
    "    data.loc[data['rooms'] == kit_ar, 'kitchen_area'] = data.loc[data['rooms'] == kit_ar, 'kitchen_area'].fillna(median_ka[kit_ar])"
   ]
  },
  {
   "cell_type": "markdown",
   "metadata": {},
   "source": [
    "Создаю переменную для медианного значения расстояния до аэропорта и заполняю пропуски в airports_nearest в зависимости от названия населенного пункта:"
   ]
  },
  {
   "cell_type": "code",
   "execution_count": 16,
   "metadata": {},
   "outputs": [],
   "source": [
    "median_air = data.groupby('locality_name')['airports_nearest'].median()\n",
    "for air_n in data['locality_name'].unique():\n",
    "    data.loc[data['locality_name'] == air_n, 'airports_nearest'] = data.loc[data['locality_name'] == air_n, 'airports_nearest'].fillna(median_air[air_n])"
   ]
  },
  {
   "cell_type": "markdown",
   "metadata": {},
   "source": [
    "Создаю переменную для среднего кол-ва парков в радиусе 3 км и заполняю пропуски в parks_around3000 в зависимости от названия населенного пункта"
   ]
  },
  {
   "cell_type": "code",
   "execution_count": 17,
   "metadata": {},
   "outputs": [],
   "source": [
    "mean_park3000 = data.groupby('locality_name')['parks_around3000'].mean()\n",
    "for park3000 in data['locality_name'].unique():\n",
    "    data.loc[data['locality_name'] == park3000, 'parks_around3000'] = data.loc[data['locality_name'] == park3000, 'parks_around3000'].fillna(mean_park3000[park3000])"
   ]
  },
  {
   "cell_type": "markdown",
   "metadata": {},
   "source": [
    "Создаю переменную для среднего кол-ва водоемов в радиусе 3 км и заполняю пропуски в ponds_around3000 в зависимости от названия населенного пункта:\n"
   ]
  },
  {
   "cell_type": "code",
   "execution_count": 18,
   "metadata": {},
   "outputs": [],
   "source": [
    "mean_pond3000 = data.groupby('locality_name')['ponds_around3000'].mean()\n",
    "for pond3000 in data['locality_name'].unique():\n",
    "    data.loc[data['locality_name'] == pond3000, 'ponds_around3000'] = data.loc[data['locality_name'] == pond3000, 'ponds_around3000'].fillna(mean_pond3000[pond3000])"
   ]
  },
  {
   "cell_type": "markdown",
   "metadata": {},
   "source": [
    "Создаю переменную для медианного расстояния до парка и заполняю пропуски в parks_nearest в зависимости от названия населенного пункта:"
   ]
  },
  {
   "cell_type": "code",
   "execution_count": 19,
   "metadata": {},
   "outputs": [],
   "source": [
    "median_park_n = data.groupby('locality_name')['parks_nearest'].median()\n",
    "for park_n in data['locality_name'].unique():\n",
    "    data.loc[data['locality_name'] == park_n, 'parks_nearest'] = data.loc[data['locality_name'] == park_n, 'parks_nearest'].fillna(median_park_n[park_n])"
   ]
  },
  {
   "cell_type": "markdown",
   "metadata": {},
   "source": [
    "Создаю переменную для медианного расстояния до водоема и заполняю пропуски в ponds_nearest в зависимости от названия населенного пункта\n"
   ]
  },
  {
   "cell_type": "code",
   "execution_count": 20,
   "metadata": {},
   "outputs": [],
   "source": [
    "median_pond_n = data.groupby('locality_name')['ponds_nearest'].median()\n",
    "for pond_n in data['locality_name'].unique():\n",
    "    data.loc[data['locality_name'] == pond_n, 'ponds_nearest'] = data.loc[data['locality_name'] == pond_n, 'ponds_nearest'].fillna(median_pond_n[pond_n])"
   ]
  },
  {
   "cell_type": "markdown",
   "metadata": {},
   "source": [
    "Создаю переменную для высоты полотка в зависимости от этажности дома и заполняю пропуски в ceiling_height:"
   ]
  },
  {
   "cell_type": "code",
   "execution_count": 21,
   "metadata": {
    "scrolled": false
   },
   "outputs": [],
   "source": [
    "median_ceil_h = data.groupby('floors_total')['ceiling_height'].median()\n",
    "for ceil_h in data['floors_total'].unique():\n",
    "    data.loc[data['floors_total'] == ceil_h, 'ceiling_height'] = data.loc[data['floors_total'] == ceil_h, 'ceiling_height'].fillna(median_ceil_h[ceil_h])\n",
    "\n",
    "#print(data.isna().sum()) # проверяю"
   ]
  },
  {
   "cell_type": "markdown",
   "metadata": {},
   "source": [
    "Проверяю и устраняю редкие значения в столбце ceiling_height и floors_total:"
   ]
  },
  {
   "cell_type": "code",
   "execution_count": 22,
   "metadata": {},
   "outputs": [],
   "source": [
    "#data['ceiling_height'].describe()\n",
    "#data.boxplot(column='ceiling_height')\n",
    "#data['ceiling_height'].hist(bins=30, range=(0, 5))\n",
    "data = data[(data['ceiling_height'] >= 2.4) & (data['ceiling_height'] <= 5)]"
   ]
  },
  {
   "cell_type": "markdown",
   "metadata": {},
   "source": [
    "Меняю типы данных в столбцах 'balcony' и 'floors_total' c вещественных значений на целочисленные и меняю разрадность на 32"
   ]
  },
  {
   "cell_type": "code",
   "execution_count": 23,
   "metadata": {},
   "outputs": [],
   "source": [
    "for col in ['total_images', 'rooms', 'floor', 'balcony', 'floors_total']:\n",
    "    data[col] = data[col].astype('int32')\n",
    "    \n",
    "for col in ['total_area', 'last_price', 'ceiling_height','living_area','kitchen_area','airports_nearest', 'ponds_nearest', 'citycenters_nearest', 'parks_around3000', 'parks_nearest', 'ponds_around3000', 'days_exposition']:\n",
    "    data[col] = data[col].astype('float32')"
   ]
  },
  {
   "cell_type": "markdown",
   "metadata": {},
   "source": [
    "Перевожу данные в first_day_exposition из строкового типа в datetime64 для работы с этим типом данных:"
   ]
  },
  {
   "cell_type": "code",
   "execution_count": 24,
   "metadata": {},
   "outputs": [],
   "source": [
    "data['first_day_exposition'] = pd.to_datetime(data['first_day_exposition'], format='%Y-%m-%dT%H:%M:%S')\n",
    "#data.info() #проверка замен"
   ]
  },
  {
   "cell_type": "markdown",
   "metadata": {},
   "source": [
    "### Проведите исследовательский анализ данных"
   ]
  },
  {
   "cell_type": "markdown",
   "metadata": {},
   "source": [
    "Считаю и добавляю в таблицу: цена одного квадратного метра, день публикации объявления, месяц публикации объявления, год публикации объявленияб, расстояние в км до центра города:"
   ]
  },
  {
   "cell_type": "code",
   "execution_count": 25,
   "metadata": {
    "scrolled": false
   },
   "outputs": [],
   "source": [
    "data['1kvm_price'] = data['last_price'] / data['total_area'] #цена одного квадратного метра\n",
    "\n",
    "data['weekday'] = pd.DatetimeIndex(data['first_day_exposition']).weekday #день публикации объявления (0 - понедельник, 1 - вторник и т.д.)\n",
    "\n",
    "data['month'] = pd.DatetimeIndex(data['first_day_exposition']).month #месяц публикации объявления\n",
    "\n",
    "data['year'] = pd.DatetimeIndex(data['first_day_exposition']).year #год публикации объявления\n",
    "\n",
    "#тип этажа квартиры (значения — «первый», «последний», «другой»):\n",
    "def categorize_floor (row):\n",
    "    if row ['floor'] == 1:\n",
    "        return 'первый'\n",
    "    if row ['floor'] == row['floors_total']:\n",
    "        return 'последний' \n",
    "    return 'другой'\n",
    "data['floor_category'] = data.apply(categorize_floor, axis=1)\n",
    "\n",
    "data['citycenters_nearest_km'] = data['citycenters_nearest'] / 1000 #расстояние в км до центра города\n",
    "\n",
    "#data.info()\n",
    "#print(data.head(20))"
   ]
  },
  {
   "cell_type": "markdown",
   "metadata": {},
   "source": [
    "<div class=\"alert alert-block alert-success\">\n",
    "<b>✔️ Success:</b> отличная функция!"
   ]
  },
  {
   "cell_type": "markdown",
   "metadata": {},
   "source": [
    "Изучаю следующие параметры объектов:\n",
    "общая площадь:"
   ]
  },
  {
   "cell_type": "code",
   "execution_count": 26,
   "metadata": {},
   "outputs": [
    {
     "data": {
      "image/png": "[encoded data removed]",
      "text/plain": [
       "<Figure size 432x288 with 1 Axes>"
      ]
     },
     "metadata": {
      "needs_background": "light"
     },
     "output_type": "display_data"
    }
   ],
   "source": [
    "data['living_area'].hist(bins=15, range= (0,200))\n",
    "plt.plot()\n",
    "plt.xlabel('Жилая площадь, кв.м', fontsize='large', color='black')\n",
    "plt.ylabel('Кол-во объявлений, шт.', fontsize='large', color='black')\n",
    "plt.show()"
   ]
  },
  {
   "cell_type": "markdown",
   "metadata": {},
   "source": [
    "площадь кухни:"
   ]
  },
  {
   "cell_type": "code",
   "execution_count": 27,
   "metadata": {},
   "outputs": [
    {
     "data": {
      "image/png": "[encoded data removed]",
      "text/plain": [
       "<Figure size 432x288 with 1 Axes>"
      ]
     },
     "metadata": {
      "needs_background": "light"
     },
     "output_type": "display_data"
    }
   ],
   "source": [
    "data['kitchen_area'].hist(bins=30, range= (0,60))\n",
    "plt.plot()\n",
    "plt.xlabel('Площадь кухни, кв.м', fontsize='large', color='black')\n",
    "plt.ylabel('Кол-во объявлений, шт.', fontsize='large', color='black')\n",
    "plt.show()"
   ]
  },
  {
   "cell_type": "markdown",
   "metadata": {},
   "source": [
    "цена объекта:"
   ]
  },
  {
   "cell_type": "code",
   "execution_count": 28,
   "metadata": {},
   "outputs": [
    {
     "data": {
      "image/png": "[encoded data removed]",
      "text/plain": [
       "<Figure size 432x288 with 1 Axes>"
      ]
     },
     "metadata": {
      "needs_background": "light"
     },
     "output_type": "display_data"
    },
    {
     "data": {
      "image/png": "[encoded data removed]",
      "text/plain": [
       "<Figure size 432x288 with 1 Axes>"
      ]
     },
     "metadata": {
      "needs_background": "light"
     },
     "output_type": "display_data"
    }
   ],
   "source": [
    "data['last_price'].hist(bins=30, range= (0,10000000))\n",
    "plt.plot()\n",
    "plt.xlabel('Стоимость, 10 млн. руб.', fontsize='large', color='black')\n",
    "plt.ylabel('Кол-во объявлений, шт.', fontsize='large', color='black')\n",
    "plt.show()\n",
    "\n",
    "data['last_price'].hist(bins=30, range= (10000001,800000000))\n",
    "plt.xlabel('Стоимость, 10 млн. руб.', fontsize='large', color='black')\n",
    "plt.ylabel('Кол-во объявлений, шт.', fontsize='large', color='black')\n",
    "plt.show()"
   ]
  },
  {
   "cell_type": "markdown",
   "metadata": {},
   "source": [
    "количество комнат:"
   ]
  },
  {
   "cell_type": "code",
   "execution_count": 29,
   "metadata": {},
   "outputs": [
    {
     "data": {
      "image/png": "[encoded data removed]",
      "text/plain": [
       "<Figure size 432x288 with 1 Axes>"
      ]
     },
     "metadata": {
      "needs_background": "light"
     },
     "output_type": "display_data"
    }
   ],
   "source": [
    "data['rooms'].hist(bins=40, range= (0,20))\n",
    "plt.plot()\n",
    "plt.xlabel('Кол-во комнат, шт.', fontsize='large', color='black')\n",
    "plt.ylabel('Кол-во объявлений, шт.', fontsize='large', color='black')\n",
    "plt.show()"
   ]
  },
  {
   "cell_type": "markdown",
   "metadata": {},
   "source": [
    "высота потолков:"
   ]
  },
  {
   "cell_type": "code",
   "execution_count": 30,
   "metadata": {},
   "outputs": [
    {
     "data": {
      "image/png": "[encoded data removed]",
      "text/plain": [
       "<Figure size 432x288 with 1 Axes>"
      ]
     },
     "metadata": {
      "needs_background": "light"
     },
     "output_type": "display_data"
    }
   ],
   "source": [
    "data['ceiling_height'].hist(bins=40, range= (2.4,5))\n",
    "plt.plot()\n",
    "plt.xlabel('Высота потолков, м.', fontsize='large', color='black')\n",
    "plt.ylabel('Кол-во объявлений, шт.', fontsize='large', color='black')\n",
    "plt.show()"
   ]
  },
  {
   "cell_type": "markdown",
   "metadata": {},
   "source": [
    "этаж квартиры:"
   ]
  },
  {
   "cell_type": "code",
   "execution_count": 31,
   "metadata": {},
   "outputs": [
    {
     "data": {
      "image/png": "[encoded data removed]",
      "text/plain": [
       "<Figure size 432x288 with 1 Axes>"
      ]
     },
     "metadata": {
      "needs_background": "light"
     },
     "output_type": "display_data"
    }
   ],
   "source": [
    "data['floor'].hist(bins=33, range= (1,33))\n",
    "plt.plot()\n",
    "plt.xlabel('Этаж квартиры', fontsize='large', color='black')\n",
    "plt.ylabel('Кол-во объявлений, шт.', fontsize='large', color='black')\n",
    "plt.show()"
   ]
  },
  {
   "cell_type": "markdown",
   "metadata": {},
   "source": [
    "тип этажа квартиры:"
   ]
  },
  {
   "cell_type": "code",
   "execution_count": 32,
   "metadata": {},
   "outputs": [
    {
     "data": {
      "image/png": "[encoded data removed]",
      "text/plain": [
       "<Figure size 432x288 with 1 Axes>"
      ]
     },
     "metadata": {
      "needs_background": "light"
     },
     "output_type": "display_data"
    }
   ],
   "source": [
    "data['floor_category'].hist(bins=3)\n",
    "plt.plot()\n",
    "plt.xlabel('Категория этажа', fontsize='large', color='black')\n",
    "plt.ylabel('Кол-во объявлений, шт.', fontsize='large', color='black')\n",
    "plt.show()"
   ]
  },
  {
   "cell_type": "markdown",
   "metadata": {},
   "source": [
    "общее количество этажей в доме:"
   ]
  },
  {
   "cell_type": "code",
   "execution_count": 33,
   "metadata": {},
   "outputs": [
    {
     "data": {
      "image/png": "[encoded data removed]",
      "text/plain": [
       "<Figure size 432x288 with 1 Axes>"
      ]
     },
     "metadata": {
      "needs_background": "light"
     },
     "output_type": "display_data"
    }
   ],
   "source": [
    "data['floors_total'].hist(bins=40, range= (0,37))\n",
    "plt.plot()\n",
    "plt.xlabel('Этажность, эт.', fontsize='large', color='black')\n",
    "plt.ylabel('Кол-во объявлений, шт.', fontsize='large', color='black')\n",
    "plt.show()"
   ]
  },
  {
   "cell_type": "markdown",
   "metadata": {},
   "source": [
    "расстояние до центра города в метрах:"
   ]
  },
  {
   "cell_type": "code",
   "execution_count": 34,
   "metadata": {},
   "outputs": [
    {
     "data": {
      "image/png": "[encoded data removed]",
      "text/plain": [
       "<Figure size 432x288 with 1 Axes>"
      ]
     },
     "metadata": {
      "needs_background": "light"
     },
     "output_type": "display_data"
    }
   ],
   "source": [
    "data['citycenters_nearest'].hist(bins=10, range= (0,20000))\n",
    "plt.plot()\n",
    "plt.xlabel('Расстояние до центра города, км.', fontsize='large', color='black')\n",
    "plt.ylabel('Кол-во объявлений, шт.', fontsize='large', color='black')\n",
    "plt.show()"
   ]
  },
  {
   "cell_type": "markdown",
   "metadata": {},
   "source": [
    "расстояние до ближайшего аэропорта:"
   ]
  },
  {
   "cell_type": "code",
   "execution_count": 35,
   "metadata": {
    "scrolled": true
   },
   "outputs": [
    {
     "data": {
      "image/png": "[encoded data removed]",
      "text/plain": [
       "<Figure size 432x288 with 1 Axes>"
      ]
     },
     "metadata": {
      "needs_background": "light"
     },
     "output_type": "display_data"
    }
   ],
   "source": [
    "data['airports_nearest'].hist(bins=10, range= (0,84869))\n",
    "plt.plot()\n",
    "plt.xlabel('Расстояние до аэропорта, км.', fontsize='large', color='black')\n",
    "plt.ylabel('Кол-во объявлений, шт.', fontsize='large', color='black')\n",
    "plt.show()"
   ]
  },
  {
   "cell_type": "markdown",
   "metadata": {},
   "source": [
    "расстояние до ближайшего парка:"
   ]
  },
  {
   "cell_type": "code",
   "execution_count": 36,
   "metadata": {},
   "outputs": [
    {
     "data": {
      "image/png": "[encoded data removed]",
      "text/plain": [
       "<Figure size 432x288 with 1 Axes>"
      ]
     },
     "metadata": {
      "needs_background": "light"
     },
     "output_type": "display_data"
    }
   ],
   "source": [
    "data['parks_nearest'].hist(bins=10, range= (0,3190))\n",
    "plt.plot()\n",
    "plt.xlabel('Расстояние до парка, км.', fontsize='large', color='black')\n",
    "plt.ylabel('Кол-во объявлений, шт.', fontsize='large', color='black')\n",
    "plt.show()"
   ]
  },
  {
   "cell_type": "markdown",
   "metadata": {},
   "source": [
    "#день, месяц и сезон публикации объявления:"
   ]
  },
  {
   "cell_type": "code",
   "execution_count": 37,
   "metadata": {},
   "outputs": [
    {
     "data": {
      "image/png": "[encoded data removed]",
      "text/plain": [
       "<Figure size 432x288 with 1 Axes>"
      ]
     },
     "metadata": {
      "needs_background": "light"
     },
     "output_type": "display_data"
    },
    {
     "data": {
      "image/png": "[encoded data removed]",
      "text/plain": [
       "<Figure size 432x288 with 1 Axes>"
      ]
     },
     "metadata": {
      "needs_background": "light"
     },
     "output_type": "display_data"
    },
    {
     "data": {
      "image/png": "[encoded data removed]",
      "text/plain": [
       "<Figure size 432x288 with 1 Axes>"
      ]
     },
     "metadata": {
      "needs_background": "light"
     },
     "output_type": "display_data"
    }
   ],
   "source": [
    "data['weekday'].hist(bins=7, range= (0,6))\n",
    "plt.plot()\n",
    "plt.xlabel('День размещения объявления, 0-пн, 1-вт ...', fontsize='large', color='black')\n",
    "plt.ylabel('Кол-во объявлений, шт.', fontsize='large', color='black')\n",
    "plt.show()\n",
    "data['month'].hist(bins=12, range= (1,12))\n",
    "plt.plot()\n",
    "plt.xlabel('Месяц размещения объявления', fontsize='large', color='black')\n",
    "plt.ylabel('Кол-во объявлений, шт.', fontsize='large', color='black')\n",
    "plt.show()\n",
    "data['month'].hist(bins=4, range= (1,12))\n",
    "plt.plot()\n",
    "plt.xlabel('Месяц размещения объявления', fontsize='large', color='black')\n",
    "plt.ylabel('Кол-во объявлений, шт.', fontsize='large', color='black')\n",
    "plt.show()"
   ]
  },
  {
   "cell_type": "markdown",
   "metadata": {},
   "source": [
    "<div class=\"alert alert-block alert-warning\">\n",
    "<b>Remarks:</b> \n",
    "    \n",
    "Дальше будут проекты, где тебе придется строить очень много графиков, поэтому лучше сразу их правильно строить. На данном графике у тебя должны быть подписаны оси, ось Y должна содержать еще размерность данных (шт., млн. и т.д.). Оси и заголовок должны быть на одном языке. В заголовке еще можно написать за какой период у нас данные. Поправь и другие графики в проекте.\n",
    "\n",
    "Правильное оформление графиков сильно повышает вероятность сдачи проекта с первого раза ;)\n",
    "    \n",
    "Также скину тебе сайт с подборкой крутых примеров на разных библиотеках:\n",
    "    \n",
    "https://python-graph-gallery.com/\n",
    "    \n",
    "В идеале, конечно, сразу начинать осваивать какую-нибудь хорошую либу (plotly или seaborn например)\n",
    "\n",
    "</div>"
   ]
  },
  {
   "cell_type": "code",
   "execution_count": 38,
   "metadata": {},
   "outputs": [
    {
     "data": {
      "image/png": "[encoded data removed]",
      "text/plain": [
       "<Figure size 432x288 with 1 Axes>"
      ]
     },
     "metadata": {
      "needs_background": "light"
     },
     "output_type": "display_data"
    },
    {
     "data": {
      "image/png": "[encoded data removed]",
      "text/plain": [
       "<Figure size 432x288 with 1 Axes>"
      ]
     },
     "metadata": {
      "needs_background": "light"
     },
     "output_type": "display_data"
    },
    {
     "name": "stdout",
     "output_type": "stream",
     "text": [
      "Среднее значение: 180.75328\n",
      "Медианное значение: 95.0\n",
      "Числовое описание данных: count    20363.000000\n",
      "mean       180.753281\n",
      "std        219.783234\n",
      "min          1.000000\n",
      "25%         45.000000\n",
      "50%         95.000000\n",
      "75%        231.000000\n",
      "max       1580.000000\n",
      "Name: days_exposition, dtype: float64\n"
     ]
    }
   ],
   "source": [
    "data['days_exposition'].hist(bins=158, range= (1,1580))\n",
    "plt.plot()\n",
    "plt.xlabel('Дней продажи, дн.', fontsize='large', color='black')\n",
    "plt.ylabel('Кол-во объявлений, шт.', fontsize='large', color='black')\n",
    "plt.show()\n",
    "data.loc[data['days_exposition'] <= 100, 'days_exposition'].hist(bins=100, range= (1,100)) #продажи до 100 дней\n",
    "plt.plot()\n",
    "plt.xlabel('Дней продажи, дн.', fontsize='large', color='black')\n",
    "plt.ylabel('Кол-во объявлений, шт.', fontsize='large', color='black')\n",
    "plt.show()\n",
    "print('Среднее значение:', data['days_exposition'].mean())\n",
    "print('Медианное значение:', data['days_exposition'].median())\n",
    "print('Числовое описание данных:', data['days_exposition'].describe())"
   ]
  },
  {
   "cell_type": "markdown",
   "metadata": {},
   "source": [
    "<div class=\"alert alert-block alert-warning\">\n",
    "<b>⚠️ Remarks: ✔</b> нужно внимательно изучить продажи быстрее ста дней"
   ]
  },
  {
   "cell_type": "markdown",
   "metadata": {},
   "source": [
    "Обычная продолжительность продажи квартиры 60 дней.\n",
    "До 45 дней - быстрые продажи, 219 дня и больше - долгие продажи."
   ]
  },
  {
   "cell_type": "markdown",
   "metadata": {},
   "source": [
    "Вывод: Типичное объявление на продаже: одно- или двухкомнатная квартира на втором этаже в пятиэтажном доме, с жилой площадью 25-30 кв.м., и площадью кухни 5-10 кв.м.., стоимостью 4 млн. руб., с высотой потолков 2.6 м, в районе, расположенном в 12,5-15 км от центра города, и 20 км от аэропорта с парком в пешей доступности (500м.)\n",
    "Большую часть объявлений размещают в будние дни, преимущественно вт-чт. В период с осени по конец весны наблюдается увеличение предложений, с «праздничной» просадкой в декабре и январе. Сумма предложений первых и последних этажей в три раза меньше количества предложений остальных этажей."
   ]
  },
  {
   "cell_type": "markdown",
   "metadata": {},
   "source": [
    "<div class=\"alert alert-block alert-warning\">\n",
    "<b>Remarks: ✔</b> было бы здорово писать какие-то промежуточные наблюдения по графикам"
   ]
  },
  {
   "cell_type": "markdown",
   "metadata": {},
   "source": [
    "### Посчитайте и добавьте в таблицу новые столбцы"
   ]
  },
  {
   "cell_type": "code",
   "execution_count": 39,
   "metadata": {
    "scrolled": false
   },
   "outputs": [
    {
     "data": {
      "image/png": "[encoded data removed]",
      "text/plain": [
       "<Figure size 720x360 with 1 Axes>"
      ]
     },
     "metadata": {
      "needs_background": "light"
     },
     "output_type": "display_data"
    },
    {
     "name": "stdout",
     "output_type": "stream",
     "text": [
      "Коэффициент корреляции: 0.6519611483555736\n"
     ]
    }
   ],
   "source": [
    "#Считаю зависимости цен от:\n",
    "#общей площади:\n",
    "data.plot(x='total_area', y='last_price', grid=True, figsize=(10,5), kind='scatter')\n",
    "plt.plot()\n",
    "plt.xlabel('Общая площадь, кв.м', fontsize='large', color='black')\n",
    "plt.ylabel('Стоимость объекта, 1 млн. рублей', fontsize='large', color='black')\n",
    "plt.show()\n",
    "print('Коэффициент корреляции:', data['total_area'].corr(data['last_price']))"
   ]
  },
  {
   "cell_type": "code",
   "execution_count": 40,
   "metadata": {},
   "outputs": [
    {
     "data": {
      "image/png": "[encoded data removed]",
      "text/plain": [
       "<Figure size 720x360 with 1 Axes>"
      ]
     },
     "metadata": {
      "needs_background": "light"
     },
     "output_type": "display_data"
    },
    {
     "name": "stdout",
     "output_type": "stream",
     "text": [
      "Коэффициент корреляции: 0.5531941809292532\n"
     ]
    }
   ],
   "source": [
    "#жилой площади:\n",
    "data.plot(x='living_area', y='last_price', grid=True, figsize=(10,5), kind='scatter')\n",
    "plt.plot()\n",
    "plt.xlabel('Жилая площадь, кв.м', fontsize='large', color='black')\n",
    "plt.ylabel('Стоимость объекта, 1 млн. рублей', fontsize='large', color='black')\n",
    "plt.show()\n",
    "print('Коэффициент корреляции:', data['living_area'].corr(data['last_price']))"
   ]
  },
  {
   "cell_type": "code",
   "execution_count": 41,
   "metadata": {},
   "outputs": [
    {
     "data": {
      "image/png": "[encoded data removed]",
      "text/plain": [
       "<Figure size 720x360 with 1 Axes>"
      ]
     },
     "metadata": {
      "needs_background": "light"
     },
     "output_type": "display_data"
    },
    {
     "name": "stdout",
     "output_type": "stream",
     "text": [
      "Коэффициент корреляции: 0.45168877715940553\n"
     ]
    }
   ],
   "source": [
    "#площади кухни:\n",
    "data.plot(x='kitchen_area', y='last_price', grid=True, figsize=(10,5), kind='scatter')\n",
    "plt.plot()\n",
    "plt.xlabel('Площадь кухни, кв.м', fontsize='large', color='black')\n",
    "plt.ylabel('Стоимость объекта, 1 млн. рублей', fontsize='large', color='black')\n",
    "plt.show()\n",
    "print('Коэффициент корреляции:', data['kitchen_area'].corr(data['last_price']))"
   ]
  },
  {
   "cell_type": "code",
   "execution_count": 42,
   "metadata": {},
   "outputs": [
    {
     "data": {
      "image/png": "[encoded data removed]",
      "text/plain": [
       "<Figure size 432x288 with 1 Axes>"
      ]
     },
     "metadata": {
      "needs_background": "light"
     },
     "output_type": "display_data"
    },
    {
     "name": "stdout",
     "output_type": "stream",
     "text": [
      "Коэффициент корреляции: 0.36242974878945333\n"
     ]
    }
   ],
   "source": [
    "#количества комнат:\n",
    "data_pivot = data.pivot_table(index='rooms', values='last_price', aggfunc='mean')\n",
    "data_pivot.plot()\n",
    "plt.plot()\n",
    "plt.xlabel('Количество комнат, шт.', fontsize='large', color='black')\n",
    "plt.ylabel('Стоимость объекта, 1 млн. рублей', fontsize='large', color='black')\n",
    "plt.show()\n",
    "print('Коэффициент корреляции:', data['rooms'].corr(data['last_price']))"
   ]
  },
  {
   "cell_type": "code",
   "execution_count": 43,
   "metadata": {},
   "outputs": [
    {
     "data": {
      "image/png": "[encoded data removed]",
      "text/plain": [
       "<Figure size 432x288 with 1 Axes>"
      ]
     },
     "metadata": {
      "needs_background": "light"
     },
     "output_type": "display_data"
    }
   ],
   "source": [
    "#этажа, на котором расположена квартира (первый, последний, другой):\n",
    "\n",
    "data_pivot = data.pivot_table(index='floor_category', values='last_price', aggfunc='mean')\n",
    "data_pivot.plot()\n",
    "plt.plot()\n",
    "plt.xlabel('Категория этажа', fontsize='large', color='black')\n",
    "plt.ylabel('Стоимость объекта, 1 млн. рублей', fontsize='large', color='black')\n",
    "plt.show()"
   ]
  },
  {
   "cell_type": "code",
   "execution_count": 44,
   "metadata": {},
   "outputs": [
    {
     "data": {
      "image/png": "[encoded data removed]",
      "text/plain": [
       "<Figure size 432x288 with 1 Axes>"
      ]
     },
     "metadata": {
      "needs_background": "light"
     },
     "output_type": "display_data"
    },
    {
     "name": "stdout",
     "output_type": "stream",
     "text": [
      "Коэффициент корреляции от дня недели: 0.0015526220187042934\n"
     ]
    },
    {
     "data": {
      "image/png": "[encoded data removed]",
      "text/plain": [
       "<Figure size 432x288 with 1 Axes>"
      ]
     },
     "metadata": {
      "needs_background": "light"
     },
     "output_type": "display_data"
    },
    {
     "name": "stdout",
     "output_type": "stream",
     "text": [
      "Коэффициент корреляции от месяца: 0.0023131005647850484\n"
     ]
    },
    {
     "data": {
      "image/png": "[encoded data removed]",
      "text/plain": [
       "<Figure size 432x288 with 1 Axes>"
      ]
     },
     "metadata": {
      "needs_background": "light"
     },
     "output_type": "display_data"
    },
    {
     "name": "stdout",
     "output_type": "stream",
     "text": [
      "Коэффициент корреляции от года: -0.04239917565265992\n"
     ]
    }
   ],
   "source": [
    "#даты размещения (день недели, месяц, год)\n",
    "data_pivot = data.pivot_table(index='weekday', values='last_price', aggfunc='mean')\n",
    "data_pivot.plot()\n",
    "plt.plot()\n",
    "plt.xlabel('День размещения объявления, 0-пн, 1-вт ...', fontsize='large', color='black')\n",
    "plt.ylabel('Стоимость объекта, 1 млн. рублей', fontsize='large', color='black')\n",
    "plt.show()\n",
    "print('Коэффициент корреляции от дня недели:', data['weekday'].corr(data['last_price']))\n",
    "\n",
    "data_pivot = data.pivot_table(index='month', values='last_price', aggfunc='mean')\n",
    "data_pivot.plot()\n",
    "plt.plot()\n",
    "plt.xlabel('Месяц размещения объявления', fontsize='large', color='black')\n",
    "plt.ylabel('Стоимость объекта, 1 млн. рублей', fontsize='large', color='black')\n",
    "plt.show()\n",
    "print('Коэффициент корреляции от месяца:', data['month'].corr(data['last_price']))\n",
    "\n",
    "data_pivot = data.pivot_table(index='year', values='last_price', aggfunc='mean')\n",
    "data_pivot.plot()\n",
    "plt.plot()\n",
    "plt.xlabel('Год размещения объявления', fontsize='large', color='black')\n",
    "plt.ylabel('Стоимость объекта, 1 млн. рублей', fontsize='large', color='black')\n",
    "plt.show()\n",
    "print('Коэффициент корреляции от года:', data['year'].corr(data['last_price']))"
   ]
  },
  {
   "cell_type": "markdown",
   "metadata": {},
   "source": [
    "На стоимость квартиры влияет положительно размер общей, жилой и, в меньшей степени площадь кухни. \n",
    "Отрицательно влияет на стоимость квартиры первой  этаж.\n",
    "Также влияние на стоимость оказывает день недели, месяц и год продажи"
   ]
  },
  {
   "cell_type": "markdown",
   "metadata": {},
   "source": [
    "<div class=\"alert alert-block alert-success\">\n",
    "<b>✔️ Success:</b> Отличная работа! Было бы еще полезно рассмотреть количество объявлений в каждой категории, эта информация может повлиять на выводы"
   ]
  },
  {
   "cell_type": "code",
   "execution_count": 45,
   "metadata": {},
   "outputs": [
    {
     "name": "stdout",
     "output_type": "stream",
     "text": [
      "Населённый пункт с самой высокой стоимостью квадратного метра из TOP-10: Санкт-Петербург 114771 рублей.\n",
      "Населённый пункт с самой низкой стоимостью квадратного метра из TOP-10: Выборг 58238 рублей.\n"
     ]
    }
   ],
   "source": [
    "#Считаю среднюю стоимость 1 кв.метра в 10 населённых пунктах с наибольшим числом объявлений:\n",
    "#data['len'] = len(data['locality_name'])\n",
    "#data_pv = data.pivot_table(index='locality_name', values='len', aggfunc='count').sort_values(by='len', ascending = False)\n",
    "#print(data_pv.head(10))\n",
    "data['kvm_price'] = data['last_price'] / data['total_area'] \n",
    "data_top_ten = data.query('locality_name == (\"Санкт-Петербург\", \"Мурино\", \"Кудрово\", \"Шушары\", \"Всеволожск\", \"Пушкин\", \"Колпино\", \"Парголово\", \"Гатчина\", \"Выборг\")').pivot_table(index='locality_name', values='kvm_price', aggfunc='mean')\n",
    "print('Населённый пункт с самой высокой стоимостью квадратного метра из TOP-10:', data_top_ten['kvm_price'].idxmax(), data_top_ten['kvm_price'].max().astype('int'), 'рублей.')\n",
    "print('Населённый пункт с самой низкой стоимостью квадратного метра из TOP-10:',data_top_ten['kvm_price'].idxmin(), data_top_ten['kvm_price'].min().astype('int'), 'рублей.')"
   ]
  },
  {
   "cell_type": "code",
   "execution_count": 46,
   "metadata": {},
   "outputs": [
    {
     "data": {
      "image/png": "[encoded data removed]",
      "text/plain": [
       "<Figure size 432x288 with 1 Axes>"
      ]
     },
     "metadata": {
      "needs_background": "light"
     },
     "output_type": "display_data"
    }
   ],
   "source": [
    "data['km_price'] = data['last_price'] / data['total_area'] / data['citycenters_nearest_km'] \n",
    "data_km_price = data.query('locality_name == \"Санкт-Петербург\"').pivot_table(index='citycenters_nearest_km', values='km_price', aggfunc='mean')\n",
    "data_km_price.plot()\n",
    "plt.plot()\n",
    "plt.xlabel('Расстояние до центра города, км.', fontsize='large', color='black')\n",
    "plt.ylabel('Стоимость объекта, 10 млн. рублей', fontsize='large', color='black')\n",
    "plt.show()\n"
   ]
  },
  {
   "cell_type": "markdown",
   "metadata": {},
   "source": [
    "Самый дорокой квадратный метр жилья в радиусе 2 км от центра города и с отдалением от центра цена уменьшается"
   ]
  },
  {
   "cell_type": "markdown",
   "metadata": {},
   "source": [
    "### Общий вывод"
   ]
  },
  {
   "cell_type": "markdown",
   "metadata": {},
   "source": [
    "Типичное объявление на продаже: одно- или двухкомнатная квартира на втором этаже в пятиэтажном доме, с жилой площадью 25-30 кв.м., и площадью кухни 5-10 кв.м.., стоимостью 4 млн. руб., с высотой потолков 2.6 м, в районе, расположенном в 12,5-15 км от центра города, и 20 км от аэропорта с парком в пешей доступности (500м.) Большую часть объявлений размещают в будние дни, преимущественно вт-чт. В период с осени по конец весны наблюдается увеличение предложений, с «праздничной» просадкой в декабре и январе. Сумма предложений первых и последних этажей в три раза меньше количества предложений остальных этажей.\n",
    "\n",
    "Обычная продолжительность продажи квартиры 95-180 дней. До 45 дней - быстрые продажи, 231 дня и больше - долгие продажи.\n",
    "\n",
    "На стоимость квартиры влияет положительно размер общей, жилой и, в меньшей степени площадь кухни. Отрицательно влияет на стоимость квартиры первой этаж. Также влияние на стоимость оказывает день недели, месяц и год продажи.\n",
    "\n",
    "Населённый пункт с самой высокой стоимостью квадратного метра из TOP-10: Санкт-Петербург 114770 рублей.\n",
    "\n",
    "Населённый пункт с самой низкой стоимостью квадратного метра из TOP-10: Выборг 58238 рублей.\n",
    "\n",
    "Самый дорокой квадратный метр жилья в радиусе 2 км от центра города и с отдалением от центра цена уменьшается."
   ]
  },
  {
   "cell_type": "markdown",
   "metadata": {},
   "source": [
    "<div class=\"alert alert-block alert-success\">\n",
    "<b>✔️ Success:</b> хороший информативный общий вывод!"
   ]
  },
  {
   "cell_type": "code",
   "execution_count": 47,
   "metadata": {},
   "outputs": [
    {
     "name": "stdout",
     "output_type": "stream",
     "text": [
      "Спасибо за внимание!\n"
     ]
    }
   ],
   "source": [
    "print('Спасибо за внимание!')"
   ]
  },
  {
   "cell_type": "markdown",
   "metadata": {},
   "source": [
    "**Чек-лист готовности проекта**\n",
    "\n",
    "Поставьте 'x' в выполненных пунктах. Далее нажмите Shift+Enter."
   ]
  },
  {
   "cell_type": "markdown",
   "metadata": {},
   "source": [
    "- [x]  открыт файл\n",
    "- [x]  файлы изучены (выведены первые строки, метод `info()`, гистограммы и т.д.)\n",
    "- [x]  определены пропущенные значения\n",
    "- [x]  заполнены пропущенные значения там, где это возможно\n",
    "- [x]  есть пояснение, какие пропущенные значения обнаружены\n",
    "- [x]  изменены типы данных\n",
    "- [x]  есть пояснение, в каких столбцах изменены типы и почему\n",
    "- [x]  устранены неявные дубликаты в названиях населённых пунктов\n",
    "- [x]  устранены редкие и выбивающиеся значения (аномалии) во всех столбцах\n",
    "- [x]  посчитано и добавлено в таблицу: цена одного квадратного метра\n",
    "- [x]  посчитано и добавлено в таблицу: день публикации объявления (0 - понедельник, 1 - вторник и т.д.)\n",
    "- [x]  посчитано и добавлено в таблицу: месяц публикации объявления\n",
    "- [x]  посчитано и добавлено в таблицу: год публикации объявления\n",
    "- [x]  посчитано и добавлено в таблицу: тип этажа квартиры (значения — «первый», «последний», «другой»)\n",
    "- [x]  посчитано и добавлено в таблицу: расстояние в км до центра города\n",
    "- [x]  изучены и описаны следующие параметры:\n",
    "        - общая площадь;\n",
    "        - жилая площадь;\n",
    "        - площадь кухни;\n",
    "        - цена объекта;\n",
    "        - количество комнат;\n",
    "        - высота потолков;\n",
    "        - этаж квартиры;\n",
    "        - тип этажа квартиры («первый», «последний», «другой»);\n",
    "        - общее количество этажей в доме;\n",
    "        - расстояние до центра города в метрах;\n",
    "        - расстояние до ближайшего аэропорта;\n",
    "        - расстояние до ближайшего парка;\n",
    "        - день и месяц публикации объявления\n",
    "- [x]  построены гистограммы для каждого параметра\n",
    "- [x]  выполнено задание: \"Изучите, как быстро продавались квартиры (столбец days_exposition). Этот параметр показывает, сколько дней «висело» каждое объявление.\n",
    "    - Постройте гистограмму.\n",
    "    - Посчитайте среднее и медиану.\n",
    "    - В ячейке типа markdown опишите, сколько обычно занимает продажа. Какие продажи можно считать быстрыми, а какие — необычно долгими?\"\n",
    "- [x]  выполнено задание: \"Какие факторы больше всего влияют на общую (полную) стоимость объекта? Постройте графики, которые покажут зависимость цены от указанных ниже параметров. Для подготовки данных перед визуализацией вы можете использовать сводные таблицы.\"\n",
    "        - общей площади;\n",
    "        - жилой площади;\n",
    "        - площади кухни;\n",
    "        - количество комнат;\n",
    "        - типа этажа, на котором расположена квартира (первый, последний, другой);\n",
    "        - даты размещения (день недели, месяц, год);\n",
    "- [x]  выполнено задание: \"Посчитайте среднюю цену одного квадратного метра в 10 населённых пунктах с наибольшим числом объявлений. Выделите населённые пункты с самой высокой и низкой стоимостью квадратного метра. Эти данные можно найти по имени в столбце `locality_name`.\"\n",
    "- [x]  выполнено задание: \"Ранее вы посчитали расстояние до центра в километрах. Теперь выделите квартиры в Санкт-Петербурге с помощью столбца `locality_name` и вычислите среднюю цену каждого километра. Опишите, как стоимость объектов зависит от расстояния до центра города.\"\n",
    "- [v]  в каждом этапе есть промежуточные выводы\n",
    "- [x]  есть общий вывод"
   ]
  },
  {
   "cell_type": "code",
   "execution_count": null,
   "metadata": {},
   "outputs": [],
   "source": []
  }
 ],
 "metadata": {
  "ExecuteTimeLog": [
   {
    "duration": 860,
    "start_time": "2022-06-23T14:38:48.651Z"
   },
   {
    "duration": 601,
    "start_time": "2022-06-23T14:40:34.154Z"
   },
   {
    "duration": 220,
    "start_time": "2022-06-23T14:43:19.239Z"
   },
   {
    "duration": 101,
    "start_time": "2022-06-23T14:44:02.047Z"
   },
   {
    "duration": 103,
    "start_time": "2022-06-23T14:52:25.002Z"
   },
   {
    "duration": 119,
    "start_time": "2022-06-23T15:05:46.440Z"
   },
   {
    "duration": 162,
    "start_time": "2022-06-23T15:08:53.078Z"
   },
   {
    "duration": 107,
    "start_time": "2022-06-23T15:09:07.802Z"
   },
   {
    "duration": 128,
    "start_time": "2022-06-23T15:16:18.785Z"
   },
   {
    "duration": 117,
    "start_time": "2022-06-23T15:20:51.473Z"
   },
   {
    "duration": 126,
    "start_time": "2022-06-23T15:21:15.067Z"
   },
   {
    "duration": 1204,
    "start_time": "2022-06-23T15:21:43.664Z"
   },
   {
    "duration": 364,
    "start_time": "2022-06-23T15:21:59.503Z"
   },
   {
    "duration": 2122,
    "start_time": "2022-06-23T15:25:55.451Z"
   },
   {
    "duration": 2111,
    "start_time": "2022-06-23T15:29:21.937Z"
   },
   {
    "duration": 2215,
    "start_time": "2022-06-23T15:30:22.497Z"
   },
   {
    "duration": 2532,
    "start_time": "2022-06-23T15:30:47.469Z"
   },
   {
    "duration": 2295,
    "start_time": "2022-06-23T15:31:04.290Z"
   },
   {
    "duration": 2747,
    "start_time": "2022-06-23T15:31:56.298Z"
   },
   {
    "duration": 45,
    "start_time": "2022-06-23T15:45:18.566Z"
   },
   {
    "duration": 10,
    "start_time": "2022-06-23T15:45:40.535Z"
   },
   {
    "duration": 54,
    "start_time": "2022-06-23T15:46:22.146Z"
   },
   {
    "duration": 43,
    "start_time": "2022-06-23T15:52:07.173Z"
   },
   {
    "duration": 5,
    "start_time": "2022-06-23T15:53:12.305Z"
   },
   {
    "duration": 5,
    "start_time": "2022-06-23T15:55:10.103Z"
   },
   {
    "duration": 50,
    "start_time": "2022-06-25T08:23:10.739Z"
   },
   {
    "duration": 6,
    "start_time": "2022-06-25T08:23:31.585Z"
   },
   {
    "duration": 3239,
    "start_time": "2022-06-25T08:29:31.420Z"
   },
   {
    "duration": 4,
    "start_time": "2022-06-25T08:29:34.661Z"
   },
   {
    "duration": 14,
    "start_time": "2022-06-25T08:37:04.222Z"
   },
   {
    "duration": 74,
    "start_time": "2022-06-25T09:08:58.398Z"
   },
   {
    "duration": 5,
    "start_time": "2022-06-25T09:09:14.710Z"
   },
   {
    "duration": 4,
    "start_time": "2022-06-25T09:11:50.288Z"
   },
   {
    "duration": 755,
    "start_time": "2022-06-25T09:20:54.109Z"
   },
   {
    "duration": 16,
    "start_time": "2022-06-25T09:20:54.866Z"
   },
   {
    "duration": 1927,
    "start_time": "2022-06-25T09:20:54.884Z"
   },
   {
    "duration": 8,
    "start_time": "2022-06-25T09:20:56.813Z"
   },
   {
    "duration": 16,
    "start_time": "2022-06-25T09:20:56.824Z"
   },
   {
    "duration": 730,
    "start_time": "2022-06-25T09:21:47.655Z"
   },
   {
    "duration": 14,
    "start_time": "2022-06-25T09:21:48.387Z"
   },
   {
    "duration": 2062,
    "start_time": "2022-06-25T09:21:48.402Z"
   },
   {
    "duration": 9,
    "start_time": "2022-06-25T09:21:50.465Z"
   },
   {
    "duration": 6,
    "start_time": "2022-06-25T09:21:50.476Z"
   },
   {
    "duration": 6,
    "start_time": "2022-06-25T09:37:08.336Z"
   },
   {
    "duration": 127,
    "start_time": "2022-06-25T09:43:04.770Z"
   },
   {
    "duration": 4,
    "start_time": "2022-06-25T09:43:10.789Z"
   },
   {
    "duration": 8,
    "start_time": "2022-06-25T09:43:36.712Z"
   },
   {
    "duration": 8,
    "start_time": "2022-06-25T09:44:16.905Z"
   },
   {
    "duration": 7,
    "start_time": "2022-06-25T09:45:21.276Z"
   },
   {
    "duration": 67,
    "start_time": "2022-06-25T09:55:44.747Z"
   },
   {
    "duration": 747,
    "start_time": "2022-06-25T09:55:59.997Z"
   },
   {
    "duration": 15,
    "start_time": "2022-06-25T09:56:00.747Z"
   },
   {
    "duration": 2056,
    "start_time": "2022-06-25T09:56:00.763Z"
   },
   {
    "duration": 12,
    "start_time": "2022-06-25T09:56:02.821Z"
   },
   {
    "duration": 81,
    "start_time": "2022-06-25T09:56:02.835Z"
   },
   {
    "duration": 0,
    "start_time": "2022-06-25T09:56:02.918Z"
   },
   {
    "duration": 11,
    "start_time": "2022-06-25T09:56:36.092Z"
   },
   {
    "duration": 9,
    "start_time": "2022-06-25T09:56:43.606Z"
   },
   {
    "duration": 10,
    "start_time": "2022-06-25T09:56:50.670Z"
   },
   {
    "duration": 7,
    "start_time": "2022-06-25T10:02:36.180Z"
   },
   {
    "duration": 13,
    "start_time": "2022-06-25T10:03:16.194Z"
   },
   {
    "duration": 9,
    "start_time": "2022-06-25T10:04:59.401Z"
   },
   {
    "duration": 9,
    "start_time": "2022-06-25T10:06:32.483Z"
   },
   {
    "duration": 9,
    "start_time": "2022-06-25T10:06:55.345Z"
   },
   {
    "duration": 7,
    "start_time": "2022-06-25T10:07:01.802Z"
   },
   {
    "duration": 7,
    "start_time": "2022-06-25T10:07:19.281Z"
   },
   {
    "duration": 12,
    "start_time": "2022-06-25T10:13:18.923Z"
   },
   {
    "duration": 17,
    "start_time": "2022-06-25T10:13:52.919Z"
   },
   {
    "duration": 3,
    "start_time": "2022-06-25T10:14:27.296Z"
   },
   {
    "duration": 6,
    "start_time": "2022-06-25T10:14:36.004Z"
   },
   {
    "duration": 753,
    "start_time": "2022-06-25T10:18:55.617Z"
   },
   {
    "duration": 15,
    "start_time": "2022-06-25T10:18:56.372Z"
   },
   {
    "duration": 2010,
    "start_time": "2022-06-25T10:18:56.389Z"
   },
   {
    "duration": 8,
    "start_time": "2022-06-25T10:18:58.401Z"
   },
   {
    "duration": 5,
    "start_time": "2022-06-25T10:18:58.411Z"
   },
   {
    "duration": 15,
    "start_time": "2022-06-25T10:18:58.418Z"
   },
   {
    "duration": 9,
    "start_time": "2022-06-25T10:20:35.509Z"
   },
   {
    "duration": 26,
    "start_time": "2022-06-25T10:20:54.094Z"
   },
   {
    "duration": 83,
    "start_time": "2022-06-25T10:21:50.712Z"
   },
   {
    "duration": 8,
    "start_time": "2022-06-25T10:21:57.448Z"
   },
   {
    "duration": 47,
    "start_time": "2022-06-25T10:22:16.151Z"
   },
   {
    "duration": 8,
    "start_time": "2022-06-25T10:29:37.078Z"
   },
   {
    "duration": 5,
    "start_time": "2022-06-25T10:35:26.242Z"
   },
   {
    "duration": 24,
    "start_time": "2022-06-25T10:35:27.810Z"
   },
   {
    "duration": 769,
    "start_time": "2022-06-25T10:35:42.487Z"
   },
   {
    "duration": 6,
    "start_time": "2022-06-25T10:35:43.261Z"
   },
   {
    "duration": 21,
    "start_time": "2022-06-25T10:35:43.268Z"
   },
   {
    "duration": 1995,
    "start_time": "2022-06-25T10:35:43.292Z"
   },
   {
    "duration": 9,
    "start_time": "2022-06-25T10:35:45.289Z"
   },
   {
    "duration": 5,
    "start_time": "2022-06-25T10:35:45.300Z"
   },
   {
    "duration": 10,
    "start_time": "2022-06-25T10:35:45.306Z"
   },
   {
    "duration": 11,
    "start_time": "2022-06-25T10:46:06.158Z"
   },
   {
    "duration": 5,
    "start_time": "2022-06-25T10:46:14.241Z"
   },
   {
    "duration": 12,
    "start_time": "2022-06-25T10:48:49.211Z"
   },
   {
    "duration": 74,
    "start_time": "2022-06-25T10:50:19.184Z"
   },
   {
    "duration": 6,
    "start_time": "2022-06-25T11:06:38.454Z"
   },
   {
    "duration": 4,
    "start_time": "2022-06-25T11:06:44.815Z"
   },
   {
    "duration": 8,
    "start_time": "2022-06-25T11:07:08.191Z"
   },
   {
    "duration": 10,
    "start_time": "2022-06-25T11:07:25.289Z"
   },
   {
    "duration": 15,
    "start_time": "2022-06-25T11:12:26.220Z"
   },
   {
    "duration": 764,
    "start_time": "2022-06-25T11:24:50.492Z"
   },
   {
    "duration": 5,
    "start_time": "2022-06-25T11:24:51.259Z"
   },
   {
    "duration": 22,
    "start_time": "2022-06-25T11:24:51.265Z"
   },
   {
    "duration": 2014,
    "start_time": "2022-06-25T11:24:51.290Z"
   },
   {
    "duration": 10,
    "start_time": "2022-06-25T11:24:53.306Z"
   },
   {
    "duration": 18,
    "start_time": "2022-06-25T11:24:53.318Z"
   },
   {
    "duration": 27,
    "start_time": "2022-06-25T11:24:53.338Z"
   },
   {
    "duration": 13,
    "start_time": "2022-06-25T11:24:53.367Z"
   },
   {
    "duration": 7,
    "start_time": "2022-06-25T11:24:53.381Z"
   },
   {
    "duration": 4,
    "start_time": "2022-06-25T11:29:58.811Z"
   },
   {
    "duration": 11,
    "start_time": "2022-06-25T11:45:21.678Z"
   },
   {
    "duration": 12,
    "start_time": "2022-06-25T11:45:33.280Z"
   },
   {
    "duration": 11,
    "start_time": "2022-06-25T11:46:49.417Z"
   },
   {
    "duration": 12,
    "start_time": "2022-06-25T11:47:20.542Z"
   },
   {
    "duration": 18,
    "start_time": "2022-06-25T11:52:12.585Z"
   },
   {
    "duration": 17,
    "start_time": "2022-06-25T11:55:10.800Z"
   },
   {
    "duration": 679,
    "start_time": "2022-06-25T11:55:16.980Z"
   },
   {
    "duration": 4,
    "start_time": "2022-06-25T11:55:17.661Z"
   },
   {
    "duration": 24,
    "start_time": "2022-06-25T11:55:17.667Z"
   },
   {
    "duration": 1954,
    "start_time": "2022-06-25T11:55:17.693Z"
   },
   {
    "duration": 9,
    "start_time": "2022-06-25T11:55:19.649Z"
   },
   {
    "duration": 18,
    "start_time": "2022-06-25T11:55:19.659Z"
   },
   {
    "duration": 11,
    "start_time": "2022-06-25T11:55:19.679Z"
   },
   {
    "duration": 4,
    "start_time": "2022-06-25T11:55:19.692Z"
   },
   {
    "duration": 7,
    "start_time": "2022-06-25T11:55:19.697Z"
   },
   {
    "duration": 73,
    "start_time": "2022-06-25T11:55:59.484Z"
   },
   {
    "duration": 31,
    "start_time": "2022-06-25T12:01:48.332Z"
   },
   {
    "duration": 42,
    "start_time": "2022-06-25T12:02:11.976Z"
   },
   {
    "duration": 58,
    "start_time": "2022-06-25T12:02:45.008Z"
   },
   {
    "duration": 746,
    "start_time": "2022-06-25T12:03:19.769Z"
   },
   {
    "duration": 6,
    "start_time": "2022-06-25T12:03:20.517Z"
   },
   {
    "duration": 24,
    "start_time": "2022-06-25T12:03:20.525Z"
   },
   {
    "duration": 1896,
    "start_time": "2022-06-25T12:03:20.551Z"
   },
   {
    "duration": 9,
    "start_time": "2022-06-25T12:03:22.449Z"
   },
   {
    "duration": 69,
    "start_time": "2022-06-25T12:03:22.459Z"
   },
   {
    "duration": 16,
    "start_time": "2022-06-25T12:03:22.530Z"
   },
   {
    "duration": 4,
    "start_time": "2022-06-25T12:03:22.548Z"
   },
   {
    "duration": 28,
    "start_time": "2022-06-25T12:03:22.554Z"
   },
   {
    "duration": 87,
    "start_time": "2022-06-25T12:04:15.303Z"
   },
   {
    "duration": 83,
    "start_time": "2022-06-25T12:05:03.130Z"
   },
   {
    "duration": 127,
    "start_time": "2022-06-25T12:06:39.322Z"
   },
   {
    "duration": 700,
    "start_time": "2022-06-25T12:07:19.256Z"
   },
   {
    "duration": 6,
    "start_time": "2022-06-25T12:07:19.959Z"
   },
   {
    "duration": 23,
    "start_time": "2022-06-25T12:07:19.967Z"
   },
   {
    "duration": 2019,
    "start_time": "2022-06-25T12:07:19.992Z"
   },
   {
    "duration": 9,
    "start_time": "2022-06-25T12:07:22.013Z"
   },
   {
    "duration": 141,
    "start_time": "2022-06-25T12:07:22.025Z"
   },
   {
    "duration": 14,
    "start_time": "2022-06-25T12:07:22.168Z"
   },
   {
    "duration": 5,
    "start_time": "2022-06-25T12:07:22.183Z"
   },
   {
    "duration": 12,
    "start_time": "2022-06-25T12:07:22.189Z"
   },
   {
    "duration": 695,
    "start_time": "2022-06-25T12:08:20.584Z"
   },
   {
    "duration": 5,
    "start_time": "2022-06-25T12:08:21.281Z"
   },
   {
    "duration": 22,
    "start_time": "2022-06-25T12:08:21.287Z"
   },
   {
    "duration": 2044,
    "start_time": "2022-06-25T12:08:21.311Z"
   },
   {
    "duration": 9,
    "start_time": "2022-06-25T12:08:23.357Z"
   },
   {
    "duration": 145,
    "start_time": "2022-06-25T12:08:23.367Z"
   },
   {
    "duration": 0,
    "start_time": "2022-06-25T12:08:23.513Z"
   },
   {
    "duration": 0,
    "start_time": "2022-06-25T12:08:23.514Z"
   },
   {
    "duration": 0,
    "start_time": "2022-06-25T12:08:23.515Z"
   },
   {
    "duration": 776,
    "start_time": "2022-06-25T12:08:47.578Z"
   },
   {
    "duration": 5,
    "start_time": "2022-06-25T12:08:48.357Z"
   },
   {
    "duration": 24,
    "start_time": "2022-06-25T12:08:48.364Z"
   },
   {
    "duration": 2205,
    "start_time": "2022-06-25T12:08:48.390Z"
   },
   {
    "duration": 9,
    "start_time": "2022-06-25T12:08:50.597Z"
   },
   {
    "duration": 158,
    "start_time": "2022-06-25T12:08:50.608Z"
   },
   {
    "duration": 0,
    "start_time": "2022-06-25T12:08:50.768Z"
   },
   {
    "duration": 0,
    "start_time": "2022-06-25T12:08:50.771Z"
   },
   {
    "duration": 0,
    "start_time": "2022-06-25T12:08:50.771Z"
   },
   {
    "duration": 132,
    "start_time": "2022-06-25T12:09:25.483Z"
   },
   {
    "duration": 169,
    "start_time": "2022-06-25T12:10:25.097Z"
   },
   {
    "duration": 771,
    "start_time": "2022-06-25T12:10:32.718Z"
   },
   {
    "duration": 5,
    "start_time": "2022-06-25T12:10:33.491Z"
   },
   {
    "duration": 34,
    "start_time": "2022-06-25T12:10:33.498Z"
   },
   {
    "duration": 1947,
    "start_time": "2022-06-25T12:10:33.536Z"
   },
   {
    "duration": 9,
    "start_time": "2022-06-25T12:10:35.485Z"
   },
   {
    "duration": 149,
    "start_time": "2022-06-25T12:10:35.496Z"
   },
   {
    "duration": 12,
    "start_time": "2022-06-25T12:10:35.646Z"
   },
   {
    "duration": 5,
    "start_time": "2022-06-25T12:10:35.660Z"
   },
   {
    "duration": 6,
    "start_time": "2022-06-25T12:10:35.667Z"
   },
   {
    "duration": 130,
    "start_time": "2022-06-25T12:11:02.390Z"
   },
   {
    "duration": 156,
    "start_time": "2022-06-25T12:13:08.936Z"
   },
   {
    "duration": 155,
    "start_time": "2022-06-25T12:14:06.448Z"
   },
   {
    "duration": 166,
    "start_time": "2022-06-25T12:16:19.818Z"
   },
   {
    "duration": 161,
    "start_time": "2022-06-25T12:27:06.990Z"
   },
   {
    "duration": 61,
    "start_time": "2022-06-25T15:35:54.875Z"
   },
   {
    "duration": 1578,
    "start_time": "2022-06-25T15:36:17.646Z"
   },
   {
    "duration": 6,
    "start_time": "2022-06-25T15:36:19.227Z"
   },
   {
    "duration": 25,
    "start_time": "2022-06-25T15:36:19.235Z"
   },
   {
    "duration": 2531,
    "start_time": "2022-06-25T15:36:19.263Z"
   },
   {
    "duration": 9,
    "start_time": "2022-06-25T15:36:21.796Z"
   },
   {
    "duration": 161,
    "start_time": "2022-06-25T15:36:21.807Z"
   },
   {
    "duration": 99,
    "start_time": "2022-06-25T15:36:21.970Z"
   },
   {
    "duration": 0,
    "start_time": "2022-06-25T15:36:22.071Z"
   },
   {
    "duration": 0,
    "start_time": "2022-06-25T15:36:22.072Z"
   },
   {
    "duration": 0,
    "start_time": "2022-06-25T15:36:22.074Z"
   },
   {
    "duration": 94,
    "start_time": "2022-06-25T15:36:31.034Z"
   },
   {
    "duration": 811,
    "start_time": "2022-06-25T15:36:42.594Z"
   },
   {
    "duration": 7,
    "start_time": "2022-06-25T15:36:43.407Z"
   },
   {
    "duration": 39,
    "start_time": "2022-06-25T15:36:43.417Z"
   },
   {
    "duration": 2375,
    "start_time": "2022-06-25T15:36:43.459Z"
   },
   {
    "duration": 10,
    "start_time": "2022-06-25T15:36:45.835Z"
   },
   {
    "duration": 175,
    "start_time": "2022-06-25T15:36:45.847Z"
   },
   {
    "duration": 83,
    "start_time": "2022-06-25T15:36:46.024Z"
   },
   {
    "duration": 0,
    "start_time": "2022-06-25T15:36:46.109Z"
   },
   {
    "duration": 0,
    "start_time": "2022-06-25T15:36:46.110Z"
   },
   {
    "duration": 0,
    "start_time": "2022-06-25T15:36:46.112Z"
   },
   {
    "duration": 805,
    "start_time": "2022-06-25T15:37:05.483Z"
   },
   {
    "duration": 6,
    "start_time": "2022-06-25T15:37:06.290Z"
   },
   {
    "duration": 18,
    "start_time": "2022-06-25T15:37:06.297Z"
   },
   {
    "duration": 2184,
    "start_time": "2022-06-25T15:37:06.318Z"
   },
   {
    "duration": 12,
    "start_time": "2022-06-25T15:37:08.504Z"
   },
   {
    "duration": 190,
    "start_time": "2022-06-25T15:37:08.518Z"
   },
   {
    "duration": 13,
    "start_time": "2022-06-25T15:37:08.710Z"
   },
   {
    "duration": 5,
    "start_time": "2022-06-25T15:37:08.726Z"
   },
   {
    "duration": 107,
    "start_time": "2022-06-25T15:37:08.750Z"
   },
   {
    "duration": 0,
    "start_time": "2022-06-25T15:37:08.859Z"
   },
   {
    "duration": 53,
    "start_time": "2022-06-25T15:42:21.713Z"
   },
   {
    "duration": 16,
    "start_time": "2022-06-25T15:42:31.021Z"
   },
   {
    "duration": 182,
    "start_time": "2022-06-25T15:45:56.043Z"
   },
   {
    "duration": 41,
    "start_time": "2022-06-25T15:57:15.294Z"
   },
   {
    "duration": 69,
    "start_time": "2022-06-25T16:02:04.891Z"
   },
   {
    "duration": 78,
    "start_time": "2022-06-25T16:03:23.512Z"
   },
   {
    "duration": 79,
    "start_time": "2022-06-25T16:04:04.690Z"
   },
   {
    "duration": 69,
    "start_time": "2022-06-25T16:09:22.378Z"
   },
   {
    "duration": 793,
    "start_time": "2022-06-25T16:18:17.955Z"
   },
   {
    "duration": 10,
    "start_time": "2022-06-25T16:19:19.752Z"
   },
   {
    "duration": 125,
    "start_time": "2022-06-25T16:19:29.247Z"
   },
   {
    "duration": 9,
    "start_time": "2022-06-25T16:56:56.854Z"
   },
   {
    "duration": 848,
    "start_time": "2022-06-25T16:57:07.967Z"
   },
   {
    "duration": 5,
    "start_time": "2022-06-25T16:57:08.818Z"
   },
   {
    "duration": 27,
    "start_time": "2022-06-25T16:57:08.825Z"
   },
   {
    "duration": 2244,
    "start_time": "2022-06-25T16:57:08.854Z"
   },
   {
    "duration": 13,
    "start_time": "2022-06-25T16:57:11.100Z"
   },
   {
    "duration": 174,
    "start_time": "2022-06-25T16:57:11.115Z"
   },
   {
    "duration": 106,
    "start_time": "2022-06-25T16:57:11.291Z"
   },
   {
    "duration": 11,
    "start_time": "2022-06-25T16:57:11.400Z"
   },
   {
    "duration": 115,
    "start_time": "2022-06-25T16:57:11.413Z"
   },
   {
    "duration": 0,
    "start_time": "2022-06-25T16:57:11.530Z"
   },
   {
    "duration": 9,
    "start_time": "2022-06-25T16:58:40.576Z"
   },
   {
    "duration": 12,
    "start_time": "2022-06-25T16:59:36.656Z"
   },
   {
    "duration": 12,
    "start_time": "2022-06-25T17:00:10.770Z"
   },
   {
    "duration": 61,
    "start_time": "2022-06-25T17:01:02.294Z"
   },
   {
    "duration": 23,
    "start_time": "2022-06-25T17:01:24.784Z"
   },
   {
    "duration": 14,
    "start_time": "2022-06-25T17:05:30.023Z"
   },
   {
    "duration": 12,
    "start_time": "2022-06-25T17:05:41.729Z"
   },
   {
    "duration": 13,
    "start_time": "2022-06-25T17:07:28.904Z"
   },
   {
    "duration": 845,
    "start_time": "2022-06-25T17:07:37.521Z"
   },
   {
    "duration": 6,
    "start_time": "2022-06-25T17:07:38.369Z"
   },
   {
    "duration": 23,
    "start_time": "2022-06-25T17:07:38.377Z"
   },
   {
    "duration": 2407,
    "start_time": "2022-06-25T17:07:38.403Z"
   },
   {
    "duration": 10,
    "start_time": "2022-06-25T17:07:40.812Z"
   },
   {
    "duration": 177,
    "start_time": "2022-06-25T17:07:40.824Z"
   },
   {
    "duration": 98,
    "start_time": "2022-06-25T17:07:41.003Z"
   },
   {
    "duration": 0,
    "start_time": "2022-06-25T17:07:41.103Z"
   },
   {
    "duration": 0,
    "start_time": "2022-06-25T17:07:41.105Z"
   },
   {
    "duration": 0,
    "start_time": "2022-06-25T17:07:41.106Z"
   },
   {
    "duration": 10,
    "start_time": "2022-06-25T17:08:49.749Z"
   },
   {
    "duration": 10,
    "start_time": "2022-06-25T17:19:15.126Z"
   },
   {
    "duration": 5,
    "start_time": "2022-06-25T17:19:28.895Z"
   },
   {
    "duration": 7,
    "start_time": "2022-06-25T17:20:09.466Z"
   },
   {
    "duration": 5,
    "start_time": "2022-06-25T17:20:26.412Z"
   },
   {
    "duration": 84,
    "start_time": "2022-06-25T17:20:27.733Z"
   },
   {
    "duration": 6,
    "start_time": "2022-06-25T17:20:35.169Z"
   },
   {
    "duration": 73,
    "start_time": "2022-06-25T17:21:30.855Z"
   },
   {
    "duration": 59,
    "start_time": "2022-06-25T17:22:05.638Z"
   },
   {
    "duration": 73,
    "start_time": "2022-06-25T17:22:12.007Z"
   },
   {
    "duration": 8,
    "start_time": "2022-06-25T17:25:48.387Z"
   },
   {
    "duration": 980,
    "start_time": "2022-06-25T17:26:06.716Z"
   },
   {
    "duration": 5,
    "start_time": "2022-06-25T17:26:07.699Z"
   },
   {
    "duration": 36,
    "start_time": "2022-06-25T17:26:07.706Z"
   },
   {
    "duration": 2486,
    "start_time": "2022-06-25T17:26:07.744Z"
   },
   {
    "duration": 13,
    "start_time": "2022-06-25T17:26:10.233Z"
   },
   {
    "duration": 234,
    "start_time": "2022-06-25T17:26:10.249Z"
   },
   {
    "duration": 103,
    "start_time": "2022-06-25T17:26:10.485Z"
   },
   {
    "duration": 0,
    "start_time": "2022-06-25T17:26:10.591Z"
   },
   {
    "duration": 0,
    "start_time": "2022-06-25T17:26:10.593Z"
   },
   {
    "duration": 0,
    "start_time": "2022-06-25T17:26:10.594Z"
   },
   {
    "duration": 0,
    "start_time": "2022-06-25T17:26:10.596Z"
   },
   {
    "duration": 27,
    "start_time": "2022-06-25T17:26:24.519Z"
   },
   {
    "duration": 6,
    "start_time": "2022-06-25T17:49:40.367Z"
   },
   {
    "duration": 8,
    "start_time": "2022-06-25T17:50:03.913Z"
   },
   {
    "duration": 8,
    "start_time": "2022-06-25T17:51:27.435Z"
   },
   {
    "duration": 9,
    "start_time": "2022-06-25T17:52:53.070Z"
   },
   {
    "duration": 10,
    "start_time": "2022-06-25T17:53:11.511Z"
   },
   {
    "duration": 8,
    "start_time": "2022-06-25T17:53:38.008Z"
   },
   {
    "duration": 8,
    "start_time": "2022-06-25T17:53:58.609Z"
   },
   {
    "duration": 8,
    "start_time": "2022-06-25T17:56:12.622Z"
   },
   {
    "duration": 9,
    "start_time": "2022-06-25T17:58:04.509Z"
   },
   {
    "duration": 13,
    "start_time": "2022-06-25T17:58:34.201Z"
   },
   {
    "duration": 106,
    "start_time": "2022-06-25T17:58:55.097Z"
   },
   {
    "duration": 19,
    "start_time": "2022-06-25T17:59:01.023Z"
   },
   {
    "duration": 7,
    "start_time": "2022-06-25T17:59:39.309Z"
   },
   {
    "duration": 48,
    "start_time": "2022-06-25T18:00:12.181Z"
   },
   {
    "duration": 9,
    "start_time": "2022-06-25T18:00:21.068Z"
   },
   {
    "duration": 9,
    "start_time": "2022-06-25T18:00:43.909Z"
   },
   {
    "duration": 36,
    "start_time": "2022-06-25T18:01:33.768Z"
   },
   {
    "duration": 1162,
    "start_time": "2022-06-25T18:02:20.079Z"
   },
   {
    "duration": 8,
    "start_time": "2022-06-25T18:02:21.244Z"
   },
   {
    "duration": 26,
    "start_time": "2022-06-25T18:02:21.265Z"
   },
   {
    "duration": 2388,
    "start_time": "2022-06-25T18:02:21.294Z"
   },
   {
    "duration": 11,
    "start_time": "2022-06-25T18:02:23.684Z"
   },
   {
    "duration": 195,
    "start_time": "2022-06-25T18:02:23.697Z"
   },
   {
    "duration": 5,
    "start_time": "2022-06-25T18:02:23.895Z"
   },
   {
    "duration": 85,
    "start_time": "2022-06-25T18:02:23.902Z"
   },
   {
    "duration": 21,
    "start_time": "2022-06-25T18:02:23.989Z"
   },
   {
    "duration": 130,
    "start_time": "2022-06-25T18:02:24.014Z"
   },
   {
    "duration": 0,
    "start_time": "2022-06-25T18:02:24.147Z"
   },
   {
    "duration": 21,
    "start_time": "2022-06-25T18:11:33.505Z"
   },
   {
    "duration": 888,
    "start_time": "2022-06-25T18:12:21.383Z"
   },
   {
    "duration": 7,
    "start_time": "2022-06-25T18:12:22.274Z"
   },
   {
    "duration": 22,
    "start_time": "2022-06-25T18:12:22.282Z"
   },
   {
    "duration": 2427,
    "start_time": "2022-06-25T18:12:22.307Z"
   },
   {
    "duration": 12,
    "start_time": "2022-06-25T18:12:24.736Z"
   },
   {
    "duration": 224,
    "start_time": "2022-06-25T18:12:24.751Z"
   },
   {
    "duration": 5,
    "start_time": "2022-06-25T18:12:24.977Z"
   },
   {
    "duration": 89,
    "start_time": "2022-06-25T18:12:24.984Z"
   },
   {
    "duration": 20,
    "start_time": "2022-06-25T18:12:25.075Z"
   },
   {
    "duration": 117,
    "start_time": "2022-06-25T18:12:25.098Z"
   },
   {
    "duration": 0,
    "start_time": "2022-06-25T18:12:25.217Z"
   },
   {
    "duration": 10,
    "start_time": "2022-06-25T18:13:44.673Z"
   },
   {
    "duration": 61,
    "start_time": "2022-06-25T18:14:10.817Z"
   },
   {
    "duration": 6,
    "start_time": "2022-06-25T18:15:10.070Z"
   },
   {
    "duration": 8,
    "start_time": "2022-06-25T18:15:53.928Z"
   },
   {
    "duration": 9,
    "start_time": "2022-06-25T18:16:17.772Z"
   },
   {
    "duration": 909,
    "start_time": "2022-06-25T18:19:06.967Z"
   },
   {
    "duration": 6,
    "start_time": "2022-06-25T18:19:07.879Z"
   },
   {
    "duration": 27,
    "start_time": "2022-06-25T18:19:07.887Z"
   },
   {
    "duration": 2346,
    "start_time": "2022-06-25T18:19:07.916Z"
   },
   {
    "duration": 14,
    "start_time": "2022-06-25T18:19:10.266Z"
   },
   {
    "duration": 203,
    "start_time": "2022-06-25T18:19:10.282Z"
   },
   {
    "duration": 4,
    "start_time": "2022-06-25T18:19:10.487Z"
   },
   {
    "duration": 13,
    "start_time": "2022-06-25T18:19:10.493Z"
   },
   {
    "duration": 78,
    "start_time": "2022-06-25T18:19:10.507Z"
   },
   {
    "duration": 8,
    "start_time": "2022-06-25T18:19:10.587Z"
   },
   {
    "duration": 11,
    "start_time": "2022-06-25T18:19:10.597Z"
   },
   {
    "duration": 48,
    "start_time": "2022-06-26T04:36:05.920Z"
   },
   {
    "duration": 1420,
    "start_time": "2022-06-26T04:36:20.396Z"
   },
   {
    "duration": 4,
    "start_time": "2022-06-26T04:36:21.819Z"
   },
   {
    "duration": 24,
    "start_time": "2022-06-26T04:36:21.825Z"
   },
   {
    "duration": 1848,
    "start_time": "2022-06-26T04:36:21.851Z"
   },
   {
    "duration": 9,
    "start_time": "2022-06-26T04:36:23.702Z"
   },
   {
    "duration": 146,
    "start_time": "2022-06-26T04:36:23.713Z"
   },
   {
    "duration": 3,
    "start_time": "2022-06-26T04:36:23.861Z"
   },
   {
    "duration": 10,
    "start_time": "2022-06-26T04:36:23.866Z"
   },
   {
    "duration": 1013,
    "start_time": "2022-06-26T04:36:23.878Z"
   },
   {
    "duration": 89,
    "start_time": "2022-06-26T04:36:24.893Z"
   },
   {
    "duration": 0,
    "start_time": "2022-06-26T04:36:24.984Z"
   },
   {
    "duration": 1147,
    "start_time": "2022-06-26T04:36:54.266Z"
   },
   {
    "duration": 54,
    "start_time": "2022-06-26T04:37:57.439Z"
   },
   {
    "duration": 14,
    "start_time": "2022-06-26T04:37:59.215Z"
   },
   {
    "duration": 4,
    "start_time": "2022-06-26T04:38:00.352Z"
   },
   {
    "duration": 716,
    "start_time": "2022-06-26T04:38:05.360Z"
   },
   {
    "duration": 4,
    "start_time": "2022-06-26T04:38:06.078Z"
   },
   {
    "duration": 16,
    "start_time": "2022-06-26T04:38:06.084Z"
   },
   {
    "duration": 1946,
    "start_time": "2022-06-26T04:38:06.102Z"
   },
   {
    "duration": 9,
    "start_time": "2022-06-26T04:38:08.049Z"
   },
   {
    "duration": 142,
    "start_time": "2022-06-26T04:38:08.059Z"
   },
   {
    "duration": 3,
    "start_time": "2022-06-26T04:38:08.203Z"
   },
   {
    "duration": 11,
    "start_time": "2022-06-26T04:38:08.208Z"
   },
   {
    "duration": 61,
    "start_time": "2022-06-26T04:38:08.221Z"
   },
   {
    "duration": 83,
    "start_time": "2022-06-26T04:38:08.284Z"
   },
   {
    "duration": 0,
    "start_time": "2022-06-26T04:38:08.368Z"
   },
   {
    "duration": 996,
    "start_time": "2022-06-26T04:38:23.095Z"
   },
   {
    "duration": 1955,
    "start_time": "2022-06-26T04:54:05.184Z"
   },
   {
    "duration": 962,
    "start_time": "2022-06-26T04:54:18.553Z"
   },
   {
    "duration": 727,
    "start_time": "2022-06-26T04:54:26.230Z"
   },
   {
    "duration": 5,
    "start_time": "2022-06-26T04:54:26.959Z"
   },
   {
    "duration": 18,
    "start_time": "2022-06-26T04:54:26.965Z"
   },
   {
    "duration": 1966,
    "start_time": "2022-06-26T04:54:26.986Z"
   },
   {
    "duration": 9,
    "start_time": "2022-06-26T04:54:28.953Z"
   },
   {
    "duration": 145,
    "start_time": "2022-06-26T04:54:28.963Z"
   },
   {
    "duration": 3,
    "start_time": "2022-06-26T04:54:29.110Z"
   },
   {
    "duration": 12,
    "start_time": "2022-06-26T04:54:29.115Z"
   },
   {
    "duration": 1048,
    "start_time": "2022-06-26T04:54:29.128Z"
   },
   {
    "duration": 91,
    "start_time": "2022-06-26T04:54:30.179Z"
   },
   {
    "duration": 0,
    "start_time": "2022-06-26T04:54:30.272Z"
   },
   {
    "duration": 980,
    "start_time": "2022-06-26T04:57:28.858Z"
   },
   {
    "duration": 1011,
    "start_time": "2022-06-26T04:59:18.648Z"
   },
   {
    "duration": 3426,
    "start_time": "2022-06-26T05:08:12.533Z"
   },
   {
    "duration": 4106,
    "start_time": "2022-06-26T05:12:52.708Z"
   },
   {
    "duration": 5538,
    "start_time": "2022-06-26T05:16:21.632Z"
   },
   {
    "duration": 702,
    "start_time": "2022-06-26T05:17:31.824Z"
   },
   {
    "duration": 5,
    "start_time": "2022-06-26T05:17:32.528Z"
   },
   {
    "duration": 32,
    "start_time": "2022-06-26T05:17:32.534Z"
   },
   {
    "duration": 1964,
    "start_time": "2022-06-26T05:17:32.568Z"
   },
   {
    "duration": 9,
    "start_time": "2022-06-26T05:17:34.533Z"
   },
   {
    "duration": 157,
    "start_time": "2022-06-26T05:17:34.543Z"
   },
   {
    "duration": 4,
    "start_time": "2022-06-26T05:17:34.701Z"
   },
   {
    "duration": 11,
    "start_time": "2022-06-26T05:17:34.707Z"
   },
   {
    "duration": 5234,
    "start_time": "2022-06-26T05:17:34.719Z"
   },
   {
    "duration": 94,
    "start_time": "2022-06-26T05:17:39.959Z"
   },
   {
    "duration": 0,
    "start_time": "2022-06-26T05:17:40.059Z"
   },
   {
    "duration": 9,
    "start_time": "2022-06-26T05:19:58.206Z"
   },
   {
    "duration": 6319,
    "start_time": "2022-06-26T05:20:12.396Z"
   },
   {
    "duration": 4854,
    "start_time": "2022-06-26T05:24:24.387Z"
   },
   {
    "duration": 5,
    "start_time": "2022-06-26T05:26:58.579Z"
   },
   {
    "duration": 726,
    "start_time": "2022-06-26T05:27:57.782Z"
   },
   {
    "duration": 6,
    "start_time": "2022-06-26T05:27:58.511Z"
   },
   {
    "duration": 24,
    "start_time": "2022-06-26T05:27:58.519Z"
   },
   {
    "duration": 2042,
    "start_time": "2022-06-26T05:27:58.546Z"
   },
   {
    "duration": 9,
    "start_time": "2022-06-26T05:28:00.590Z"
   },
   {
    "duration": 172,
    "start_time": "2022-06-26T05:28:00.601Z"
   },
   {
    "duration": 4,
    "start_time": "2022-06-26T05:28:00.775Z"
   },
   {
    "duration": 20,
    "start_time": "2022-06-26T05:28:00.781Z"
   },
   {
    "duration": 16,
    "start_time": "2022-06-26T05:28:00.803Z"
   },
   {
    "duration": 5142,
    "start_time": "2022-06-26T05:28:00.822Z"
   },
   {
    "duration": 6,
    "start_time": "2022-06-26T05:28:05.966Z"
   },
   {
    "duration": 5618,
    "start_time": "2022-06-26T05:36:30.004Z"
   },
   {
    "duration": 88,
    "start_time": "2022-06-26T07:29:55.947Z"
   },
   {
    "duration": 35,
    "start_time": "2022-06-26T07:30:07.322Z"
   },
   {
    "duration": 756,
    "start_time": "2022-06-26T07:30:39.443Z"
   },
   {
    "duration": 5,
    "start_time": "2022-06-26T07:30:40.201Z"
   },
   {
    "duration": 16,
    "start_time": "2022-06-26T07:30:40.207Z"
   },
   {
    "duration": 1967,
    "start_time": "2022-06-26T07:30:40.225Z"
   },
   {
    "duration": 9,
    "start_time": "2022-06-26T07:30:42.193Z"
   },
   {
    "duration": 167,
    "start_time": "2022-06-26T07:30:42.203Z"
   },
   {
    "duration": 6,
    "start_time": "2022-06-26T07:30:42.371Z"
   },
   {
    "duration": 17,
    "start_time": "2022-06-26T07:30:42.378Z"
   },
   {
    "duration": 13,
    "start_time": "2022-06-26T07:30:42.396Z"
   },
   {
    "duration": 5489,
    "start_time": "2022-06-26T07:30:42.411Z"
   },
   {
    "duration": 20,
    "start_time": "2022-06-26T07:30:47.901Z"
   },
   {
    "duration": 5188,
    "start_time": "2022-06-26T07:37:02.218Z"
   },
   {
    "duration": 12,
    "start_time": "2022-06-26T07:37:09.902Z"
   },
   {
    "duration": 77,
    "start_time": "2022-06-26T08:16:04.258Z"
   },
   {
    "duration": 23,
    "start_time": "2022-06-26T08:16:11.139Z"
   },
   {
    "duration": 5,
    "start_time": "2022-06-26T08:16:42.162Z"
   },
   {
    "duration": 4,
    "start_time": "2022-06-26T08:16:59.931Z"
   },
   {
    "duration": 4,
    "start_time": "2022-06-26T08:17:06.688Z"
   },
   {
    "duration": 4,
    "start_time": "2022-06-26T08:17:30.022Z"
   },
   {
    "duration": 4,
    "start_time": "2022-06-26T08:17:46.411Z"
   },
   {
    "duration": 6,
    "start_time": "2022-06-26T08:18:07.188Z"
   },
   {
    "duration": 34,
    "start_time": "2022-06-26T08:51:58.937Z"
   },
   {
    "duration": 139,
    "start_time": "2022-06-26T08:52:54.135Z"
   },
   {
    "duration": 185,
    "start_time": "2022-06-26T08:55:06.696Z"
   },
   {
    "duration": 207,
    "start_time": "2022-06-26T08:55:31.068Z"
   },
   {
    "duration": 111,
    "start_time": "2022-06-26T08:55:41.803Z"
   },
   {
    "duration": 616,
    "start_time": "2022-06-26T08:57:38.425Z"
   },
   {
    "duration": 80,
    "start_time": "2022-06-26T08:57:52.372Z"
   },
   {
    "duration": 73,
    "start_time": "2022-06-26T09:05:40.291Z"
   },
   {
    "duration": 8,
    "start_time": "2022-06-26T09:05:54.641Z"
   },
   {
    "duration": 1259,
    "start_time": "2022-06-26T14:56:54.543Z"
   },
   {
    "duration": 6,
    "start_time": "2022-06-26T14:56:55.804Z"
   },
   {
    "duration": 23,
    "start_time": "2022-06-26T14:56:55.812Z"
   },
   {
    "duration": 2294,
    "start_time": "2022-06-26T14:56:55.838Z"
   },
   {
    "duration": 12,
    "start_time": "2022-06-26T14:56:58.135Z"
   },
   {
    "duration": 268,
    "start_time": "2022-06-26T14:56:58.148Z"
   },
   {
    "duration": 11,
    "start_time": "2022-06-26T14:56:58.419Z"
   },
   {
    "duration": 13,
    "start_time": "2022-06-26T14:56:58.432Z"
   },
   {
    "duration": 15,
    "start_time": "2022-06-26T14:56:58.446Z"
   },
   {
    "duration": 5601,
    "start_time": "2022-06-26T14:56:58.464Z"
   },
   {
    "duration": 81,
    "start_time": "2022-06-26T14:57:04.067Z"
   },
   {
    "duration": 0,
    "start_time": "2022-06-26T14:57:04.150Z"
   },
   {
    "duration": 0,
    "start_time": "2022-06-26T14:57:04.168Z"
   },
   {
    "duration": 53,
    "start_time": "2022-06-26T14:57:07.990Z"
   },
   {
    "duration": 32,
    "start_time": "2022-06-26T14:57:44.933Z"
   },
   {
    "duration": 41,
    "start_time": "2022-06-26T14:58:09.800Z"
   },
   {
    "duration": 39,
    "start_time": "2022-06-26T14:58:28.101Z"
   },
   {
    "duration": 34,
    "start_time": "2022-06-26T15:05:53.125Z"
   },
   {
    "duration": 77,
    "start_time": "2022-06-26T15:06:31.924Z"
   },
   {
    "duration": 53,
    "start_time": "2022-06-26T15:06:38.806Z"
   },
   {
    "duration": 865,
    "start_time": "2022-06-26T15:09:53.037Z"
   },
   {
    "duration": 8,
    "start_time": "2022-06-26T15:09:53.905Z"
   },
   {
    "duration": 18,
    "start_time": "2022-06-26T15:09:53.915Z"
   },
   {
    "duration": 2246,
    "start_time": "2022-06-26T15:09:53.935Z"
   },
   {
    "duration": 15,
    "start_time": "2022-06-26T15:09:56.183Z"
   },
   {
    "duration": 185,
    "start_time": "2022-06-26T15:09:56.200Z"
   },
   {
    "duration": 4,
    "start_time": "2022-06-26T15:09:56.388Z"
   },
   {
    "duration": 32,
    "start_time": "2022-06-26T15:09:56.393Z"
   },
   {
    "duration": 5,
    "start_time": "2022-06-26T15:09:56.426Z"
   },
   {
    "duration": 6505,
    "start_time": "2022-06-26T15:09:56.434Z"
   },
   {
    "duration": 12,
    "start_time": "2022-06-26T15:10:02.941Z"
   },
   {
    "duration": 12,
    "start_time": "2022-06-26T15:10:02.955Z"
   },
   {
    "duration": 45,
    "start_time": "2022-06-26T15:10:02.969Z"
   },
   {
    "duration": 26,
    "start_time": "2022-06-26T15:10:24.528Z"
   },
   {
    "duration": 32,
    "start_time": "2022-06-26T15:19:44.821Z"
   },
   {
    "duration": 84,
    "start_time": "2022-06-26T15:21:10.313Z"
   },
   {
    "duration": 45,
    "start_time": "2022-06-26T15:21:16.554Z"
   },
   {
    "duration": 344,
    "start_time": "2022-06-26T15:21:43.998Z"
   },
   {
    "duration": 264,
    "start_time": "2022-06-26T15:22:12.301Z"
   },
   {
    "duration": 482,
    "start_time": "2022-06-26T15:23:59.760Z"
   },
   {
    "duration": 21,
    "start_time": "2022-06-26T15:27:13.410Z"
   },
   {
    "duration": 18,
    "start_time": "2022-06-26T15:27:23.538Z"
   },
   {
    "duration": 790,
    "start_time": "2022-06-26T15:27:40.917Z"
   },
   {
    "duration": 5,
    "start_time": "2022-06-26T15:27:41.709Z"
   },
   {
    "duration": 21,
    "start_time": "2022-06-26T15:27:41.716Z"
   },
   {
    "duration": 2174,
    "start_time": "2022-06-26T15:27:41.739Z"
   },
   {
    "duration": 8,
    "start_time": "2022-06-26T15:27:43.917Z"
   },
   {
    "duration": 172,
    "start_time": "2022-06-26T15:27:43.926Z"
   },
   {
    "duration": 8,
    "start_time": "2022-06-26T15:27:44.100Z"
   },
   {
    "duration": 16,
    "start_time": "2022-06-26T15:27:44.110Z"
   },
   {
    "duration": 8,
    "start_time": "2022-06-26T15:27:44.128Z"
   },
   {
    "duration": 5790,
    "start_time": "2022-06-26T15:27:44.138Z"
   },
   {
    "duration": 10,
    "start_time": "2022-06-26T15:27:49.930Z"
   },
   {
    "duration": 3,
    "start_time": "2022-06-26T15:27:49.942Z"
   },
   {
    "duration": 36,
    "start_time": "2022-06-26T15:27:49.947Z"
   },
   {
    "duration": 37,
    "start_time": "2022-06-26T15:30:44.906Z"
   },
   {
    "duration": 420,
    "start_time": "2022-06-26T15:31:28.623Z"
   },
   {
    "duration": 422,
    "start_time": "2022-06-26T15:31:34.025Z"
   },
   {
    "duration": 333,
    "start_time": "2022-06-26T15:31:53.934Z"
   },
   {
    "duration": 52,
    "start_time": "2022-06-26T15:32:17.056Z"
   },
   {
    "duration": 78,
    "start_time": "2022-06-26T15:32:43.625Z"
   },
   {
    "duration": 33,
    "start_time": "2022-06-26T15:32:55.519Z"
   },
   {
    "duration": 34,
    "start_time": "2022-06-26T15:54:52.196Z"
   },
   {
    "duration": 326,
    "start_time": "2022-06-26T15:55:11.889Z"
   },
   {
    "duration": 83,
    "start_time": "2022-06-26T15:56:39.235Z"
   },
   {
    "duration": 1182,
    "start_time": "2022-06-26T15:57:13.006Z"
   },
   {
    "duration": 306,
    "start_time": "2022-06-26T15:57:22.006Z"
   },
   {
    "duration": 260,
    "start_time": "2022-06-26T15:57:33.070Z"
   },
   {
    "duration": 31,
    "start_time": "2022-06-26T15:58:10.639Z"
   },
   {
    "duration": 381,
    "start_time": "2022-06-26T15:58:22.744Z"
   },
   {
    "duration": 1038,
    "start_time": "2022-06-26T15:58:40.398Z"
   },
   {
    "duration": 108,
    "start_time": "2022-06-26T16:02:34.493Z"
   },
   {
    "duration": 282,
    "start_time": "2022-06-26T16:03:01.954Z"
   },
   {
    "duration": 306,
    "start_time": "2022-06-26T16:23:25.146Z"
   },
   {
    "duration": 816,
    "start_time": "2022-06-26T16:24:24.105Z"
   },
   {
    "duration": 825,
    "start_time": "2022-06-26T16:24:59.198Z"
   },
   {
    "duration": 833,
    "start_time": "2022-06-26T16:25:20.304Z"
   },
   {
    "duration": 855,
    "start_time": "2022-06-26T16:25:38.630Z"
   },
   {
    "duration": 985,
    "start_time": "2022-06-26T16:26:46.011Z"
   },
   {
    "duration": 332,
    "start_time": "2022-06-26T16:27:11.001Z"
   },
   {
    "duration": 262,
    "start_time": "2022-06-26T16:29:56.436Z"
   },
   {
    "duration": 388,
    "start_time": "2022-06-26T16:32:17.905Z"
   },
   {
    "duration": 17,
    "start_time": "2022-06-26T16:34:16.333Z"
   },
   {
    "duration": 763,
    "start_time": "2022-06-26T16:36:59.128Z"
   },
   {
    "duration": 5,
    "start_time": "2022-06-26T16:36:59.893Z"
   },
   {
    "duration": 27,
    "start_time": "2022-06-26T16:36:59.899Z"
   },
   {
    "duration": 2158,
    "start_time": "2022-06-26T16:36:59.928Z"
   },
   {
    "duration": 24,
    "start_time": "2022-06-26T16:37:02.090Z"
   },
   {
    "duration": 203,
    "start_time": "2022-06-26T16:37:02.116Z"
   },
   {
    "duration": 4,
    "start_time": "2022-06-26T16:37:02.321Z"
   },
   {
    "duration": 12,
    "start_time": "2022-06-26T16:37:02.327Z"
   },
   {
    "duration": 5,
    "start_time": "2022-06-26T16:37:02.341Z"
   },
   {
    "duration": 5745,
    "start_time": "2022-06-26T16:37:02.349Z"
   },
   {
    "duration": 18,
    "start_time": "2022-06-26T16:37:08.097Z"
   },
   {
    "duration": 8,
    "start_time": "2022-06-26T16:37:08.117Z"
   },
   {
    "duration": 354,
    "start_time": "2022-06-26T16:37:08.126Z"
   },
   {
    "duration": 255,
    "start_time": "2022-06-26T16:37:37.104Z"
   },
   {
    "duration": 734,
    "start_time": "2022-06-26T16:37:57.697Z"
   },
   {
    "duration": 323,
    "start_time": "2022-06-26T16:39:04.417Z"
   },
   {
    "duration": 698,
    "start_time": "2022-06-26T16:40:48.431Z"
   },
   {
    "duration": 6,
    "start_time": "2022-06-26T16:40:49.131Z"
   },
   {
    "duration": 38,
    "start_time": "2022-06-26T16:40:49.139Z"
   },
   {
    "duration": 2160,
    "start_time": "2022-06-26T16:40:49.185Z"
   },
   {
    "duration": 9,
    "start_time": "2022-06-26T16:40:51.347Z"
   },
   {
    "duration": 160,
    "start_time": "2022-06-26T16:40:51.358Z"
   },
   {
    "duration": 4,
    "start_time": "2022-06-26T16:40:51.520Z"
   },
   {
    "duration": 15,
    "start_time": "2022-06-26T16:40:51.526Z"
   },
   {
    "duration": 5,
    "start_time": "2022-06-26T16:40:51.543Z"
   },
   {
    "duration": 5084,
    "start_time": "2022-06-26T16:40:51.550Z"
   },
   {
    "duration": 9,
    "start_time": "2022-06-26T16:40:56.635Z"
   },
   {
    "duration": 2,
    "start_time": "2022-06-26T16:40:56.646Z"
   },
   {
    "duration": 305,
    "start_time": "2022-06-26T16:40:56.650Z"
   },
   {
    "duration": 22,
    "start_time": "2022-06-26T16:41:25.706Z"
   },
   {
    "duration": 12,
    "start_time": "2022-06-26T16:41:56.742Z"
   },
   {
    "duration": 77,
    "start_time": "2022-06-26T16:42:24.730Z"
   },
   {
    "duration": 50,
    "start_time": "2022-06-26T16:44:06.205Z"
   },
   {
    "duration": 74,
    "start_time": "2022-06-26T16:44:21.236Z"
   },
   {
    "duration": 47,
    "start_time": "2022-06-26T16:44:27.401Z"
   },
   {
    "duration": 233,
    "start_time": "2022-06-26T16:44:33.697Z"
   },
   {
    "duration": 240,
    "start_time": "2022-06-26T16:45:36.205Z"
   },
   {
    "duration": 28,
    "start_time": "2022-06-26T16:46:39.205Z"
   },
   {
    "duration": 258,
    "start_time": "2022-06-26T16:46:50.302Z"
   },
   {
    "duration": 324,
    "start_time": "2022-06-26T16:47:26.425Z"
   },
   {
    "duration": 321,
    "start_time": "2022-06-26T16:47:42.926Z"
   },
   {
    "duration": 112,
    "start_time": "2022-06-26T16:47:53.729Z"
   },
   {
    "duration": 804,
    "start_time": "2022-06-26T16:51:20.512Z"
   },
   {
    "duration": 420,
    "start_time": "2022-06-26T16:51:48.708Z"
   },
   {
    "duration": 787,
    "start_time": "2022-06-26T16:52:05.966Z"
   },
   {
    "duration": 5,
    "start_time": "2022-06-26T16:52:06.755Z"
   },
   {
    "duration": 26,
    "start_time": "2022-06-26T16:52:06.762Z"
   },
   {
    "duration": 2214,
    "start_time": "2022-06-26T16:52:06.791Z"
   },
   {
    "duration": 9,
    "start_time": "2022-06-26T16:52:09.007Z"
   },
   {
    "duration": 165,
    "start_time": "2022-06-26T16:52:09.017Z"
   },
   {
    "duration": 7,
    "start_time": "2022-06-26T16:52:09.193Z"
   },
   {
    "duration": 16,
    "start_time": "2022-06-26T16:52:09.202Z"
   },
   {
    "duration": 6,
    "start_time": "2022-06-26T16:52:09.220Z"
   },
   {
    "duration": 5448,
    "start_time": "2022-06-26T16:52:09.229Z"
   },
   {
    "duration": 14,
    "start_time": "2022-06-26T16:52:14.679Z"
   },
   {
    "duration": 21,
    "start_time": "2022-06-26T16:52:14.695Z"
   },
   {
    "duration": 450,
    "start_time": "2022-06-26T16:52:14.718Z"
   },
   {
    "duration": 328,
    "start_time": "2022-06-26T16:52:29.997Z"
   },
   {
    "duration": 254,
    "start_time": "2022-06-26T16:53:01.900Z"
   },
   {
    "duration": 79,
    "start_time": "2022-06-26T16:53:06.138Z"
   },
   {
    "duration": 256,
    "start_time": "2022-06-26T16:53:10.699Z"
   },
   {
    "duration": 296,
    "start_time": "2022-06-26T16:53:38.713Z"
   },
   {
    "duration": 361,
    "start_time": "2022-06-26T16:55:21.394Z"
   },
   {
    "duration": 746,
    "start_time": "2022-06-26T16:58:43.042Z"
   },
   {
    "duration": 4,
    "start_time": "2022-06-26T16:58:43.791Z"
   },
   {
    "duration": 20,
    "start_time": "2022-06-26T16:58:43.797Z"
   },
   {
    "duration": 2243,
    "start_time": "2022-06-26T16:58:43.819Z"
   },
   {
    "duration": 15,
    "start_time": "2022-06-26T16:58:46.064Z"
   },
   {
    "duration": 193,
    "start_time": "2022-06-26T16:58:46.085Z"
   },
   {
    "duration": 6,
    "start_time": "2022-06-26T16:58:46.282Z"
   },
   {
    "duration": 19,
    "start_time": "2022-06-26T16:58:46.289Z"
   },
   {
    "duration": 5,
    "start_time": "2022-06-26T16:58:46.310Z"
   },
   {
    "duration": 5270,
    "start_time": "2022-06-26T16:58:46.318Z"
   },
   {
    "duration": 15,
    "start_time": "2022-06-26T16:58:51.593Z"
   },
   {
    "duration": 14,
    "start_time": "2022-06-26T16:58:51.610Z"
   },
   {
    "duration": 324,
    "start_time": "2022-06-26T16:58:51.627Z"
   },
   {
    "duration": 228,
    "start_time": "2022-06-26T16:59:31.046Z"
   },
   {
    "duration": 267,
    "start_time": "2022-06-26T16:59:42.094Z"
   },
   {
    "duration": 33,
    "start_time": "2022-06-26T17:01:09.999Z"
   },
   {
    "duration": 34,
    "start_time": "2022-06-26T17:01:38.108Z"
   },
   {
    "duration": 40,
    "start_time": "2022-06-26T17:01:59.318Z"
   },
   {
    "duration": 29,
    "start_time": "2022-06-26T17:02:50.022Z"
   },
   {
    "duration": 1134,
    "start_time": "2022-06-26T17:02:57.599Z"
   },
   {
    "duration": 36,
    "start_time": "2022-06-26T17:03:05.547Z"
   },
   {
    "duration": 379,
    "start_time": "2022-06-26T17:03:41.267Z"
   },
   {
    "duration": 399,
    "start_time": "2022-06-26T17:04:02.162Z"
   },
   {
    "duration": 338,
    "start_time": "2022-06-26T17:04:15.510Z"
   },
   {
    "duration": 996,
    "start_time": "2022-06-26T17:04:34.553Z"
   },
   {
    "duration": 425,
    "start_time": "2022-06-26T17:04:50.413Z"
   },
   {
    "duration": 989,
    "start_time": "2022-06-27T04:55:36.636Z"
   },
   {
    "duration": 5,
    "start_time": "2022-06-27T04:55:37.628Z"
   },
   {
    "duration": 18,
    "start_time": "2022-06-27T04:55:37.635Z"
   },
   {
    "duration": 1880,
    "start_time": "2022-06-27T04:55:37.656Z"
   },
   {
    "duration": 8,
    "start_time": "2022-06-27T04:55:39.537Z"
   },
   {
    "duration": 132,
    "start_time": "2022-06-27T04:55:39.546Z"
   },
   {
    "duration": 3,
    "start_time": "2022-06-27T04:55:39.680Z"
   },
   {
    "duration": 17,
    "start_time": "2022-06-27T04:55:39.685Z"
   },
   {
    "duration": 7,
    "start_time": "2022-06-27T04:55:39.704Z"
   },
   {
    "duration": 4530,
    "start_time": "2022-06-27T04:55:39.714Z"
   },
   {
    "duration": 10,
    "start_time": "2022-06-27T04:55:44.246Z"
   },
   {
    "duration": 3,
    "start_time": "2022-06-27T04:55:44.258Z"
   },
   {
    "duration": 324,
    "start_time": "2022-06-27T04:55:44.262Z"
   },
   {
    "duration": 69,
    "start_time": "2022-06-27T04:55:49.712Z"
   },
   {
    "duration": 26,
    "start_time": "2022-06-27T04:56:00.637Z"
   },
   {
    "duration": 19,
    "start_time": "2022-06-27T04:56:39.350Z"
   },
   {
    "duration": 112,
    "start_time": "2022-06-27T05:02:17.632Z"
   },
   {
    "duration": 106,
    "start_time": "2022-06-27T05:06:03.124Z"
   },
   {
    "duration": 31,
    "start_time": "2022-06-27T05:08:44.302Z"
   },
   {
    "duration": 8,
    "start_time": "2022-06-27T05:09:26.098Z"
   },
   {
    "duration": 49,
    "start_time": "2022-06-27T05:11:52.688Z"
   },
   {
    "duration": 282,
    "start_time": "2022-06-27T05:12:00.323Z"
   },
   {
    "duration": 9,
    "start_time": "2022-06-27T05:17:25.014Z"
   },
   {
    "duration": 237,
    "start_time": "2022-06-27T05:17:50.758Z"
   },
   {
    "duration": 119,
    "start_time": "2022-06-27T05:18:03.817Z"
   },
   {
    "duration": 144,
    "start_time": "2022-06-27T05:18:12.528Z"
   },
   {
    "duration": 107,
    "start_time": "2022-06-27T05:18:29.077Z"
   },
   {
    "duration": 133,
    "start_time": "2022-06-27T05:18:35.426Z"
   },
   {
    "duration": 111,
    "start_time": "2022-06-27T05:23:46.937Z"
   },
   {
    "duration": 137,
    "start_time": "2022-06-27T05:24:15.593Z"
   },
   {
    "duration": 699,
    "start_time": "2022-06-27T05:24:27.651Z"
   },
   {
    "duration": 4,
    "start_time": "2022-06-27T05:24:28.352Z"
   },
   {
    "duration": 22,
    "start_time": "2022-06-27T05:24:28.358Z"
   },
   {
    "duration": 1914,
    "start_time": "2022-06-27T05:24:28.382Z"
   },
   {
    "duration": 9,
    "start_time": "2022-06-27T05:24:30.297Z"
   },
   {
    "duration": 187,
    "start_time": "2022-06-27T05:24:30.307Z"
   },
   {
    "duration": 3,
    "start_time": "2022-06-27T05:24:30.496Z"
   },
   {
    "duration": 23,
    "start_time": "2022-06-27T05:24:30.501Z"
   },
   {
    "duration": 7,
    "start_time": "2022-06-27T05:24:30.526Z"
   },
   {
    "duration": 4825,
    "start_time": "2022-06-27T05:24:30.535Z"
   },
   {
    "duration": 13,
    "start_time": "2022-06-27T05:24:35.362Z"
   },
   {
    "duration": 165,
    "start_time": "2022-06-27T05:24:35.378Z"
   },
   {
    "duration": 357,
    "start_time": "2022-06-27T05:24:35.545Z"
   },
   {
    "duration": 71,
    "start_time": "2022-06-27T05:29:54.985Z"
   },
   {
    "duration": 22,
    "start_time": "2022-06-27T05:30:03.401Z"
   },
   {
    "duration": 20,
    "start_time": "2022-06-27T05:30:43.474Z"
   },
   {
    "duration": 14,
    "start_time": "2022-06-27T05:31:59.216Z"
   },
   {
    "duration": 170,
    "start_time": "2022-06-27T05:42:38.019Z"
   },
   {
    "duration": 186,
    "start_time": "2022-06-27T05:42:50.159Z"
   },
   {
    "duration": 716,
    "start_time": "2022-06-27T05:43:02.048Z"
   },
   {
    "duration": 4,
    "start_time": "2022-06-27T05:43:02.766Z"
   },
   {
    "duration": 25,
    "start_time": "2022-06-27T05:43:02.771Z"
   },
   {
    "duration": 1855,
    "start_time": "2022-06-27T05:43:02.797Z"
   },
   {
    "duration": 8,
    "start_time": "2022-06-27T05:43:04.653Z"
   },
   {
    "duration": 149,
    "start_time": "2022-06-27T05:43:04.662Z"
   },
   {
    "duration": 4,
    "start_time": "2022-06-27T05:43:04.813Z"
   },
   {
    "duration": 16,
    "start_time": "2022-06-27T05:43:04.818Z"
   },
   {
    "duration": 5,
    "start_time": "2022-06-27T05:43:04.836Z"
   },
   {
    "duration": 4767,
    "start_time": "2022-06-27T05:43:04.853Z"
   },
   {
    "duration": 9,
    "start_time": "2022-06-27T05:43:09.621Z"
   },
   {
    "duration": 161,
    "start_time": "2022-06-27T05:43:09.632Z"
   },
   {
    "duration": 338,
    "start_time": "2022-06-27T05:43:09.795Z"
   },
   {
    "duration": 140,
    "start_time": "2022-06-27T05:43:26.211Z"
   },
   {
    "duration": 210,
    "start_time": "2022-06-27T05:44:04.878Z"
   },
   {
    "duration": 129,
    "start_time": "2022-06-27T05:44:25.111Z"
   },
   {
    "duration": 136,
    "start_time": "2022-06-27T05:45:03.310Z"
   },
   {
    "duration": 109,
    "start_time": "2022-06-27T05:47:18.093Z"
   },
   {
    "duration": 9,
    "start_time": "2022-06-27T05:48:04.925Z"
   },
   {
    "duration": 150,
    "start_time": "2022-06-27T05:49:00.278Z"
   },
   {
    "duration": 134,
    "start_time": "2022-06-27T05:54:33.153Z"
   },
   {
    "duration": 8,
    "start_time": "2022-06-27T05:54:45.359Z"
   },
   {
    "duration": 143,
    "start_time": "2022-06-27T05:54:55.163Z"
   },
   {
    "duration": 133,
    "start_time": "2022-06-27T05:55:29.246Z"
   },
   {
    "duration": 149,
    "start_time": "2022-06-27T05:56:27.343Z"
   },
   {
    "duration": 144,
    "start_time": "2022-06-27T05:56:46.472Z"
   },
   {
    "duration": 140,
    "start_time": "2022-06-27T05:57:07.708Z"
   },
   {
    "duration": 215,
    "start_time": "2022-06-27T05:58:02.943Z"
   },
   {
    "duration": 65,
    "start_time": "2022-06-27T05:58:30.149Z"
   },
   {
    "duration": 196,
    "start_time": "2022-06-27T05:58:39.574Z"
   },
   {
    "duration": 23,
    "start_time": "2022-06-27T06:09:43.493Z"
   },
   {
    "duration": 132,
    "start_time": "2022-06-27T06:32:04.301Z"
   },
   {
    "duration": 190,
    "start_time": "2022-06-27T06:32:15.266Z"
   },
   {
    "duration": 171,
    "start_time": "2022-06-27T06:32:27.936Z"
   },
   {
    "duration": 168,
    "start_time": "2022-06-27T06:32:37.544Z"
   },
   {
    "duration": 198,
    "start_time": "2022-06-27T06:34:15.714Z"
   },
   {
    "duration": 244,
    "start_time": "2022-06-27T06:36:14.291Z"
   },
   {
    "duration": 238,
    "start_time": "2022-06-27T06:36:31.749Z"
   },
   {
    "duration": 141,
    "start_time": "2022-06-27T06:36:40.240Z"
   },
   {
    "duration": 75,
    "start_time": "2022-06-27T06:37:30.959Z"
   },
   {
    "duration": 9,
    "start_time": "2022-06-27T06:37:47.380Z"
   },
   {
    "duration": 199,
    "start_time": "2022-06-27T06:38:23.264Z"
   },
   {
    "duration": 166,
    "start_time": "2022-06-27T06:38:43.856Z"
   },
   {
    "duration": 181,
    "start_time": "2022-06-27T06:38:56.243Z"
   },
   {
    "duration": 8,
    "start_time": "2022-06-27T06:38:58.697Z"
   },
   {
    "duration": 139,
    "start_time": "2022-06-27T06:39:27.476Z"
   },
   {
    "duration": 161,
    "start_time": "2022-06-27T06:39:36.739Z"
   },
   {
    "duration": 169,
    "start_time": "2022-06-27T06:39:43.012Z"
   },
   {
    "duration": 195,
    "start_time": "2022-06-27T06:39:52.003Z"
   },
   {
    "duration": 8,
    "start_time": "2022-06-27T06:40:31.502Z"
   },
   {
    "duration": 146,
    "start_time": "2022-06-27T06:40:41.294Z"
   },
   {
    "duration": 160,
    "start_time": "2022-06-27T06:40:59.959Z"
   },
   {
    "duration": 344,
    "start_time": "2022-06-27T06:41:07.923Z"
   },
   {
    "duration": 141,
    "start_time": "2022-06-27T06:41:31.626Z"
   },
   {
    "duration": 152,
    "start_time": "2022-06-27T06:41:43.566Z"
   },
   {
    "duration": 140,
    "start_time": "2022-06-27T06:41:51.000Z"
   },
   {
    "duration": 10,
    "start_time": "2022-06-27T06:41:58.693Z"
   },
   {
    "duration": 9,
    "start_time": "2022-06-27T06:42:08.381Z"
   },
   {
    "duration": 142,
    "start_time": "2022-06-27T06:43:01.574Z"
   },
   {
    "duration": 150,
    "start_time": "2022-06-27T06:43:28.772Z"
   },
   {
    "duration": 144,
    "start_time": "2022-06-27T06:43:53.710Z"
   },
   {
    "duration": 1416,
    "start_time": "2022-06-27T06:44:00.521Z"
   },
   {
    "duration": 1519,
    "start_time": "2022-06-27T06:44:38.320Z"
   },
   {
    "duration": 1518,
    "start_time": "2022-06-27T06:45:07.640Z"
   },
   {
    "duration": 280,
    "start_time": "2022-06-27T06:47:58.086Z"
   },
   {
    "duration": 196,
    "start_time": "2022-06-27T06:49:24.002Z"
   },
   {
    "duration": 417,
    "start_time": "2022-06-27T06:49:51.805Z"
   },
   {
    "duration": 317,
    "start_time": "2022-06-27T06:50:04.103Z"
   },
   {
    "duration": 305,
    "start_time": "2022-06-27T06:50:12.283Z"
   },
   {
    "duration": 382,
    "start_time": "2022-06-27T06:50:35.066Z"
   },
   {
    "duration": 162,
    "start_time": "2022-06-27T06:52:01.622Z"
   },
   {
    "duration": 129,
    "start_time": "2022-06-27T06:52:11.471Z"
   },
   {
    "duration": 153,
    "start_time": "2022-06-27T06:52:37.731Z"
   },
   {
    "duration": 176,
    "start_time": "2022-06-27T06:52:51.138Z"
   },
   {
    "duration": 143,
    "start_time": "2022-06-27T06:53:11.436Z"
   },
   {
    "duration": 156,
    "start_time": "2022-06-27T06:53:22.022Z"
   },
   {
    "duration": 153,
    "start_time": "2022-06-27T06:53:30.281Z"
   },
   {
    "duration": 150,
    "start_time": "2022-06-27T06:53:38.008Z"
   },
   {
    "duration": 145,
    "start_time": "2022-06-27T06:53:51.219Z"
   },
   {
    "duration": 152,
    "start_time": "2022-06-27T06:54:46.820Z"
   },
   {
    "duration": 146,
    "start_time": "2022-06-27T06:55:33.595Z"
   },
   {
    "duration": 157,
    "start_time": "2022-06-27T06:55:46.201Z"
   },
   {
    "duration": 165,
    "start_time": "2022-06-27T06:56:04.884Z"
   },
   {
    "duration": 155,
    "start_time": "2022-06-27T06:59:48.396Z"
   },
   {
    "duration": 177,
    "start_time": "2022-06-27T07:00:01.300Z"
   },
   {
    "duration": 156,
    "start_time": "2022-06-27T07:00:42.684Z"
   },
   {
    "duration": 162,
    "start_time": "2022-06-27T07:01:43.248Z"
   },
   {
    "duration": 171,
    "start_time": "2022-06-27T07:02:01.132Z"
   },
   {
    "duration": 119,
    "start_time": "2022-06-27T07:02:10.640Z"
   },
   {
    "duration": 132,
    "start_time": "2022-06-27T07:02:17.777Z"
   },
   {
    "duration": 135,
    "start_time": "2022-06-27T07:03:39.398Z"
   },
   {
    "duration": 150,
    "start_time": "2022-06-27T07:03:50.783Z"
   },
   {
    "duration": 383,
    "start_time": "2022-06-27T07:04:02.123Z"
   },
   {
    "duration": 176,
    "start_time": "2022-06-27T07:07:54.397Z"
   },
   {
    "duration": 136,
    "start_time": "2022-06-27T07:09:40.487Z"
   },
   {
    "duration": 131,
    "start_time": "2022-06-27T07:10:26.468Z"
   },
   {
    "duration": 209,
    "start_time": "2022-06-27T07:10:37.508Z"
   },
   {
    "duration": 165,
    "start_time": "2022-06-27T07:10:57.983Z"
   },
   {
    "duration": 119,
    "start_time": "2022-06-27T07:11:10.739Z"
   },
   {
    "duration": 143,
    "start_time": "2022-06-27T07:11:16.619Z"
   },
   {
    "duration": 143,
    "start_time": "2022-06-27T07:11:22.399Z"
   },
   {
    "duration": 182,
    "start_time": "2022-06-27T07:11:30.328Z"
   },
   {
    "duration": 166,
    "start_time": "2022-06-27T07:11:52.524Z"
   },
   {
    "duration": 143,
    "start_time": "2022-06-27T07:15:06.589Z"
   },
   {
    "duration": 157,
    "start_time": "2022-06-27T07:17:01.366Z"
   },
   {
    "duration": 147,
    "start_time": "2022-06-27T07:18:31.759Z"
   },
   {
    "duration": 9,
    "start_time": "2022-06-27T07:18:54.187Z"
   },
   {
    "duration": 9,
    "start_time": "2022-06-27T07:19:03.923Z"
   },
   {
    "duration": 156,
    "start_time": "2022-06-27T07:19:09.514Z"
   },
   {
    "duration": 152,
    "start_time": "2022-06-27T07:19:14.273Z"
   },
   {
    "duration": 13,
    "start_time": "2022-06-27T07:21:17.679Z"
   },
   {
    "duration": 692,
    "start_time": "2022-06-27T07:21:28.712Z"
   },
   {
    "duration": 5,
    "start_time": "2022-06-27T07:21:29.406Z"
   },
   {
    "duration": 20,
    "start_time": "2022-06-27T07:21:29.412Z"
   },
   {
    "duration": 2010,
    "start_time": "2022-06-27T07:21:29.434Z"
   },
   {
    "duration": 7,
    "start_time": "2022-06-27T07:21:31.446Z"
   },
   {
    "duration": 140,
    "start_time": "2022-06-27T07:21:31.455Z"
   },
   {
    "duration": 4,
    "start_time": "2022-06-27T07:21:31.596Z"
   },
   {
    "duration": 29,
    "start_time": "2022-06-27T07:21:31.601Z"
   },
   {
    "duration": 17,
    "start_time": "2022-06-27T07:21:31.632Z"
   },
   {
    "duration": 4998,
    "start_time": "2022-06-27T07:21:31.652Z"
   },
   {
    "duration": 20,
    "start_time": "2022-06-27T07:21:36.652Z"
   },
   {
    "duration": 9,
    "start_time": "2022-06-27T07:21:36.674Z"
   },
   {
    "duration": 341,
    "start_time": "2022-06-27T07:21:36.685Z"
   },
   {
    "duration": 194,
    "start_time": "2022-06-27T07:21:37.028Z"
   },
   {
    "duration": 177,
    "start_time": "2022-06-27T07:21:37.224Z"
   },
   {
    "duration": 423,
    "start_time": "2022-06-27T07:21:37.403Z"
   },
   {
    "duration": 183,
    "start_time": "2022-06-27T07:21:37.828Z"
   },
   {
    "duration": 179,
    "start_time": "2022-06-27T07:21:38.013Z"
   },
   {
    "duration": 166,
    "start_time": "2022-06-27T07:21:38.194Z"
   },
   {
    "duration": 115,
    "start_time": "2022-06-27T07:21:38.362Z"
   },
   {
    "duration": 4,
    "start_time": "2022-06-27T07:21:38.479Z"
   },
   {
    "duration": 158,
    "start_time": "2022-06-27T07:21:38.485Z"
   },
   {
    "duration": 165,
    "start_time": "2022-06-27T07:26:10.653Z"
   },
   {
    "duration": 174,
    "start_time": "2022-06-27T07:26:24.668Z"
   },
   {
    "duration": 162,
    "start_time": "2022-06-27T07:26:33.301Z"
   },
   {
    "duration": 3,
    "start_time": "2022-06-27T07:28:14.280Z"
   },
   {
    "duration": 4,
    "start_time": "2022-06-27T07:28:42.990Z"
   },
   {
    "duration": 378,
    "start_time": "2022-06-27T07:29:18.333Z"
   },
   {
    "duration": 364,
    "start_time": "2022-06-27T07:29:42.421Z"
   },
   {
    "duration": 151,
    "start_time": "2022-06-27T07:29:59.788Z"
   },
   {
    "duration": 123,
    "start_time": "2022-06-27T07:30:07.562Z"
   },
   {
    "duration": 136,
    "start_time": "2022-06-27T07:30:23.202Z"
   },
   {
    "duration": 154,
    "start_time": "2022-06-27T07:30:31.035Z"
   },
   {
    "duration": 214,
    "start_time": "2022-06-27T07:31:05.132Z"
   },
   {
    "duration": 156,
    "start_time": "2022-06-27T07:31:17.115Z"
   },
   {
    "duration": 259,
    "start_time": "2022-06-27T07:33:29.515Z"
   },
   {
    "duration": 45,
    "start_time": "2022-06-27T07:33:52.126Z"
   },
   {
    "duration": 4,
    "start_time": "2022-06-27T07:34:14.041Z"
   },
   {
    "duration": 153,
    "start_time": "2022-06-27T07:37:09.917Z"
   },
   {
    "duration": 166,
    "start_time": "2022-06-27T07:37:29.096Z"
   },
   {
    "duration": 177,
    "start_time": "2022-06-27T07:37:34.648Z"
   },
   {
    "duration": 207,
    "start_time": "2022-06-27T07:37:47.040Z"
   },
   {
    "duration": 210,
    "start_time": "2022-06-27T07:38:22.196Z"
   },
   {
    "duration": 123,
    "start_time": "2022-06-27T07:38:47.288Z"
   },
   {
    "duration": 129,
    "start_time": "2022-06-27T07:39:06.137Z"
   },
   {
    "duration": 207,
    "start_time": "2022-06-27T07:40:01.650Z"
   },
   {
    "duration": 130,
    "start_time": "2022-06-27T07:40:17.015Z"
   },
   {
    "duration": 486,
    "start_time": "2022-06-27T08:00:56.712Z"
   },
   {
    "duration": 258,
    "start_time": "2022-06-27T08:01:57.329Z"
   },
   {
    "duration": 320,
    "start_time": "2022-06-27T08:04:13.227Z"
   },
   {
    "duration": 175,
    "start_time": "2022-06-27T08:04:32.145Z"
   },
   {
    "duration": 185,
    "start_time": "2022-06-27T08:04:36.357Z"
   },
   {
    "duration": 145,
    "start_time": "2022-06-27T08:04:40.842Z"
   },
   {
    "duration": 148,
    "start_time": "2022-06-27T08:04:47.315Z"
   },
   {
    "duration": 135,
    "start_time": "2022-06-27T08:06:09.138Z"
   },
   {
    "duration": 142,
    "start_time": "2022-06-27T08:06:24.961Z"
   },
   {
    "duration": 189,
    "start_time": "2022-06-27T08:06:55.056Z"
   },
   {
    "duration": 150,
    "start_time": "2022-06-27T08:07:02.626Z"
   },
   {
    "duration": 143,
    "start_time": "2022-06-27T08:07:12.989Z"
   },
   {
    "duration": 327,
    "start_time": "2022-06-27T08:08:42.372Z"
   },
   {
    "duration": 141,
    "start_time": "2022-06-27T08:10:47.924Z"
   },
   {
    "duration": 159,
    "start_time": "2022-06-27T08:10:58.894Z"
   },
   {
    "duration": 350,
    "start_time": "2022-06-27T08:11:31.030Z"
   },
   {
    "duration": 130,
    "start_time": "2022-06-27T08:12:28.908Z"
   },
   {
    "duration": 152,
    "start_time": "2022-06-27T08:12:42.348Z"
   },
   {
    "duration": 160,
    "start_time": "2022-06-27T08:12:51.441Z"
   },
   {
    "duration": 164,
    "start_time": "2022-06-27T08:13:28.378Z"
   },
   {
    "duration": 155,
    "start_time": "2022-06-27T08:13:43.037Z"
   },
   {
    "duration": 167,
    "start_time": "2022-06-27T08:14:31.806Z"
   },
   {
    "duration": 163,
    "start_time": "2022-06-27T08:14:38.457Z"
   },
   {
    "duration": 119,
    "start_time": "2022-06-27T08:15:57.010Z"
   },
   {
    "duration": 423,
    "start_time": "2022-06-27T08:18:33.853Z"
   },
   {
    "duration": 52,
    "start_time": "2022-06-27T12:52:32.307Z"
   },
   {
    "duration": 8,
    "start_time": "2022-06-27T12:52:48.011Z"
   },
   {
    "duration": 8,
    "start_time": "2022-06-27T12:53:00.570Z"
   },
   {
    "duration": 1124,
    "start_time": "2022-06-27T12:53:08.065Z"
   },
   {
    "duration": 7,
    "start_time": "2022-06-27T12:53:09.192Z"
   },
   {
    "duration": 27,
    "start_time": "2022-06-27T12:53:09.202Z"
   },
   {
    "duration": 2210,
    "start_time": "2022-06-27T12:53:09.232Z"
   },
   {
    "duration": 10,
    "start_time": "2022-06-27T12:53:11.445Z"
   },
   {
    "duration": 164,
    "start_time": "2022-06-27T12:53:11.457Z"
   },
   {
    "duration": 4,
    "start_time": "2022-06-27T12:53:11.623Z"
   },
   {
    "duration": 16,
    "start_time": "2022-06-27T12:53:11.630Z"
   },
   {
    "duration": 7,
    "start_time": "2022-06-27T12:53:11.648Z"
   },
   {
    "duration": 5366,
    "start_time": "2022-06-27T12:53:11.667Z"
   },
   {
    "duration": 22,
    "start_time": "2022-06-27T12:53:17.035Z"
   },
   {
    "duration": 11,
    "start_time": "2022-06-27T12:53:17.067Z"
   },
   {
    "duration": 365,
    "start_time": "2022-06-27T12:53:17.080Z"
   },
   {
    "duration": 176,
    "start_time": "2022-06-27T12:53:17.446Z"
   },
   {
    "duration": 191,
    "start_time": "2022-06-27T12:53:17.624Z"
   },
   {
    "duration": 483,
    "start_time": "2022-06-27T12:53:17.818Z"
   },
   {
    "duration": 251,
    "start_time": "2022-06-27T12:53:18.303Z"
   },
   {
    "duration": 212,
    "start_time": "2022-06-27T12:53:18.556Z"
   },
   {
    "duration": 239,
    "start_time": "2022-06-27T12:53:18.771Z"
   },
   {
    "duration": 173,
    "start_time": "2022-06-27T12:53:19.012Z"
   },
   {
    "duration": 215,
    "start_time": "2022-06-27T12:53:19.188Z"
   },
   {
    "duration": 186,
    "start_time": "2022-06-27T12:53:19.406Z"
   },
   {
    "duration": 226,
    "start_time": "2022-06-27T12:53:19.595Z"
   },
   {
    "duration": 190,
    "start_time": "2022-06-27T12:53:19.822Z"
   },
   {
    "duration": 532,
    "start_time": "2022-06-27T12:53:20.013Z"
   },
   {
    "duration": 83,
    "start_time": "2022-06-27T12:53:20.547Z"
   },
   {
    "duration": 17,
    "start_time": "2022-06-27T12:54:06.922Z"
   },
   {
    "duration": 868,
    "start_time": "2022-06-27T12:54:51.077Z"
   },
   {
    "duration": 6,
    "start_time": "2022-06-27T13:15:55.766Z"
   },
   {
    "duration": 11,
    "start_time": "2022-06-27T13:21:35.472Z"
   },
   {
    "duration": 4,
    "start_time": "2022-06-27T13:22:17.944Z"
   },
   {
    "duration": 4,
    "start_time": "2022-06-27T13:22:30.986Z"
   },
   {
    "duration": 183,
    "start_time": "2022-06-27T13:23:46.732Z"
   },
   {
    "duration": 160,
    "start_time": "2022-06-27T13:24:01.644Z"
   },
   {
    "duration": 145,
    "start_time": "2022-06-27T13:24:16.016Z"
   },
   {
    "duration": 46,
    "start_time": "2022-06-27T13:28:27.327Z"
   },
   {
    "duration": 47,
    "start_time": "2022-06-27T13:28:57.324Z"
   },
   {
    "duration": 57,
    "start_time": "2022-06-27T13:29:09.728Z"
   },
   {
    "duration": 59,
    "start_time": "2022-06-27T13:29:31.029Z"
   },
   {
    "duration": 140,
    "start_time": "2022-06-27T13:29:56.006Z"
   },
   {
    "duration": 137,
    "start_time": "2022-06-27T13:49:39.370Z"
   },
   {
    "duration": 137,
    "start_time": "2022-06-27T13:49:57.339Z"
   },
   {
    "duration": 189,
    "start_time": "2022-06-27T13:51:47.040Z"
   },
   {
    "duration": 131,
    "start_time": "2022-06-27T13:53:43.995Z"
   },
   {
    "duration": 293,
    "start_time": "2022-06-27T13:53:52.675Z"
   },
   {
    "duration": 250,
    "start_time": "2022-06-27T13:58:41.694Z"
   },
   {
    "duration": 371,
    "start_time": "2022-06-27T13:58:53.723Z"
   },
   {
    "duration": 259,
    "start_time": "2022-06-27T13:58:59.570Z"
   },
   {
    "duration": 244,
    "start_time": "2022-06-27T13:59:05.949Z"
   },
   {
    "duration": 249,
    "start_time": "2022-06-27T13:59:22.933Z"
   },
   {
    "duration": 269,
    "start_time": "2022-06-27T13:59:30.398Z"
   },
   {
    "duration": 264,
    "start_time": "2022-06-27T13:59:56.573Z"
   },
   {
    "duration": 255,
    "start_time": "2022-06-27T14:00:04.942Z"
   },
   {
    "duration": 336,
    "start_time": "2022-06-27T14:15:54.395Z"
   },
   {
    "duration": 2174,
    "start_time": "2022-06-27T14:16:02.372Z"
   },
   {
    "duration": 2249,
    "start_time": "2022-06-27T14:16:19.656Z"
   },
   {
    "duration": 361,
    "start_time": "2022-06-27T14:17:00.152Z"
   },
   {
    "duration": 11,
    "start_time": "2022-06-27T14:19:18.033Z"
   },
   {
    "duration": 674,
    "start_time": "2022-06-27T14:26:34.412Z"
   },
   {
    "duration": 5,
    "start_time": "2022-06-27T14:26:35.088Z"
   },
   {
    "duration": 36,
    "start_time": "2022-06-27T14:26:35.094Z"
   },
   {
    "duration": 1841,
    "start_time": "2022-06-27T14:26:35.132Z"
   },
   {
    "duration": 8,
    "start_time": "2022-06-27T14:26:36.975Z"
   },
   {
    "duration": 136,
    "start_time": "2022-06-27T14:26:36.985Z"
   },
   {
    "duration": 4,
    "start_time": "2022-06-27T14:26:37.122Z"
   },
   {
    "duration": 14,
    "start_time": "2022-06-27T14:26:37.128Z"
   },
   {
    "duration": 7,
    "start_time": "2022-06-27T14:26:37.143Z"
   },
   {
    "duration": 4601,
    "start_time": "2022-06-27T14:26:37.152Z"
   },
   {
    "duration": 18,
    "start_time": "2022-06-27T14:26:41.754Z"
   },
   {
    "duration": 9,
    "start_time": "2022-06-27T14:26:41.774Z"
   },
   {
    "duration": 320,
    "start_time": "2022-06-27T14:26:41.785Z"
   },
   {
    "duration": 163,
    "start_time": "2022-06-27T14:26:42.106Z"
   },
   {
    "duration": 162,
    "start_time": "2022-06-27T14:26:42.270Z"
   },
   {
    "duration": 373,
    "start_time": "2022-06-27T14:26:42.433Z"
   },
   {
    "duration": 189,
    "start_time": "2022-06-27T14:26:42.807Z"
   },
   {
    "duration": 159,
    "start_time": "2022-06-27T14:26:42.998Z"
   },
   {
    "duration": 161,
    "start_time": "2022-06-27T14:26:43.159Z"
   },
   {
    "duration": 113,
    "start_time": "2022-06-27T14:26:43.321Z"
   },
   {
    "duration": 183,
    "start_time": "2022-06-27T14:26:43.436Z"
   },
   {
    "duration": 170,
    "start_time": "2022-06-27T14:26:43.620Z"
   },
   {
    "duration": 119,
    "start_time": "2022-06-27T14:26:43.792Z"
   },
   {
    "duration": 140,
    "start_time": "2022-06-27T14:26:43.913Z"
   },
   {
    "duration": 446,
    "start_time": "2022-06-27T14:26:44.055Z"
   },
   {
    "duration": 347,
    "start_time": "2022-06-27T14:26:44.503Z"
   },
   {
    "duration": 74,
    "start_time": "2022-06-27T14:26:44.851Z"
   },
   {
    "duration": 3,
    "start_time": "2022-06-27T14:27:50.786Z"
   },
   {
    "duration": 363,
    "start_time": "2022-06-27T14:51:18.512Z"
   },
   {
    "duration": 17,
    "start_time": "2022-06-27T14:54:21.952Z"
   },
   {
    "duration": 10,
    "start_time": "2022-06-27T14:57:49.156Z"
   },
   {
    "duration": 945,
    "start_time": "2022-06-27T14:58:38.737Z"
   },
   {
    "duration": 11,
    "start_time": "2022-06-27T14:58:56.330Z"
   },
   {
    "duration": 982,
    "start_time": "2022-06-27T14:59:27.341Z"
   },
   {
    "duration": 1111,
    "start_time": "2022-06-27T15:00:46.757Z"
   },
   {
    "duration": 834,
    "start_time": "2022-06-27T15:01:08.507Z"
   },
   {
    "duration": 6,
    "start_time": "2022-06-27T15:01:09.343Z"
   },
   {
    "duration": 34,
    "start_time": "2022-06-27T15:01:09.350Z"
   },
   {
    "duration": 2183,
    "start_time": "2022-06-27T15:01:09.387Z"
   },
   {
    "duration": 11,
    "start_time": "2022-06-27T15:01:11.572Z"
   },
   {
    "duration": 173,
    "start_time": "2022-06-27T15:01:11.585Z"
   },
   {
    "duration": 7,
    "start_time": "2022-06-27T15:01:11.760Z"
   },
   {
    "duration": 16,
    "start_time": "2022-06-27T15:01:11.769Z"
   },
   {
    "duration": 8,
    "start_time": "2022-06-27T15:01:11.786Z"
   },
   {
    "duration": 5527,
    "start_time": "2022-06-27T15:01:11.796Z"
   },
   {
    "duration": 12,
    "start_time": "2022-06-27T15:01:17.325Z"
   },
   {
    "duration": 11,
    "start_time": "2022-06-27T15:01:17.339Z"
   },
   {
    "duration": 379,
    "start_time": "2022-06-27T15:01:17.352Z"
   },
   {
    "duration": 183,
    "start_time": "2022-06-27T15:01:17.733Z"
   },
   {
    "duration": 188,
    "start_time": "2022-06-27T15:01:17.918Z"
   },
   {
    "duration": 461,
    "start_time": "2022-06-27T15:01:18.108Z"
   },
   {
    "duration": 214,
    "start_time": "2022-06-27T15:01:18.570Z"
   },
   {
    "duration": 209,
    "start_time": "2022-06-27T15:01:18.786Z"
   },
   {
    "duration": 237,
    "start_time": "2022-06-27T15:01:18.998Z"
   },
   {
    "duration": 141,
    "start_time": "2022-06-27T15:01:19.237Z"
   },
   {
    "duration": 209,
    "start_time": "2022-06-27T15:01:19.379Z"
   },
   {
    "duration": 172,
    "start_time": "2022-06-27T15:01:19.590Z"
   },
   {
    "duration": 132,
    "start_time": "2022-06-27T15:01:19.767Z"
   },
   {
    "duration": 161,
    "start_time": "2022-06-27T15:01:19.901Z"
   },
   {
    "duration": 519,
    "start_time": "2022-06-27T15:01:20.068Z"
   },
   {
    "duration": 360,
    "start_time": "2022-06-27T15:01:20.589Z"
   },
   {
    "duration": 23,
    "start_time": "2022-06-27T15:01:20.951Z"
   },
   {
    "duration": 962,
    "start_time": "2022-06-27T15:01:20.977Z"
   },
   {
    "duration": 0,
    "start_time": "2022-06-27T15:01:21.941Z"
   },
   {
    "duration": 780,
    "start_time": "2022-06-27T15:05:35.988Z"
   },
   {
    "duration": 18,
    "start_time": "2022-06-27T15:05:55.741Z"
   },
   {
    "duration": 9,
    "start_time": "2022-06-27T15:07:19.191Z"
   },
   {
    "duration": 11,
    "start_time": "2022-06-27T15:07:35.500Z"
   },
   {
    "duration": 172,
    "start_time": "2022-06-27T15:08:16.263Z"
   },
   {
    "duration": 10,
    "start_time": "2022-06-27T15:08:35.771Z"
   },
   {
    "duration": 10,
    "start_time": "2022-06-27T15:08:47.187Z"
   },
   {
    "duration": 8,
    "start_time": "2022-06-27T15:08:57.758Z"
   },
   {
    "duration": 9,
    "start_time": "2022-06-27T15:09:07.207Z"
   },
   {
    "duration": 763,
    "start_time": "2022-06-27T15:09:13.824Z"
   },
   {
    "duration": 5,
    "start_time": "2022-06-27T15:09:14.590Z"
   },
   {
    "duration": 23,
    "start_time": "2022-06-27T15:09:14.597Z"
   },
   {
    "duration": 2219,
    "start_time": "2022-06-27T15:09:14.623Z"
   },
   {
    "duration": 9,
    "start_time": "2022-06-27T15:09:16.844Z"
   },
   {
    "duration": 171,
    "start_time": "2022-06-27T15:09:16.855Z"
   },
   {
    "duration": 4,
    "start_time": "2022-06-27T15:09:17.028Z"
   },
   {
    "duration": 10,
    "start_time": "2022-06-27T15:09:17.034Z"
   },
   {
    "duration": 6,
    "start_time": "2022-06-27T15:09:17.046Z"
   },
   {
    "duration": 5501,
    "start_time": "2022-06-27T15:09:17.069Z"
   },
   {
    "duration": 13,
    "start_time": "2022-06-27T15:09:22.572Z"
   },
   {
    "duration": 12,
    "start_time": "2022-06-27T15:09:22.587Z"
   },
   {
    "duration": 386,
    "start_time": "2022-06-27T15:09:22.601Z"
   },
   {
    "duration": 186,
    "start_time": "2022-06-27T15:09:22.989Z"
   },
   {
    "duration": 197,
    "start_time": "2022-06-27T15:09:23.177Z"
   },
   {
    "duration": 466,
    "start_time": "2022-06-27T15:09:23.376Z"
   },
   {
    "duration": 216,
    "start_time": "2022-06-27T15:09:23.844Z"
   },
   {
    "duration": 188,
    "start_time": "2022-06-27T15:09:24.066Z"
   },
   {
    "duration": 202,
    "start_time": "2022-06-27T15:09:24.256Z"
   },
   {
    "duration": 131,
    "start_time": "2022-06-27T15:09:24.460Z"
   },
   {
    "duration": 224,
    "start_time": "2022-06-27T15:09:24.593Z"
   },
   {
    "duration": 170,
    "start_time": "2022-06-27T15:09:24.819Z"
   },
   {
    "duration": 141,
    "start_time": "2022-06-27T15:09:24.990Z"
   },
   {
    "duration": 154,
    "start_time": "2022-06-27T15:09:25.133Z"
   },
   {
    "duration": 546,
    "start_time": "2022-06-27T15:09:25.289Z"
   },
   {
    "duration": 369,
    "start_time": "2022-06-27T15:09:25.837Z"
   },
   {
    "duration": 15,
    "start_time": "2022-06-27T15:09:26.208Z"
   },
   {
    "duration": 174,
    "start_time": "2022-06-27T15:09:26.226Z"
   },
   {
    "duration": 3,
    "start_time": "2022-06-27T15:09:26.402Z"
   },
   {
    "duration": 82,
    "start_time": "2022-06-27T15:10:05.760Z"
   },
   {
    "duration": 752,
    "start_time": "2022-06-27T15:10:12.520Z"
   },
   {
    "duration": 5,
    "start_time": "2022-06-27T15:10:13.274Z"
   },
   {
    "duration": 21,
    "start_time": "2022-06-27T15:10:13.281Z"
   },
   {
    "duration": 2294,
    "start_time": "2022-06-27T15:10:13.304Z"
   },
   {
    "duration": 12,
    "start_time": "2022-06-27T15:10:15.601Z"
   },
   {
    "duration": 166,
    "start_time": "2022-06-27T15:10:15.615Z"
   },
   {
    "duration": 5,
    "start_time": "2022-06-27T15:10:15.783Z"
   },
   {
    "duration": 11,
    "start_time": "2022-06-27T15:10:15.790Z"
   },
   {
    "duration": 6,
    "start_time": "2022-06-27T15:10:15.803Z"
   },
   {
    "duration": 5500,
    "start_time": "2022-06-27T15:10:15.813Z"
   },
   {
    "duration": 11,
    "start_time": "2022-06-27T15:10:21.315Z"
   },
   {
    "duration": 10,
    "start_time": "2022-06-27T15:10:21.327Z"
   },
   {
    "duration": 394,
    "start_time": "2022-06-27T15:10:21.339Z"
   },
   {
    "duration": 207,
    "start_time": "2022-06-27T15:10:21.735Z"
   },
   {
    "duration": 205,
    "start_time": "2022-06-27T15:10:21.944Z"
   },
   {
    "duration": 456,
    "start_time": "2022-06-27T15:10:22.151Z"
   },
   {
    "duration": 216,
    "start_time": "2022-06-27T15:10:22.609Z"
   },
   {
    "duration": 192,
    "start_time": "2022-06-27T15:10:22.828Z"
   },
   {
    "duration": 192,
    "start_time": "2022-06-27T15:10:23.022Z"
   },
   {
    "duration": 135,
    "start_time": "2022-06-27T15:10:23.216Z"
   },
   {
    "duration": 202,
    "start_time": "2022-06-27T15:10:23.352Z"
   },
   {
    "duration": 175,
    "start_time": "2022-06-27T15:10:23.556Z"
   },
   {
    "duration": 138,
    "start_time": "2022-06-27T15:10:23.733Z"
   },
   {
    "duration": 153,
    "start_time": "2022-06-27T15:10:23.873Z"
   },
   {
    "duration": 520,
    "start_time": "2022-06-27T15:10:24.028Z"
   },
   {
    "duration": 399,
    "start_time": "2022-06-27T15:10:24.550Z"
   },
   {
    "duration": 26,
    "start_time": "2022-06-27T15:10:24.951Z"
   },
   {
    "duration": 191,
    "start_time": "2022-06-27T15:10:24.980Z"
   },
   {
    "duration": 3,
    "start_time": "2022-06-27T15:10:25.173Z"
   },
   {
    "duration": 54,
    "start_time": "2022-06-27T15:11:40.487Z"
   },
   {
    "duration": 803,
    "start_time": "2022-06-27T15:11:46.285Z"
   },
   {
    "duration": 5,
    "start_time": "2022-06-27T15:11:47.090Z"
   },
   {
    "duration": 18,
    "start_time": "2022-06-27T15:11:47.097Z"
   },
   {
    "duration": 2405,
    "start_time": "2022-06-27T15:11:47.117Z"
   },
   {
    "duration": 9,
    "start_time": "2022-06-27T15:11:49.524Z"
   },
   {
    "duration": 162,
    "start_time": "2022-06-27T15:11:49.535Z"
   },
   {
    "duration": 5,
    "start_time": "2022-06-27T15:11:49.699Z"
   },
   {
    "duration": 11,
    "start_time": "2022-06-27T15:11:49.706Z"
   },
   {
    "duration": 7,
    "start_time": "2022-06-27T15:11:49.719Z"
   },
   {
    "duration": 5479,
    "start_time": "2022-06-27T15:11:49.729Z"
   },
   {
    "duration": 11,
    "start_time": "2022-06-27T15:11:55.210Z"
   },
   {
    "duration": 27,
    "start_time": "2022-06-27T15:11:55.223Z"
   },
   {
    "duration": 395,
    "start_time": "2022-06-27T15:11:55.253Z"
   },
   {
    "duration": 225,
    "start_time": "2022-06-27T15:11:55.650Z"
   },
   {
    "duration": 202,
    "start_time": "2022-06-27T15:11:55.877Z"
   },
   {
    "duration": 472,
    "start_time": "2022-06-27T15:11:56.081Z"
   },
   {
    "duration": 225,
    "start_time": "2022-06-27T15:11:56.555Z"
   },
   {
    "duration": 189,
    "start_time": "2022-06-27T15:11:56.782Z"
   },
   {
    "duration": 197,
    "start_time": "2022-06-27T15:11:56.973Z"
   },
   {
    "duration": 137,
    "start_time": "2022-06-27T15:11:57.172Z"
   },
   {
    "duration": 199,
    "start_time": "2022-06-27T15:11:57.311Z"
   },
   {
    "duration": 181,
    "start_time": "2022-06-27T15:11:57.512Z"
   },
   {
    "duration": 147,
    "start_time": "2022-06-27T15:11:57.695Z"
   },
   {
    "duration": 169,
    "start_time": "2022-06-27T15:11:57.843Z"
   },
   {
    "duration": 567,
    "start_time": "2022-06-27T15:11:58.013Z"
   },
   {
    "duration": 461,
    "start_time": "2022-06-27T15:11:58.582Z"
   },
   {
    "duration": 35,
    "start_time": "2022-06-27T15:11:59.045Z"
   },
   {
    "duration": 213,
    "start_time": "2022-06-27T15:11:59.084Z"
   },
   {
    "duration": 4,
    "start_time": "2022-06-27T15:11:59.300Z"
   },
   {
    "duration": 77,
    "start_time": "2022-06-27T15:15:14.097Z"
   },
   {
    "duration": 838,
    "start_time": "2022-06-27T15:15:29.668Z"
   },
   {
    "duration": 5,
    "start_time": "2022-06-27T15:15:30.508Z"
   },
   {
    "duration": 37,
    "start_time": "2022-06-27T15:15:30.515Z"
   },
   {
    "duration": 2239,
    "start_time": "2022-06-27T15:15:30.555Z"
   },
   {
    "duration": 9,
    "start_time": "2022-06-27T15:15:32.796Z"
   },
   {
    "duration": 181,
    "start_time": "2022-06-27T15:15:32.807Z"
   },
   {
    "duration": 5,
    "start_time": "2022-06-27T15:15:32.990Z"
   },
   {
    "duration": 12,
    "start_time": "2022-06-27T15:15:32.997Z"
   },
   {
    "duration": 6,
    "start_time": "2022-06-27T15:15:33.011Z"
   },
   {
    "duration": 5667,
    "start_time": "2022-06-27T15:15:33.020Z"
   },
   {
    "duration": 12,
    "start_time": "2022-06-27T15:15:38.689Z"
   },
   {
    "duration": 12,
    "start_time": "2022-06-27T15:15:38.702Z"
   },
   {
    "duration": 451,
    "start_time": "2022-06-27T15:15:38.716Z"
   },
   {
    "duration": 184,
    "start_time": "2022-06-27T15:15:39.169Z"
   },
   {
    "duration": 192,
    "start_time": "2022-06-27T15:15:39.355Z"
   },
   {
    "duration": 463,
    "start_time": "2022-06-27T15:15:39.549Z"
   },
   {
    "duration": 219,
    "start_time": "2022-06-27T15:15:40.014Z"
   },
   {
    "duration": 196,
    "start_time": "2022-06-27T15:15:40.235Z"
   },
   {
    "duration": 213,
    "start_time": "2022-06-27T15:15:40.434Z"
   },
   {
    "duration": 149,
    "start_time": "2022-06-27T15:15:40.649Z"
   },
   {
    "duration": 199,
    "start_time": "2022-06-27T15:15:40.800Z"
   },
   {
    "duration": 176,
    "start_time": "2022-06-27T15:15:41.001Z"
   },
   {
    "duration": 145,
    "start_time": "2022-06-27T15:15:41.179Z"
   },
   {
    "duration": 177,
    "start_time": "2022-06-27T15:15:41.326Z"
   },
   {
    "duration": 535,
    "start_time": "2022-06-27T15:15:41.505Z"
   },
   {
    "duration": 367,
    "start_time": "2022-06-27T15:15:42.041Z"
   },
   {
    "duration": 15,
    "start_time": "2022-06-27T15:15:42.410Z"
   },
   {
    "duration": 196,
    "start_time": "2022-06-27T15:15:42.428Z"
   },
   {
    "duration": 3,
    "start_time": "2022-06-27T15:15:42.626Z"
   },
   {
    "duration": 78,
    "start_time": "2022-06-27T15:16:41.156Z"
   },
   {
    "duration": 701,
    "start_time": "2022-06-27T15:17:43.221Z"
   },
   {
    "duration": 5,
    "start_time": "2022-06-27T15:17:43.925Z"
   },
   {
    "duration": 25,
    "start_time": "2022-06-27T15:17:43.931Z"
   },
   {
    "duration": 2178,
    "start_time": "2022-06-27T15:17:43.968Z"
   },
   {
    "duration": 9,
    "start_time": "2022-06-27T15:17:46.147Z"
   },
   {
    "duration": 158,
    "start_time": "2022-06-27T15:17:46.158Z"
   },
   {
    "duration": 4,
    "start_time": "2022-06-27T15:17:46.318Z"
   },
   {
    "duration": 13,
    "start_time": "2022-06-27T15:17:46.324Z"
   },
   {
    "duration": 6,
    "start_time": "2022-06-27T15:17:46.339Z"
   },
   {
    "duration": 5499,
    "start_time": "2022-06-27T15:17:46.348Z"
   },
   {
    "duration": 18,
    "start_time": "2022-06-27T15:17:51.849Z"
   },
   {
    "duration": 10,
    "start_time": "2022-06-27T15:17:51.869Z"
   },
   {
    "duration": 368,
    "start_time": "2022-06-27T15:17:51.881Z"
   },
   {
    "duration": 182,
    "start_time": "2022-06-27T15:17:52.251Z"
   },
   {
    "duration": 186,
    "start_time": "2022-06-27T15:17:52.435Z"
   },
   {
    "duration": 447,
    "start_time": "2022-06-27T15:17:52.623Z"
   },
   {
    "duration": 207,
    "start_time": "2022-06-27T15:17:53.072Z"
   },
   {
    "duration": 184,
    "start_time": "2022-06-27T15:17:53.281Z"
   },
   {
    "duration": 192,
    "start_time": "2022-06-27T15:17:53.467Z"
   },
   {
    "duration": 135,
    "start_time": "2022-06-27T15:17:53.661Z"
   },
   {
    "duration": 207,
    "start_time": "2022-06-27T15:17:53.798Z"
   },
   {
    "duration": 162,
    "start_time": "2022-06-27T15:17:54.007Z"
   },
   {
    "duration": 140,
    "start_time": "2022-06-27T15:17:54.171Z"
   },
   {
    "duration": 158,
    "start_time": "2022-06-27T15:17:54.313Z"
   },
   {
    "duration": 540,
    "start_time": "2022-06-27T15:17:54.473Z"
   },
   {
    "duration": 365,
    "start_time": "2022-06-27T15:17:55.015Z"
   },
   {
    "duration": 15,
    "start_time": "2022-06-27T15:17:55.382Z"
   },
   {
    "duration": 186,
    "start_time": "2022-06-27T15:17:55.400Z"
   },
   {
    "duration": 4,
    "start_time": "2022-06-27T15:17:55.588Z"
   },
   {
    "duration": 80,
    "start_time": "2022-06-27T15:18:29.718Z"
   },
   {
    "duration": 739,
    "start_time": "2022-06-27T15:18:36.022Z"
   },
   {
    "duration": 6,
    "start_time": "2022-06-27T15:18:36.763Z"
   },
   {
    "duration": 21,
    "start_time": "2022-06-27T15:18:36.770Z"
   },
   {
    "duration": 2349,
    "start_time": "2022-06-27T15:18:36.793Z"
   },
   {
    "duration": 8,
    "start_time": "2022-06-27T15:18:39.144Z"
   },
   {
    "duration": 160,
    "start_time": "2022-06-27T15:18:39.154Z"
   },
   {
    "duration": 5,
    "start_time": "2022-06-27T15:18:39.316Z"
   },
   {
    "duration": 13,
    "start_time": "2022-06-27T15:18:39.322Z"
   },
   {
    "duration": 5,
    "start_time": "2022-06-27T15:18:39.337Z"
   },
   {
    "duration": 5416,
    "start_time": "2022-06-27T15:18:39.345Z"
   },
   {
    "duration": 14,
    "start_time": "2022-06-27T15:18:44.763Z"
   },
   {
    "duration": 21,
    "start_time": "2022-06-27T15:18:44.779Z"
   },
   {
    "duration": 365,
    "start_time": "2022-06-27T15:18:44.802Z"
   },
   {
    "duration": 177,
    "start_time": "2022-06-27T15:18:45.169Z"
   },
   {
    "duration": 185,
    "start_time": "2022-06-27T15:18:45.347Z"
   },
   {
    "duration": 438,
    "start_time": "2022-06-27T15:18:45.534Z"
   },
   {
    "duration": 210,
    "start_time": "2022-06-27T15:18:45.974Z"
   },
   {
    "duration": 192,
    "start_time": "2022-06-27T15:18:46.186Z"
   },
   {
    "duration": 196,
    "start_time": "2022-06-27T15:18:46.381Z"
   },
   {
    "duration": 137,
    "start_time": "2022-06-27T15:18:46.579Z"
   },
   {
    "duration": 203,
    "start_time": "2022-06-27T15:18:46.718Z"
   },
   {
    "duration": 168,
    "start_time": "2022-06-27T15:18:46.923Z"
   },
   {
    "duration": 139,
    "start_time": "2022-06-27T15:18:47.092Z"
   },
   {
    "duration": 164,
    "start_time": "2022-06-27T15:18:47.233Z"
   },
   {
    "duration": 562,
    "start_time": "2022-06-27T15:18:47.399Z"
   },
   {
    "duration": 375,
    "start_time": "2022-06-27T15:18:47.967Z"
   },
   {
    "duration": 25,
    "start_time": "2022-06-27T15:18:48.344Z"
   },
   {
    "duration": 210,
    "start_time": "2022-06-27T15:18:48.373Z"
   },
   {
    "duration": 4,
    "start_time": "2022-06-27T15:18:48.585Z"
   },
   {
    "duration": 78,
    "start_time": "2022-06-27T15:20:00.507Z"
   },
   {
    "duration": 749,
    "start_time": "2022-06-27T15:21:09.994Z"
   },
   {
    "duration": 5,
    "start_time": "2022-06-27T15:21:10.745Z"
   },
   {
    "duration": 25,
    "start_time": "2022-06-27T15:21:10.752Z"
   },
   {
    "duration": 2166,
    "start_time": "2022-06-27T15:21:10.780Z"
   },
   {
    "duration": 9,
    "start_time": "2022-06-27T15:21:12.947Z"
   },
   {
    "duration": 165,
    "start_time": "2022-06-27T15:21:12.958Z"
   },
   {
    "duration": 4,
    "start_time": "2022-06-27T15:21:13.125Z"
   },
   {
    "duration": 10,
    "start_time": "2022-06-27T15:21:13.130Z"
   },
   {
    "duration": 5,
    "start_time": "2022-06-27T15:21:13.142Z"
   },
   {
    "duration": 5428,
    "start_time": "2022-06-27T15:21:13.150Z"
   },
   {
    "duration": 15,
    "start_time": "2022-06-27T15:21:18.580Z"
   },
   {
    "duration": 48,
    "start_time": "2022-06-27T15:21:18.597Z"
   },
   {
    "duration": 453,
    "start_time": "2022-06-27T15:21:18.647Z"
   },
   {
    "duration": 221,
    "start_time": "2022-06-27T15:21:19.102Z"
   },
   {
    "duration": 184,
    "start_time": "2022-06-27T15:21:19.325Z"
   },
   {
    "duration": 445,
    "start_time": "2022-06-27T15:21:19.510Z"
   },
   {
    "duration": 237,
    "start_time": "2022-06-27T15:21:19.957Z"
   },
   {
    "duration": 190,
    "start_time": "2022-06-27T15:21:20.196Z"
   },
   {
    "duration": 206,
    "start_time": "2022-06-27T15:21:20.388Z"
   },
   {
    "duration": 139,
    "start_time": "2022-06-27T15:21:20.597Z"
   },
   {
    "duration": 199,
    "start_time": "2022-06-27T15:21:20.739Z"
   },
   {
    "duration": 170,
    "start_time": "2022-06-27T15:21:20.941Z"
   },
   {
    "duration": 154,
    "start_time": "2022-06-27T15:21:21.113Z"
   },
   {
    "duration": 180,
    "start_time": "2022-06-27T15:21:21.270Z"
   },
   {
    "duration": 555,
    "start_time": "2022-06-27T15:21:21.451Z"
   },
   {
    "duration": 381,
    "start_time": "2022-06-27T15:21:22.008Z"
   },
   {
    "duration": 15,
    "start_time": "2022-06-27T15:21:22.391Z"
   },
   {
    "duration": 107,
    "start_time": "2022-06-27T15:21:22.409Z"
   },
   {
    "duration": 0,
    "start_time": "2022-06-27T15:21:22.518Z"
   },
   {
    "duration": 25,
    "start_time": "2022-06-27T15:22:12.806Z"
   },
   {
    "duration": 231,
    "start_time": "2022-06-27T15:24:26.411Z"
   },
   {
    "duration": 270,
    "start_time": "2022-06-27T15:25:30.116Z"
   },
   {
    "duration": 222,
    "start_time": "2022-06-27T15:28:52.700Z"
   },
   {
    "duration": 235,
    "start_time": "2022-06-27T15:29:08.781Z"
   },
   {
    "duration": 435,
    "start_time": "2022-06-27T15:29:57.340Z"
   },
   {
    "duration": 231,
    "start_time": "2022-06-27T15:34:42.345Z"
   },
   {
    "duration": 223,
    "start_time": "2022-06-27T15:34:45.375Z"
   },
   {
    "duration": 218,
    "start_time": "2022-06-27T15:34:52.734Z"
   },
   {
    "duration": 201,
    "start_time": "2022-06-27T15:35:30.878Z"
   },
   {
    "duration": 239,
    "start_time": "2022-06-27T15:35:44.392Z"
   },
   {
    "duration": 775,
    "start_time": "2022-06-27T15:35:52.640Z"
   },
   {
    "duration": 246,
    "start_time": "2022-06-27T15:37:24.310Z"
   },
   {
    "duration": 8,
    "start_time": "2022-06-27T15:41:56.879Z"
   },
   {
    "duration": 246,
    "start_time": "2022-06-27T15:42:09.709Z"
   },
   {
    "duration": 150,
    "start_time": "2022-06-27T15:42:16.668Z"
   },
   {
    "duration": 255,
    "start_time": "2022-06-27T15:42:23.394Z"
   },
   {
    "duration": 215,
    "start_time": "2022-06-27T15:43:08.584Z"
   },
   {
    "duration": 220,
    "start_time": "2022-06-27T15:43:40.528Z"
   },
   {
    "duration": 218,
    "start_time": "2022-06-27T15:44:27.544Z"
   },
   {
    "duration": 234,
    "start_time": "2022-06-27T15:44:50.735Z"
   },
   {
    "duration": 239,
    "start_time": "2022-06-27T15:45:08.681Z"
   },
   {
    "duration": 251,
    "start_time": "2022-06-27T15:45:36.861Z"
   },
   {
    "duration": 358,
    "start_time": "2022-06-27T15:48:31.246Z"
   },
   {
    "duration": 10,
    "start_time": "2022-06-27T16:04:35.067Z"
   },
   {
    "duration": 8,
    "start_time": "2022-06-27T16:05:01.987Z"
   },
   {
    "duration": 10,
    "start_time": "2022-06-27T16:06:47.255Z"
   },
   {
    "duration": 9,
    "start_time": "2022-06-27T16:07:23.330Z"
   },
   {
    "duration": 8,
    "start_time": "2022-06-27T16:07:34.268Z"
   },
   {
    "duration": 763,
    "start_time": "2022-06-27T16:07:39.438Z"
   },
   {
    "duration": 5,
    "start_time": "2022-06-27T16:07:40.203Z"
   },
   {
    "duration": 19,
    "start_time": "2022-06-27T16:07:40.209Z"
   },
   {
    "duration": 2124,
    "start_time": "2022-06-27T16:07:40.230Z"
   },
   {
    "duration": 8,
    "start_time": "2022-06-27T16:07:42.355Z"
   },
   {
    "duration": 166,
    "start_time": "2022-06-27T16:07:42.365Z"
   },
   {
    "duration": 5,
    "start_time": "2022-06-27T16:07:42.533Z"
   },
   {
    "duration": 37,
    "start_time": "2022-06-27T16:07:42.539Z"
   },
   {
    "duration": 18,
    "start_time": "2022-06-27T16:07:42.578Z"
   },
   {
    "duration": 5165,
    "start_time": "2022-06-27T16:07:42.598Z"
   },
   {
    "duration": 11,
    "start_time": "2022-06-27T16:07:47.765Z"
   },
   {
    "duration": 14,
    "start_time": "2022-06-27T16:07:47.778Z"
   },
   {
    "duration": 352,
    "start_time": "2022-06-27T16:07:47.794Z"
   },
   {
    "duration": 183,
    "start_time": "2022-06-27T16:07:48.147Z"
   },
   {
    "duration": 192,
    "start_time": "2022-06-27T16:07:48.332Z"
   },
   {
    "duration": 477,
    "start_time": "2022-06-27T16:07:48.526Z"
   },
   {
    "duration": 236,
    "start_time": "2022-06-27T16:07:49.005Z"
   },
   {
    "duration": 192,
    "start_time": "2022-06-27T16:07:49.243Z"
   },
   {
    "duration": 193,
    "start_time": "2022-06-27T16:07:49.437Z"
   },
   {
    "duration": 127,
    "start_time": "2022-06-27T16:07:49.631Z"
   },
   {
    "duration": 210,
    "start_time": "2022-06-27T16:07:49.760Z"
   },
   {
    "duration": 166,
    "start_time": "2022-06-27T16:07:49.972Z"
   },
   {
    "duration": 136,
    "start_time": "2022-06-27T16:07:50.139Z"
   },
   {
    "duration": 150,
    "start_time": "2022-06-27T16:07:50.277Z"
   },
   {
    "duration": 513,
    "start_time": "2022-06-27T16:07:50.430Z"
   },
   {
    "duration": 361,
    "start_time": "2022-06-27T16:07:50.945Z"
   },
   {
    "duration": 14,
    "start_time": "2022-06-27T16:07:51.308Z"
   },
   {
    "duration": 225,
    "start_time": "2022-06-27T16:07:51.326Z"
   },
   {
    "duration": 232,
    "start_time": "2022-06-27T16:07:51.553Z"
   },
   {
    "duration": 222,
    "start_time": "2022-06-27T16:07:51.787Z"
   },
   {
    "duration": 83,
    "start_time": "2022-06-27T16:07:52.010Z"
   },
   {
    "duration": 0,
    "start_time": "2022-06-27T16:07:52.094Z"
   },
   {
    "duration": 0,
    "start_time": "2022-06-27T16:07:52.096Z"
   },
   {
    "duration": 0,
    "start_time": "2022-06-27T16:07:52.097Z"
   },
   {
    "duration": 21,
    "start_time": "2022-06-27T16:12:41.177Z"
   },
   {
    "duration": 176,
    "start_time": "2022-06-27T16:12:58.420Z"
   },
   {
    "duration": 157,
    "start_time": "2022-06-27T16:14:15.238Z"
   },
   {
    "duration": 141,
    "start_time": "2022-06-27T16:14:34.132Z"
   },
   {
    "duration": 145,
    "start_time": "2022-06-27T16:15:05.593Z"
   },
   {
    "duration": 160,
    "start_time": "2022-06-27T16:15:23.034Z"
   },
   {
    "duration": 227,
    "start_time": "2022-06-27T16:16:08.354Z"
   },
   {
    "duration": 216,
    "start_time": "2022-06-27T16:16:14.535Z"
   },
   {
    "duration": 154,
    "start_time": "2022-06-27T16:16:49.873Z"
   },
   {
    "duration": 205,
    "start_time": "2022-06-27T16:16:58.765Z"
   },
   {
    "duration": 145,
    "start_time": "2022-06-27T16:17:41.313Z"
   },
   {
    "duration": 630,
    "start_time": "2022-06-27T16:18:52.341Z"
   },
   {
    "duration": 432,
    "start_time": "2022-06-27T16:19:05.859Z"
   },
   {
    "duration": 756,
    "start_time": "2022-06-27T16:19:39.663Z"
   },
   {
    "duration": 7,
    "start_time": "2022-06-27T16:19:40.421Z"
   },
   {
    "duration": 22,
    "start_time": "2022-06-27T16:19:40.429Z"
   },
   {
    "duration": 2033,
    "start_time": "2022-06-27T16:19:40.453Z"
   },
   {
    "duration": 9,
    "start_time": "2022-06-27T16:19:42.489Z"
   },
   {
    "duration": 147,
    "start_time": "2022-06-27T16:19:42.500Z"
   },
   {
    "duration": 5,
    "start_time": "2022-06-27T16:19:42.649Z"
   },
   {
    "duration": 13,
    "start_time": "2022-06-27T16:19:42.655Z"
   },
   {
    "duration": 7,
    "start_time": "2022-06-27T16:19:42.670Z"
   },
   {
    "duration": 5059,
    "start_time": "2022-06-27T16:19:42.678Z"
   },
   {
    "duration": 13,
    "start_time": "2022-06-27T16:19:47.739Z"
   },
   {
    "duration": 24,
    "start_time": "2022-06-27T16:19:47.754Z"
   },
   {
    "duration": 362,
    "start_time": "2022-06-27T16:19:47.781Z"
   },
   {
    "duration": 188,
    "start_time": "2022-06-27T16:19:48.146Z"
   },
   {
    "duration": 208,
    "start_time": "2022-06-27T16:19:48.335Z"
   },
   {
    "duration": 463,
    "start_time": "2022-06-27T16:19:48.545Z"
   },
   {
    "duration": 289,
    "start_time": "2022-06-27T16:19:49.011Z"
   },
   {
    "duration": 207,
    "start_time": "2022-06-27T16:19:49.303Z"
   },
   {
    "duration": 187,
    "start_time": "2022-06-27T16:19:49.512Z"
   },
   {
    "duration": 132,
    "start_time": "2022-06-27T16:19:49.701Z"
   },
   {
    "duration": 199,
    "start_time": "2022-06-27T16:19:49.835Z"
   },
   {
    "duration": 175,
    "start_time": "2022-06-27T16:19:50.037Z"
   },
   {
    "duration": 132,
    "start_time": "2022-06-27T16:19:50.214Z"
   },
   {
    "duration": 161,
    "start_time": "2022-06-27T16:19:50.348Z"
   },
   {
    "duration": 518,
    "start_time": "2022-06-27T16:19:50.512Z"
   },
   {
    "duration": 365,
    "start_time": "2022-06-27T16:19:51.032Z"
   },
   {
    "duration": 15,
    "start_time": "2022-06-27T16:19:51.398Z"
   },
   {
    "duration": 220,
    "start_time": "2022-06-27T16:19:51.415Z"
   },
   {
    "duration": 230,
    "start_time": "2022-06-27T16:19:51.637Z"
   },
   {
    "duration": 215,
    "start_time": "2022-06-27T16:19:51.869Z"
   },
   {
    "duration": 155,
    "start_time": "2022-06-27T16:19:52.086Z"
   },
   {
    "duration": 496,
    "start_time": "2022-06-27T16:19:52.243Z"
   },
   {
    "duration": 0,
    "start_time": "2022-06-27T16:19:52.741Z"
   },
   {
    "duration": 0,
    "start_time": "2022-06-27T16:19:52.742Z"
   },
   {
    "duration": 369,
    "start_time": "2022-06-27T16:21:30.556Z"
   },
   {
    "duration": 139,
    "start_time": "2022-06-27T16:21:47.260Z"
   },
   {
    "duration": 449,
    "start_time": "2022-06-27T16:28:28.374Z"
   },
   {
    "duration": 576,
    "start_time": "2022-06-27T16:30:23.473Z"
   },
   {
    "duration": 147,
    "start_time": "2022-06-27T16:31:41.580Z"
   },
   {
    "duration": 462,
    "start_time": "2022-06-27T16:32:14.279Z"
   },
   {
    "duration": 234,
    "start_time": "2022-06-27T16:32:55.358Z"
   },
   {
    "duration": 236,
    "start_time": "2022-06-27T16:33:07.169Z"
   },
   {
    "duration": 194,
    "start_time": "2022-06-27T16:33:30.523Z"
   },
   {
    "duration": 4,
    "start_time": "2022-06-27T16:55:22.428Z"
   },
   {
    "duration": 7,
    "start_time": "2022-06-27T16:55:41.723Z"
   },
   {
    "duration": 7,
    "start_time": "2022-06-27T16:55:46.942Z"
   },
   {
    "duration": 7,
    "start_time": "2022-06-27T16:55:56.186Z"
   },
   {
    "duration": 22,
    "start_time": "2022-06-27T16:58:13.749Z"
   },
   {
    "duration": 21,
    "start_time": "2022-06-27T16:58:31.594Z"
   },
   {
    "duration": 50,
    "start_time": "2022-06-27T16:59:16.722Z"
   },
   {
    "duration": 15,
    "start_time": "2022-06-27T16:59:24.935Z"
   },
   {
    "duration": 9,
    "start_time": "2022-06-27T17:00:21.745Z"
   },
   {
    "duration": 9,
    "start_time": "2022-06-27T17:00:43.134Z"
   },
   {
    "duration": 15,
    "start_time": "2022-06-27T17:01:48.870Z"
   },
   {
    "duration": 11,
    "start_time": "2022-06-27T17:01:53.858Z"
   },
   {
    "duration": 15,
    "start_time": "2022-06-27T17:02:05.991Z"
   },
   {
    "duration": 12,
    "start_time": "2022-06-27T17:02:18.640Z"
   },
   {
    "duration": 15,
    "start_time": "2022-06-27T17:02:35.752Z"
   },
   {
    "duration": 16,
    "start_time": "2022-06-27T17:03:27.296Z"
   },
   {
    "duration": 62,
    "start_time": "2022-06-27T17:13:45.634Z"
   },
   {
    "duration": 49,
    "start_time": "2022-06-27T17:13:59.598Z"
   },
   {
    "duration": 59,
    "start_time": "2022-06-27T17:14:26.156Z"
   },
   {
    "duration": 64,
    "start_time": "2022-06-27T17:14:51.649Z"
   },
   {
    "duration": 46,
    "start_time": "2022-06-27T17:15:16.368Z"
   },
   {
    "duration": 46,
    "start_time": "2022-06-27T17:15:46.744Z"
   },
   {
    "duration": 666,
    "start_time": "2022-06-27T17:15:55.319Z"
   },
   {
    "duration": 4,
    "start_time": "2022-06-27T17:15:55.987Z"
   },
   {
    "duration": 18,
    "start_time": "2022-06-27T17:15:55.993Z"
   },
   {
    "duration": 1871,
    "start_time": "2022-06-27T17:15:56.014Z"
   },
   {
    "duration": 8,
    "start_time": "2022-06-27T17:15:57.887Z"
   },
   {
    "duration": 135,
    "start_time": "2022-06-27T17:15:57.896Z"
   },
   {
    "duration": 4,
    "start_time": "2022-06-27T17:15:58.032Z"
   },
   {
    "duration": 12,
    "start_time": "2022-06-27T17:15:58.037Z"
   },
   {
    "duration": 7,
    "start_time": "2022-06-27T17:15:58.051Z"
   },
   {
    "duration": 4691,
    "start_time": "2022-06-27T17:15:58.061Z"
   },
   {
    "duration": 18,
    "start_time": "2022-06-27T17:16:02.754Z"
   },
   {
    "duration": 10,
    "start_time": "2022-06-27T17:16:02.773Z"
   },
   {
    "duration": 368,
    "start_time": "2022-06-27T17:16:02.784Z"
   },
   {
    "duration": 174,
    "start_time": "2022-06-27T17:16:03.154Z"
   },
   {
    "duration": 183,
    "start_time": "2022-06-27T17:16:03.330Z"
   },
   {
    "duration": 434,
    "start_time": "2022-06-27T17:16:03.516Z"
   },
   {
    "duration": 186,
    "start_time": "2022-06-27T17:16:03.952Z"
   },
   {
    "duration": 162,
    "start_time": "2022-06-27T17:16:04.140Z"
   },
   {
    "duration": 157,
    "start_time": "2022-06-27T17:16:04.304Z"
   },
   {
    "duration": 118,
    "start_time": "2022-06-27T17:16:04.463Z"
   },
   {
    "duration": 177,
    "start_time": "2022-06-27T17:16:04.583Z"
   },
   {
    "duration": 142,
    "start_time": "2022-06-27T17:16:04.762Z"
   },
   {
    "duration": 119,
    "start_time": "2022-06-27T17:16:04.906Z"
   },
   {
    "duration": 141,
    "start_time": "2022-06-27T17:16:05.026Z"
   },
   {
    "duration": 466,
    "start_time": "2022-06-27T17:16:05.169Z"
   },
   {
    "duration": 378,
    "start_time": "2022-06-27T17:16:05.637Z"
   },
   {
    "duration": 16,
    "start_time": "2022-06-27T17:16:06.017Z"
   },
   {
    "duration": 219,
    "start_time": "2022-06-27T17:16:06.036Z"
   },
   {
    "duration": 221,
    "start_time": "2022-06-27T17:16:06.256Z"
   },
   {
    "duration": 199,
    "start_time": "2022-06-27T17:16:06.478Z"
   },
   {
    "duration": 152,
    "start_time": "2022-06-27T17:16:06.678Z"
   },
   {
    "duration": 150,
    "start_time": "2022-06-27T17:16:06.832Z"
   },
   {
    "duration": 435,
    "start_time": "2022-06-27T17:16:06.984Z"
   },
   {
    "duration": 488,
    "start_time": "2022-06-27T17:16:07.420Z"
   },
   {
    "duration": 0,
    "start_time": "2022-06-27T17:16:07.909Z"
   },
   {
    "duration": 377,
    "start_time": "2022-06-27T17:16:46.103Z"
   },
   {
    "duration": 23,
    "start_time": "2022-06-27T17:17:50.781Z"
   },
   {
    "duration": 26,
    "start_time": "2022-06-27T17:18:35.122Z"
   },
   {
    "duration": 19,
    "start_time": "2022-06-27T17:19:41.650Z"
   },
   {
    "duration": 143,
    "start_time": "2022-06-27T17:21:19.977Z"
   },
   {
    "duration": 203,
    "start_time": "2022-06-27T17:21:47.550Z"
   },
   {
    "duration": 209,
    "start_time": "2022-06-27T17:23:08.992Z"
   },
   {
    "duration": 236,
    "start_time": "2022-06-27T17:23:44.834Z"
   },
   {
    "duration": 317,
    "start_time": "2022-06-27T17:25:53.291Z"
   },
   {
    "duration": 145,
    "start_time": "2022-06-27T17:26:58.456Z"
   },
   {
    "duration": 140,
    "start_time": "2022-06-27T17:28:43.084Z"
   },
   {
    "duration": 163,
    "start_time": "2022-06-27T17:29:04.371Z"
   },
   {
    "duration": 145,
    "start_time": "2022-06-27T17:29:48.090Z"
   },
   {
    "duration": 128,
    "start_time": "2022-06-27T17:30:12.773Z"
   },
   {
    "duration": 124,
    "start_time": "2022-06-27T17:31:18.255Z"
   },
   {
    "duration": 449,
    "start_time": "2022-06-27T17:32:36.541Z"
   },
   {
    "duration": 24,
    "start_time": "2022-06-27T17:33:39.201Z"
   },
   {
    "duration": 21,
    "start_time": "2022-06-27T17:33:46.958Z"
   },
   {
    "duration": 23,
    "start_time": "2022-06-27T17:34:00.407Z"
   },
   {
    "duration": 18,
    "start_time": "2022-06-27T17:34:41.837Z"
   },
   {
    "duration": 24,
    "start_time": "2022-06-27T17:35:00.793Z"
   },
   {
    "duration": 23,
    "start_time": "2022-06-27T17:37:28.696Z"
   },
   {
    "duration": 19,
    "start_time": "2022-06-27T17:43:14.277Z"
   },
   {
    "duration": 18,
    "start_time": "2022-06-27T17:44:19.889Z"
   },
   {
    "duration": 23,
    "start_time": "2022-06-27T17:44:42.387Z"
   },
   {
    "duration": 175,
    "start_time": "2022-06-27T17:45:21.850Z"
   },
   {
    "duration": 765,
    "start_time": "2022-06-27T17:47:11.190Z"
   },
   {
    "duration": 6,
    "start_time": "2022-06-27T17:47:11.957Z"
   },
   {
    "duration": 29,
    "start_time": "2022-06-27T17:47:11.964Z"
   },
   {
    "duration": 2022,
    "start_time": "2022-06-27T17:47:11.996Z"
   },
   {
    "duration": 11,
    "start_time": "2022-06-27T17:47:14.020Z"
   },
   {
    "duration": 152,
    "start_time": "2022-06-27T17:47:14.033Z"
   },
   {
    "duration": 6,
    "start_time": "2022-06-27T17:47:14.187Z"
   },
   {
    "duration": 9,
    "start_time": "2022-06-27T17:47:14.195Z"
   },
   {
    "duration": 6,
    "start_time": "2022-06-27T17:47:14.205Z"
   },
   {
    "duration": 5306,
    "start_time": "2022-06-27T17:47:14.214Z"
   },
   {
    "duration": 11,
    "start_time": "2022-06-27T17:47:19.521Z"
   },
   {
    "duration": 11,
    "start_time": "2022-06-27T17:47:19.533Z"
   },
   {
    "duration": 362,
    "start_time": "2022-06-27T17:47:19.546Z"
   },
   {
    "duration": 167,
    "start_time": "2022-06-27T17:47:19.909Z"
   },
   {
    "duration": 157,
    "start_time": "2022-06-27T17:47:20.081Z"
   },
   {
    "duration": 398,
    "start_time": "2022-06-27T17:47:20.239Z"
   },
   {
    "duration": 195,
    "start_time": "2022-06-27T17:47:20.639Z"
   },
   {
    "duration": 172,
    "start_time": "2022-06-27T17:47:20.836Z"
   },
   {
    "duration": 181,
    "start_time": "2022-06-27T17:47:21.010Z"
   },
   {
    "duration": 132,
    "start_time": "2022-06-27T17:47:21.193Z"
   },
   {
    "duration": 177,
    "start_time": "2022-06-27T17:47:21.327Z"
   },
   {
    "duration": 164,
    "start_time": "2022-06-27T17:47:21.506Z"
   },
   {
    "duration": 128,
    "start_time": "2022-06-27T17:47:21.672Z"
   },
   {
    "duration": 147,
    "start_time": "2022-06-27T17:47:21.802Z"
   },
   {
    "duration": 483,
    "start_time": "2022-06-27T17:47:21.951Z"
   },
   {
    "duration": 360,
    "start_time": "2022-06-27T17:47:22.436Z"
   },
   {
    "duration": 32,
    "start_time": "2022-06-27T17:47:22.798Z"
   },
   {
    "duration": 211,
    "start_time": "2022-06-27T17:47:22.834Z"
   },
   {
    "duration": 235,
    "start_time": "2022-06-27T17:47:23.046Z"
   },
   {
    "duration": 213,
    "start_time": "2022-06-27T17:47:23.284Z"
   },
   {
    "duration": 152,
    "start_time": "2022-06-27T17:47:23.499Z"
   },
   {
    "duration": 145,
    "start_time": "2022-06-27T17:47:23.653Z"
   },
   {
    "duration": 489,
    "start_time": "2022-06-27T17:47:23.800Z"
   },
   {
    "duration": 30,
    "start_time": "2022-06-27T17:47:24.290Z"
   },
   {
    "duration": 57,
    "start_time": "2022-06-27T17:48:53.128Z"
   },
   {
    "duration": 801,
    "start_time": "2022-06-27T17:49:02.407Z"
   },
   {
    "duration": 5,
    "start_time": "2022-06-27T17:49:03.210Z"
   },
   {
    "duration": 22,
    "start_time": "2022-06-27T17:49:03.217Z"
   },
   {
    "duration": 2280,
    "start_time": "2022-06-27T17:49:03.242Z"
   },
   {
    "duration": 8,
    "start_time": "2022-06-27T17:49:05.524Z"
   },
   {
    "duration": 175,
    "start_time": "2022-06-27T17:49:05.534Z"
   },
   {
    "duration": 4,
    "start_time": "2022-06-27T17:49:05.711Z"
   },
   {
    "duration": 13,
    "start_time": "2022-06-27T17:49:05.716Z"
   },
   {
    "duration": 5,
    "start_time": "2022-06-27T17:49:05.730Z"
   },
   {
    "duration": 5394,
    "start_time": "2022-06-27T17:49:05.738Z"
   },
   {
    "duration": 12,
    "start_time": "2022-06-27T17:49:11.135Z"
   },
   {
    "duration": 25,
    "start_time": "2022-06-27T17:49:11.149Z"
   },
   {
    "duration": 349,
    "start_time": "2022-06-27T17:49:11.177Z"
   },
   {
    "duration": 166,
    "start_time": "2022-06-27T17:49:11.528Z"
   },
   {
    "duration": 162,
    "start_time": "2022-06-27T17:49:11.696Z"
   },
   {
    "duration": 395,
    "start_time": "2022-06-27T17:49:11.859Z"
   },
   {
    "duration": 195,
    "start_time": "2022-06-27T17:49:12.255Z"
   },
   {
    "duration": 163,
    "start_time": "2022-06-27T17:49:12.451Z"
   },
   {
    "duration": 175,
    "start_time": "2022-06-27T17:49:12.615Z"
   },
   {
    "duration": 120,
    "start_time": "2022-06-27T17:49:12.792Z"
   },
   {
    "duration": 172,
    "start_time": "2022-06-27T17:49:12.914Z"
   },
   {
    "duration": 147,
    "start_time": "2022-06-27T17:49:13.087Z"
   },
   {
    "duration": 123,
    "start_time": "2022-06-27T17:49:13.235Z"
   },
   {
    "duration": 141,
    "start_time": "2022-06-27T17:49:13.360Z"
   },
   {
    "duration": 460,
    "start_time": "2022-06-27T17:49:13.503Z"
   },
   {
    "duration": 330,
    "start_time": "2022-06-27T17:49:13.966Z"
   },
   {
    "duration": 14,
    "start_time": "2022-06-27T17:49:14.298Z"
   },
   {
    "duration": 207,
    "start_time": "2022-06-27T17:49:14.315Z"
   },
   {
    "duration": 228,
    "start_time": "2022-06-27T17:49:14.524Z"
   },
   {
    "duration": 208,
    "start_time": "2022-06-27T17:49:14.753Z"
   },
   {
    "duration": 152,
    "start_time": "2022-06-27T17:49:14.962Z"
   },
   {
    "duration": 135,
    "start_time": "2022-06-27T17:49:15.115Z"
   },
   {
    "duration": 438,
    "start_time": "2022-06-27T17:49:15.251Z"
   },
   {
    "duration": 23,
    "start_time": "2022-06-27T17:49:15.691Z"
   },
   {
    "duration": 171,
    "start_time": "2022-06-27T17:49:15.716Z"
   },
   {
    "duration": 3,
    "start_time": "2022-06-27T17:49:15.889Z"
   },
   {
    "duration": 157,
    "start_time": "2022-06-27T17:50:27.893Z"
   },
   {
    "duration": 19,
    "start_time": "2022-06-27T17:57:12.886Z"
   },
   {
    "duration": 20,
    "start_time": "2022-06-27T17:57:23.106Z"
   },
   {
    "duration": 3,
    "start_time": "2022-06-27T17:57:45.510Z"
   },
   {
    "duration": 842,
    "start_time": "2022-06-28T16:52:17.399Z"
   },
   {
    "duration": 143,
    "start_time": "2022-06-28T16:52:20.203Z"
   },
   {
    "duration": 73,
    "start_time": "2022-06-28T16:53:53.928Z"
   },
   {
    "duration": 10,
    "start_time": "2022-06-28T16:54:00.288Z"
   },
   {
    "duration": 55,
    "start_time": "2022-06-28T16:54:36.019Z"
   },
   {
    "duration": 147,
    "start_time": "2022-06-28T16:55:55.765Z"
   },
   {
    "duration": 2162,
    "start_time": "2022-06-28T17:08:48.415Z"
   },
   {
    "duration": 937,
    "start_time": "2022-06-28T17:17:36.153Z"
   },
   {
    "duration": 859,
    "start_time": "2022-06-28T17:17:43.981Z"
   },
   {
    "duration": 687,
    "start_time": "2022-06-28T17:17:53.118Z"
   },
   {
    "duration": 99,
    "start_time": "2022-06-28T17:17:53.807Z"
   },
   {
    "duration": 5,
    "start_time": "2022-06-28T17:17:53.908Z"
   },
   {
    "duration": 143,
    "start_time": "2022-06-28T17:17:53.915Z"
   },
   {
    "duration": 2101,
    "start_time": "2022-06-28T17:17:54.060Z"
   },
   {
    "duration": 9,
    "start_time": "2022-06-28T17:17:56.164Z"
   },
   {
    "duration": 183,
    "start_time": "2022-06-28T17:17:56.175Z"
   },
   {
    "duration": 4,
    "start_time": "2022-06-28T17:17:56.360Z"
   },
   {
    "duration": 11,
    "start_time": "2022-06-28T17:17:56.366Z"
   },
   {
    "duration": 10,
    "start_time": "2022-06-28T17:17:56.380Z"
   },
   {
    "duration": 5352,
    "start_time": "2022-06-28T17:17:56.392Z"
   },
   {
    "duration": 10,
    "start_time": "2022-06-28T17:18:01.746Z"
   },
   {
    "duration": 50,
    "start_time": "2022-06-28T17:18:01.758Z"
   },
   {
    "duration": 350,
    "start_time": "2022-06-28T17:18:01.810Z"
   },
   {
    "duration": 161,
    "start_time": "2022-06-28T17:18:02.162Z"
   },
   {
    "duration": 164,
    "start_time": "2022-06-28T17:18:02.326Z"
   },
   {
    "duration": 432,
    "start_time": "2022-06-28T17:18:02.492Z"
   },
   {
    "duration": 200,
    "start_time": "2022-06-28T17:18:02.926Z"
   },
   {
    "duration": 168,
    "start_time": "2022-06-28T17:18:03.128Z"
   },
   {
    "duration": 181,
    "start_time": "2022-06-28T17:18:03.300Z"
   },
   {
    "duration": 118,
    "start_time": "2022-06-28T17:18:03.483Z"
   },
   {
    "duration": 180,
    "start_time": "2022-06-28T17:18:03.603Z"
   },
   {
    "duration": 147,
    "start_time": "2022-06-28T17:18:03.785Z"
   },
   {
    "duration": 121,
    "start_time": "2022-06-28T17:18:03.934Z"
   },
   {
    "duration": 155,
    "start_time": "2022-06-28T17:18:04.057Z"
   },
   {
    "duration": 555,
    "start_time": "2022-06-28T17:18:04.214Z"
   },
   {
    "duration": 319,
    "start_time": "2022-06-28T17:18:04.771Z"
   },
   {
    "duration": 201,
    "start_time": "2022-06-28T17:18:05.093Z"
   },
   {
    "duration": 232,
    "start_time": "2022-06-28T17:18:05.296Z"
   },
   {
    "duration": 205,
    "start_time": "2022-06-28T17:18:05.530Z"
   },
   {
    "duration": 149,
    "start_time": "2022-06-28T17:18:05.737Z"
   },
   {
    "duration": 161,
    "start_time": "2022-06-28T17:18:05.888Z"
   },
   {
    "duration": 470,
    "start_time": "2022-06-28T17:18:06.051Z"
   },
   {
    "duration": 116,
    "start_time": "2022-06-28T17:18:06.523Z"
   },
   {
    "duration": 171,
    "start_time": "2022-06-28T17:18:06.641Z"
   },
   {
    "duration": 3,
    "start_time": "2022-06-28T17:18:06.814Z"
   },
   {
    "duration": 492,
    "start_time": "2022-06-28T17:18:39.155Z"
   },
   {
    "duration": 165,
    "start_time": "2022-06-28T17:18:43.600Z"
   },
   {
    "duration": 58,
    "start_time": "2022-06-29T06:54:15.353Z"
   },
   {
    "duration": 730,
    "start_time": "2022-06-29T06:54:28.613Z"
   },
   {
    "duration": 131,
    "start_time": "2022-06-29T06:54:29.345Z"
   },
   {
    "duration": 5,
    "start_time": "2022-06-29T06:54:29.477Z"
   },
   {
    "duration": 121,
    "start_time": "2022-06-29T06:54:29.484Z"
   },
   {
    "duration": 1917,
    "start_time": "2022-06-29T06:54:29.607Z"
   },
   {
    "duration": 8,
    "start_time": "2022-06-29T06:54:31.525Z"
   },
   {
    "duration": 18,
    "start_time": "2022-06-29T06:54:31.535Z"
   },
   {
    "duration": 131,
    "start_time": "2022-06-29T06:54:31.554Z"
   },
   {
    "duration": 3,
    "start_time": "2022-06-29T06:54:31.687Z"
   },
   {
    "duration": 28,
    "start_time": "2022-06-29T06:54:31.692Z"
   },
   {
    "duration": 89,
    "start_time": "2022-06-29T06:54:31.721Z"
   },
   {
    "duration": 0,
    "start_time": "2022-06-29T06:54:31.812Z"
   },
   {
    "duration": 0,
    "start_time": "2022-06-29T06:54:31.814Z"
   },
   {
    "duration": 0,
    "start_time": "2022-06-29T06:54:31.815Z"
   },
   {
    "duration": 0,
    "start_time": "2022-06-29T06:54:31.816Z"
   },
   {
    "duration": 0,
    "start_time": "2022-06-29T06:54:31.818Z"
   },
   {
    "duration": 0,
    "start_time": "2022-06-29T06:54:31.819Z"
   },
   {
    "duration": 0,
    "start_time": "2022-06-29T06:54:31.820Z"
   },
   {
    "duration": 0,
    "start_time": "2022-06-29T06:54:31.821Z"
   },
   {
    "duration": 0,
    "start_time": "2022-06-29T06:54:31.822Z"
   },
   {
    "duration": 0,
    "start_time": "2022-06-29T06:54:31.823Z"
   },
   {
    "duration": 0,
    "start_time": "2022-06-29T06:54:31.824Z"
   },
   {
    "duration": 0,
    "start_time": "2022-06-29T06:54:31.825Z"
   },
   {
    "duration": 0,
    "start_time": "2022-06-29T06:54:31.826Z"
   },
   {
    "duration": 0,
    "start_time": "2022-06-29T06:54:31.827Z"
   },
   {
    "duration": 0,
    "start_time": "2022-06-29T06:54:31.828Z"
   },
   {
    "duration": 0,
    "start_time": "2022-06-29T06:54:31.829Z"
   },
   {
    "duration": 0,
    "start_time": "2022-06-29T06:54:31.830Z"
   },
   {
    "duration": 0,
    "start_time": "2022-06-29T06:54:31.830Z"
   },
   {
    "duration": 0,
    "start_time": "2022-06-29T06:54:31.831Z"
   },
   {
    "duration": 0,
    "start_time": "2022-06-29T06:54:31.832Z"
   },
   {
    "duration": 1,
    "start_time": "2022-06-29T06:54:31.833Z"
   },
   {
    "duration": 0,
    "start_time": "2022-06-29T06:54:31.834Z"
   },
   {
    "duration": 0,
    "start_time": "2022-06-29T06:54:31.836Z"
   },
   {
    "duration": 0,
    "start_time": "2022-06-29T06:54:31.836Z"
   },
   {
    "duration": 0,
    "start_time": "2022-06-29T06:54:31.837Z"
   },
   {
    "duration": 0,
    "start_time": "2022-06-29T06:54:31.839Z"
   },
   {
    "duration": 0,
    "start_time": "2022-06-29T06:54:31.840Z"
   },
   {
    "duration": 9,
    "start_time": "2022-06-29T06:56:34.748Z"
   },
   {
    "duration": 72,
    "start_time": "2022-06-29T06:57:00.329Z"
   },
   {
    "duration": 7,
    "start_time": "2022-06-29T06:57:07.516Z"
   },
   {
    "duration": 9,
    "start_time": "2022-06-29T06:58:03.447Z"
   },
   {
    "duration": 1074,
    "start_time": "2022-06-29T06:58:40.521Z"
   },
   {
    "duration": 7,
    "start_time": "2022-06-29T06:59:16.686Z"
   },
   {
    "duration": 884,
    "start_time": "2022-06-29T06:59:18.691Z"
   },
   {
    "duration": 9,
    "start_time": "2022-06-29T06:59:27.082Z"
   },
   {
    "duration": 5,
    "start_time": "2022-06-29T06:59:56.026Z"
   },
   {
    "duration": 8,
    "start_time": "2022-06-29T07:13:37.896Z"
   },
   {
    "duration": 89,
    "start_time": "2022-06-29T07:14:17.459Z"
   },
   {
    "duration": 99,
    "start_time": "2022-06-29T07:14:26.082Z"
   },
   {
    "duration": 62,
    "start_time": "2022-06-29T07:14:33.574Z"
   },
   {
    "duration": 57,
    "start_time": "2022-06-29T07:14:42.523Z"
   },
   {
    "duration": 61,
    "start_time": "2022-06-29T07:14:53.921Z"
   },
   {
    "duration": 9,
    "start_time": "2022-06-29T07:15:06.553Z"
   },
   {
    "duration": 678,
    "start_time": "2022-06-29T07:15:14.474Z"
   },
   {
    "duration": 288,
    "start_time": "2022-06-29T07:21:41.655Z"
   },
   {
    "duration": 243,
    "start_time": "2022-06-29T07:21:59.207Z"
   },
   {
    "duration": 47,
    "start_time": "2022-06-29T07:22:10.854Z"
   },
   {
    "duration": 91,
    "start_time": "2022-06-29T07:22:20.957Z"
   },
   {
    "duration": 59,
    "start_time": "2022-06-29T07:28:32.311Z"
   },
   {
    "duration": 5,
    "start_time": "2022-06-29T07:28:37.711Z"
   },
   {
    "duration": 16,
    "start_time": "2022-06-29T07:29:14.453Z"
   },
   {
    "duration": 10,
    "start_time": "2022-06-29T07:29:37.876Z"
   },
   {
    "duration": 10,
    "start_time": "2022-06-29T07:29:53.377Z"
   },
   {
    "duration": 10,
    "start_time": "2022-06-29T07:30:09.516Z"
   },
   {
    "duration": 17,
    "start_time": "2022-06-29T07:31:00.842Z"
   },
   {
    "duration": 10,
    "start_time": "2022-06-29T07:31:45.918Z"
   },
   {
    "duration": 5,
    "start_time": "2022-06-29T07:45:49.272Z"
   },
   {
    "duration": 45,
    "start_time": "2022-06-29T07:48:26.864Z"
   },
   {
    "duration": 233,
    "start_time": "2022-06-29T07:48:36.409Z"
   },
   {
    "duration": 242,
    "start_time": "2022-06-29T07:49:03.682Z"
   },
   {
    "duration": 46,
    "start_time": "2022-06-29T07:52:49.241Z"
   },
   {
    "duration": 61,
    "start_time": "2022-06-29T07:52:57.858Z"
   },
   {
    "duration": 5,
    "start_time": "2022-06-29T07:53:54.899Z"
   },
   {
    "duration": 869,
    "start_time": "2022-06-29T08:03:11.862Z"
   },
   {
    "duration": 10,
    "start_time": "2022-06-29T08:05:07.483Z"
   },
   {
    "duration": 5,
    "start_time": "2022-06-29T08:05:27.278Z"
   },
   {
    "duration": 5,
    "start_time": "2022-06-29T08:05:48.570Z"
   },
   {
    "duration": 9,
    "start_time": "2022-06-29T08:06:11.071Z"
   },
   {
    "duration": 693,
    "start_time": "2022-06-29T08:08:34.828Z"
   },
   {
    "duration": 90,
    "start_time": "2022-06-29T08:08:35.523Z"
   },
   {
    "duration": 6,
    "start_time": "2022-06-29T08:08:35.615Z"
   },
   {
    "duration": 133,
    "start_time": "2022-06-29T08:08:35.622Z"
   },
   {
    "duration": 2055,
    "start_time": "2022-06-29T08:08:35.757Z"
   },
   {
    "duration": 8,
    "start_time": "2022-06-29T08:08:37.814Z"
   },
   {
    "duration": 25,
    "start_time": "2022-06-29T08:08:37.824Z"
   },
   {
    "duration": 149,
    "start_time": "2022-06-29T08:08:37.851Z"
   },
   {
    "duration": 5,
    "start_time": "2022-06-29T08:08:38.002Z"
   },
   {
    "duration": 21,
    "start_time": "2022-06-29T08:08:38.010Z"
   },
   {
    "duration": 13,
    "start_time": "2022-06-29T08:08:38.033Z"
   },
   {
    "duration": 5005,
    "start_time": "2022-06-29T08:08:38.048Z"
   },
   {
    "duration": 10,
    "start_time": "2022-06-29T08:08:43.055Z"
   },
   {
    "duration": 10,
    "start_time": "2022-06-29T08:08:43.067Z"
   },
   {
    "duration": 361,
    "start_time": "2022-06-29T08:08:43.079Z"
   },
   {
    "duration": 158,
    "start_time": "2022-06-29T08:08:43.442Z"
   },
   {
    "duration": 179,
    "start_time": "2022-06-29T08:08:43.602Z"
   },
   {
    "duration": 425,
    "start_time": "2022-06-29T08:08:43.783Z"
   },
   {
    "duration": 193,
    "start_time": "2022-06-29T08:08:44.211Z"
   },
   {
    "duration": 163,
    "start_time": "2022-06-29T08:08:44.406Z"
   },
   {
    "duration": 168,
    "start_time": "2022-06-29T08:08:44.571Z"
   },
   {
    "duration": 113,
    "start_time": "2022-06-29T08:08:44.740Z"
   },
   {
    "duration": 186,
    "start_time": "2022-06-29T08:08:44.855Z"
   },
   {
    "duration": 157,
    "start_time": "2022-06-29T08:08:45.044Z"
   },
   {
    "duration": 162,
    "start_time": "2022-06-29T08:08:45.203Z"
   },
   {
    "duration": 157,
    "start_time": "2022-06-29T08:08:45.367Z"
   },
   {
    "duration": 449,
    "start_time": "2022-06-29T08:08:45.526Z"
   },
   {
    "duration": 349,
    "start_time": "2022-06-29T08:08:45.979Z"
   },
   {
    "duration": 197,
    "start_time": "2022-06-29T08:08:46.329Z"
   },
   {
    "duration": 221,
    "start_time": "2022-06-29T08:08:46.528Z"
   },
   {
    "duration": 209,
    "start_time": "2022-06-29T08:08:46.751Z"
   },
   {
    "duration": 154,
    "start_time": "2022-06-29T08:08:46.962Z"
   },
   {
    "duration": 142,
    "start_time": "2022-06-29T08:08:47.118Z"
   },
   {
    "duration": 460,
    "start_time": "2022-06-29T08:08:47.261Z"
   },
   {
    "duration": 102,
    "start_time": "2022-06-29T08:08:47.723Z"
   },
   {
    "duration": 188,
    "start_time": "2022-06-29T08:08:47.826Z"
   },
   {
    "duration": 3,
    "start_time": "2022-06-29T08:08:48.016Z"
   },
   {
    "duration": 73,
    "start_time": "2022-06-29T08:09:26.800Z"
   },
   {
    "duration": 11,
    "start_time": "2022-06-29T08:11:38.513Z"
   },
   {
    "duration": 5,
    "start_time": "2022-06-29T08:11:44.494Z"
   },
   {
    "duration": 9,
    "start_time": "2022-06-29T08:20:05.580Z"
   },
   {
    "duration": 610,
    "start_time": "2022-06-29T08:20:21.903Z"
   },
   {
    "duration": 120,
    "start_time": "2022-06-29T08:20:22.515Z"
   },
   {
    "duration": 15,
    "start_time": "2022-06-29T08:20:22.637Z"
   },
   {
    "duration": 134,
    "start_time": "2022-06-29T08:20:22.654Z"
   },
   {
    "duration": 2035,
    "start_time": "2022-06-29T08:20:22.789Z"
   },
   {
    "duration": 9,
    "start_time": "2022-06-29T08:20:24.826Z"
   },
   {
    "duration": 19,
    "start_time": "2022-06-29T08:20:24.837Z"
   },
   {
    "duration": 130,
    "start_time": "2022-06-29T08:20:24.858Z"
   },
   {
    "duration": 21,
    "start_time": "2022-06-29T08:20:24.990Z"
   },
   {
    "duration": 8,
    "start_time": "2022-06-29T08:20:25.013Z"
   },
   {
    "duration": 17,
    "start_time": "2022-06-29T08:20:25.023Z"
   },
   {
    "duration": 5171,
    "start_time": "2022-06-29T08:20:25.042Z"
   },
   {
    "duration": 0,
    "start_time": "2022-06-29T08:20:30.215Z"
   },
   {
    "duration": 0,
    "start_time": "2022-06-29T08:20:30.216Z"
   },
   {
    "duration": 0,
    "start_time": "2022-06-29T08:20:30.218Z"
   },
   {
    "duration": 0,
    "start_time": "2022-06-29T08:20:30.219Z"
   },
   {
    "duration": 0,
    "start_time": "2022-06-29T08:20:30.220Z"
   },
   {
    "duration": 0,
    "start_time": "2022-06-29T08:20:30.222Z"
   },
   {
    "duration": 0,
    "start_time": "2022-06-29T08:20:30.223Z"
   },
   {
    "duration": 0,
    "start_time": "2022-06-29T08:20:30.224Z"
   },
   {
    "duration": 0,
    "start_time": "2022-06-29T08:20:30.226Z"
   },
   {
    "duration": 0,
    "start_time": "2022-06-29T08:20:30.227Z"
   },
   {
    "duration": 0,
    "start_time": "2022-06-29T08:20:30.252Z"
   },
   {
    "duration": 0,
    "start_time": "2022-06-29T08:20:30.253Z"
   },
   {
    "duration": 0,
    "start_time": "2022-06-29T08:20:30.255Z"
   },
   {
    "duration": 1,
    "start_time": "2022-06-29T08:20:30.256Z"
   },
   {
    "duration": 0,
    "start_time": "2022-06-29T08:20:30.258Z"
   },
   {
    "duration": 0,
    "start_time": "2022-06-29T08:20:30.260Z"
   },
   {
    "duration": 0,
    "start_time": "2022-06-29T08:20:30.261Z"
   },
   {
    "duration": 0,
    "start_time": "2022-06-29T08:20:30.263Z"
   },
   {
    "duration": 0,
    "start_time": "2022-06-29T08:20:30.264Z"
   },
   {
    "duration": 0,
    "start_time": "2022-06-29T08:20:30.266Z"
   },
   {
    "duration": 0,
    "start_time": "2022-06-29T08:20:30.267Z"
   },
   {
    "duration": 0,
    "start_time": "2022-06-29T08:20:30.268Z"
   },
   {
    "duration": 0,
    "start_time": "2022-06-29T08:20:30.269Z"
   },
   {
    "duration": 0,
    "start_time": "2022-06-29T08:20:30.270Z"
   },
   {
    "duration": 0,
    "start_time": "2022-06-29T08:20:30.271Z"
   },
   {
    "duration": 141,
    "start_time": "2022-06-29T08:23:08.132Z"
   },
   {
    "duration": 122,
    "start_time": "2022-06-29T08:23:26.395Z"
   },
   {
    "duration": 628,
    "start_time": "2022-06-29T08:50:58.285Z"
   },
   {
    "duration": 94,
    "start_time": "2022-06-29T08:50:58.915Z"
   },
   {
    "duration": 6,
    "start_time": "2022-06-29T08:50:59.010Z"
   },
   {
    "duration": 138,
    "start_time": "2022-06-29T08:50:59.018Z"
   },
   {
    "duration": 1911,
    "start_time": "2022-06-29T08:50:59.157Z"
   },
   {
    "duration": 9,
    "start_time": "2022-06-29T08:51:01.070Z"
   },
   {
    "duration": 65,
    "start_time": "2022-06-29T08:51:01.081Z"
   },
   {
    "duration": 41,
    "start_time": "2022-06-29T08:51:01.148Z"
   },
   {
    "duration": 46,
    "start_time": "2022-06-29T08:51:01.191Z"
   },
   {
    "duration": 26,
    "start_time": "2022-06-29T08:51:01.240Z"
   },
   {
    "duration": 27,
    "start_time": "2022-06-29T08:51:01.268Z"
   },
   {
    "duration": 229,
    "start_time": "2022-06-29T08:51:01.297Z"
   },
   {
    "duration": 0,
    "start_time": "2022-06-29T08:51:01.528Z"
   },
   {
    "duration": 0,
    "start_time": "2022-06-29T08:51:01.529Z"
   },
   {
    "duration": 0,
    "start_time": "2022-06-29T08:51:01.531Z"
   },
   {
    "duration": 0,
    "start_time": "2022-06-29T08:51:01.532Z"
   },
   {
    "duration": 0,
    "start_time": "2022-06-29T08:51:01.533Z"
   },
   {
    "duration": 0,
    "start_time": "2022-06-29T08:51:01.534Z"
   },
   {
    "duration": 0,
    "start_time": "2022-06-29T08:51:01.535Z"
   },
   {
    "duration": 0,
    "start_time": "2022-06-29T08:51:01.536Z"
   },
   {
    "duration": 0,
    "start_time": "2022-06-29T08:51:01.537Z"
   },
   {
    "duration": 0,
    "start_time": "2022-06-29T08:51:01.552Z"
   },
   {
    "duration": 0,
    "start_time": "2022-06-29T08:51:01.554Z"
   },
   {
    "duration": 0,
    "start_time": "2022-06-29T08:51:01.555Z"
   },
   {
    "duration": 0,
    "start_time": "2022-06-29T08:51:01.556Z"
   },
   {
    "duration": 0,
    "start_time": "2022-06-29T08:51:01.557Z"
   },
   {
    "duration": 0,
    "start_time": "2022-06-29T08:51:01.558Z"
   },
   {
    "duration": 0,
    "start_time": "2022-06-29T08:51:01.559Z"
   },
   {
    "duration": 0,
    "start_time": "2022-06-29T08:51:01.560Z"
   },
   {
    "duration": 0,
    "start_time": "2022-06-29T08:51:01.561Z"
   },
   {
    "duration": 0,
    "start_time": "2022-06-29T08:51:01.563Z"
   },
   {
    "duration": 0,
    "start_time": "2022-06-29T08:51:01.563Z"
   },
   {
    "duration": 0,
    "start_time": "2022-06-29T08:51:01.564Z"
   },
   {
    "duration": 0,
    "start_time": "2022-06-29T08:51:01.565Z"
   },
   {
    "duration": 0,
    "start_time": "2022-06-29T08:51:01.567Z"
   },
   {
    "duration": 0,
    "start_time": "2022-06-29T08:51:01.568Z"
   },
   {
    "duration": 0,
    "start_time": "2022-06-29T08:51:01.569Z"
   },
   {
    "duration": 24,
    "start_time": "2022-06-29T08:52:13.924Z"
   },
   {
    "duration": 23,
    "start_time": "2022-06-29T08:53:05.547Z"
   },
   {
    "duration": 653,
    "start_time": "2022-06-29T08:53:10.645Z"
   },
   {
    "duration": 92,
    "start_time": "2022-06-29T08:53:11.300Z"
   },
   {
    "duration": 4,
    "start_time": "2022-06-29T08:53:11.394Z"
   },
   {
    "duration": 123,
    "start_time": "2022-06-29T08:53:11.400Z"
   },
   {
    "duration": 1979,
    "start_time": "2022-06-29T08:53:11.525Z"
   },
   {
    "duration": 9,
    "start_time": "2022-06-29T08:53:13.506Z"
   },
   {
    "duration": 15,
    "start_time": "2022-06-29T08:53:13.517Z"
   },
   {
    "duration": 26,
    "start_time": "2022-06-29T08:53:13.533Z"
   },
   {
    "duration": 19,
    "start_time": "2022-06-29T08:53:13.561Z"
   },
   {
    "duration": 3,
    "start_time": "2022-06-29T08:53:13.582Z"
   },
   {
    "duration": 12,
    "start_time": "2022-06-29T08:53:13.587Z"
   },
   {
    "duration": 203,
    "start_time": "2022-06-29T08:53:13.601Z"
   },
   {
    "duration": 0,
    "start_time": "2022-06-29T08:53:13.806Z"
   },
   {
    "duration": 0,
    "start_time": "2022-06-29T08:53:13.808Z"
   },
   {
    "duration": 0,
    "start_time": "2022-06-29T08:53:13.809Z"
   },
   {
    "duration": 0,
    "start_time": "2022-06-29T08:53:13.811Z"
   },
   {
    "duration": 0,
    "start_time": "2022-06-29T08:53:13.812Z"
   },
   {
    "duration": 0,
    "start_time": "2022-06-29T08:53:13.813Z"
   },
   {
    "duration": 0,
    "start_time": "2022-06-29T08:53:13.814Z"
   },
   {
    "duration": 0,
    "start_time": "2022-06-29T08:53:13.815Z"
   },
   {
    "duration": 0,
    "start_time": "2022-06-29T08:53:13.816Z"
   },
   {
    "duration": 0,
    "start_time": "2022-06-29T08:53:13.817Z"
   },
   {
    "duration": 0,
    "start_time": "2022-06-29T08:53:13.818Z"
   },
   {
    "duration": 0,
    "start_time": "2022-06-29T08:53:13.819Z"
   },
   {
    "duration": 0,
    "start_time": "2022-06-29T08:53:13.820Z"
   },
   {
    "duration": 0,
    "start_time": "2022-06-29T08:53:13.821Z"
   },
   {
    "duration": 0,
    "start_time": "2022-06-29T08:53:13.853Z"
   },
   {
    "duration": 0,
    "start_time": "2022-06-29T08:53:13.855Z"
   },
   {
    "duration": 0,
    "start_time": "2022-06-29T08:53:13.856Z"
   },
   {
    "duration": 0,
    "start_time": "2022-06-29T08:53:13.857Z"
   },
   {
    "duration": 0,
    "start_time": "2022-06-29T08:53:13.858Z"
   },
   {
    "duration": 0,
    "start_time": "2022-06-29T08:53:13.860Z"
   },
   {
    "duration": 0,
    "start_time": "2022-06-29T08:53:13.862Z"
   },
   {
    "duration": 0,
    "start_time": "2022-06-29T08:53:13.863Z"
   },
   {
    "duration": 0,
    "start_time": "2022-06-29T08:53:13.864Z"
   },
   {
    "duration": 0,
    "start_time": "2022-06-29T08:53:13.865Z"
   },
   {
    "duration": 0,
    "start_time": "2022-06-29T08:53:13.866Z"
   },
   {
    "duration": 11,
    "start_time": "2022-06-29T09:04:07.230Z"
   },
   {
    "duration": 10,
    "start_time": "2022-06-29T09:04:16.221Z"
   },
   {
    "duration": 9,
    "start_time": "2022-06-29T09:05:30.886Z"
   },
   {
    "duration": 663,
    "start_time": "2022-06-29T09:05:38.678Z"
   },
   {
    "duration": 104,
    "start_time": "2022-06-29T09:05:39.343Z"
   },
   {
    "duration": 5,
    "start_time": "2022-06-29T09:05:39.449Z"
   },
   {
    "duration": 137,
    "start_time": "2022-06-29T09:05:39.456Z"
   },
   {
    "duration": 2049,
    "start_time": "2022-06-29T09:05:39.595Z"
   },
   {
    "duration": 9,
    "start_time": "2022-06-29T09:05:41.645Z"
   },
   {
    "duration": 22,
    "start_time": "2022-06-29T09:05:41.656Z"
   },
   {
    "duration": 78,
    "start_time": "2022-06-29T09:05:41.680Z"
   },
   {
    "duration": 0,
    "start_time": "2022-06-29T09:05:41.760Z"
   },
   {
    "duration": 0,
    "start_time": "2022-06-29T09:05:41.762Z"
   },
   {
    "duration": 0,
    "start_time": "2022-06-29T09:05:41.763Z"
   },
   {
    "duration": 0,
    "start_time": "2022-06-29T09:05:41.764Z"
   },
   {
    "duration": 0,
    "start_time": "2022-06-29T09:05:41.765Z"
   },
   {
    "duration": 0,
    "start_time": "2022-06-29T09:05:41.766Z"
   },
   {
    "duration": 0,
    "start_time": "2022-06-29T09:05:41.767Z"
   },
   {
    "duration": 0,
    "start_time": "2022-06-29T09:05:41.768Z"
   },
   {
    "duration": 0,
    "start_time": "2022-06-29T09:05:41.769Z"
   },
   {
    "duration": 0,
    "start_time": "2022-06-29T09:05:41.770Z"
   },
   {
    "duration": 0,
    "start_time": "2022-06-29T09:05:41.771Z"
   },
   {
    "duration": 0,
    "start_time": "2022-06-29T09:05:41.772Z"
   },
   {
    "duration": 1,
    "start_time": "2022-06-29T09:05:41.773Z"
   },
   {
    "duration": 0,
    "start_time": "2022-06-29T09:05:41.775Z"
   },
   {
    "duration": 0,
    "start_time": "2022-06-29T09:05:41.776Z"
   },
   {
    "duration": 0,
    "start_time": "2022-06-29T09:05:41.777Z"
   },
   {
    "duration": 0,
    "start_time": "2022-06-29T09:05:41.778Z"
   },
   {
    "duration": 0,
    "start_time": "2022-06-29T09:05:41.779Z"
   },
   {
    "duration": 0,
    "start_time": "2022-06-29T09:05:41.780Z"
   },
   {
    "duration": 0,
    "start_time": "2022-06-29T09:05:41.781Z"
   },
   {
    "duration": 0,
    "start_time": "2022-06-29T09:05:41.782Z"
   },
   {
    "duration": 0,
    "start_time": "2022-06-29T09:05:41.784Z"
   },
   {
    "duration": 0,
    "start_time": "2022-06-29T09:05:41.785Z"
   },
   {
    "duration": 0,
    "start_time": "2022-06-29T09:05:41.786Z"
   },
   {
    "duration": 0,
    "start_time": "2022-06-29T09:05:41.787Z"
   },
   {
    "duration": 0,
    "start_time": "2022-06-29T09:05:41.788Z"
   },
   {
    "duration": 0,
    "start_time": "2022-06-29T09:05:41.789Z"
   },
   {
    "duration": 0,
    "start_time": "2022-06-29T09:05:41.790Z"
   },
   {
    "duration": 0,
    "start_time": "2022-06-29T09:05:41.792Z"
   },
   {
    "duration": 12,
    "start_time": "2022-06-29T09:06:10.166Z"
   },
   {
    "duration": 9,
    "start_time": "2022-06-29T09:06:28.584Z"
   },
   {
    "duration": 8,
    "start_time": "2022-06-29T09:22:52.435Z"
   },
   {
    "duration": 9,
    "start_time": "2022-06-29T09:23:13.077Z"
   },
   {
    "duration": 8,
    "start_time": "2022-06-29T09:23:20.357Z"
   },
   {
    "duration": 8,
    "start_time": "2022-06-29T09:23:26.478Z"
   },
   {
    "duration": 10,
    "start_time": "2022-06-29T09:23:39.104Z"
   },
   {
    "duration": 23,
    "start_time": "2022-06-29T09:23:40.396Z"
   },
   {
    "duration": 8,
    "start_time": "2022-06-29T09:26:50.995Z"
   },
   {
    "duration": 51,
    "start_time": "2022-06-29T09:26:57.748Z"
   },
   {
    "duration": 8,
    "start_time": "2022-06-29T09:27:08.291Z"
   },
   {
    "duration": 8,
    "start_time": "2022-06-29T09:42:21.513Z"
   },
   {
    "duration": 8,
    "start_time": "2022-06-29T09:42:40.530Z"
   },
   {
    "duration": 9,
    "start_time": "2022-06-29T09:51:13.681Z"
   },
   {
    "duration": 9,
    "start_time": "2022-06-29T09:51:20.108Z"
   },
   {
    "duration": 8,
    "start_time": "2022-06-29T09:51:35.403Z"
   },
   {
    "duration": 8,
    "start_time": "2022-06-29T09:51:41.006Z"
   },
   {
    "duration": 654,
    "start_time": "2022-06-29T09:51:50.035Z"
   },
   {
    "duration": 96,
    "start_time": "2022-06-29T09:51:50.691Z"
   },
   {
    "duration": 5,
    "start_time": "2022-06-29T09:51:50.789Z"
   },
   {
    "duration": 130,
    "start_time": "2022-06-29T09:51:50.796Z"
   },
   {
    "duration": 2084,
    "start_time": "2022-06-29T09:51:50.928Z"
   },
   {
    "duration": 9,
    "start_time": "2022-06-29T09:51:53.013Z"
   },
   {
    "duration": 14,
    "start_time": "2022-06-29T09:51:53.023Z"
   },
   {
    "duration": 79,
    "start_time": "2022-06-29T09:51:53.039Z"
   },
   {
    "duration": 0,
    "start_time": "2022-06-29T09:51:53.121Z"
   },
   {
    "duration": 0,
    "start_time": "2022-06-29T09:51:53.122Z"
   },
   {
    "duration": 0,
    "start_time": "2022-06-29T09:51:53.123Z"
   },
   {
    "duration": 0,
    "start_time": "2022-06-29T09:51:53.125Z"
   },
   {
    "duration": 0,
    "start_time": "2022-06-29T09:51:53.126Z"
   },
   {
    "duration": 0,
    "start_time": "2022-06-29T09:51:53.127Z"
   },
   {
    "duration": 0,
    "start_time": "2022-06-29T09:51:53.128Z"
   },
   {
    "duration": 1,
    "start_time": "2022-06-29T09:51:53.129Z"
   },
   {
    "duration": 0,
    "start_time": "2022-06-29T09:51:53.131Z"
   },
   {
    "duration": 0,
    "start_time": "2022-06-29T09:51:53.132Z"
   },
   {
    "duration": 0,
    "start_time": "2022-06-29T09:51:53.152Z"
   },
   {
    "duration": 0,
    "start_time": "2022-06-29T09:51:53.154Z"
   },
   {
    "duration": 0,
    "start_time": "2022-06-29T09:51:53.155Z"
   },
   {
    "duration": 0,
    "start_time": "2022-06-29T09:51:53.156Z"
   },
   {
    "duration": 0,
    "start_time": "2022-06-29T09:51:53.157Z"
   },
   {
    "duration": 0,
    "start_time": "2022-06-29T09:51:53.158Z"
   },
   {
    "duration": 0,
    "start_time": "2022-06-29T09:51:53.159Z"
   },
   {
    "duration": 0,
    "start_time": "2022-06-29T09:51:53.160Z"
   },
   {
    "duration": 0,
    "start_time": "2022-06-29T09:51:53.166Z"
   },
   {
    "duration": 0,
    "start_time": "2022-06-29T09:51:53.167Z"
   },
   {
    "duration": 0,
    "start_time": "2022-06-29T09:51:53.168Z"
   },
   {
    "duration": 0,
    "start_time": "2022-06-29T09:51:53.170Z"
   },
   {
    "duration": 0,
    "start_time": "2022-06-29T09:51:53.171Z"
   },
   {
    "duration": 0,
    "start_time": "2022-06-29T09:51:53.173Z"
   },
   {
    "duration": 0,
    "start_time": "2022-06-29T09:51:53.174Z"
   },
   {
    "duration": 0,
    "start_time": "2022-06-29T09:51:53.176Z"
   },
   {
    "duration": 0,
    "start_time": "2022-06-29T09:51:53.177Z"
   },
   {
    "duration": 0,
    "start_time": "2022-06-29T09:51:53.179Z"
   },
   {
    "duration": 0,
    "start_time": "2022-06-29T09:51:53.180Z"
   },
   {
    "duration": 153,
    "start_time": "2022-06-29T09:57:23.065Z"
   },
   {
    "duration": 9,
    "start_time": "2022-06-29T10:03:13.567Z"
   },
   {
    "duration": 19,
    "start_time": "2022-06-29T10:03:52.250Z"
   },
   {
    "duration": 648,
    "start_time": "2022-06-29T10:04:41.465Z"
   },
   {
    "duration": 105,
    "start_time": "2022-06-29T10:04:42.115Z"
   },
   {
    "duration": 5,
    "start_time": "2022-06-29T10:04:42.222Z"
   },
   {
    "duration": 139,
    "start_time": "2022-06-29T10:04:42.229Z"
   },
   {
    "duration": 2034,
    "start_time": "2022-06-29T10:04:42.370Z"
   },
   {
    "duration": 9,
    "start_time": "2022-06-29T10:04:44.405Z"
   },
   {
    "duration": 14,
    "start_time": "2022-06-29T10:04:44.415Z"
   },
   {
    "duration": 77,
    "start_time": "2022-06-29T10:04:44.431Z"
   },
   {
    "duration": 0,
    "start_time": "2022-06-29T10:04:44.511Z"
   },
   {
    "duration": 0,
    "start_time": "2022-06-29T10:04:44.512Z"
   },
   {
    "duration": 0,
    "start_time": "2022-06-29T10:04:44.513Z"
   },
   {
    "duration": 0,
    "start_time": "2022-06-29T10:04:44.514Z"
   },
   {
    "duration": 0,
    "start_time": "2022-06-29T10:04:44.515Z"
   },
   {
    "duration": 0,
    "start_time": "2022-06-29T10:04:44.516Z"
   },
   {
    "duration": 0,
    "start_time": "2022-06-29T10:04:44.517Z"
   },
   {
    "duration": 0,
    "start_time": "2022-06-29T10:04:44.518Z"
   },
   {
    "duration": 0,
    "start_time": "2022-06-29T10:04:44.519Z"
   },
   {
    "duration": 0,
    "start_time": "2022-06-29T10:04:44.520Z"
   },
   {
    "duration": 0,
    "start_time": "2022-06-29T10:04:44.521Z"
   },
   {
    "duration": 0,
    "start_time": "2022-06-29T10:04:44.522Z"
   },
   {
    "duration": 0,
    "start_time": "2022-06-29T10:04:44.523Z"
   },
   {
    "duration": 0,
    "start_time": "2022-06-29T10:04:44.524Z"
   },
   {
    "duration": 0,
    "start_time": "2022-06-29T10:04:44.525Z"
   },
   {
    "duration": 0,
    "start_time": "2022-06-29T10:04:44.526Z"
   },
   {
    "duration": 0,
    "start_time": "2022-06-29T10:04:44.527Z"
   },
   {
    "duration": 0,
    "start_time": "2022-06-29T10:04:44.558Z"
   },
   {
    "duration": 0,
    "start_time": "2022-06-29T10:04:44.559Z"
   },
   {
    "duration": 0,
    "start_time": "2022-06-29T10:04:44.559Z"
   },
   {
    "duration": 0,
    "start_time": "2022-06-29T10:04:44.560Z"
   },
   {
    "duration": 0,
    "start_time": "2022-06-29T10:04:44.561Z"
   },
   {
    "duration": 0,
    "start_time": "2022-06-29T10:04:44.562Z"
   },
   {
    "duration": 0,
    "start_time": "2022-06-29T10:04:44.562Z"
   },
   {
    "duration": 0,
    "start_time": "2022-06-29T10:04:44.563Z"
   },
   {
    "duration": 0,
    "start_time": "2022-06-29T10:04:44.564Z"
   },
   {
    "duration": 0,
    "start_time": "2022-06-29T10:04:44.565Z"
   },
   {
    "duration": 0,
    "start_time": "2022-06-29T10:04:44.566Z"
   },
   {
    "duration": 0,
    "start_time": "2022-06-29T10:04:44.568Z"
   },
   {
    "duration": 21,
    "start_time": "2022-06-29T10:05:28.817Z"
   },
   {
    "duration": 18,
    "start_time": "2022-06-29T10:05:52.058Z"
   },
   {
    "duration": 617,
    "start_time": "2022-06-29T10:05:58.306Z"
   },
   {
    "duration": 99,
    "start_time": "2022-06-29T10:05:58.925Z"
   },
   {
    "duration": 5,
    "start_time": "2022-06-29T10:05:59.026Z"
   },
   {
    "duration": 147,
    "start_time": "2022-06-29T10:05:59.033Z"
   },
   {
    "duration": 2084,
    "start_time": "2022-06-29T10:05:59.183Z"
   },
   {
    "duration": 8,
    "start_time": "2022-06-29T10:06:01.269Z"
   },
   {
    "duration": 88,
    "start_time": "2022-06-29T10:06:01.279Z"
   },
   {
    "duration": 64,
    "start_time": "2022-06-29T10:06:01.369Z"
   },
   {
    "duration": 46,
    "start_time": "2022-06-29T10:06:01.436Z"
   },
   {
    "duration": 16,
    "start_time": "2022-06-29T10:06:01.484Z"
   },
   {
    "duration": 16,
    "start_time": "2022-06-29T10:06:01.501Z"
   },
   {
    "duration": 285,
    "start_time": "2022-06-29T10:06:01.519Z"
   },
   {
    "duration": 0,
    "start_time": "2022-06-29T10:06:01.806Z"
   },
   {
    "duration": 0,
    "start_time": "2022-06-29T10:06:01.807Z"
   },
   {
    "duration": 0,
    "start_time": "2022-06-29T10:06:01.808Z"
   },
   {
    "duration": 0,
    "start_time": "2022-06-29T10:06:01.809Z"
   },
   {
    "duration": 0,
    "start_time": "2022-06-29T10:06:01.810Z"
   },
   {
    "duration": 0,
    "start_time": "2022-06-29T10:06:01.811Z"
   },
   {
    "duration": 0,
    "start_time": "2022-06-29T10:06:01.812Z"
   },
   {
    "duration": 0,
    "start_time": "2022-06-29T10:06:01.813Z"
   },
   {
    "duration": 0,
    "start_time": "2022-06-29T10:06:01.814Z"
   },
   {
    "duration": 0,
    "start_time": "2022-06-29T10:06:01.816Z"
   },
   {
    "duration": 0,
    "start_time": "2022-06-29T10:06:01.817Z"
   },
   {
    "duration": 0,
    "start_time": "2022-06-29T10:06:01.818Z"
   },
   {
    "duration": 0,
    "start_time": "2022-06-29T10:06:01.819Z"
   },
   {
    "duration": 0,
    "start_time": "2022-06-29T10:06:01.820Z"
   },
   {
    "duration": 0,
    "start_time": "2022-06-29T10:06:01.821Z"
   },
   {
    "duration": 0,
    "start_time": "2022-06-29T10:06:01.822Z"
   },
   {
    "duration": 0,
    "start_time": "2022-06-29T10:06:01.824Z"
   },
   {
    "duration": 0,
    "start_time": "2022-06-29T10:06:01.825Z"
   },
   {
    "duration": 0,
    "start_time": "2022-06-29T10:06:01.853Z"
   },
   {
    "duration": 0,
    "start_time": "2022-06-29T10:06:01.855Z"
   },
   {
    "duration": 0,
    "start_time": "2022-06-29T10:06:01.856Z"
   },
   {
    "duration": 0,
    "start_time": "2022-06-29T10:06:01.856Z"
   },
   {
    "duration": 1,
    "start_time": "2022-06-29T10:06:01.857Z"
   },
   {
    "duration": 0,
    "start_time": "2022-06-29T10:06:01.859Z"
   },
   {
    "duration": 0,
    "start_time": "2022-06-29T10:06:01.860Z"
   },
   {
    "duration": 17,
    "start_time": "2022-06-29T10:06:47.200Z"
   },
   {
    "duration": 16,
    "start_time": "2022-06-29T10:08:09.734Z"
   },
   {
    "duration": 634,
    "start_time": "2022-06-29T10:08:17.833Z"
   },
   {
    "duration": 95,
    "start_time": "2022-06-29T10:08:18.469Z"
   },
   {
    "duration": 5,
    "start_time": "2022-06-29T10:08:18.566Z"
   },
   {
    "duration": 125,
    "start_time": "2022-06-29T10:08:18.573Z"
   },
   {
    "duration": 1987,
    "start_time": "2022-06-29T10:08:18.700Z"
   },
   {
    "duration": 9,
    "start_time": "2022-06-29T10:08:20.689Z"
   },
   {
    "duration": 18,
    "start_time": "2022-06-29T10:08:20.699Z"
   },
   {
    "duration": 25,
    "start_time": "2022-06-29T10:08:20.719Z"
   },
   {
    "duration": 44,
    "start_time": "2022-06-29T10:08:20.746Z"
   },
   {
    "duration": 5,
    "start_time": "2022-06-29T10:08:20.792Z"
   },
   {
    "duration": 23,
    "start_time": "2022-06-29T10:08:20.799Z"
   },
   {
    "duration": 497,
    "start_time": "2022-06-29T10:08:20.824Z"
   },
   {
    "duration": 0,
    "start_time": "2022-06-29T10:08:21.323Z"
   },
   {
    "duration": 1,
    "start_time": "2022-06-29T10:08:21.324Z"
   },
   {
    "duration": 0,
    "start_time": "2022-06-29T10:08:21.326Z"
   },
   {
    "duration": 0,
    "start_time": "2022-06-29T10:08:21.327Z"
   },
   {
    "duration": 0,
    "start_time": "2022-06-29T10:08:21.328Z"
   },
   {
    "duration": 0,
    "start_time": "2022-06-29T10:08:21.329Z"
   },
   {
    "duration": 0,
    "start_time": "2022-06-29T10:08:21.330Z"
   },
   {
    "duration": 0,
    "start_time": "2022-06-29T10:08:21.331Z"
   },
   {
    "duration": 0,
    "start_time": "2022-06-29T10:08:21.332Z"
   },
   {
    "duration": 0,
    "start_time": "2022-06-29T10:08:21.333Z"
   },
   {
    "duration": 0,
    "start_time": "2022-06-29T10:08:21.334Z"
   },
   {
    "duration": 0,
    "start_time": "2022-06-29T10:08:21.352Z"
   },
   {
    "duration": 0,
    "start_time": "2022-06-29T10:08:21.353Z"
   },
   {
    "duration": 1,
    "start_time": "2022-06-29T10:08:21.353Z"
   },
   {
    "duration": 0,
    "start_time": "2022-06-29T10:08:21.355Z"
   },
   {
    "duration": 0,
    "start_time": "2022-06-29T10:08:21.356Z"
   },
   {
    "duration": 0,
    "start_time": "2022-06-29T10:08:21.357Z"
   },
   {
    "duration": 0,
    "start_time": "2022-06-29T10:08:21.357Z"
   },
   {
    "duration": 0,
    "start_time": "2022-06-29T10:08:21.358Z"
   },
   {
    "duration": 0,
    "start_time": "2022-06-29T10:08:21.359Z"
   },
   {
    "duration": 0,
    "start_time": "2022-06-29T10:08:21.360Z"
   },
   {
    "duration": 0,
    "start_time": "2022-06-29T10:08:21.361Z"
   },
   {
    "duration": 0,
    "start_time": "2022-06-29T10:08:21.362Z"
   },
   {
    "duration": 0,
    "start_time": "2022-06-29T10:08:21.363Z"
   },
   {
    "duration": 0,
    "start_time": "2022-06-29T10:08:21.363Z"
   },
   {
    "duration": 11,
    "start_time": "2022-06-29T10:10:20.220Z"
   },
   {
    "duration": 21,
    "start_time": "2022-06-29T10:11:15.436Z"
   },
   {
    "duration": 21,
    "start_time": "2022-06-29T10:11:25.220Z"
   },
   {
    "duration": 15,
    "start_time": "2022-06-29T10:12:08.632Z"
   },
   {
    "duration": 606,
    "start_time": "2022-06-29T10:12:25.787Z"
   },
   {
    "duration": 90,
    "start_time": "2022-06-29T10:12:26.394Z"
   },
   {
    "duration": 5,
    "start_time": "2022-06-29T10:12:26.486Z"
   },
   {
    "duration": 124,
    "start_time": "2022-06-29T10:12:26.493Z"
   },
   {
    "duration": 1889,
    "start_time": "2022-06-29T10:12:26.619Z"
   },
   {
    "duration": 8,
    "start_time": "2022-06-29T10:12:28.510Z"
   },
   {
    "duration": 14,
    "start_time": "2022-06-29T10:12:28.519Z"
   },
   {
    "duration": 28,
    "start_time": "2022-06-29T10:12:28.535Z"
   },
   {
    "duration": 27,
    "start_time": "2022-06-29T10:12:28.565Z"
   },
   {
    "duration": 2,
    "start_time": "2022-06-29T10:12:28.595Z"
   },
   {
    "duration": 10,
    "start_time": "2022-06-29T10:12:28.598Z"
   },
   {
    "duration": 500,
    "start_time": "2022-06-29T10:12:28.609Z"
   },
   {
    "duration": 0,
    "start_time": "2022-06-29T10:12:29.111Z"
   },
   {
    "duration": 0,
    "start_time": "2022-06-29T10:12:29.112Z"
   },
   {
    "duration": 0,
    "start_time": "2022-06-29T10:12:29.113Z"
   },
   {
    "duration": 0,
    "start_time": "2022-06-29T10:12:29.113Z"
   },
   {
    "duration": 0,
    "start_time": "2022-06-29T10:12:29.115Z"
   },
   {
    "duration": 0,
    "start_time": "2022-06-29T10:12:29.116Z"
   },
   {
    "duration": 0,
    "start_time": "2022-06-29T10:12:29.117Z"
   },
   {
    "duration": 0,
    "start_time": "2022-06-29T10:12:29.118Z"
   },
   {
    "duration": 0,
    "start_time": "2022-06-29T10:12:29.119Z"
   },
   {
    "duration": 0,
    "start_time": "2022-06-29T10:12:29.120Z"
   },
   {
    "duration": 0,
    "start_time": "2022-06-29T10:12:29.121Z"
   },
   {
    "duration": 0,
    "start_time": "2022-06-29T10:12:29.122Z"
   },
   {
    "duration": 0,
    "start_time": "2022-06-29T10:12:29.123Z"
   },
   {
    "duration": 0,
    "start_time": "2022-06-29T10:12:29.124Z"
   },
   {
    "duration": 0,
    "start_time": "2022-06-29T10:12:29.125Z"
   },
   {
    "duration": 0,
    "start_time": "2022-06-29T10:12:29.126Z"
   },
   {
    "duration": 0,
    "start_time": "2022-06-29T10:12:29.152Z"
   },
   {
    "duration": 0,
    "start_time": "2022-06-29T10:12:29.153Z"
   },
   {
    "duration": 0,
    "start_time": "2022-06-29T10:12:29.154Z"
   },
   {
    "duration": 0,
    "start_time": "2022-06-29T10:12:29.156Z"
   },
   {
    "duration": 0,
    "start_time": "2022-06-29T10:12:29.157Z"
   },
   {
    "duration": 0,
    "start_time": "2022-06-29T10:12:29.158Z"
   },
   {
    "duration": 0,
    "start_time": "2022-06-29T10:12:29.159Z"
   },
   {
    "duration": 0,
    "start_time": "2022-06-29T10:12:29.160Z"
   },
   {
    "duration": 0,
    "start_time": "2022-06-29T10:12:29.161Z"
   },
   {
    "duration": 27,
    "start_time": "2022-06-29T10:12:47.435Z"
   },
   {
    "duration": 13,
    "start_time": "2022-06-29T10:12:55.230Z"
   },
   {
    "duration": 608,
    "start_time": "2022-06-29T10:15:09.662Z"
   },
   {
    "duration": 89,
    "start_time": "2022-06-29T10:15:10.272Z"
   },
   {
    "duration": 5,
    "start_time": "2022-06-29T10:15:10.362Z"
   },
   {
    "duration": 131,
    "start_time": "2022-06-29T10:15:10.368Z"
   },
   {
    "duration": 1872,
    "start_time": "2022-06-29T10:15:10.500Z"
   },
   {
    "duration": 8,
    "start_time": "2022-06-29T10:15:12.373Z"
   },
   {
    "duration": 18,
    "start_time": "2022-06-29T10:15:12.383Z"
   },
   {
    "duration": 136,
    "start_time": "2022-06-29T10:15:12.402Z"
   },
   {
    "duration": 28,
    "start_time": "2022-06-29T10:15:12.539Z"
   },
   {
    "duration": 3,
    "start_time": "2022-06-29T10:15:12.571Z"
   },
   {
    "duration": 20,
    "start_time": "2022-06-29T10:15:12.576Z"
   },
   {
    "duration": 4777,
    "start_time": "2022-06-29T10:15:12.598Z"
   },
   {
    "duration": 0,
    "start_time": "2022-06-29T10:15:17.377Z"
   },
   {
    "duration": 0,
    "start_time": "2022-06-29T10:15:17.378Z"
   },
   {
    "duration": 0,
    "start_time": "2022-06-29T10:15:17.378Z"
   },
   {
    "duration": 0,
    "start_time": "2022-06-29T10:15:17.379Z"
   },
   {
    "duration": 0,
    "start_time": "2022-06-29T10:15:17.380Z"
   },
   {
    "duration": 0,
    "start_time": "2022-06-29T10:15:17.381Z"
   },
   {
    "duration": 0,
    "start_time": "2022-06-29T10:15:17.383Z"
   },
   {
    "duration": 0,
    "start_time": "2022-06-29T10:15:17.383Z"
   },
   {
    "duration": 0,
    "start_time": "2022-06-29T10:15:17.384Z"
   },
   {
    "duration": 0,
    "start_time": "2022-06-29T10:15:17.386Z"
   },
   {
    "duration": 0,
    "start_time": "2022-06-29T10:15:17.387Z"
   },
   {
    "duration": 0,
    "start_time": "2022-06-29T10:15:17.387Z"
   },
   {
    "duration": 0,
    "start_time": "2022-06-29T10:15:17.388Z"
   },
   {
    "duration": 0,
    "start_time": "2022-06-29T10:15:17.389Z"
   },
   {
    "duration": 0,
    "start_time": "2022-06-29T10:15:17.390Z"
   },
   {
    "duration": 0,
    "start_time": "2022-06-29T10:15:17.391Z"
   },
   {
    "duration": 0,
    "start_time": "2022-06-29T10:15:17.392Z"
   },
   {
    "duration": 0,
    "start_time": "2022-06-29T10:15:17.393Z"
   },
   {
    "duration": 0,
    "start_time": "2022-06-29T10:15:17.394Z"
   },
   {
    "duration": 0,
    "start_time": "2022-06-29T10:15:17.394Z"
   },
   {
    "duration": 0,
    "start_time": "2022-06-29T10:15:17.396Z"
   },
   {
    "duration": 0,
    "start_time": "2022-06-29T10:15:17.397Z"
   },
   {
    "duration": 0,
    "start_time": "2022-06-29T10:15:17.398Z"
   },
   {
    "duration": 0,
    "start_time": "2022-06-29T10:15:17.398Z"
   },
   {
    "duration": 0,
    "start_time": "2022-06-29T10:15:17.399Z"
   },
   {
    "duration": 130,
    "start_time": "2022-06-29T10:16:16.300Z"
   },
   {
    "duration": 10,
    "start_time": "2022-06-29T10:18:29.264Z"
   },
   {
    "duration": 6,
    "start_time": "2022-06-29T10:18:36.043Z"
   },
   {
    "duration": 5,
    "start_time": "2022-06-29T10:18:55.118Z"
   },
   {
    "duration": 6,
    "start_time": "2022-06-29T10:21:16.965Z"
   },
   {
    "duration": 4,
    "start_time": "2022-06-29T10:26:35.638Z"
   },
   {
    "duration": 4,
    "start_time": "2022-06-29T10:26:51.381Z"
   },
   {
    "duration": 5,
    "start_time": "2022-06-29T10:27:40.822Z"
   },
   {
    "duration": 5,
    "start_time": "2022-06-29T10:28:06.734Z"
   },
   {
    "duration": 5,
    "start_time": "2022-06-29T10:28:38.585Z"
   },
   {
    "duration": 5,
    "start_time": "2022-06-29T10:30:04.711Z"
   },
   {
    "duration": 5,
    "start_time": "2022-06-29T10:30:20.366Z"
   },
   {
    "duration": 5,
    "start_time": "2022-06-29T10:32:08.245Z"
   },
   {
    "duration": 5,
    "start_time": "2022-06-29T10:32:28.390Z"
   },
   {
    "duration": 5,
    "start_time": "2022-06-29T10:32:52.287Z"
   },
   {
    "duration": 5,
    "start_time": "2022-06-29T10:33:22.810Z"
   },
   {
    "duration": 6,
    "start_time": "2022-06-29T10:33:47.877Z"
   },
   {
    "duration": 8,
    "start_time": "2022-06-29T10:33:56.595Z"
   },
   {
    "duration": 6,
    "start_time": "2022-06-29T10:34:35.736Z"
   },
   {
    "duration": 6,
    "start_time": "2022-06-29T10:34:48.330Z"
   },
   {
    "duration": 5,
    "start_time": "2022-06-29T10:35:39.743Z"
   },
   {
    "duration": 6,
    "start_time": "2022-06-29T10:35:54.781Z"
   },
   {
    "duration": 5,
    "start_time": "2022-06-29T10:36:01.208Z"
   },
   {
    "duration": 5,
    "start_time": "2022-06-29T10:36:56.212Z"
   },
   {
    "duration": 7,
    "start_time": "2022-06-29T10:37:04.444Z"
   },
   {
    "duration": 869,
    "start_time": "2022-06-29T15:37:10.038Z"
   },
   {
    "duration": 140,
    "start_time": "2022-06-29T15:37:10.910Z"
   },
   {
    "duration": 5,
    "start_time": "2022-06-29T15:37:11.052Z"
   },
   {
    "duration": 128,
    "start_time": "2022-06-29T15:37:11.059Z"
   },
   {
    "duration": 2076,
    "start_time": "2022-06-29T15:37:11.189Z"
   },
   {
    "duration": 9,
    "start_time": "2022-06-29T15:37:13.267Z"
   },
   {
    "duration": 15,
    "start_time": "2022-06-29T15:37:13.278Z"
   },
   {
    "duration": 18,
    "start_time": "2022-06-29T15:37:13.295Z"
   },
   {
    "duration": 50,
    "start_time": "2022-06-29T15:37:13.315Z"
   },
   {
    "duration": 3,
    "start_time": "2022-06-29T15:37:13.367Z"
   },
   {
    "duration": 7,
    "start_time": "2022-06-29T15:37:13.372Z"
   },
   {
    "duration": 131,
    "start_time": "2022-06-29T15:37:13.382Z"
   },
   {
    "duration": 0,
    "start_time": "2022-06-29T15:37:13.516Z"
   },
   {
    "duration": 0,
    "start_time": "2022-06-29T15:37:13.517Z"
   },
   {
    "duration": 0,
    "start_time": "2022-06-29T15:37:13.526Z"
   },
   {
    "duration": 0,
    "start_time": "2022-06-29T15:37:13.527Z"
   },
   {
    "duration": 0,
    "start_time": "2022-06-29T15:37:13.528Z"
   },
   {
    "duration": 0,
    "start_time": "2022-06-29T15:37:13.529Z"
   },
   {
    "duration": 0,
    "start_time": "2022-06-29T15:37:13.532Z"
   },
   {
    "duration": 0,
    "start_time": "2022-06-29T15:37:13.533Z"
   },
   {
    "duration": 0,
    "start_time": "2022-06-29T15:37:13.534Z"
   },
   {
    "duration": 0,
    "start_time": "2022-06-29T15:37:13.536Z"
   },
   {
    "duration": 0,
    "start_time": "2022-06-29T15:37:13.537Z"
   },
   {
    "duration": 0,
    "start_time": "2022-06-29T15:37:13.538Z"
   },
   {
    "duration": 0,
    "start_time": "2022-06-29T15:37:13.539Z"
   },
   {
    "duration": 0,
    "start_time": "2022-06-29T15:37:13.540Z"
   },
   {
    "duration": 0,
    "start_time": "2022-06-29T15:37:13.541Z"
   },
   {
    "duration": 0,
    "start_time": "2022-06-29T15:37:13.542Z"
   },
   {
    "duration": 0,
    "start_time": "2022-06-29T15:37:13.543Z"
   },
   {
    "duration": 0,
    "start_time": "2022-06-29T15:37:13.544Z"
   },
   {
    "duration": 0,
    "start_time": "2022-06-29T15:37:13.545Z"
   },
   {
    "duration": 0,
    "start_time": "2022-06-29T15:37:13.546Z"
   },
   {
    "duration": 1,
    "start_time": "2022-06-29T15:37:13.547Z"
   },
   {
    "duration": 0,
    "start_time": "2022-06-29T15:37:13.548Z"
   },
   {
    "duration": 0,
    "start_time": "2022-06-29T15:37:13.550Z"
   },
   {
    "duration": 0,
    "start_time": "2022-06-29T15:37:13.551Z"
   },
   {
    "duration": 0,
    "start_time": "2022-06-29T15:37:13.552Z"
   },
   {
    "duration": 24,
    "start_time": "2022-06-29T15:39:14.786Z"
   },
   {
    "duration": 15,
    "start_time": "2022-06-29T15:39:37.449Z"
   },
   {
    "duration": 59,
    "start_time": "2022-06-29T15:39:46.734Z"
   },
   {
    "duration": 9,
    "start_time": "2022-06-29T15:44:40.966Z"
   },
   {
    "duration": 614,
    "start_time": "2022-06-29T15:44:49.670Z"
   },
   {
    "duration": 93,
    "start_time": "2022-06-29T15:44:50.286Z"
   },
   {
    "duration": 6,
    "start_time": "2022-06-29T15:44:50.381Z"
   },
   {
    "duration": 142,
    "start_time": "2022-06-29T15:44:50.389Z"
   },
   {
    "duration": 2115,
    "start_time": "2022-06-29T15:44:50.534Z"
   },
   {
    "duration": 10,
    "start_time": "2022-06-29T15:44:52.652Z"
   },
   {
    "duration": 21,
    "start_time": "2022-06-29T15:44:52.664Z"
   },
   {
    "duration": 83,
    "start_time": "2022-06-29T15:44:52.687Z"
   },
   {
    "duration": 0,
    "start_time": "2022-06-29T15:44:52.772Z"
   },
   {
    "duration": 0,
    "start_time": "2022-06-29T15:44:52.773Z"
   },
   {
    "duration": 0,
    "start_time": "2022-06-29T15:44:52.774Z"
   },
   {
    "duration": 0,
    "start_time": "2022-06-29T15:44:52.775Z"
   },
   {
    "duration": 0,
    "start_time": "2022-06-29T15:44:52.776Z"
   },
   {
    "duration": 0,
    "start_time": "2022-06-29T15:44:52.777Z"
   },
   {
    "duration": 0,
    "start_time": "2022-06-29T15:44:52.778Z"
   },
   {
    "duration": 0,
    "start_time": "2022-06-29T15:44:52.779Z"
   },
   {
    "duration": 0,
    "start_time": "2022-06-29T15:44:52.780Z"
   },
   {
    "duration": 0,
    "start_time": "2022-06-29T15:44:52.781Z"
   },
   {
    "duration": 0,
    "start_time": "2022-06-29T15:44:52.782Z"
   },
   {
    "duration": 0,
    "start_time": "2022-06-29T15:44:52.783Z"
   },
   {
    "duration": 0,
    "start_time": "2022-06-29T15:44:52.784Z"
   },
   {
    "duration": 0,
    "start_time": "2022-06-29T15:44:52.785Z"
   },
   {
    "duration": 0,
    "start_time": "2022-06-29T15:44:52.786Z"
   },
   {
    "duration": 0,
    "start_time": "2022-06-29T15:44:52.787Z"
   },
   {
    "duration": 0,
    "start_time": "2022-06-29T15:44:52.789Z"
   },
   {
    "duration": 0,
    "start_time": "2022-06-29T15:44:52.790Z"
   },
   {
    "duration": 0,
    "start_time": "2022-06-29T15:44:52.791Z"
   },
   {
    "duration": 0,
    "start_time": "2022-06-29T15:44:52.826Z"
   },
   {
    "duration": 0,
    "start_time": "2022-06-29T15:44:52.827Z"
   },
   {
    "duration": 0,
    "start_time": "2022-06-29T15:44:52.828Z"
   },
   {
    "duration": 0,
    "start_time": "2022-06-29T15:44:52.829Z"
   },
   {
    "duration": 0,
    "start_time": "2022-06-29T15:44:52.830Z"
   },
   {
    "duration": 0,
    "start_time": "2022-06-29T15:44:52.831Z"
   },
   {
    "duration": 0,
    "start_time": "2022-06-29T15:44:52.832Z"
   },
   {
    "duration": 0,
    "start_time": "2022-06-29T15:44:52.833Z"
   },
   {
    "duration": 0,
    "start_time": "2022-06-29T15:44:52.834Z"
   },
   {
    "duration": 0,
    "start_time": "2022-06-29T15:44:52.835Z"
   },
   {
    "duration": 45,
    "start_time": "2022-06-29T15:45:50.415Z"
   },
   {
    "duration": 97,
    "start_time": "2022-06-29T15:46:18.538Z"
   },
   {
    "duration": 417,
    "start_time": "2022-06-29T15:47:23.482Z"
   },
   {
    "duration": 681,
    "start_time": "2022-06-29T15:47:32.718Z"
   },
   {
    "duration": 98,
    "start_time": "2022-06-29T15:47:33.401Z"
   },
   {
    "duration": 5,
    "start_time": "2022-06-29T15:47:33.501Z"
   },
   {
    "duration": 135,
    "start_time": "2022-06-29T15:47:33.508Z"
   },
   {
    "duration": 1924,
    "start_time": "2022-06-29T15:47:33.645Z"
   },
   {
    "duration": 9,
    "start_time": "2022-06-29T15:47:35.571Z"
   },
   {
    "duration": 15,
    "start_time": "2022-06-29T15:47:35.581Z"
   },
   {
    "duration": 572,
    "start_time": "2022-06-29T15:47:35.597Z"
   },
   {
    "duration": 0,
    "start_time": "2022-06-29T15:47:36.172Z"
   },
   {
    "duration": 0,
    "start_time": "2022-06-29T15:47:36.173Z"
   },
   {
    "duration": 0,
    "start_time": "2022-06-29T15:47:36.175Z"
   },
   {
    "duration": 0,
    "start_time": "2022-06-29T15:47:36.176Z"
   },
   {
    "duration": 0,
    "start_time": "2022-06-29T15:47:36.178Z"
   },
   {
    "duration": 0,
    "start_time": "2022-06-29T15:47:36.179Z"
   },
   {
    "duration": 0,
    "start_time": "2022-06-29T15:47:36.181Z"
   },
   {
    "duration": 0,
    "start_time": "2022-06-29T15:47:36.182Z"
   },
   {
    "duration": 0,
    "start_time": "2022-06-29T15:47:36.184Z"
   },
   {
    "duration": 0,
    "start_time": "2022-06-29T15:47:36.185Z"
   },
   {
    "duration": 0,
    "start_time": "2022-06-29T15:47:36.187Z"
   },
   {
    "duration": 0,
    "start_time": "2022-06-29T15:47:36.188Z"
   },
   {
    "duration": 0,
    "start_time": "2022-06-29T15:47:36.189Z"
   },
   {
    "duration": 0,
    "start_time": "2022-06-29T15:47:36.190Z"
   },
   {
    "duration": 0,
    "start_time": "2022-06-29T15:47:36.191Z"
   },
   {
    "duration": 0,
    "start_time": "2022-06-29T15:47:36.192Z"
   },
   {
    "duration": 0,
    "start_time": "2022-06-29T15:47:36.193Z"
   },
   {
    "duration": 0,
    "start_time": "2022-06-29T15:47:36.194Z"
   },
   {
    "duration": 0,
    "start_time": "2022-06-29T15:47:36.195Z"
   },
   {
    "duration": 0,
    "start_time": "2022-06-29T15:47:36.196Z"
   },
   {
    "duration": 0,
    "start_time": "2022-06-29T15:47:36.197Z"
   },
   {
    "duration": 0,
    "start_time": "2022-06-29T15:47:36.198Z"
   },
   {
    "duration": 0,
    "start_time": "2022-06-29T15:47:36.199Z"
   },
   {
    "duration": 0,
    "start_time": "2022-06-29T15:47:36.200Z"
   },
   {
    "duration": 0,
    "start_time": "2022-06-29T15:47:36.201Z"
   },
   {
    "duration": 0,
    "start_time": "2022-06-29T15:47:36.202Z"
   },
   {
    "duration": 0,
    "start_time": "2022-06-29T15:47:36.203Z"
   },
   {
    "duration": 0,
    "start_time": "2022-06-29T15:47:36.205Z"
   },
   {
    "duration": 0,
    "start_time": "2022-06-29T15:47:36.206Z"
   },
   {
    "duration": 302,
    "start_time": "2022-06-29T15:48:02.213Z"
   },
   {
    "duration": 43,
    "start_time": "2022-06-29T15:48:19.907Z"
   },
   {
    "duration": 73,
    "start_time": "2022-06-29T15:48:53.241Z"
   },
   {
    "duration": 130,
    "start_time": "2022-06-29T15:49:02.584Z"
   },
   {
    "duration": 599,
    "start_time": "2022-06-29T15:49:25.779Z"
   },
   {
    "duration": 102,
    "start_time": "2022-06-29T15:49:26.380Z"
   },
   {
    "duration": 6,
    "start_time": "2022-06-29T15:49:26.484Z"
   },
   {
    "duration": 137,
    "start_time": "2022-06-29T15:49:26.492Z"
   },
   {
    "duration": 2077,
    "start_time": "2022-06-29T15:49:26.632Z"
   },
   {
    "duration": 8,
    "start_time": "2022-06-29T15:49:28.711Z"
   },
   {
    "duration": 15,
    "start_time": "2022-06-29T15:49:28.720Z"
   },
   {
    "duration": 42,
    "start_time": "2022-06-29T15:49:28.736Z"
   },
   {
    "duration": 54,
    "start_time": "2022-06-29T15:49:28.779Z"
   },
   {
    "duration": 2,
    "start_time": "2022-06-29T15:49:28.836Z"
   },
   {
    "duration": 7,
    "start_time": "2022-06-29T15:49:28.840Z"
   },
   {
    "duration": 105,
    "start_time": "2022-06-29T15:49:28.848Z"
   },
   {
    "duration": 0,
    "start_time": "2022-06-29T15:49:28.955Z"
   },
   {
    "duration": 0,
    "start_time": "2022-06-29T15:49:28.957Z"
   },
   {
    "duration": 0,
    "start_time": "2022-06-29T15:49:28.958Z"
   },
   {
    "duration": 0,
    "start_time": "2022-06-29T15:49:28.958Z"
   },
   {
    "duration": 0,
    "start_time": "2022-06-29T15:49:28.959Z"
   },
   {
    "duration": 0,
    "start_time": "2022-06-29T15:49:28.961Z"
   },
   {
    "duration": 0,
    "start_time": "2022-06-29T15:49:28.962Z"
   },
   {
    "duration": 0,
    "start_time": "2022-06-29T15:49:28.963Z"
   },
   {
    "duration": 0,
    "start_time": "2022-06-29T15:49:28.964Z"
   },
   {
    "duration": 0,
    "start_time": "2022-06-29T15:49:28.965Z"
   },
   {
    "duration": 0,
    "start_time": "2022-06-29T15:49:28.966Z"
   },
   {
    "duration": 0,
    "start_time": "2022-06-29T15:49:28.967Z"
   },
   {
    "duration": 0,
    "start_time": "2022-06-29T15:49:28.969Z"
   },
   {
    "duration": 0,
    "start_time": "2022-06-29T15:49:28.970Z"
   },
   {
    "duration": 0,
    "start_time": "2022-06-29T15:49:28.970Z"
   },
   {
    "duration": 0,
    "start_time": "2022-06-29T15:49:28.972Z"
   },
   {
    "duration": 0,
    "start_time": "2022-06-29T15:49:28.973Z"
   },
   {
    "duration": 0,
    "start_time": "2022-06-29T15:49:28.974Z"
   },
   {
    "duration": 0,
    "start_time": "2022-06-29T15:49:28.975Z"
   },
   {
    "duration": 0,
    "start_time": "2022-06-29T15:49:28.976Z"
   },
   {
    "duration": 0,
    "start_time": "2022-06-29T15:49:28.977Z"
   },
   {
    "duration": 0,
    "start_time": "2022-06-29T15:49:28.978Z"
   },
   {
    "duration": 0,
    "start_time": "2022-06-29T15:49:28.980Z"
   },
   {
    "duration": 0,
    "start_time": "2022-06-29T15:49:28.981Z"
   },
   {
    "duration": 0,
    "start_time": "2022-06-29T15:49:29.026Z"
   },
   {
    "duration": 62,
    "start_time": "2022-06-29T15:53:30.063Z"
   },
   {
    "duration": 616,
    "start_time": "2022-06-29T15:53:56.169Z"
   },
   {
    "duration": 96,
    "start_time": "2022-06-29T15:53:56.787Z"
   },
   {
    "duration": 4,
    "start_time": "2022-06-29T15:53:56.885Z"
   },
   {
    "duration": 147,
    "start_time": "2022-06-29T15:53:56.891Z"
   },
   {
    "duration": 1962,
    "start_time": "2022-06-29T15:53:57.040Z"
   },
   {
    "duration": 10,
    "start_time": "2022-06-29T15:53:59.004Z"
   },
   {
    "duration": 14,
    "start_time": "2022-06-29T15:53:59.015Z"
   },
   {
    "duration": 42,
    "start_time": "2022-06-29T15:53:59.030Z"
   },
   {
    "duration": 55,
    "start_time": "2022-06-29T15:53:59.074Z"
   },
   {
    "duration": 3,
    "start_time": "2022-06-29T15:53:59.132Z"
   },
   {
    "duration": 5,
    "start_time": "2022-06-29T15:53:59.136Z"
   },
   {
    "duration": 101,
    "start_time": "2022-06-29T15:53:59.143Z"
   },
   {
    "duration": 0,
    "start_time": "2022-06-29T15:53:59.246Z"
   },
   {
    "duration": 0,
    "start_time": "2022-06-29T15:53:59.247Z"
   },
   {
    "duration": 0,
    "start_time": "2022-06-29T15:53:59.248Z"
   },
   {
    "duration": 0,
    "start_time": "2022-06-29T15:53:59.249Z"
   },
   {
    "duration": 0,
    "start_time": "2022-06-29T15:53:59.250Z"
   },
   {
    "duration": 0,
    "start_time": "2022-06-29T15:53:59.251Z"
   },
   {
    "duration": 0,
    "start_time": "2022-06-29T15:53:59.252Z"
   },
   {
    "duration": 0,
    "start_time": "2022-06-29T15:53:59.253Z"
   },
   {
    "duration": 0,
    "start_time": "2022-06-29T15:53:59.254Z"
   },
   {
    "duration": 0,
    "start_time": "2022-06-29T15:53:59.256Z"
   },
   {
    "duration": 0,
    "start_time": "2022-06-29T15:53:59.257Z"
   },
   {
    "duration": 0,
    "start_time": "2022-06-29T15:53:59.258Z"
   },
   {
    "duration": 0,
    "start_time": "2022-06-29T15:53:59.258Z"
   },
   {
    "duration": 0,
    "start_time": "2022-06-29T15:53:59.260Z"
   },
   {
    "duration": 0,
    "start_time": "2022-06-29T15:53:59.261Z"
   },
   {
    "duration": 0,
    "start_time": "2022-06-29T15:53:59.262Z"
   },
   {
    "duration": 0,
    "start_time": "2022-06-29T15:53:59.263Z"
   },
   {
    "duration": 0,
    "start_time": "2022-06-29T15:53:59.264Z"
   },
   {
    "duration": 0,
    "start_time": "2022-06-29T15:53:59.265Z"
   },
   {
    "duration": 0,
    "start_time": "2022-06-29T15:53:59.266Z"
   },
   {
    "duration": 0,
    "start_time": "2022-06-29T15:53:59.268Z"
   },
   {
    "duration": 0,
    "start_time": "2022-06-29T15:53:59.269Z"
   },
   {
    "duration": 0,
    "start_time": "2022-06-29T15:53:59.270Z"
   },
   {
    "duration": 0,
    "start_time": "2022-06-29T15:53:59.272Z"
   },
   {
    "duration": 0,
    "start_time": "2022-06-29T15:53:59.273Z"
   },
   {
    "duration": 76,
    "start_time": "2022-06-29T16:08:16.612Z"
   },
   {
    "duration": 16,
    "start_time": "2022-06-29T16:11:18.278Z"
   },
   {
    "duration": 3,
    "start_time": "2022-06-29T16:11:20.368Z"
   },
   {
    "duration": 23,
    "start_time": "2022-06-29T16:11:29.854Z"
   },
   {
    "duration": 10,
    "start_time": "2022-06-29T16:34:26.464Z"
   },
   {
    "duration": 11,
    "start_time": "2022-06-29T16:34:50.864Z"
   },
   {
    "duration": 12,
    "start_time": "2022-06-29T16:35:48.980Z"
   },
   {
    "duration": 57,
    "start_time": "2022-06-29T16:41:44.338Z"
   },
   {
    "duration": 33,
    "start_time": "2022-06-29T16:44:05.308Z"
   },
   {
    "duration": 708,
    "start_time": "2022-06-29T16:44:29.626Z"
   },
   {
    "duration": 101,
    "start_time": "2022-06-29T16:44:30.336Z"
   },
   {
    "duration": 6,
    "start_time": "2022-06-29T16:44:30.439Z"
   },
   {
    "duration": 160,
    "start_time": "2022-06-29T16:44:30.449Z"
   },
   {
    "duration": 2151,
    "start_time": "2022-06-29T16:44:30.611Z"
   },
   {
    "duration": 15,
    "start_time": "2022-06-29T16:44:32.764Z"
   },
   {
    "duration": 17,
    "start_time": "2022-06-29T16:44:32.781Z"
   },
   {
    "duration": 70,
    "start_time": "2022-06-29T16:44:32.800Z"
   },
   {
    "duration": 58,
    "start_time": "2022-06-29T16:44:32.873Z"
   },
   {
    "duration": 0,
    "start_time": "2022-06-29T16:44:32.935Z"
   },
   {
    "duration": 0,
    "start_time": "2022-06-29T16:44:32.936Z"
   },
   {
    "duration": 0,
    "start_time": "2022-06-29T16:44:32.938Z"
   },
   {
    "duration": 0,
    "start_time": "2022-06-29T16:44:32.939Z"
   },
   {
    "duration": 0,
    "start_time": "2022-06-29T16:44:32.941Z"
   },
   {
    "duration": 0,
    "start_time": "2022-06-29T16:44:32.942Z"
   },
   {
    "duration": 0,
    "start_time": "2022-06-29T16:44:32.944Z"
   },
   {
    "duration": 0,
    "start_time": "2022-06-29T16:44:32.945Z"
   },
   {
    "duration": 0,
    "start_time": "2022-06-29T16:44:32.947Z"
   },
   {
    "duration": 0,
    "start_time": "2022-06-29T16:44:32.949Z"
   },
   {
    "duration": 0,
    "start_time": "2022-06-29T16:44:32.950Z"
   },
   {
    "duration": 0,
    "start_time": "2022-06-29T16:44:32.952Z"
   },
   {
    "duration": 0,
    "start_time": "2022-06-29T16:44:32.953Z"
   },
   {
    "duration": 0,
    "start_time": "2022-06-29T16:44:32.955Z"
   },
   {
    "duration": 0,
    "start_time": "2022-06-29T16:44:32.956Z"
   },
   {
    "duration": 0,
    "start_time": "2022-06-29T16:44:32.957Z"
   },
   {
    "duration": 0,
    "start_time": "2022-06-29T16:44:32.959Z"
   },
   {
    "duration": 0,
    "start_time": "2022-06-29T16:44:32.960Z"
   },
   {
    "duration": 0,
    "start_time": "2022-06-29T16:44:32.961Z"
   },
   {
    "duration": 0,
    "start_time": "2022-06-29T16:44:32.963Z"
   },
   {
    "duration": 0,
    "start_time": "2022-06-29T16:44:32.965Z"
   },
   {
    "duration": 0,
    "start_time": "2022-06-29T16:44:32.966Z"
   },
   {
    "duration": 0,
    "start_time": "2022-06-29T16:44:32.967Z"
   },
   {
    "duration": 0,
    "start_time": "2022-06-29T16:44:32.969Z"
   },
   {
    "duration": 0,
    "start_time": "2022-06-29T16:44:32.970Z"
   },
   {
    "duration": 0,
    "start_time": "2022-06-29T16:44:32.971Z"
   },
   {
    "duration": 0,
    "start_time": "2022-06-29T16:44:32.973Z"
   },
   {
    "duration": 0,
    "start_time": "2022-06-29T16:44:32.975Z"
   },
   {
    "duration": 22,
    "start_time": "2022-06-29T16:45:08.361Z"
   },
   {
    "duration": 22,
    "start_time": "2022-06-29T16:45:54.250Z"
   },
   {
    "duration": 19,
    "start_time": "2022-06-29T16:46:19.668Z"
   },
   {
    "duration": 139,
    "start_time": "2022-06-29T16:47:51.550Z"
   },
   {
    "duration": 26,
    "start_time": "2022-06-29T16:48:24.158Z"
   },
   {
    "duration": 26,
    "start_time": "2022-06-29T16:48:49.200Z"
   },
   {
    "duration": 638,
    "start_time": "2022-06-29T16:54:07.567Z"
   },
   {
    "duration": 116,
    "start_time": "2022-06-29T16:54:08.208Z"
   },
   {
    "duration": 11,
    "start_time": "2022-06-29T16:54:08.326Z"
   },
   {
    "duration": 137,
    "start_time": "2022-06-29T16:54:08.343Z"
   },
   {
    "duration": 2116,
    "start_time": "2022-06-29T16:54:08.482Z"
   },
   {
    "duration": 9,
    "start_time": "2022-06-29T16:54:10.601Z"
   },
   {
    "duration": 15,
    "start_time": "2022-06-29T16:54:10.612Z"
   },
   {
    "duration": 49,
    "start_time": "2022-06-29T16:54:10.629Z"
   },
   {
    "duration": 27,
    "start_time": "2022-06-29T16:54:10.680Z"
   },
   {
    "duration": 9,
    "start_time": "2022-06-29T16:54:10.730Z"
   },
   {
    "duration": 12,
    "start_time": "2022-06-29T16:54:10.742Z"
   },
   {
    "duration": 5833,
    "start_time": "2022-06-29T16:54:10.756Z"
   },
   {
    "duration": 0,
    "start_time": "2022-06-29T16:54:16.593Z"
   },
   {
    "duration": 0,
    "start_time": "2022-06-29T16:54:16.594Z"
   },
   {
    "duration": 0,
    "start_time": "2022-06-29T16:54:16.596Z"
   },
   {
    "duration": 0,
    "start_time": "2022-06-29T16:54:16.597Z"
   },
   {
    "duration": 0,
    "start_time": "2022-06-29T16:54:16.599Z"
   },
   {
    "duration": 0,
    "start_time": "2022-06-29T16:54:16.600Z"
   },
   {
    "duration": 0,
    "start_time": "2022-06-29T16:54:16.602Z"
   },
   {
    "duration": 0,
    "start_time": "2022-06-29T16:54:16.603Z"
   },
   {
    "duration": 0,
    "start_time": "2022-06-29T16:54:16.629Z"
   },
   {
    "duration": 0,
    "start_time": "2022-06-29T16:54:16.634Z"
   },
   {
    "duration": 0,
    "start_time": "2022-06-29T16:54:16.635Z"
   },
   {
    "duration": 0,
    "start_time": "2022-06-29T16:54:16.636Z"
   },
   {
    "duration": 0,
    "start_time": "2022-06-29T16:54:16.637Z"
   },
   {
    "duration": 0,
    "start_time": "2022-06-29T16:54:16.638Z"
   },
   {
    "duration": 0,
    "start_time": "2022-06-29T16:54:16.638Z"
   },
   {
    "duration": 0,
    "start_time": "2022-06-29T16:54:16.639Z"
   },
   {
    "duration": 0,
    "start_time": "2022-06-29T16:54:16.648Z"
   },
   {
    "duration": 0,
    "start_time": "2022-06-29T16:54:16.649Z"
   },
   {
    "duration": 0,
    "start_time": "2022-06-29T16:54:16.649Z"
   },
   {
    "duration": 0,
    "start_time": "2022-06-29T16:54:16.650Z"
   },
   {
    "duration": 0,
    "start_time": "2022-06-29T16:54:16.652Z"
   },
   {
    "duration": 0,
    "start_time": "2022-06-29T16:54:16.653Z"
   },
   {
    "duration": 0,
    "start_time": "2022-06-29T16:54:16.654Z"
   },
   {
    "duration": 0,
    "start_time": "2022-06-29T16:54:16.655Z"
   },
   {
    "duration": 0,
    "start_time": "2022-06-29T16:54:16.656Z"
   },
   {
    "duration": 9,
    "start_time": "2022-06-29T17:04:10.372Z"
   },
   {
    "duration": 18,
    "start_time": "2022-06-29T17:04:23.059Z"
   },
   {
    "duration": 338,
    "start_time": "2022-06-29T17:10:01.050Z"
   },
   {
    "duration": 237,
    "start_time": "2022-06-29T17:11:04.751Z"
   },
   {
    "duration": 106,
    "start_time": "2022-06-29T17:11:39.689Z"
   },
   {
    "duration": 43,
    "start_time": "2022-06-29T17:11:58.554Z"
   },
   {
    "duration": 1576,
    "start_time": "2022-06-29T17:15:04.643Z"
   },
   {
    "duration": 148,
    "start_time": "2022-06-29T17:15:59.806Z"
   },
   {
    "duration": 7,
    "start_time": "2022-06-29T17:16:33.886Z"
   },
   {
    "duration": 8,
    "start_time": "2022-06-29T17:17:10.203Z"
   },
   {
    "duration": 8,
    "start_time": "2022-06-29T17:19:20.048Z"
   },
   {
    "duration": 10,
    "start_time": "2022-06-29T17:19:58.508Z"
   },
   {
    "duration": 8,
    "start_time": "2022-06-29T17:21:24.362Z"
   },
   {
    "duration": 9,
    "start_time": "2022-06-29T17:21:44.571Z"
   },
   {
    "duration": 8,
    "start_time": "2022-06-29T17:21:50.443Z"
   },
   {
    "duration": 9,
    "start_time": "2022-06-29T17:22:03.527Z"
   },
   {
    "duration": 16,
    "start_time": "2022-06-29T17:22:32.315Z"
   },
   {
    "duration": 55,
    "start_time": "2022-06-29T17:23:46.149Z"
   },
   {
    "duration": 16,
    "start_time": "2022-06-29T17:24:01.888Z"
   },
   {
    "duration": 18,
    "start_time": "2022-06-29T17:24:51.168Z"
   },
   {
    "duration": 162,
    "start_time": "2022-06-29T17:25:43.558Z"
   },
   {
    "duration": 879,
    "start_time": "2022-06-30T05:18:46.225Z"
   },
   {
    "duration": 142,
    "start_time": "2022-06-30T05:18:47.106Z"
   },
   {
    "duration": 6,
    "start_time": "2022-06-30T05:18:47.250Z"
   },
   {
    "duration": 146,
    "start_time": "2022-06-30T05:18:47.258Z"
   },
   {
    "duration": 1904,
    "start_time": "2022-06-30T05:18:47.406Z"
   },
   {
    "duration": 9,
    "start_time": "2022-06-30T05:18:49.312Z"
   },
   {
    "duration": 15,
    "start_time": "2022-06-30T05:18:49.322Z"
   },
   {
    "duration": 37,
    "start_time": "2022-06-30T05:18:49.338Z"
   },
   {
    "duration": 5,
    "start_time": "2022-06-30T05:18:49.377Z"
   },
   {
    "duration": 8,
    "start_time": "2022-06-30T05:18:49.385Z"
   },
   {
    "duration": 4,
    "start_time": "2022-06-30T05:18:49.394Z"
   },
   {
    "duration": 5211,
    "start_time": "2022-06-30T05:18:49.400Z"
   },
   {
    "duration": 0,
    "start_time": "2022-06-30T05:18:54.612Z"
   },
   {
    "duration": 0,
    "start_time": "2022-06-30T05:18:54.613Z"
   },
   {
    "duration": 0,
    "start_time": "2022-06-30T05:18:54.614Z"
   },
   {
    "duration": 0,
    "start_time": "2022-06-30T05:18:54.615Z"
   },
   {
    "duration": 0,
    "start_time": "2022-06-30T05:18:54.616Z"
   },
   {
    "duration": 0,
    "start_time": "2022-06-30T05:18:54.617Z"
   },
   {
    "duration": 0,
    "start_time": "2022-06-30T05:18:54.618Z"
   },
   {
    "duration": 0,
    "start_time": "2022-06-30T05:18:54.627Z"
   },
   {
    "duration": 0,
    "start_time": "2022-06-30T05:18:54.628Z"
   },
   {
    "duration": 0,
    "start_time": "2022-06-30T05:18:54.630Z"
   },
   {
    "duration": 0,
    "start_time": "2022-06-30T05:18:54.632Z"
   },
   {
    "duration": 0,
    "start_time": "2022-06-30T05:18:54.634Z"
   },
   {
    "duration": 0,
    "start_time": "2022-06-30T05:18:54.635Z"
   },
   {
    "duration": 0,
    "start_time": "2022-06-30T05:18:54.636Z"
   },
   {
    "duration": 0,
    "start_time": "2022-06-30T05:18:54.637Z"
   },
   {
    "duration": 0,
    "start_time": "2022-06-30T05:18:54.639Z"
   },
   {
    "duration": 0,
    "start_time": "2022-06-30T05:18:54.640Z"
   },
   {
    "duration": 0,
    "start_time": "2022-06-30T05:18:54.641Z"
   },
   {
    "duration": 0,
    "start_time": "2022-06-30T05:18:54.643Z"
   },
   {
    "duration": 0,
    "start_time": "2022-06-30T05:18:54.644Z"
   },
   {
    "duration": 0,
    "start_time": "2022-06-30T05:18:54.646Z"
   },
   {
    "duration": 0,
    "start_time": "2022-06-30T05:18:54.647Z"
   },
   {
    "duration": 0,
    "start_time": "2022-06-30T05:18:54.649Z"
   },
   {
    "duration": 0,
    "start_time": "2022-06-30T05:18:54.650Z"
   },
   {
    "duration": 0,
    "start_time": "2022-06-30T05:18:54.651Z"
   },
   {
    "duration": 54,
    "start_time": "2022-06-30T05:22:33.981Z"
   },
   {
    "duration": 6,
    "start_time": "2022-06-30T05:23:26.897Z"
   },
   {
    "duration": 67,
    "start_time": "2022-06-30T05:23:32.008Z"
   },
   {
    "duration": 7,
    "start_time": "2022-06-30T05:23:35.835Z"
   },
   {
    "duration": 3,
    "start_time": "2022-06-30T05:23:40.307Z"
   },
   {
    "duration": 6,
    "start_time": "2022-06-30T05:23:44.944Z"
   },
   {
    "duration": 695,
    "start_time": "2022-06-30T05:23:55.747Z"
   },
   {
    "duration": 109,
    "start_time": "2022-06-30T05:23:56.444Z"
   },
   {
    "duration": 6,
    "start_time": "2022-06-30T05:23:56.555Z"
   },
   {
    "duration": 143,
    "start_time": "2022-06-30T05:23:56.563Z"
   },
   {
    "duration": 1944,
    "start_time": "2022-06-30T05:23:56.707Z"
   },
   {
    "duration": 8,
    "start_time": "2022-06-30T05:23:58.653Z"
   },
   {
    "duration": 15,
    "start_time": "2022-06-30T05:23:58.663Z"
   },
   {
    "duration": 36,
    "start_time": "2022-06-30T05:23:58.679Z"
   },
   {
    "duration": 10,
    "start_time": "2022-06-30T05:23:58.717Z"
   },
   {
    "duration": 6,
    "start_time": "2022-06-30T05:23:58.730Z"
   },
   {
    "duration": 7,
    "start_time": "2022-06-30T05:23:58.738Z"
   },
   {
    "duration": 5160,
    "start_time": "2022-06-30T05:23:58.747Z"
   },
   {
    "duration": 0,
    "start_time": "2022-06-30T05:24:03.909Z"
   },
   {
    "duration": 0,
    "start_time": "2022-06-30T05:24:03.910Z"
   },
   {
    "duration": 0,
    "start_time": "2022-06-30T05:24:03.911Z"
   },
   {
    "duration": 0,
    "start_time": "2022-06-30T05:24:03.912Z"
   },
   {
    "duration": 0,
    "start_time": "2022-06-30T05:24:03.927Z"
   },
   {
    "duration": 1,
    "start_time": "2022-06-30T05:24:03.928Z"
   },
   {
    "duration": 0,
    "start_time": "2022-06-30T05:24:03.930Z"
   },
   {
    "duration": 0,
    "start_time": "2022-06-30T05:24:03.931Z"
   },
   {
    "duration": 0,
    "start_time": "2022-06-30T05:24:03.933Z"
   },
   {
    "duration": 0,
    "start_time": "2022-06-30T05:24:03.934Z"
   },
   {
    "duration": 0,
    "start_time": "2022-06-30T05:24:03.936Z"
   },
   {
    "duration": 0,
    "start_time": "2022-06-30T05:24:03.937Z"
   },
   {
    "duration": 1,
    "start_time": "2022-06-30T05:24:03.938Z"
   },
   {
    "duration": 0,
    "start_time": "2022-06-30T05:24:03.940Z"
   },
   {
    "duration": 0,
    "start_time": "2022-06-30T05:24:03.941Z"
   },
   {
    "duration": 0,
    "start_time": "2022-06-30T05:24:03.943Z"
   },
   {
    "duration": 0,
    "start_time": "2022-06-30T05:24:03.945Z"
   },
   {
    "duration": 0,
    "start_time": "2022-06-30T05:24:03.947Z"
   },
   {
    "duration": 0,
    "start_time": "2022-06-30T05:24:03.948Z"
   },
   {
    "duration": 0,
    "start_time": "2022-06-30T05:24:03.950Z"
   },
   {
    "duration": 0,
    "start_time": "2022-06-30T05:24:03.952Z"
   },
   {
    "duration": 0,
    "start_time": "2022-06-30T05:24:03.953Z"
   },
   {
    "duration": 0,
    "start_time": "2022-06-30T05:24:03.954Z"
   },
   {
    "duration": 0,
    "start_time": "2022-06-30T05:24:03.956Z"
   },
   {
    "duration": 0,
    "start_time": "2022-06-30T05:24:03.958Z"
   },
   {
    "duration": 7,
    "start_time": "2022-06-30T05:24:22.374Z"
   },
   {
    "duration": 214,
    "start_time": "2022-06-30T05:26:23.287Z"
   },
   {
    "duration": 11,
    "start_time": "2022-06-30T05:27:19.729Z"
   },
   {
    "duration": 6,
    "start_time": "2022-06-30T05:27:24.547Z"
   },
   {
    "duration": 5,
    "start_time": "2022-06-30T05:27:41.178Z"
   },
   {
    "duration": 6,
    "start_time": "2022-06-30T05:28:06.912Z"
   },
   {
    "duration": 5,
    "start_time": "2022-06-30T05:30:09.010Z"
   },
   {
    "duration": 7,
    "start_time": "2022-06-30T05:33:48.937Z"
   },
   {
    "duration": 5293,
    "start_time": "2022-06-30T05:33:59.180Z"
   },
   {
    "duration": 8,
    "start_time": "2022-06-30T05:34:05.220Z"
   },
   {
    "duration": 7,
    "start_time": "2022-06-30T05:36:44.754Z"
   },
   {
    "duration": 9,
    "start_time": "2022-06-30T05:36:52.591Z"
   },
   {
    "duration": 647,
    "start_time": "2022-06-30T05:37:15.358Z"
   },
   {
    "duration": 96,
    "start_time": "2022-06-30T05:37:16.007Z"
   },
   {
    "duration": 4,
    "start_time": "2022-06-30T05:37:16.105Z"
   },
   {
    "duration": 201,
    "start_time": "2022-06-30T05:37:16.111Z"
   },
   {
    "duration": 2132,
    "start_time": "2022-06-30T05:37:16.315Z"
   },
   {
    "duration": 13,
    "start_time": "2022-06-30T05:37:18.449Z"
   },
   {
    "duration": 28,
    "start_time": "2022-06-30T05:37:18.463Z"
   },
   {
    "duration": 48,
    "start_time": "2022-06-30T05:37:18.493Z"
   },
   {
    "duration": 6,
    "start_time": "2022-06-30T05:37:18.543Z"
   },
   {
    "duration": 12,
    "start_time": "2022-06-30T05:37:18.554Z"
   },
   {
    "duration": 11,
    "start_time": "2022-06-30T05:37:18.568Z"
   },
   {
    "duration": 5563,
    "start_time": "2022-06-30T05:37:18.582Z"
   },
   {
    "duration": 0,
    "start_time": "2022-06-30T05:37:24.148Z"
   },
   {
    "duration": 0,
    "start_time": "2022-06-30T05:37:24.149Z"
   },
   {
    "duration": 0,
    "start_time": "2022-06-30T05:37:24.150Z"
   },
   {
    "duration": 0,
    "start_time": "2022-06-30T05:37:24.152Z"
   },
   {
    "duration": 0,
    "start_time": "2022-06-30T05:37:24.153Z"
   },
   {
    "duration": 0,
    "start_time": "2022-06-30T05:37:24.155Z"
   },
   {
    "duration": 0,
    "start_time": "2022-06-30T05:37:24.157Z"
   },
   {
    "duration": 1,
    "start_time": "2022-06-30T05:37:24.158Z"
   },
   {
    "duration": 0,
    "start_time": "2022-06-30T05:37:24.160Z"
   },
   {
    "duration": 0,
    "start_time": "2022-06-30T05:37:24.162Z"
   },
   {
    "duration": 0,
    "start_time": "2022-06-30T05:37:24.164Z"
   },
   {
    "duration": 0,
    "start_time": "2022-06-30T05:37:24.165Z"
   },
   {
    "duration": 0,
    "start_time": "2022-06-30T05:37:24.168Z"
   },
   {
    "duration": 0,
    "start_time": "2022-06-30T05:37:24.169Z"
   },
   {
    "duration": 0,
    "start_time": "2022-06-30T05:37:24.171Z"
   },
   {
    "duration": 1,
    "start_time": "2022-06-30T05:37:24.172Z"
   },
   {
    "duration": 0,
    "start_time": "2022-06-30T05:37:24.174Z"
   },
   {
    "duration": 0,
    "start_time": "2022-06-30T05:37:24.175Z"
   },
   {
    "duration": 0,
    "start_time": "2022-06-30T05:37:24.176Z"
   },
   {
    "duration": 0,
    "start_time": "2022-06-30T05:37:24.227Z"
   },
   {
    "duration": 0,
    "start_time": "2022-06-30T05:37:24.228Z"
   },
   {
    "duration": 0,
    "start_time": "2022-06-30T05:37:24.230Z"
   },
   {
    "duration": 0,
    "start_time": "2022-06-30T05:37:24.232Z"
   },
   {
    "duration": 0,
    "start_time": "2022-06-30T05:37:24.233Z"
   },
   {
    "duration": 0,
    "start_time": "2022-06-30T05:37:24.235Z"
   },
   {
    "duration": 7179,
    "start_time": "2022-06-30T05:39:03.887Z"
   },
   {
    "duration": 6,
    "start_time": "2022-06-30T05:39:19.806Z"
   },
   {
    "duration": 8,
    "start_time": "2022-06-30T05:39:31.528Z"
   },
   {
    "duration": 7,
    "start_time": "2022-06-30T05:39:45.384Z"
   },
   {
    "duration": 6,
    "start_time": "2022-06-30T05:40:49.582Z"
   },
   {
    "duration": 6125,
    "start_time": "2022-06-30T05:40:56.034Z"
   },
   {
    "duration": 6,
    "start_time": "2022-06-30T05:41:06.515Z"
   },
   {
    "duration": 694,
    "start_time": "2022-06-30T05:41:21.507Z"
   },
   {
    "duration": 109,
    "start_time": "2022-06-30T05:41:22.203Z"
   },
   {
    "duration": 23,
    "start_time": "2022-06-30T05:41:22.314Z"
   },
   {
    "duration": 145,
    "start_time": "2022-06-30T05:41:22.345Z"
   },
   {
    "duration": 2107,
    "start_time": "2022-06-30T05:41:22.492Z"
   },
   {
    "duration": 8,
    "start_time": "2022-06-30T05:41:24.601Z"
   },
   {
    "duration": 15,
    "start_time": "2022-06-30T05:41:24.610Z"
   },
   {
    "duration": 44,
    "start_time": "2022-06-30T05:41:24.627Z"
   },
   {
    "duration": 2,
    "start_time": "2022-06-30T05:41:24.673Z"
   },
   {
    "duration": 7,
    "start_time": "2022-06-30T05:41:24.678Z"
   },
   {
    "duration": 5863,
    "start_time": "2022-06-30T05:41:24.687Z"
   },
   {
    "duration": 1,
    "start_time": "2022-06-30T05:41:30.551Z"
   },
   {
    "duration": 0,
    "start_time": "2022-06-30T05:41:30.553Z"
   },
   {
    "duration": 0,
    "start_time": "2022-06-30T05:41:30.554Z"
   },
   {
    "duration": 0,
    "start_time": "2022-06-30T05:41:30.555Z"
   },
   {
    "duration": 0,
    "start_time": "2022-06-30T05:41:30.556Z"
   },
   {
    "duration": 0,
    "start_time": "2022-06-30T05:41:30.557Z"
   },
   {
    "duration": 0,
    "start_time": "2022-06-30T05:41:30.558Z"
   },
   {
    "duration": 0,
    "start_time": "2022-06-30T05:41:30.559Z"
   },
   {
    "duration": 0,
    "start_time": "2022-06-30T05:41:30.560Z"
   },
   {
    "duration": 0,
    "start_time": "2022-06-30T05:41:30.562Z"
   },
   {
    "duration": 0,
    "start_time": "2022-06-30T05:41:30.563Z"
   },
   {
    "duration": 0,
    "start_time": "2022-06-30T05:41:30.564Z"
   },
   {
    "duration": 0,
    "start_time": "2022-06-30T05:41:30.565Z"
   },
   {
    "duration": 0,
    "start_time": "2022-06-30T05:41:30.566Z"
   },
   {
    "duration": 0,
    "start_time": "2022-06-30T05:41:30.567Z"
   },
   {
    "duration": 0,
    "start_time": "2022-06-30T05:41:30.568Z"
   },
   {
    "duration": 0,
    "start_time": "2022-06-30T05:41:30.569Z"
   },
   {
    "duration": 0,
    "start_time": "2022-06-30T05:41:30.570Z"
   },
   {
    "duration": 0,
    "start_time": "2022-06-30T05:41:30.571Z"
   },
   {
    "duration": 0,
    "start_time": "2022-06-30T05:41:30.573Z"
   },
   {
    "duration": 0,
    "start_time": "2022-06-30T05:41:30.574Z"
   },
   {
    "duration": 0,
    "start_time": "2022-06-30T05:41:30.575Z"
   },
   {
    "duration": 0,
    "start_time": "2022-06-30T05:41:30.577Z"
   },
   {
    "duration": 0,
    "start_time": "2022-06-30T05:41:30.578Z"
   },
   {
    "duration": 0,
    "start_time": "2022-06-30T05:41:30.579Z"
   },
   {
    "duration": 0,
    "start_time": "2022-06-30T05:41:30.580Z"
   },
   {
    "duration": 7,
    "start_time": "2022-06-30T05:42:30.179Z"
   },
   {
    "duration": 5582,
    "start_time": "2022-06-30T05:42:35.024Z"
   },
   {
    "duration": 6,
    "start_time": "2022-06-30T05:43:05.808Z"
   },
   {
    "duration": 27,
    "start_time": "2022-06-30T06:00:54.445Z"
   },
   {
    "duration": 1347,
    "start_time": "2022-06-30T06:01:20.084Z"
   },
   {
    "duration": 39,
    "start_time": "2022-06-30T06:01:30.691Z"
   },
   {
    "duration": 68,
    "start_time": "2022-06-30T06:05:39.627Z"
   },
   {
    "duration": 40,
    "start_time": "2022-06-30T06:07:51.974Z"
   },
   {
    "duration": 23,
    "start_time": "2022-06-30T06:08:13.279Z"
   },
   {
    "duration": 48,
    "start_time": "2022-06-30T06:08:17.876Z"
   },
   {
    "duration": 75,
    "start_time": "2022-06-30T06:08:33.617Z"
   },
   {
    "duration": 151,
    "start_time": "2022-06-30T06:08:45.845Z"
   },
   {
    "duration": 26,
    "start_time": "2022-06-30T06:09:11.843Z"
   },
   {
    "duration": 742,
    "start_time": "2022-06-30T06:31:44.771Z"
   },
   {
    "duration": 153,
    "start_time": "2022-06-30T06:31:45.515Z"
   },
   {
    "duration": 6,
    "start_time": "2022-06-30T06:31:45.675Z"
   },
   {
    "duration": 157,
    "start_time": "2022-06-30T06:31:45.683Z"
   },
   {
    "duration": 2460,
    "start_time": "2022-06-30T06:31:45.842Z"
   },
   {
    "duration": 106,
    "start_time": "2022-06-30T06:31:48.304Z"
   },
   {
    "duration": 0,
    "start_time": "2022-06-30T06:31:48.414Z"
   },
   {
    "duration": 0,
    "start_time": "2022-06-30T06:31:48.415Z"
   },
   {
    "duration": 0,
    "start_time": "2022-06-30T06:31:48.417Z"
   },
   {
    "duration": 0,
    "start_time": "2022-06-30T06:31:48.418Z"
   },
   {
    "duration": 0,
    "start_time": "2022-06-30T06:31:48.429Z"
   },
   {
    "duration": 0,
    "start_time": "2022-06-30T06:31:48.430Z"
   },
   {
    "duration": 0,
    "start_time": "2022-06-30T06:31:48.431Z"
   },
   {
    "duration": 0,
    "start_time": "2022-06-30T06:31:48.432Z"
   },
   {
    "duration": 0,
    "start_time": "2022-06-30T06:31:48.433Z"
   },
   {
    "duration": 0,
    "start_time": "2022-06-30T06:31:48.438Z"
   },
   {
    "duration": 0,
    "start_time": "2022-06-30T06:31:48.439Z"
   },
   {
    "duration": 0,
    "start_time": "2022-06-30T06:31:48.439Z"
   },
   {
    "duration": 0,
    "start_time": "2022-06-30T06:31:48.440Z"
   },
   {
    "duration": 0,
    "start_time": "2022-06-30T06:31:48.441Z"
   },
   {
    "duration": 0,
    "start_time": "2022-06-30T06:31:48.442Z"
   },
   {
    "duration": 0,
    "start_time": "2022-06-30T06:31:48.443Z"
   },
   {
    "duration": 0,
    "start_time": "2022-06-30T06:31:48.444Z"
   },
   {
    "duration": 0,
    "start_time": "2022-06-30T06:31:48.445Z"
   },
   {
    "duration": 0,
    "start_time": "2022-06-30T06:31:48.452Z"
   },
   {
    "duration": 0,
    "start_time": "2022-06-30T06:31:48.452Z"
   },
   {
    "duration": 0,
    "start_time": "2022-06-30T06:31:48.455Z"
   },
   {
    "duration": 0,
    "start_time": "2022-06-30T06:31:48.459Z"
   },
   {
    "duration": 0,
    "start_time": "2022-06-30T06:31:48.460Z"
   },
   {
    "duration": 0,
    "start_time": "2022-06-30T06:31:48.461Z"
   },
   {
    "duration": 0,
    "start_time": "2022-06-30T06:31:48.465Z"
   },
   {
    "duration": 0,
    "start_time": "2022-06-30T06:31:48.467Z"
   },
   {
    "duration": 0,
    "start_time": "2022-06-30T06:31:48.473Z"
   },
   {
    "duration": 0,
    "start_time": "2022-06-30T06:31:48.475Z"
   },
   {
    "duration": 0,
    "start_time": "2022-06-30T06:31:48.477Z"
   },
   {
    "duration": 0,
    "start_time": "2022-06-30T06:31:48.478Z"
   },
   {
    "duration": 0,
    "start_time": "2022-06-30T06:31:48.479Z"
   },
   {
    "duration": 0,
    "start_time": "2022-06-30T06:31:48.481Z"
   },
   {
    "duration": 14,
    "start_time": "2022-06-30T06:33:38.991Z"
   },
   {
    "duration": 19,
    "start_time": "2022-06-30T06:33:56.201Z"
   },
   {
    "duration": 36,
    "start_time": "2022-06-30T06:34:03.541Z"
   },
   {
    "duration": 26,
    "start_time": "2022-06-30T06:35:11.613Z"
   },
   {
    "duration": 902,
    "start_time": "2022-06-30T06:37:15.988Z"
   },
   {
    "duration": 162,
    "start_time": "2022-06-30T06:37:16.893Z"
   },
   {
    "duration": 7,
    "start_time": "2022-06-30T06:37:17.057Z"
   },
   {
    "duration": 298,
    "start_time": "2022-06-30T06:37:17.071Z"
   },
   {
    "duration": 2896,
    "start_time": "2022-06-30T06:37:17.374Z"
   },
   {
    "duration": 16,
    "start_time": "2022-06-30T06:37:20.273Z"
   },
   {
    "duration": 143,
    "start_time": "2022-06-30T06:37:20.292Z"
   },
   {
    "duration": 0,
    "start_time": "2022-06-30T06:37:20.442Z"
   },
   {
    "duration": 0,
    "start_time": "2022-06-30T06:37:20.444Z"
   },
   {
    "duration": 0,
    "start_time": "2022-06-30T06:37:20.445Z"
   },
   {
    "duration": 0,
    "start_time": "2022-06-30T06:37:20.447Z"
   },
   {
    "duration": 0,
    "start_time": "2022-06-30T06:37:20.448Z"
   },
   {
    "duration": 0,
    "start_time": "2022-06-30T06:37:20.450Z"
   },
   {
    "duration": 0,
    "start_time": "2022-06-30T06:37:20.451Z"
   },
   {
    "duration": 0,
    "start_time": "2022-06-30T06:37:20.453Z"
   },
   {
    "duration": 0,
    "start_time": "2022-06-30T06:37:20.454Z"
   },
   {
    "duration": 0,
    "start_time": "2022-06-30T06:37:20.456Z"
   },
   {
    "duration": 0,
    "start_time": "2022-06-30T06:37:20.458Z"
   },
   {
    "duration": 0,
    "start_time": "2022-06-30T06:37:20.460Z"
   },
   {
    "duration": 0,
    "start_time": "2022-06-30T06:37:20.462Z"
   },
   {
    "duration": 1,
    "start_time": "2022-06-30T06:37:20.463Z"
   },
   {
    "duration": 0,
    "start_time": "2022-06-30T06:37:20.466Z"
   },
   {
    "duration": 0,
    "start_time": "2022-06-30T06:37:20.468Z"
   },
   {
    "duration": 0,
    "start_time": "2022-06-30T06:37:20.471Z"
   },
   {
    "duration": 0,
    "start_time": "2022-06-30T06:37:20.472Z"
   },
   {
    "duration": 0,
    "start_time": "2022-06-30T06:37:20.474Z"
   },
   {
    "duration": 0,
    "start_time": "2022-06-30T06:37:20.475Z"
   },
   {
    "duration": 0,
    "start_time": "2022-06-30T06:37:20.477Z"
   },
   {
    "duration": 1,
    "start_time": "2022-06-30T06:37:20.477Z"
   },
   {
    "duration": 0,
    "start_time": "2022-06-30T06:37:20.478Z"
   },
   {
    "duration": 0,
    "start_time": "2022-06-30T06:37:20.479Z"
   },
   {
    "duration": 0,
    "start_time": "2022-06-30T06:37:20.480Z"
   },
   {
    "duration": 0,
    "start_time": "2022-06-30T06:37:20.481Z"
   },
   {
    "duration": 0,
    "start_time": "2022-06-30T06:37:20.484Z"
   },
   {
    "duration": 0,
    "start_time": "2022-06-30T06:37:20.485Z"
   },
   {
    "duration": 0,
    "start_time": "2022-06-30T06:37:20.486Z"
   },
   {
    "duration": 0,
    "start_time": "2022-06-30T06:37:20.487Z"
   },
   {
    "duration": 0,
    "start_time": "2022-06-30T06:37:20.488Z"
   },
   {
    "duration": 8,
    "start_time": "2022-06-30T06:38:21.475Z"
   },
   {
    "duration": 15,
    "start_time": "2022-06-30T06:38:25.864Z"
   },
   {
    "duration": 21,
    "start_time": "2022-06-30T06:38:43.554Z"
   },
   {
    "duration": 27,
    "start_time": "2022-06-30T06:39:04.071Z"
   },
   {
    "duration": 21,
    "start_time": "2022-06-30T06:39:20.404Z"
   },
   {
    "duration": 13,
    "start_time": "2022-06-30T06:39:47.983Z"
   },
   {
    "duration": 822,
    "start_time": "2022-06-30T06:40:59.767Z"
   },
   {
    "duration": 116,
    "start_time": "2022-06-30T06:41:00.591Z"
   },
   {
    "duration": 4,
    "start_time": "2022-06-30T06:41:00.709Z"
   },
   {
    "duration": 191,
    "start_time": "2022-06-30T06:41:00.715Z"
   },
   {
    "duration": 2518,
    "start_time": "2022-06-30T06:41:00.909Z"
   },
   {
    "duration": 13,
    "start_time": "2022-06-30T06:41:03.429Z"
   },
   {
    "duration": 133,
    "start_time": "2022-06-30T06:41:03.445Z"
   },
   {
    "duration": 0,
    "start_time": "2022-06-30T06:41:03.580Z"
   },
   {
    "duration": 0,
    "start_time": "2022-06-30T06:41:03.581Z"
   },
   {
    "duration": 0,
    "start_time": "2022-06-30T06:41:03.582Z"
   },
   {
    "duration": 0,
    "start_time": "2022-06-30T06:41:03.583Z"
   },
   {
    "duration": 0,
    "start_time": "2022-06-30T06:41:03.584Z"
   },
   {
    "duration": 0,
    "start_time": "2022-06-30T06:41:03.585Z"
   },
   {
    "duration": 0,
    "start_time": "2022-06-30T06:41:03.586Z"
   },
   {
    "duration": 0,
    "start_time": "2022-06-30T06:41:03.588Z"
   },
   {
    "duration": 0,
    "start_time": "2022-06-30T06:41:03.589Z"
   },
   {
    "duration": 0,
    "start_time": "2022-06-30T06:41:03.590Z"
   },
   {
    "duration": 0,
    "start_time": "2022-06-30T06:41:03.591Z"
   },
   {
    "duration": 0,
    "start_time": "2022-06-30T06:41:03.592Z"
   },
   {
    "duration": 0,
    "start_time": "2022-06-30T06:41:03.593Z"
   },
   {
    "duration": 0,
    "start_time": "2022-06-30T06:41:03.594Z"
   },
   {
    "duration": 0,
    "start_time": "2022-06-30T06:41:03.595Z"
   },
   {
    "duration": 0,
    "start_time": "2022-06-30T06:41:03.596Z"
   },
   {
    "duration": 0,
    "start_time": "2022-06-30T06:41:03.597Z"
   },
   {
    "duration": 0,
    "start_time": "2022-06-30T06:41:03.598Z"
   },
   {
    "duration": 0,
    "start_time": "2022-06-30T06:41:03.599Z"
   },
   {
    "duration": 0,
    "start_time": "2022-06-30T06:41:03.600Z"
   },
   {
    "duration": 0,
    "start_time": "2022-06-30T06:41:03.600Z"
   },
   {
    "duration": 0,
    "start_time": "2022-06-30T06:41:03.632Z"
   },
   {
    "duration": 0,
    "start_time": "2022-06-30T06:41:03.632Z"
   },
   {
    "duration": 0,
    "start_time": "2022-06-30T06:41:03.634Z"
   },
   {
    "duration": 0,
    "start_time": "2022-06-30T06:41:03.635Z"
   },
   {
    "duration": 0,
    "start_time": "2022-06-30T06:41:03.636Z"
   },
   {
    "duration": 0,
    "start_time": "2022-06-30T06:41:03.637Z"
   },
   {
    "duration": 0,
    "start_time": "2022-06-30T06:41:03.638Z"
   },
   {
    "duration": 0,
    "start_time": "2022-06-30T06:41:03.639Z"
   },
   {
    "duration": 0,
    "start_time": "2022-06-30T06:41:03.640Z"
   },
   {
    "duration": 0,
    "start_time": "2022-06-30T06:41:03.641Z"
   },
   {
    "duration": 21,
    "start_time": "2022-06-30T06:42:01.296Z"
   },
   {
    "duration": 19,
    "start_time": "2022-06-30T06:42:46.745Z"
   },
   {
    "duration": 13,
    "start_time": "2022-06-30T06:42:50.958Z"
   },
   {
    "duration": 33,
    "start_time": "2022-06-30T06:42:56.478Z"
   },
   {
    "duration": 13,
    "start_time": "2022-06-30T06:43:29.563Z"
   },
   {
    "duration": 9,
    "start_time": "2022-06-30T06:43:32.999Z"
   },
   {
    "duration": 14,
    "start_time": "2022-06-30T06:45:37.118Z"
   },
   {
    "duration": 833,
    "start_time": "2022-06-30T06:47:03.860Z"
   },
   {
    "duration": 159,
    "start_time": "2022-06-30T06:47:04.695Z"
   },
   {
    "duration": 14,
    "start_time": "2022-06-30T06:47:04.857Z"
   },
   {
    "duration": 184,
    "start_time": "2022-06-30T06:47:04.874Z"
   },
   {
    "duration": 2803,
    "start_time": "2022-06-30T06:47:05.060Z"
   },
   {
    "duration": 24,
    "start_time": "2022-06-30T06:47:07.865Z"
   },
   {
    "duration": 64,
    "start_time": "2022-06-30T06:47:07.893Z"
   },
   {
    "duration": 59,
    "start_time": "2022-06-30T06:47:07.960Z"
   },
   {
    "duration": 129,
    "start_time": "2022-06-30T06:47:08.022Z"
   },
   {
    "duration": 6,
    "start_time": "2022-06-30T06:47:08.155Z"
   },
   {
    "duration": 44,
    "start_time": "2022-06-30T06:47:08.164Z"
   },
   {
    "duration": 7902,
    "start_time": "2022-06-30T06:47:08.210Z"
   },
   {
    "duration": 10,
    "start_time": "2022-06-30T06:47:16.114Z"
   },
   {
    "duration": 97,
    "start_time": "2022-06-30T06:47:16.129Z"
   },
   {
    "duration": 79,
    "start_time": "2022-06-30T06:47:16.232Z"
   },
   {
    "duration": 593,
    "start_time": "2022-06-30T06:47:16.314Z"
   },
   {
    "duration": 230,
    "start_time": "2022-06-30T06:47:16.909Z"
   },
   {
    "duration": 232,
    "start_time": "2022-06-30T06:47:17.141Z"
   },
   {
    "duration": 587,
    "start_time": "2022-06-30T06:47:17.377Z"
   },
   {
    "duration": 230,
    "start_time": "2022-06-30T06:47:17.967Z"
   },
   {
    "duration": 243,
    "start_time": "2022-06-30T06:47:18.199Z"
   },
   {
    "duration": 197,
    "start_time": "2022-06-30T06:47:18.445Z"
   },
   {
    "duration": 145,
    "start_time": "2022-06-30T06:47:18.644Z"
   },
   {
    "duration": 254,
    "start_time": "2022-06-30T06:47:18.792Z"
   },
   {
    "duration": 180,
    "start_time": "2022-06-30T06:47:19.049Z"
   },
   {
    "duration": 169,
    "start_time": "2022-06-30T06:47:19.231Z"
   },
   {
    "duration": 177,
    "start_time": "2022-06-30T06:47:19.401Z"
   },
   {
    "duration": 608,
    "start_time": "2022-06-30T06:47:19.582Z"
   },
   {
    "duration": 427,
    "start_time": "2022-06-30T06:47:20.192Z"
   },
   {
    "duration": 278,
    "start_time": "2022-06-30T06:47:20.620Z"
   },
   {
    "duration": 271,
    "start_time": "2022-06-30T06:47:20.901Z"
   },
   {
    "duration": 243,
    "start_time": "2022-06-30T06:47:21.179Z"
   },
   {
    "duration": 250,
    "start_time": "2022-06-30T06:47:21.424Z"
   },
   {
    "duration": 197,
    "start_time": "2022-06-30T06:47:21.677Z"
   },
   {
    "duration": 544,
    "start_time": "2022-06-30T06:47:21.879Z"
   },
   {
    "duration": 156,
    "start_time": "2022-06-30T06:47:22.425Z"
   },
   {
    "duration": 128,
    "start_time": "2022-06-30T06:47:22.584Z"
   },
   {
    "duration": 0,
    "start_time": "2022-06-30T06:47:22.717Z"
   },
   {
    "duration": 27,
    "start_time": "2022-06-30T06:47:22.879Z"
   },
   {
    "duration": 11,
    "start_time": "2022-06-30T06:47:42.970Z"
   },
   {
    "duration": 29,
    "start_time": "2022-06-30T06:47:46.565Z"
   },
   {
    "duration": 1180,
    "start_time": "2022-06-30T06:48:23.720Z"
   },
   {
    "duration": 9,
    "start_time": "2022-06-30T06:48:38.495Z"
   },
   {
    "duration": 23,
    "start_time": "2022-06-30T06:48:41.490Z"
   },
   {
    "duration": 10,
    "start_time": "2022-06-30T06:48:59.283Z"
   },
   {
    "duration": 33,
    "start_time": "2022-06-30T06:49:24.846Z"
   },
   {
    "duration": 13,
    "start_time": "2022-06-30T06:49:38.408Z"
   },
   {
    "duration": 80,
    "start_time": "2022-06-30T06:49:51.119Z"
   },
   {
    "duration": 14,
    "start_time": "2022-06-30T06:49:54.377Z"
   },
   {
    "duration": 7,
    "start_time": "2022-06-30T06:51:09.273Z"
   },
   {
    "duration": 894,
    "start_time": "2022-06-30T06:51:16.570Z"
   },
   {
    "duration": 136,
    "start_time": "2022-06-30T06:51:17.467Z"
   },
   {
    "duration": 5,
    "start_time": "2022-06-30T06:51:17.605Z"
   },
   {
    "duration": 165,
    "start_time": "2022-06-30T06:51:17.612Z"
   },
   {
    "duration": 2511,
    "start_time": "2022-06-30T06:51:17.779Z"
   },
   {
    "duration": 9,
    "start_time": "2022-06-30T06:51:20.291Z"
   },
   {
    "duration": 10,
    "start_time": "2022-06-30T06:51:20.302Z"
   },
   {
    "duration": 14,
    "start_time": "2022-06-30T06:51:20.314Z"
   },
   {
    "duration": 75,
    "start_time": "2022-06-30T06:51:20.330Z"
   },
   {
    "duration": 3,
    "start_time": "2022-06-30T06:51:20.408Z"
   },
   {
    "duration": 76,
    "start_time": "2022-06-30T06:51:20.413Z"
   },
   {
    "duration": 7304,
    "start_time": "2022-06-30T06:51:20.491Z"
   },
   {
    "duration": 10,
    "start_time": "2022-06-30T06:51:27.797Z"
   },
   {
    "duration": 1316,
    "start_time": "2022-06-30T06:51:27.809Z"
   },
   {
    "duration": 0,
    "start_time": "2022-06-30T06:51:29.127Z"
   },
   {
    "duration": 0,
    "start_time": "2022-06-30T06:51:29.129Z"
   },
   {
    "duration": 0,
    "start_time": "2022-06-30T06:51:29.130Z"
   },
   {
    "duration": 0,
    "start_time": "2022-06-30T06:51:29.131Z"
   },
   {
    "duration": 0,
    "start_time": "2022-06-30T06:51:29.133Z"
   },
   {
    "duration": 0,
    "start_time": "2022-06-30T06:51:29.138Z"
   },
   {
    "duration": 0,
    "start_time": "2022-06-30T06:51:29.140Z"
   },
   {
    "duration": 0,
    "start_time": "2022-06-30T06:51:29.142Z"
   },
   {
    "duration": 0,
    "start_time": "2022-06-30T06:51:29.146Z"
   },
   {
    "duration": 0,
    "start_time": "2022-06-30T06:51:29.148Z"
   },
   {
    "duration": 0,
    "start_time": "2022-06-30T06:51:29.150Z"
   },
   {
    "duration": 0,
    "start_time": "2022-06-30T06:51:29.153Z"
   },
   {
    "duration": 0,
    "start_time": "2022-06-30T06:51:29.155Z"
   },
   {
    "duration": 0,
    "start_time": "2022-06-30T06:51:29.158Z"
   },
   {
    "duration": 0,
    "start_time": "2022-06-30T06:51:29.161Z"
   },
   {
    "duration": 0,
    "start_time": "2022-06-30T06:51:29.163Z"
   },
   {
    "duration": 0,
    "start_time": "2022-06-30T06:51:29.166Z"
   },
   {
    "duration": 0,
    "start_time": "2022-06-30T06:51:29.179Z"
   },
   {
    "duration": 0,
    "start_time": "2022-06-30T06:51:29.180Z"
   },
   {
    "duration": 0,
    "start_time": "2022-06-30T06:51:29.182Z"
   },
   {
    "duration": 0,
    "start_time": "2022-06-30T06:51:29.183Z"
   },
   {
    "duration": 0,
    "start_time": "2022-06-30T06:51:29.184Z"
   },
   {
    "duration": 0,
    "start_time": "2022-06-30T06:51:29.185Z"
   },
   {
    "duration": 0,
    "start_time": "2022-06-30T06:51:29.186Z"
   },
   {
    "duration": 22,
    "start_time": "2022-06-30T06:54:54.324Z"
   },
   {
    "duration": 4,
    "start_time": "2022-06-30T06:55:24.297Z"
   },
   {
    "duration": 9,
    "start_time": "2022-06-30T06:55:28.853Z"
   },
   {
    "duration": 5,
    "start_time": "2022-06-30T07:00:26.151Z"
   },
   {
    "duration": 1225,
    "start_time": "2022-06-30T07:02:49.077Z"
   },
   {
    "duration": 51,
    "start_time": "2022-06-30T07:04:29.366Z"
   },
   {
    "duration": 39,
    "start_time": "2022-06-30T07:04:41.945Z"
   },
   {
    "duration": 1319,
    "start_time": "2022-06-30T07:04:43.391Z"
   },
   {
    "duration": 1262,
    "start_time": "2022-06-30T07:04:44.712Z"
   },
   {
    "duration": 1351,
    "start_time": "2022-06-30T07:05:20.270Z"
   },
   {
    "duration": 55,
    "start_time": "2022-06-30T07:05:38.562Z"
   },
   {
    "duration": 1255,
    "start_time": "2022-06-30T07:06:14.749Z"
   },
   {
    "duration": 1495,
    "start_time": "2022-06-30T07:08:16.097Z"
   },
   {
    "duration": 762,
    "start_time": "2022-06-30T07:08:27.122Z"
   },
   {
    "duration": 120,
    "start_time": "2022-06-30T07:08:27.887Z"
   },
   {
    "duration": 5,
    "start_time": "2022-06-30T07:08:28.008Z"
   },
   {
    "duration": 188,
    "start_time": "2022-06-30T07:08:28.015Z"
   },
   {
    "duration": 2299,
    "start_time": "2022-06-30T07:08:28.204Z"
   },
   {
    "duration": 9,
    "start_time": "2022-06-30T07:08:30.504Z"
   },
   {
    "duration": 87,
    "start_time": "2022-06-30T07:08:30.515Z"
   },
   {
    "duration": 22,
    "start_time": "2022-06-30T07:08:30.604Z"
   },
   {
    "duration": 89,
    "start_time": "2022-06-30T07:08:30.628Z"
   },
   {
    "duration": 43,
    "start_time": "2022-06-30T07:08:30.720Z"
   },
   {
    "duration": 18,
    "start_time": "2022-06-30T07:08:30.765Z"
   },
   {
    "duration": 22,
    "start_time": "2022-06-30T07:08:30.785Z"
   },
   {
    "duration": 91,
    "start_time": "2022-06-30T07:08:30.809Z"
   },
   {
    "duration": 77,
    "start_time": "2022-06-30T07:08:30.902Z"
   },
   {
    "duration": 26,
    "start_time": "2022-06-30T07:08:30.981Z"
   },
   {
    "duration": 1233,
    "start_time": "2022-06-30T07:08:31.009Z"
   },
   {
    "duration": 1230,
    "start_time": "2022-06-30T07:08:32.252Z"
   },
   {
    "duration": 1264,
    "start_time": "2022-06-30T07:08:33.484Z"
   },
   {
    "duration": 1247,
    "start_time": "2022-06-30T07:08:34.751Z"
   },
   {
    "duration": 1300,
    "start_time": "2022-06-30T07:08:36.000Z"
   },
   {
    "duration": 61,
    "start_time": "2022-06-30T07:08:37.302Z"
   },
   {
    "duration": 16,
    "start_time": "2022-06-30T07:08:37.364Z"
   },
   {
    "duration": 1520,
    "start_time": "2022-06-30T07:08:37.382Z"
   },
   {
    "duration": 0,
    "start_time": "2022-06-30T07:08:38.904Z"
   },
   {
    "duration": 0,
    "start_time": "2022-06-30T07:08:38.905Z"
   },
   {
    "duration": 0,
    "start_time": "2022-06-30T07:08:38.906Z"
   },
   {
    "duration": 0,
    "start_time": "2022-06-30T07:08:38.907Z"
   },
   {
    "duration": 0,
    "start_time": "2022-06-30T07:08:38.908Z"
   },
   {
    "duration": 0,
    "start_time": "2022-06-30T07:08:38.910Z"
   },
   {
    "duration": 0,
    "start_time": "2022-06-30T07:08:38.910Z"
   },
   {
    "duration": 0,
    "start_time": "2022-06-30T07:08:38.912Z"
   },
   {
    "duration": 0,
    "start_time": "2022-06-30T07:08:38.913Z"
   },
   {
    "duration": 0,
    "start_time": "2022-06-30T07:08:38.914Z"
   },
   {
    "duration": 0,
    "start_time": "2022-06-30T07:08:38.915Z"
   },
   {
    "duration": 0,
    "start_time": "2022-06-30T07:08:38.915Z"
   },
   {
    "duration": 0,
    "start_time": "2022-06-30T07:08:38.916Z"
   },
   {
    "duration": 0,
    "start_time": "2022-06-30T07:08:38.917Z"
   },
   {
    "duration": 0,
    "start_time": "2022-06-30T07:08:38.919Z"
   },
   {
    "duration": 0,
    "start_time": "2022-06-30T07:08:38.920Z"
   },
   {
    "duration": 0,
    "start_time": "2022-06-30T07:08:38.921Z"
   },
   {
    "duration": 0,
    "start_time": "2022-06-30T07:08:38.922Z"
   },
   {
    "duration": 0,
    "start_time": "2022-06-30T07:08:38.923Z"
   },
   {
    "duration": 0,
    "start_time": "2022-06-30T07:08:38.924Z"
   },
   {
    "duration": 0,
    "start_time": "2022-06-30T07:08:38.925Z"
   },
   {
    "duration": 0,
    "start_time": "2022-06-30T07:08:38.926Z"
   },
   {
    "duration": 0,
    "start_time": "2022-06-30T07:08:38.927Z"
   },
   {
    "duration": 0,
    "start_time": "2022-06-30T07:08:38.927Z"
   },
   {
    "duration": 24,
    "start_time": "2022-06-30T07:09:04.056Z"
   },
   {
    "duration": 12,
    "start_time": "2022-06-30T07:09:37.407Z"
   },
   {
    "duration": 25,
    "start_time": "2022-06-30T07:09:40.867Z"
   },
   {
    "duration": 425,
    "start_time": "2022-06-30T07:10:25.390Z"
   },
   {
    "duration": 4,
    "start_time": "2022-06-30T07:16:24.186Z"
   },
   {
    "duration": 96,
    "start_time": "2022-06-30T07:52:40.286Z"
   },
   {
    "duration": 113,
    "start_time": "2022-06-30T07:52:44.557Z"
   },
   {
    "duration": 12,
    "start_time": "2022-06-30T07:52:57.263Z"
   },
   {
    "duration": 233,
    "start_time": "2022-06-30T07:53:00.360Z"
   },
   {
    "duration": 476,
    "start_time": "2022-06-30T07:53:04.575Z"
   },
   {
    "duration": 4,
    "start_time": "2022-06-30T07:53:58.901Z"
   },
   {
    "duration": 726,
    "start_time": "2022-06-30T07:54:06.823Z"
   },
   {
    "duration": 170,
    "start_time": "2022-06-30T08:02:19.760Z"
   },
   {
    "duration": 46,
    "start_time": "2022-06-30T08:04:18.432Z"
   },
   {
    "duration": 241,
    "start_time": "2022-06-30T08:04:26.358Z"
   },
   {
    "duration": 179,
    "start_time": "2022-06-30T08:04:44.583Z"
   },
   {
    "duration": 184,
    "start_time": "2022-06-30T08:12:36.026Z"
   },
   {
    "duration": 347,
    "start_time": "2022-06-30T08:12:43.325Z"
   },
   {
    "duration": 332,
    "start_time": "2022-06-30T08:13:00.186Z"
   },
   {
    "duration": 401,
    "start_time": "2022-06-30T08:13:09.952Z"
   },
   {
    "duration": 165,
    "start_time": "2022-06-30T08:13:17.807Z"
   },
   {
    "duration": 122,
    "start_time": "2022-06-30T08:13:38.001Z"
   },
   {
    "duration": 161,
    "start_time": "2022-06-30T08:13:45.012Z"
   },
   {
    "duration": 13,
    "start_time": "2022-06-30T08:14:56.494Z"
   },
   {
    "duration": 11,
    "start_time": "2022-06-30T08:15:19.738Z"
   },
   {
    "duration": 6658,
    "start_time": "2022-06-30T08:15:37.098Z"
   },
   {
    "duration": 383,
    "start_time": "2022-06-30T08:16:06.393Z"
   },
   {
    "duration": 731,
    "start_time": "2022-06-30T08:18:23.985Z"
   },
   {
    "duration": 229,
    "start_time": "2022-06-30T08:18:52.347Z"
   },
   {
    "duration": 256,
    "start_time": "2022-06-30T08:21:14.118Z"
   },
   {
    "duration": 255,
    "start_time": "2022-06-30T08:21:23.641Z"
   },
   {
    "duration": 259,
    "start_time": "2022-06-30T08:21:53.547Z"
   },
   {
    "duration": 670,
    "start_time": "2022-06-30T08:23:09.068Z"
   },
   {
    "duration": 103,
    "start_time": "2022-06-30T08:23:09.740Z"
   },
   {
    "duration": 7,
    "start_time": "2022-06-30T08:23:09.844Z"
   },
   {
    "duration": 135,
    "start_time": "2022-06-30T08:23:09.853Z"
   },
   {
    "duration": 2105,
    "start_time": "2022-06-30T08:23:09.990Z"
   },
   {
    "duration": 9,
    "start_time": "2022-06-30T08:23:12.096Z"
   },
   {
    "duration": 13,
    "start_time": "2022-06-30T08:23:12.107Z"
   },
   {
    "duration": 13,
    "start_time": "2022-06-30T08:23:12.122Z"
   },
   {
    "duration": 43,
    "start_time": "2022-06-30T08:23:12.137Z"
   },
   {
    "duration": 2,
    "start_time": "2022-06-30T08:23:12.183Z"
   },
   {
    "duration": 6,
    "start_time": "2022-06-30T08:23:12.187Z"
   },
   {
    "duration": 6,
    "start_time": "2022-06-30T08:23:12.195Z"
   },
   {
    "duration": 7,
    "start_time": "2022-06-30T08:23:12.203Z"
   },
   {
    "duration": 51,
    "start_time": "2022-06-30T08:23:12.211Z"
   },
   {
    "duration": 27,
    "start_time": "2022-06-30T08:23:12.264Z"
   },
   {
    "duration": 1131,
    "start_time": "2022-06-30T08:23:12.292Z"
   },
   {
    "duration": 1080,
    "start_time": "2022-06-30T08:23:13.425Z"
   },
   {
    "duration": 1081,
    "start_time": "2022-06-30T08:23:14.507Z"
   },
   {
    "duration": 1161,
    "start_time": "2022-06-30T08:23:15.590Z"
   },
   {
    "duration": 1114,
    "start_time": "2022-06-30T08:23:16.752Z"
   },
   {
    "duration": 46,
    "start_time": "2022-06-30T08:23:17.867Z"
   },
   {
    "duration": 16,
    "start_time": "2022-06-30T08:23:17.914Z"
   },
   {
    "duration": 18,
    "start_time": "2022-06-30T08:23:17.935Z"
   },
   {
    "duration": 8,
    "start_time": "2022-06-30T08:23:17.955Z"
   },
   {
    "duration": 364,
    "start_time": "2022-06-30T08:23:17.964Z"
   },
   {
    "duration": 170,
    "start_time": "2022-06-30T08:23:18.331Z"
   },
   {
    "duration": 175,
    "start_time": "2022-06-30T08:23:18.503Z"
   },
   {
    "duration": 442,
    "start_time": "2022-06-30T08:23:18.681Z"
   },
   {
    "duration": 191,
    "start_time": "2022-06-30T08:23:19.127Z"
   },
   {
    "duration": 164,
    "start_time": "2022-06-30T08:23:19.319Z"
   },
   {
    "duration": 167,
    "start_time": "2022-06-30T08:23:19.485Z"
   },
   {
    "duration": 115,
    "start_time": "2022-06-30T08:23:19.654Z"
   },
   {
    "duration": 177,
    "start_time": "2022-06-30T08:23:19.770Z"
   },
   {
    "duration": 147,
    "start_time": "2022-06-30T08:23:19.949Z"
   },
   {
    "duration": 121,
    "start_time": "2022-06-30T08:23:20.098Z"
   },
   {
    "duration": 147,
    "start_time": "2022-06-30T08:23:20.221Z"
   },
   {
    "duration": 461,
    "start_time": "2022-06-30T08:23:20.370Z"
   },
   {
    "duration": 244,
    "start_time": "2022-06-30T08:23:20.833Z"
   },
   {
    "duration": 215,
    "start_time": "2022-06-30T08:23:21.079Z"
   },
   {
    "duration": 216,
    "start_time": "2022-06-30T08:23:21.296Z"
   },
   {
    "duration": 196,
    "start_time": "2022-06-30T08:23:21.514Z"
   },
   {
    "duration": 149,
    "start_time": "2022-06-30T08:23:21.712Z"
   },
   {
    "duration": 134,
    "start_time": "2022-06-30T08:23:21.862Z"
   },
   {
    "duration": 413,
    "start_time": "2022-06-30T08:23:21.998Z"
   },
   {
    "duration": 26,
    "start_time": "2022-06-30T08:23:22.413Z"
   },
   {
    "duration": 100,
    "start_time": "2022-06-30T08:23:22.441Z"
   },
   {
    "duration": 0,
    "start_time": "2022-06-30T08:23:22.544Z"
   },
   {
    "duration": 84,
    "start_time": "2022-06-30T08:24:41.788Z"
   },
   {
    "duration": 541,
    "start_time": "2022-06-30T08:24:49.145Z"
   },
   {
    "duration": 541,
    "start_time": "2022-06-30T08:24:57.987Z"
   },
   {
    "duration": 624,
    "start_time": "2022-06-30T08:26:59.894Z"
   },
   {
    "duration": 25,
    "start_time": "2022-06-30T08:29:07.640Z"
   },
   {
    "duration": 177,
    "start_time": "2022-06-30T08:29:33.608Z"
   },
   {
    "duration": 22,
    "start_time": "2022-06-30T08:29:55.671Z"
   },
   {
    "duration": 161,
    "start_time": "2022-06-30T08:29:58.852Z"
   },
   {
    "duration": 12,
    "start_time": "2022-06-30T08:30:31.545Z"
   },
   {
    "duration": 42,
    "start_time": "2022-06-30T08:30:41.937Z"
   },
   {
    "duration": 30,
    "start_time": "2022-06-30T08:31:13.253Z"
   },
   {
    "duration": 84,
    "start_time": "2022-06-30T08:35:46.288Z"
   },
   {
    "duration": 116,
    "start_time": "2022-06-30T08:36:39.219Z"
   },
   {
    "duration": 221,
    "start_time": "2022-06-30T08:36:53.360Z"
   },
   {
    "duration": 399,
    "start_time": "2022-06-30T08:37:07.591Z"
   },
   {
    "duration": 124,
    "start_time": "2022-06-30T08:37:22.137Z"
   },
   {
    "duration": 52,
    "start_time": "2022-06-30T08:37:41.879Z"
   },
   {
    "duration": 102,
    "start_time": "2022-06-30T08:38:16.799Z"
   },
   {
    "duration": 4,
    "start_time": "2022-06-30T08:38:18.342Z"
   },
   {
    "duration": 320,
    "start_time": "2022-06-30T08:44:30.666Z"
   },
   {
    "duration": 49,
    "start_time": "2022-06-30T08:47:33.559Z"
   },
   {
    "duration": 148,
    "start_time": "2022-06-30T08:48:09.176Z"
   },
   {
    "duration": 122,
    "start_time": "2022-06-30T08:48:43.075Z"
   },
   {
    "duration": 446,
    "start_time": "2022-06-30T08:49:24.212Z"
   },
   {
    "duration": 624,
    "start_time": "2022-06-30T08:51:22.688Z"
   },
   {
    "duration": 113,
    "start_time": "2022-06-30T08:51:23.314Z"
   },
   {
    "duration": 7,
    "start_time": "2022-06-30T08:51:23.430Z"
   },
   {
    "duration": 148,
    "start_time": "2022-06-30T08:51:23.441Z"
   },
   {
    "duration": 2088,
    "start_time": "2022-06-30T08:51:23.591Z"
   },
   {
    "duration": 8,
    "start_time": "2022-06-30T08:51:25.681Z"
   },
   {
    "duration": 14,
    "start_time": "2022-06-30T08:51:25.690Z"
   },
   {
    "duration": 18,
    "start_time": "2022-06-30T08:51:25.706Z"
   },
   {
    "duration": 60,
    "start_time": "2022-06-30T08:51:25.726Z"
   },
   {
    "duration": 3,
    "start_time": "2022-06-30T08:51:25.789Z"
   },
   {
    "duration": 15,
    "start_time": "2022-06-30T08:51:25.793Z"
   },
   {
    "duration": 9,
    "start_time": "2022-06-30T08:51:25.810Z"
   },
   {
    "duration": 7,
    "start_time": "2022-06-30T08:51:25.821Z"
   },
   {
    "duration": 39,
    "start_time": "2022-06-30T08:51:25.830Z"
   },
   {
    "duration": 26,
    "start_time": "2022-06-30T08:51:25.871Z"
   },
   {
    "duration": 1199,
    "start_time": "2022-06-30T08:51:25.899Z"
   },
   {
    "duration": 1100,
    "start_time": "2022-06-30T08:51:27.100Z"
   },
   {
    "duration": 1117,
    "start_time": "2022-06-30T08:51:28.202Z"
   },
   {
    "duration": 1085,
    "start_time": "2022-06-30T08:51:29.321Z"
   },
   {
    "duration": 1113,
    "start_time": "2022-06-30T08:51:30.408Z"
   },
   {
    "duration": 52,
    "start_time": "2022-06-30T08:51:31.523Z"
   },
   {
    "duration": 9,
    "start_time": "2022-06-30T08:51:31.577Z"
   },
   {
    "duration": 28,
    "start_time": "2022-06-30T08:51:31.588Z"
   },
   {
    "duration": 34,
    "start_time": "2022-06-30T08:51:31.618Z"
   },
   {
    "duration": 368,
    "start_time": "2022-06-30T08:51:31.654Z"
   },
   {
    "duration": 162,
    "start_time": "2022-06-30T08:51:32.024Z"
   },
   {
    "duration": 172,
    "start_time": "2022-06-30T08:51:32.188Z"
   },
   {
    "duration": 440,
    "start_time": "2022-06-30T08:51:32.363Z"
   },
   {
    "duration": 200,
    "start_time": "2022-06-30T08:51:32.804Z"
   },
   {
    "duration": 177,
    "start_time": "2022-06-30T08:51:33.006Z"
   },
   {
    "duration": 200,
    "start_time": "2022-06-30T08:51:33.185Z"
   },
   {
    "duration": 128,
    "start_time": "2022-06-30T08:51:33.386Z"
   },
   {
    "duration": 194,
    "start_time": "2022-06-30T08:51:33.516Z"
   },
   {
    "duration": 175,
    "start_time": "2022-06-30T08:51:33.712Z"
   },
   {
    "duration": 130,
    "start_time": "2022-06-30T08:51:33.889Z"
   },
   {
    "duration": 145,
    "start_time": "2022-06-30T08:51:34.028Z"
   },
   {
    "duration": 473,
    "start_time": "2022-06-30T08:51:34.174Z"
   },
   {
    "duration": 578,
    "start_time": "2022-06-30T08:51:34.649Z"
   },
   {
    "duration": 200,
    "start_time": "2022-06-30T08:51:35.230Z"
   },
   {
    "duration": 226,
    "start_time": "2022-06-30T08:51:35.433Z"
   },
   {
    "duration": 207,
    "start_time": "2022-06-30T08:51:35.661Z"
   },
   {
    "duration": 166,
    "start_time": "2022-06-30T08:51:35.870Z"
   },
   {
    "duration": 138,
    "start_time": "2022-06-30T08:51:36.038Z"
   },
   {
    "duration": 639,
    "start_time": "2022-06-30T08:51:36.179Z"
   },
   {
    "duration": 34,
    "start_time": "2022-06-30T08:51:36.819Z"
   },
   {
    "duration": 188,
    "start_time": "2022-06-30T08:51:36.855Z"
   },
   {
    "duration": 3,
    "start_time": "2022-06-30T08:51:37.044Z"
   },
   {
    "duration": 52,
    "start_time": "2022-06-30T08:53:42.259Z"
   },
   {
    "duration": 127,
    "start_time": "2022-06-30T08:55:27.551Z"
   },
   {
    "duration": 640,
    "start_time": "2022-06-30T08:55:38.837Z"
   },
   {
    "duration": 98,
    "start_time": "2022-06-30T08:55:39.479Z"
   },
   {
    "duration": 5,
    "start_time": "2022-06-30T08:55:39.578Z"
   },
   {
    "duration": 126,
    "start_time": "2022-06-30T08:55:39.585Z"
   },
   {
    "duration": 1933,
    "start_time": "2022-06-30T08:55:39.713Z"
   },
   {
    "duration": 8,
    "start_time": "2022-06-30T08:55:41.649Z"
   },
   {
    "duration": 18,
    "start_time": "2022-06-30T08:55:41.659Z"
   },
   {
    "duration": 18,
    "start_time": "2022-06-30T08:55:41.678Z"
   },
   {
    "duration": 56,
    "start_time": "2022-06-30T08:55:41.698Z"
   },
   {
    "duration": 2,
    "start_time": "2022-06-30T08:55:41.756Z"
   },
   {
    "duration": 8,
    "start_time": "2022-06-30T08:55:41.760Z"
   },
   {
    "duration": 9,
    "start_time": "2022-06-30T08:55:41.769Z"
   },
   {
    "duration": 8,
    "start_time": "2022-06-30T08:55:41.779Z"
   },
   {
    "duration": 44,
    "start_time": "2022-06-30T08:55:41.790Z"
   },
   {
    "duration": 27,
    "start_time": "2022-06-30T08:55:41.836Z"
   },
   {
    "duration": 1029,
    "start_time": "2022-06-30T08:55:41.864Z"
   },
   {
    "duration": 1032,
    "start_time": "2022-06-30T08:55:42.894Z"
   },
   {
    "duration": 1009,
    "start_time": "2022-06-30T08:55:43.928Z"
   },
   {
    "duration": 1015,
    "start_time": "2022-06-30T08:55:44.939Z"
   },
   {
    "duration": 1061,
    "start_time": "2022-06-30T08:55:45.956Z"
   },
   {
    "duration": 47,
    "start_time": "2022-06-30T08:55:47.019Z"
   },
   {
    "duration": 8,
    "start_time": "2022-06-30T08:55:47.068Z"
   },
   {
    "duration": 26,
    "start_time": "2022-06-30T08:55:47.078Z"
   },
   {
    "duration": 26,
    "start_time": "2022-06-30T08:55:47.105Z"
   },
   {
    "duration": 336,
    "start_time": "2022-06-30T08:55:47.132Z"
   },
   {
    "duration": 148,
    "start_time": "2022-06-30T08:55:47.469Z"
   },
   {
    "duration": 154,
    "start_time": "2022-06-30T08:55:47.618Z"
   },
   {
    "duration": 398,
    "start_time": "2022-06-30T08:55:47.774Z"
   },
   {
    "duration": 183,
    "start_time": "2022-06-30T08:55:48.174Z"
   },
   {
    "duration": 157,
    "start_time": "2022-06-30T08:55:48.359Z"
   },
   {
    "duration": 162,
    "start_time": "2022-06-30T08:55:48.517Z"
   },
   {
    "duration": 117,
    "start_time": "2022-06-30T08:55:48.681Z"
   },
   {
    "duration": 170,
    "start_time": "2022-06-30T08:55:48.800Z"
   },
   {
    "duration": 145,
    "start_time": "2022-06-30T08:55:48.971Z"
   },
   {
    "duration": 139,
    "start_time": "2022-06-30T08:55:49.118Z"
   },
   {
    "duration": 145,
    "start_time": "2022-06-30T08:55:49.259Z"
   },
   {
    "duration": 439,
    "start_time": "2022-06-30T08:55:49.405Z"
   },
   {
    "duration": 538,
    "start_time": "2022-06-30T08:55:49.845Z"
   },
   {
    "duration": 187,
    "start_time": "2022-06-30T08:55:50.384Z"
   },
   {
    "duration": 200,
    "start_time": "2022-06-30T08:55:50.573Z"
   },
   {
    "duration": 193,
    "start_time": "2022-06-30T08:55:50.777Z"
   },
   {
    "duration": 138,
    "start_time": "2022-06-30T08:55:50.971Z"
   },
   {
    "duration": 149,
    "start_time": "2022-06-30T08:55:51.111Z"
   },
   {
    "duration": 492,
    "start_time": "2022-06-30T08:55:51.262Z"
   },
   {
    "duration": 23,
    "start_time": "2022-06-30T08:55:51.756Z"
   },
   {
    "duration": 173,
    "start_time": "2022-06-30T08:55:51.781Z"
   },
   {
    "duration": 4,
    "start_time": "2022-06-30T08:55:51.955Z"
   },
   {
    "duration": 46,
    "start_time": "2022-06-30T08:56:43.128Z"
   },
   {
    "duration": 87,
    "start_time": "2022-06-30T08:56:48.647Z"
   },
   {
    "duration": 632,
    "start_time": "2022-06-30T08:56:54.540Z"
   },
   {
    "duration": 98,
    "start_time": "2022-06-30T08:56:55.174Z"
   },
   {
    "duration": 5,
    "start_time": "2022-06-30T08:56:55.274Z"
   },
   {
    "duration": 127,
    "start_time": "2022-06-30T08:56:55.282Z"
   },
   {
    "duration": 1956,
    "start_time": "2022-06-30T08:56:55.411Z"
   },
   {
    "duration": 9,
    "start_time": "2022-06-30T08:56:57.368Z"
   },
   {
    "duration": 21,
    "start_time": "2022-06-30T08:56:57.378Z"
   },
   {
    "duration": 15,
    "start_time": "2022-06-30T08:56:57.401Z"
   },
   {
    "duration": 65,
    "start_time": "2022-06-30T08:56:57.418Z"
   },
   {
    "duration": 2,
    "start_time": "2022-06-30T08:56:57.486Z"
   },
   {
    "duration": 18,
    "start_time": "2022-06-30T08:56:57.490Z"
   },
   {
    "duration": 29,
    "start_time": "2022-06-30T08:56:57.509Z"
   },
   {
    "duration": 13,
    "start_time": "2022-06-30T08:56:57.539Z"
   },
   {
    "duration": 34,
    "start_time": "2022-06-30T08:56:57.553Z"
   },
   {
    "duration": 25,
    "start_time": "2022-06-30T08:56:57.588Z"
   },
   {
    "duration": 1029,
    "start_time": "2022-06-30T08:56:57.614Z"
   },
   {
    "duration": 1007,
    "start_time": "2022-06-30T08:56:58.644Z"
   },
   {
    "duration": 1029,
    "start_time": "2022-06-30T08:56:59.653Z"
   },
   {
    "duration": 1078,
    "start_time": "2022-06-30T08:57:00.684Z"
   },
   {
    "duration": 1004,
    "start_time": "2022-06-30T08:57:01.764Z"
   },
   {
    "duration": 48,
    "start_time": "2022-06-30T08:57:02.770Z"
   },
   {
    "duration": 14,
    "start_time": "2022-06-30T08:57:02.819Z"
   },
   {
    "duration": 21,
    "start_time": "2022-06-30T08:57:02.835Z"
   },
   {
    "duration": 13,
    "start_time": "2022-06-30T08:57:02.858Z"
   },
   {
    "duration": 326,
    "start_time": "2022-06-30T08:57:02.872Z"
   },
   {
    "duration": 161,
    "start_time": "2022-06-30T08:57:03.200Z"
   },
   {
    "duration": 164,
    "start_time": "2022-06-30T08:57:03.363Z"
   },
   {
    "duration": 412,
    "start_time": "2022-06-30T08:57:03.530Z"
   },
   {
    "duration": 186,
    "start_time": "2022-06-30T08:57:03.943Z"
   },
   {
    "duration": 167,
    "start_time": "2022-06-30T08:57:04.131Z"
   },
   {
    "duration": 165,
    "start_time": "2022-06-30T08:57:04.300Z"
   },
   {
    "duration": 119,
    "start_time": "2022-06-30T08:57:04.466Z"
   },
   {
    "duration": 177,
    "start_time": "2022-06-30T08:57:04.587Z"
   },
   {
    "duration": 150,
    "start_time": "2022-06-30T08:57:04.766Z"
   },
   {
    "duration": 127,
    "start_time": "2022-06-30T08:57:04.917Z"
   },
   {
    "duration": 145,
    "start_time": "2022-06-30T08:57:05.045Z"
   },
   {
    "duration": 456,
    "start_time": "2022-06-30T08:57:05.192Z"
   },
   {
    "duration": 576,
    "start_time": "2022-06-30T08:57:05.651Z"
   },
   {
    "duration": 241,
    "start_time": "2022-06-30T08:57:06.229Z"
   },
   {
    "duration": 219,
    "start_time": "2022-06-30T08:57:06.471Z"
   },
   {
    "duration": 200,
    "start_time": "2022-06-30T08:57:06.693Z"
   },
   {
    "duration": 154,
    "start_time": "2022-06-30T08:57:06.895Z"
   },
   {
    "duration": 137,
    "start_time": "2022-06-30T08:57:07.051Z"
   },
   {
    "duration": 540,
    "start_time": "2022-06-30T08:57:07.189Z"
   },
   {
    "duration": 22,
    "start_time": "2022-06-30T08:57:07.731Z"
   },
   {
    "duration": 102,
    "start_time": "2022-06-30T08:57:07.754Z"
   },
   {
    "duration": 0,
    "start_time": "2022-06-30T08:57:07.858Z"
   },
   {
    "duration": 882,
    "start_time": "2022-06-30T13:12:49.086Z"
   },
   {
    "duration": 193,
    "start_time": "2022-06-30T13:12:49.970Z"
   },
   {
    "duration": 5,
    "start_time": "2022-06-30T13:12:50.165Z"
   },
   {
    "duration": 135,
    "start_time": "2022-06-30T13:12:50.172Z"
   },
   {
    "duration": 2197,
    "start_time": "2022-06-30T13:12:50.308Z"
   },
   {
    "duration": 9,
    "start_time": "2022-06-30T13:12:52.507Z"
   },
   {
    "duration": 10,
    "start_time": "2022-06-30T13:12:52.518Z"
   },
   {
    "duration": 26,
    "start_time": "2022-06-30T13:12:52.530Z"
   },
   {
    "duration": 19,
    "start_time": "2022-06-30T13:12:52.557Z"
   },
   {
    "duration": 2,
    "start_time": "2022-06-30T13:12:52.579Z"
   },
   {
    "duration": 12,
    "start_time": "2022-06-30T13:12:52.583Z"
   },
   {
    "duration": 20,
    "start_time": "2022-06-30T13:12:52.597Z"
   },
   {
    "duration": 13,
    "start_time": "2022-06-30T13:12:52.619Z"
   },
   {
    "duration": 46,
    "start_time": "2022-06-30T13:12:52.635Z"
   },
   {
    "duration": 27,
    "start_time": "2022-06-30T13:12:52.683Z"
   },
   {
    "duration": 1102,
    "start_time": "2022-06-30T13:12:52.713Z"
   },
   {
    "duration": 1103,
    "start_time": "2022-06-30T13:12:53.817Z"
   },
   {
    "duration": 1166,
    "start_time": "2022-06-30T13:12:54.922Z"
   },
   {
    "duration": 1219,
    "start_time": "2022-06-30T13:12:56.090Z"
   },
   {
    "duration": 1143,
    "start_time": "2022-06-30T13:12:57.311Z"
   },
   {
    "duration": 75,
    "start_time": "2022-06-30T13:12:58.456Z"
   },
   {
    "duration": 11,
    "start_time": "2022-06-30T13:12:58.538Z"
   },
   {
    "duration": 15,
    "start_time": "2022-06-30T13:12:58.551Z"
   },
   {
    "duration": 8,
    "start_time": "2022-06-30T13:12:58.568Z"
   },
   {
    "duration": 370,
    "start_time": "2022-06-30T13:12:58.578Z"
   },
   {
    "duration": 160,
    "start_time": "2022-06-30T13:12:58.950Z"
   },
   {
    "duration": 200,
    "start_time": "2022-06-30T13:12:59.112Z"
   },
   {
    "duration": 464,
    "start_time": "2022-06-30T13:12:59.317Z"
   },
   {
    "duration": 205,
    "start_time": "2022-06-30T13:12:59.782Z"
   },
   {
    "duration": 188,
    "start_time": "2022-06-30T13:12:59.989Z"
   },
   {
    "duration": 198,
    "start_time": "2022-06-30T13:13:00.178Z"
   },
   {
    "duration": 134,
    "start_time": "2022-06-30T13:13:00.377Z"
   },
   {
    "duration": 217,
    "start_time": "2022-06-30T13:13:00.513Z"
   },
   {
    "duration": 178,
    "start_time": "2022-06-30T13:13:00.733Z"
   },
   {
    "duration": 143,
    "start_time": "2022-06-30T13:13:00.913Z"
   },
   {
    "duration": 194,
    "start_time": "2022-06-30T13:13:01.059Z"
   },
   {
    "duration": 609,
    "start_time": "2022-06-30T13:13:01.254Z"
   },
   {
    "duration": 655,
    "start_time": "2022-06-30T13:13:01.867Z"
   },
   {
    "duration": 224,
    "start_time": "2022-06-30T13:13:02.533Z"
   },
   {
    "duration": 234,
    "start_time": "2022-06-30T13:13:02.759Z"
   },
   {
    "duration": 227,
    "start_time": "2022-06-30T13:13:02.995Z"
   },
   {
    "duration": 170,
    "start_time": "2022-06-30T13:13:03.224Z"
   },
   {
    "duration": 158,
    "start_time": "2022-06-30T13:13:03.396Z"
   },
   {
    "duration": 725,
    "start_time": "2022-06-30T13:13:03.556Z"
   },
   {
    "duration": 22,
    "start_time": "2022-06-30T13:13:04.283Z"
   },
   {
    "duration": 111,
    "start_time": "2022-06-30T13:13:04.307Z"
   },
   {
    "duration": 0,
    "start_time": "2022-06-30T13:13:04.427Z"
   },
   {
    "duration": 0,
    "start_time": "2022-06-30T13:13:04.429Z"
   },
   {
    "duration": 20,
    "start_time": "2022-06-30T13:13:12.768Z"
   },
   {
    "duration": 30,
    "start_time": "2022-06-30T13:14:47.170Z"
   },
   {
    "duration": 206,
    "start_time": "2022-06-30T13:14:51.017Z"
   },
   {
    "duration": 763,
    "start_time": "2022-06-30T13:19:08.056Z"
   },
   {
    "duration": 147,
    "start_time": "2022-06-30T13:19:08.821Z"
   },
   {
    "duration": 6,
    "start_time": "2022-06-30T13:19:08.973Z"
   },
   {
    "duration": 194,
    "start_time": "2022-06-30T13:19:08.982Z"
   },
   {
    "duration": 2619,
    "start_time": "2022-06-30T13:19:09.178Z"
   },
   {
    "duration": 15,
    "start_time": "2022-06-30T13:19:11.800Z"
   },
   {
    "duration": 73,
    "start_time": "2022-06-30T13:19:11.817Z"
   },
   {
    "duration": 29,
    "start_time": "2022-06-30T13:19:11.893Z"
   },
   {
    "duration": 191,
    "start_time": "2022-06-30T13:19:11.924Z"
   },
   {
    "duration": 83,
    "start_time": "2022-06-30T13:19:12.120Z"
   },
   {
    "duration": 76,
    "start_time": "2022-06-30T13:19:12.205Z"
   },
   {
    "duration": 17,
    "start_time": "2022-06-30T13:19:12.283Z"
   },
   {
    "duration": 58,
    "start_time": "2022-06-30T13:19:12.303Z"
   },
   {
    "duration": 65,
    "start_time": "2022-06-30T13:19:12.363Z"
   },
   {
    "duration": 46,
    "start_time": "2022-06-30T13:19:12.440Z"
   },
   {
    "duration": 1478,
    "start_time": "2022-06-30T13:19:12.488Z"
   },
   {
    "duration": 1434,
    "start_time": "2022-06-30T13:19:13.970Z"
   },
   {
    "duration": 1390,
    "start_time": "2022-06-30T13:19:15.406Z"
   },
   {
    "duration": 1483,
    "start_time": "2022-06-30T13:19:16.798Z"
   },
   {
    "duration": 1438,
    "start_time": "2022-06-30T13:19:18.283Z"
   },
   {
    "duration": 75,
    "start_time": "2022-06-30T13:19:19.723Z"
   },
   {
    "duration": 10,
    "start_time": "2022-06-30T13:19:19.800Z"
   },
   {
    "duration": 29,
    "start_time": "2022-06-30T13:19:19.811Z"
   },
   {
    "duration": 42,
    "start_time": "2022-06-30T13:19:19.843Z"
   },
   {
    "duration": 424,
    "start_time": "2022-06-30T13:19:19.887Z"
   },
   {
    "duration": 226,
    "start_time": "2022-06-30T13:19:20.314Z"
   },
   {
    "duration": 216,
    "start_time": "2022-06-30T13:19:20.542Z"
   },
   {
    "duration": 487,
    "start_time": "2022-06-30T13:19:20.765Z"
   },
   {
    "duration": 218,
    "start_time": "2022-06-30T13:19:21.253Z"
   },
   {
    "duration": 232,
    "start_time": "2022-06-30T13:19:21.473Z"
   },
   {
    "duration": 290,
    "start_time": "2022-06-30T13:19:21.707Z"
   },
   {
    "duration": 172,
    "start_time": "2022-06-30T13:19:21.999Z"
   },
   {
    "duration": 222,
    "start_time": "2022-06-30T13:19:22.173Z"
   },
   {
    "duration": 213,
    "start_time": "2022-06-30T13:19:22.397Z"
   },
   {
    "duration": 199,
    "start_time": "2022-06-30T13:19:22.612Z"
   },
   {
    "duration": 170,
    "start_time": "2022-06-30T13:19:22.813Z"
   },
   {
    "duration": 570,
    "start_time": "2022-06-30T13:19:22.985Z"
   },
   {
    "duration": 703,
    "start_time": "2022-06-30T13:19:23.557Z"
   },
   {
    "duration": 231,
    "start_time": "2022-06-30T13:19:24.263Z"
   },
   {
    "duration": 313,
    "start_time": "2022-06-30T13:19:24.496Z"
   },
   {
    "duration": 297,
    "start_time": "2022-06-30T13:19:24.811Z"
   },
   {
    "duration": 224,
    "start_time": "2022-06-30T13:19:25.110Z"
   },
   {
    "duration": 209,
    "start_time": "2022-06-30T13:19:25.340Z"
   },
   {
    "duration": 701,
    "start_time": "2022-06-30T13:19:25.554Z"
   },
   {
    "duration": 34,
    "start_time": "2022-06-30T13:19:26.257Z"
   },
   {
    "duration": 205,
    "start_time": "2022-06-30T13:19:26.292Z"
   },
   {
    "duration": 4,
    "start_time": "2022-06-30T13:19:26.499Z"
   },
   {
    "duration": 27,
    "start_time": "2022-06-30T13:19:37.324Z"
   },
   {
    "duration": 14,
    "start_time": "2022-06-30T13:20:28.042Z"
   },
   {
    "duration": 7,
    "start_time": "2022-06-30T13:21:14.812Z"
   },
   {
    "duration": 286,
    "start_time": "2022-06-30T13:22:08.323Z"
   },
   {
    "duration": 204,
    "start_time": "2022-06-30T13:22:37.058Z"
   },
   {
    "duration": 253,
    "start_time": "2022-06-30T13:22:45.162Z"
   },
   {
    "duration": 228,
    "start_time": "2022-06-30T13:23:09.291Z"
   },
   {
    "duration": 215,
    "start_time": "2022-06-30T13:23:24.200Z"
   },
   {
    "duration": 240,
    "start_time": "2022-06-30T13:23:37.255Z"
   },
   {
    "duration": 401,
    "start_time": "2022-06-30T13:24:05.579Z"
   },
   {
    "duration": 247,
    "start_time": "2022-06-30T13:24:16.649Z"
   },
   {
    "duration": 307,
    "start_time": "2022-06-30T13:27:01.835Z"
   },
   {
    "duration": 174,
    "start_time": "2022-06-30T13:27:18.348Z"
   },
   {
    "duration": 458,
    "start_time": "2022-06-30T13:32:12.516Z"
   },
   {
    "duration": 214,
    "start_time": "2022-06-30T13:32:13.182Z"
   },
   {
    "duration": 186,
    "start_time": "2022-06-30T13:32:13.399Z"
   },
   {
    "duration": 399,
    "start_time": "2022-06-30T13:35:09.162Z"
   },
   {
    "duration": 214,
    "start_time": "2022-06-30T13:36:34.456Z"
   },
   {
    "duration": 213,
    "start_time": "2022-06-30T13:36:37.674Z"
   },
   {
    "duration": 273,
    "start_time": "2022-06-30T13:37:18.747Z"
   },
   {
    "duration": 137,
    "start_time": "2022-06-30T13:37:44.826Z"
   },
   {
    "duration": 231,
    "start_time": "2022-06-30T13:38:15.452Z"
   },
   {
    "duration": 190,
    "start_time": "2022-06-30T13:38:55.900Z"
   },
   {
    "duration": 176,
    "start_time": "2022-06-30T13:39:22.905Z"
   },
   {
    "duration": 154,
    "start_time": "2022-06-30T13:39:32.578Z"
   },
   {
    "duration": 163,
    "start_time": "2022-06-30T13:40:15.542Z"
   },
   {
    "duration": 689,
    "start_time": "2022-06-30T13:41:13.110Z"
   },
   {
    "duration": 568,
    "start_time": "2022-06-30T13:42:40.199Z"
   },
   {
    "duration": 452,
    "start_time": "2022-06-30T13:43:08.660Z"
   },
   {
    "duration": 850,
    "start_time": "2022-06-30T13:45:02.582Z"
   },
   {
    "duration": 204,
    "start_time": "2022-06-30T13:49:40.081Z"
   },
   {
    "duration": 295,
    "start_time": "2022-06-30T13:50:48.411Z"
   },
   {
    "duration": 224,
    "start_time": "2022-06-30T13:51:22.951Z"
   },
   {
    "duration": 195,
    "start_time": "2022-06-30T13:51:47.391Z"
   },
   {
    "duration": 194,
    "start_time": "2022-06-30T13:52:42.569Z"
   },
   {
    "duration": 157,
    "start_time": "2022-06-30T13:53:15.214Z"
   },
   {
    "duration": 628,
    "start_time": "2022-06-30T13:55:16.151Z"
   },
   {
    "duration": 281,
    "start_time": "2022-06-30T13:56:45.971Z"
   },
   {
    "duration": 826,
    "start_time": "2022-06-30T13:58:04.464Z"
   },
   {
    "duration": 135,
    "start_time": "2022-06-30T13:58:05.294Z"
   },
   {
    "duration": 8,
    "start_time": "2022-06-30T13:58:05.430Z"
   },
   {
    "duration": 174,
    "start_time": "2022-06-30T13:58:05.440Z"
   },
   {
    "duration": 2427,
    "start_time": "2022-06-30T13:58:05.616Z"
   },
   {
    "duration": 13,
    "start_time": "2022-06-30T13:58:08.045Z"
   },
   {
    "duration": 20,
    "start_time": "2022-06-30T13:58:08.060Z"
   },
   {
    "duration": 16,
    "start_time": "2022-06-30T13:58:08.082Z"
   },
   {
    "duration": 47,
    "start_time": "2022-06-30T13:58:08.100Z"
   },
   {
    "duration": 3,
    "start_time": "2022-06-30T13:58:08.150Z"
   },
   {
    "duration": 22,
    "start_time": "2022-06-30T13:58:08.154Z"
   },
   {
    "duration": 13,
    "start_time": "2022-06-30T13:58:08.177Z"
   },
   {
    "duration": 5,
    "start_time": "2022-06-30T13:58:08.192Z"
   },
   {
    "duration": 38,
    "start_time": "2022-06-30T13:58:08.199Z"
   },
   {
    "duration": 40,
    "start_time": "2022-06-30T13:58:08.241Z"
   },
   {
    "duration": 1342,
    "start_time": "2022-06-30T13:58:08.283Z"
   },
   {
    "duration": 1450,
    "start_time": "2022-06-30T13:58:09.627Z"
   },
   {
    "duration": 1288,
    "start_time": "2022-06-30T13:58:11.078Z"
   },
   {
    "duration": 1293,
    "start_time": "2022-06-30T13:58:12.369Z"
   },
   {
    "duration": 1180,
    "start_time": "2022-06-30T13:58:13.664Z"
   },
   {
    "duration": 54,
    "start_time": "2022-06-30T13:58:14.845Z"
   },
   {
    "duration": 7,
    "start_time": "2022-06-30T13:58:14.901Z"
   },
   {
    "duration": 35,
    "start_time": "2022-06-30T13:58:14.910Z"
   },
   {
    "duration": 19,
    "start_time": "2022-06-30T13:58:14.947Z"
   },
   {
    "duration": 395,
    "start_time": "2022-06-30T13:58:14.967Z"
   },
   {
    "duration": 192,
    "start_time": "2022-06-30T13:58:15.365Z"
   },
   {
    "duration": 223,
    "start_time": "2022-06-30T13:58:15.559Z"
   },
   {
    "duration": 572,
    "start_time": "2022-06-30T13:58:15.787Z"
   },
   {
    "duration": 288,
    "start_time": "2022-06-30T13:58:16.363Z"
   },
   {
    "duration": 270,
    "start_time": "2022-06-30T13:58:16.653Z"
   },
   {
    "duration": 237,
    "start_time": "2022-06-30T13:58:16.925Z"
   },
   {
    "duration": 178,
    "start_time": "2022-06-30T13:58:17.166Z"
   },
   {
    "duration": 246,
    "start_time": "2022-06-30T13:58:17.346Z"
   },
   {
    "duration": 229,
    "start_time": "2022-06-30T13:58:17.598Z"
   },
   {
    "duration": 145,
    "start_time": "2022-06-30T13:58:17.830Z"
   },
   {
    "duration": 201,
    "start_time": "2022-06-30T13:58:17.978Z"
   },
   {
    "duration": 580,
    "start_time": "2022-06-30T13:58:18.182Z"
   },
   {
    "duration": 674,
    "start_time": "2022-06-30T13:58:18.765Z"
   },
   {
    "duration": 253,
    "start_time": "2022-06-30T13:58:19.441Z"
   },
   {
    "duration": 249,
    "start_time": "2022-06-30T13:58:19.696Z"
   },
   {
    "duration": 290,
    "start_time": "2022-06-30T13:58:19.952Z"
   },
   {
    "duration": 238,
    "start_time": "2022-06-30T13:58:20.244Z"
   },
   {
    "duration": 188,
    "start_time": "2022-06-30T13:58:20.484Z"
   },
   {
    "duration": 607,
    "start_time": "2022-06-30T13:58:20.675Z"
   },
   {
    "duration": 27,
    "start_time": "2022-06-30T13:58:21.284Z"
   },
   {
    "duration": 245,
    "start_time": "2022-06-30T13:58:21.336Z"
   },
   {
    "duration": 7,
    "start_time": "2022-06-30T13:58:21.583Z"
   }
  ],
  "kernelspec": {
   "display_name": "Python 3 (ipykernel)",
   "language": "python",
   "name": "python3"
  },
  "language_info": {
   "codemirror_mode": {
    "name": "ipython",
    "version": 3
   },
   "file_extension": ".py",
   "mimetype": "text/x-python",
   "name": "python",
   "nbconvert_exporter": "python",
   "pygments_lexer": "ipython3",
   "version": "3.9.5"
  },
  "toc": {
   "base_numbering": 1,
   "nav_menu": {},
   "number_sections": true,
   "sideBar": true,
   "skip_h1_title": true,
   "title_cell": "Table of Contents",
   "title_sidebar": "Contents",
   "toc_cell": false,
   "toc_position": {},
   "toc_section_display": true,
   "toc_window_display": false
  }
 },
 "nbformat": 4,
 "nbformat_minor": 2
}
